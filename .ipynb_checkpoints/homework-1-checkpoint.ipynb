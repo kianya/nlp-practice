{
 "cells": [
  {
   "cell_type": "markdown",
   "metadata": {},
   "source": [
    "# Домашняя работа 1.\n",
    "\n",
    "В этом домашнем задании вам предстоит классифицировать по тональности отзывы на банки с сайта banki.ru.\n",
    " - Ноутбук с заданием: https://github.com/artemovae/nlp-course-netology/blob/master/HW1_banki_TM-and-classification.ipynb\n",
    " - Данные: https://www.dropbox.com/s/ol3ux3ibr6rd5ke/banki_responses.json.bz2?dl=0\n",
    "\n",
    "Данные содержат непосредственно тексты отзывов, некоторую дополнительную информацию, а также оценку по шкале от 1 до 5.\n",
    "Тексты хранятся в json-ах в массиве responses.\n",
    "\n",
    "Решением будет ссылка на гитхаб с ноутбуком."
   ]
  },
  {
   "cell_type": "markdown",
   "metadata": {},
   "source": [
    "## Импорт библиотек"
   ]
  },
  {
   "cell_type": "code",
   "execution_count": 1,
   "metadata": {},
   "outputs": [
    {
     "name": "stdout",
     "output_type": "stream",
     "text": [
      "Populating the interactive namespace from numpy and matplotlib\n"
     ]
    }
   ],
   "source": [
    "import json\n",
    "\n",
    "import bz2\n",
    "import regex\n",
    "from tqdm import tqdm, tqdm_notebook\n",
    "from scipy import sparse\n",
    "\n",
    "import re\n",
    "\n",
    "import pandas as pd\n",
    "import numpy as np\n",
    "import nltk\n",
    "import matplotlib.pyplot as plt\n",
    "import seaborn as sns\n",
    "\n",
    "%matplotlib inline\n",
    "%pylab inline"
   ]
  },
  {
   "cell_type": "markdown",
   "metadata": {},
   "source": [
    "## Загрузка данных"
   ]
  },
  {
   "cell_type": "code",
   "execution_count": null,
   "metadata": {},
   "outputs": [
    {
     "name": "stderr",
     "output_type": "stream",
     "text": [
      "146730it [01:06, 2559.38it/s]"
     ]
    }
   ],
   "source": [
    "responses = []\n",
    "with bz2.BZ2File('../data/banki_responses.json.bz2', 'r') as thefile:\n",
    "    for row in tqdm(thefile):\n",
    "        resp = json.loads(row)\n",
    "        if not resp['rating_not_checked'] and (len(resp['text'].split()) > 0):\n",
    "            responses.append(resp)"
   ]
  },
  {
   "cell_type": "markdown",
   "metadata": {},
   "source": [
    "## Часть 1. Анализ текстов"
   ]
  },
  {
   "cell_type": "markdown",
   "metadata": {},
   "source": [
    "Поэтапный анализ текста:\n",
    "1. Посчитайте количество отзывов в разных городах и на разные банки\n",
    "2. Постройте гистограмы длин слов в символах и в словах\n",
    "3. Найдите 10 самых частых:\n",
    "    - слов\n",
    "    - слов без стоп-слов\n",
    "    - лемм\n",
    "    - существительных\n",
    "4. Постройте кривые Ципфа и Хипса\n",
    "5. Ответьте на следующие вопросы:\n",
    "    - какое слово встречается чаще, \"сотрудник\" или \"клиент\"?\n",
    "    - сколько раз встречается слова \"мошенничество\" и \"доверие\"?\n",
    "    - В поле \"rating_grade\" записана оценка отзыва по шкале от 1 до 5. Используйте меру $tf-idf$, для того, чтобы найти ключевые слова и биграмы для положительных отзывов (с оценкой 5) и отрицательных отзывов (с оценкой 1)"
   ]
  },
  {
   "cell_type": "code",
   "execution_count": null,
   "metadata": {},
   "outputs": [],
   "source": [
    "# Пример отзыва \n",
    "responses[99]"
   ]
  },
  {
   "cell_type": "code",
   "execution_count": null,
   "metadata": {
    "scrolled": true
   },
   "outputs": [],
   "source": [
    "data = pd.DataFrame(responses)\n",
    "data.head()"
   ]
  },
  {
   "cell_type": "code",
   "execution_count": null,
   "metadata": {},
   "outputs": [],
   "source": [
    "data.info()"
   ]
  },
  {
   "cell_type": "markdown",
   "metadata": {},
   "source": [
    "Поэтапный анализ текста:\n",
    "1. Посчитайте количество отзывов в разных городах и на разные банки\n",
    "2. Постройте гистограмы длин слов в символах и в словах\n",
    "3. Найдите 10 самых частых:\n",
    "    - слов\n",
    "    - слов без стоп-слов\n",
    "    - лемм\n",
    "    - существительных\n",
    "4. Постройте кривые Ципфа и Хипса\n",
    "5. Ответьте на следующие вопросы:\n",
    "    - какое слово встречается чаще, \"сотрудник\" или \"клиент\"?\n",
    "    - сколько раз встречается слова \"мошенничество\" и \"доверие\"?\n",
    "    - В поле \"rating_grade\" записана оценка отзыва по шкале от 1 до 5. Используйте меру $tf-idf$, для того, чтобы найти ключевые слова и биграмы для положительных отзывов (с оценкой 5) и отрицательных отзывов (с оценкой 1)"
   ]
  },
  {
   "cell_type": "markdown",
   "metadata": {},
   "source": [
    "###### 1. Количество отзывов в разных городах и на разные банки"
   ]
  },
  {
   "cell_type": "code",
   "execution_count": null,
   "metadata": {},
   "outputs": [],
   "source": [
    "cities = data.loc[:, 'city'].copy()"
   ]
  },
  {
   "cell_type": "code",
   "execution_count": null,
   "metadata": {},
   "outputs": [],
   "source": [
    "# Для того чтобы выделить названия городов, попробуем использовать токенайзер natasha\n",
    "import natasha\n",
    "from natasha import LocationExtractor"
   ]
  },
  {
   "cell_type": "code",
   "execution_count": null,
   "metadata": {},
   "outputs": [],
   "source": [
    "extractor = LocationExtractor()\n",
    "\n",
    "def extract_city(text, extractor=extractor):\n",
    "    try:\n",
    "        matches = extractor(text)\n",
    "        start, stop = matches[0].span\n",
    "        return text[start:stop].lower()\n",
    "    except:\n",
    "        return ''\n",
    "\n",
    "cities_transformed = cities.apply(extract_city)"
   ]
  },
  {
   "cell_type": "code",
   "execution_count": null,
   "metadata": {},
   "outputs": [],
   "source": [
    "cities_extracted = cities_transformed.reset_index().groupby('city').count().sort_values('index', ascending=False)\n",
    "sns.barplot(data=cities_extracted.reset_index().head(25), x='index', y='city', saturation=.5)"
   ]
  },
  {
   "cell_type": "markdown",
   "metadata": {},
   "source": [
    "##### Количество отзывов по банкам"
   ]
  },
  {
   "cell_type": "code",
   "execution_count": null,
   "metadata": {},
   "outputs": [],
   "source": [
    "bank_names = data.loc[:,['bank_name']].copy()\n",
    "banks = bank_names.reset_index().groupby('bank_name').count().sort_values('index', ascending=False).head(5)\n",
    "sns.barplot(data=banks.reset_index(), x='index', y='bank_name', saturation=.5)"
   ]
  },
  {
   "cell_type": "code",
   "execution_count": null,
   "metadata": {},
   "outputs": [],
   "source": [
    "regex = r'г\\. ([А-Яа-я- ]+)'\n",
    "def get_city(text, regex=regex):\n",
    "    try:\n",
    "        values = re.findall(regex, text)\n",
    "        return ' '.join(values).lower()\n",
    "    except:\n",
    "        return \"\""
   ]
  },
  {
   "cell_type": "markdown",
   "metadata": {},
   "source": [
    "###### Гистограмы длин слов в символах"
   ]
  },
  {
   "cell_type": "code",
   "execution_count": null,
   "metadata": {},
   "outputs": [],
   "source": [
    "regex = '[А-Яа-я]+'\n",
    "from nltk.corpus import stopwords\n",
    "from pymystem3 import Mystem\n",
    "from pymorphy2 import MorphAnalyzer\n",
    "\n",
    "\n",
    "rus_stopwords = stopwords.words('russian')\n",
    "lemmatizator = Mystem()\n",
    "pm2 = MorphAnalyzer()\n",
    "\n",
    "def words_only(text, regex=regex):\n",
    "    try:\n",
    "        value = ' '.join(re.findall(regex, text)).lower()\n",
    "        return value\n",
    "    except:\n",
    "        return ''\n",
    "    \n",
    "def drop_stopwords(text, stopwords=rus_stopwords):\n",
    "    try:\n",
    "        value = ' '.join([token for token in text.split() if not token in stopwords])\n",
    "        return value\n",
    "    except:\n",
    "        return ''\n",
    "    \n",
    "def lemmatize(text, converter=pm2):\n",
    "    try:\n",
    "        value = [converter.parse(word)[0].normal_form for word in text.split()]\n",
    "        return ' '.join(value)\n",
    "    except:\n",
    "        return ''\n",
    "    \n",
    "def nounizator(text, converter=pm2):\n",
    "    try:\n",
    "        value = [converter.parse(word)[0].normal_form for word in text.split() \n",
    "                              if 'NOUN' in converter.parse(word)[0].tag]\n",
    "        return ' '.join(value)\n",
    "    except:\n",
    "        return ''"
   ]
  },
  {
   "cell_type": "code",
   "execution_count": 13,
   "metadata": {},
   "outputs": [],
   "source": [
    "texts = data.text.apply(words_only)"
   ]
  },
  {
   "cell_type": "code",
   "execution_count": 14,
   "metadata": {},
   "outputs": [
    {
     "data": {
      "application/vnd.jupyter.widget-view+json": {
       "model_id": "58755b1b9d2947f38ccd088e179d0470",
       "version_major": 2,
       "version_minor": 0
      },
      "text/plain": [
       "HBox(children=(IntProgress(value=1, bar_style='info', max=1), HTML(value='')))"
      ]
     },
     "metadata": {},
     "output_type": "display_data"
    },
    {
     "name": "stdout",
     "output_type": "stream",
     "text": [
      "\n"
     ]
    }
   ],
   "source": [
    "from collections import Counter\n",
    "cnt = Counter()\n",
    "len_cnt = Counter()\n",
    "tokens = []\n",
    "for i, text in tqdm_notebook(texts.iteritems()):\n",
    "    # Слова\n",
    "    tokens = [i for i in text.split()]\n",
    "    cnt.update(tokens)\n",
    "    # Длины слов\n",
    "    len_tokens = [len(i) for i in text.split()]\n",
    "    len_cnt.update(len_tokens)"
   ]
  },
  {
   "cell_type": "code",
   "execution_count": 15,
   "metadata": {},
   "outputs": [],
   "source": [
    "# Настройка размера графика\n",
    "sns.set(rc={'figure.figsize':(10,4)})"
   ]
  },
  {
   "cell_type": "code",
   "execution_count": 16,
   "metadata": {
    "scrolled": true
   },
   "outputs": [
    {
     "data": {
      "text/plain": [
       "<matplotlib.axes._subplots.AxesSubplot at 0x1a2e1eae48>"
      ]
     },
     "execution_count": 16,
     "metadata": {},
     "output_type": "execute_result"
    },
    {
     "data": {
      "image/png": "[encoded data removed]",
      "text/plain": [
       "<Figure size 720x288 with 1 Axes>"
      ]
     },
     "metadata": {},
     "output_type": "display_data"
    }
   ],
   "source": [
    "# Гистограмма длин слов в символах\n",
    "word_lens = pd.DataFrame.from_dict(dict(len_cnt), orient='index').reset_index()\n",
    "word_lens.columns = ['len', 'count_len']\n",
    "sns.barplot(data=word_lens, x='len', y='count_len', ci=10)"
   ]
  },
  {
   "cell_type": "markdown",
   "metadata": {},
   "source": [
    "###### Гистограма длин предложений в словах"
   ]
  },
  {
   "cell_type": "code",
   "execution_count": 17,
   "metadata": {},
   "outputs": [],
   "source": [
    "from nltk.tokenize import sent_tokenize\n",
    "text_sentences = data.text.apply(sent_tokenize)"
   ]
  },
  {
   "cell_type": "code",
   "execution_count": 18,
   "metadata": {},
   "outputs": [
    {
     "data": {
      "application/vnd.jupyter.widget-view+json": {
       "model_id": "7009fc43ad21472ab436072257ce02ff",
       "version_major": 2,
       "version_minor": 0
      },
      "text/plain": [
       "HBox(children=(IntProgress(value=1, bar_style='info', max=1), HTML(value='')))"
      ]
     },
     "metadata": {},
     "output_type": "display_data"
    },
    {
     "name": "stdout",
     "output_type": "stream",
     "text": [
      "\n"
     ]
    }
   ],
   "source": [
    "len_sent = Counter()\n",
    "sentenses = []\n",
    "for i, text in tqdm_notebook(text_sentences.iteritems()):\n",
    "    # Предложения\n",
    "    for sentense in text:\n",
    "        words = words_only(sentense).split()\n",
    "        len_sent.update([len(words)])"
   ]
  },
  {
   "cell_type": "code",
   "execution_count": 19,
   "metadata": {},
   "outputs": [
    {
     "data": {
      "text/plain": [
       "<matplotlib.axes._subplots.AxesSubplot at 0x1a576fe048>"
      ]
     },
     "execution_count": 19,
     "metadata": {},
     "output_type": "execute_result"
    },
    {
     "data": {
      "image/png": "[encoded data removed]",
      "text/plain": [
       "<Figure size 1800x288 with 1 Axes>"
      ]
     },
     "metadata": {},
     "output_type": "display_data"
    }
   ],
   "source": [
    "# Настройка графика\n",
    "sns.set(rc={'figure.figsize':(25,4)})\n",
    "\n",
    "# Гистограмма длин предложений в словах\n",
    "sent_lens = pd.DataFrame.from_dict(dict(len_sent), orient='index').reset_index()\n",
    "sent_lens.columns = ['len', 'count_len']\n",
    "sns.barplot(data=sent_lens, x='len', y='count_len', ci=10)"
   ]
  },
  {
   "cell_type": "markdown",
   "metadata": {},
   "source": [
    "###### Частотный анализ\n",
    "10 самых частых:\n",
    " - слов\n",
    " - слов без стоп-слов\n",
    " - лемм\n",
    " - существительных"
   ]
  },
  {
   "cell_type": "code",
   "execution_count": 39,
   "metadata": {},
   "outputs": [
    {
     "data": {
      "application/vnd.jupyter.widget-view+json": {
       "model_id": "ce76a62022514be29f4de2cd28b7561b",
       "version_major": 2,
       "version_minor": 0
      },
      "text/plain": [
       "HBox(children=(IntProgress(value=1, bar_style='info', max=1), HTML(value='')))"
      ]
     },
     "metadata": {},
     "output_type": "display_data"
    },
    {
     "name": "stderr",
     "output_type": "stream",
     "text": [
      "/anaconda3/lib/python3.7/site-packages/ipykernel_launcher.py:22: DeprecationWarning: Calling np.sum(generator) is deprecated, and in the future will give a different result. Use np.sum(np.from_iter(generator)) or the python sum builtin instead.\n"
     ]
    },
    {
     "name": "stdout",
     "output_type": "stream",
     "text": [
      "\n"
     ]
    }
   ],
   "source": [
    "words_cnt = Counter()\n",
    "words_stop_off = Counter()\n",
    "lemmas_cnt = Counter()\n",
    "nouns_cnt = Counter()\n",
    "\n",
    "n_types = []\n",
    "n_tokens = []\n",
    "\n",
    "for i, text in tqdm_notebook(texts.head(5000).iteritems()):\n",
    "    # Считаем самые частые слова\n",
    "    words_cnt.update(text.split())\n",
    "    # Убираем стоп-слова\n",
    "    clean_text_without_stop_words = drop_stopwords(text)\n",
    "    words_stop_off.update(clean_text_without_stop_words.split())\n",
    "    # Лемма и сцществительные\n",
    "    nouns = nounizator(clean_text_without_stop_words)\n",
    "    lemmas = lemmatize(clean_text_without_stop_words)\n",
    "    lemmas_cnt.update(lemmas)\n",
    "    nouns_cnt.update(nouns)\n",
    "    # Инфа для закона Хипса - зависимость от количества слов\n",
    "    n_types.append(len(lemmas_cnt))\n",
    "    n_tokens.append(np.sum(lemmas_cnt[item] for item in lemmas_cnt))"
   ]
  },
  {
   "cell_type": "code",
   "execution_count": 40,
   "metadata": {},
   "outputs": [
    {
     "data": {
      "text/plain": [
       "[('в', 37223),\n",
       " ('и', 30266),\n",
       " ('не', 24950),\n",
       " ('на', 20386),\n",
       " ('что', 17935),\n",
       " ('я', 16774),\n",
       " ('с', 14048),\n",
       " ('по', 11323),\n",
       " ('мне', 9421),\n",
       " ('банка', 8566)]"
      ]
     },
     "execution_count": 40,
     "metadata": {},
     "output_type": "execute_result"
    }
   ],
   "source": [
    "# 10 Самых частых слов\n",
    "words_cnt.most_common(10)"
   ]
  },
  {
   "cell_type": "code",
   "execution_count": 41,
   "metadata": {},
   "outputs": [
    {
     "data": {
      "text/plain": [
       "[('банка', 8566),\n",
       " ('банк', 6868),\n",
       " ('это', 5076),\n",
       " ('деньги', 3472),\n",
       " ('карты', 3095),\n",
       " ('карту', 2940),\n",
       " ('т', 2700),\n",
       " ('день', 2411),\n",
       " ('кредит', 2376),\n",
       " ('г', 2239)]"
      ]
     },
     "execution_count": 41,
     "metadata": {},
     "output_type": "execute_result"
    }
   ],
   "source": [
    "# 10 Самых частых слов без стоп слов\n",
    "words_stop_off.most_common(10)"
   ]
  },
  {
   "cell_type": "code",
   "execution_count": 42,
   "metadata": {},
   "outputs": [
    {
     "data": {
      "text/plain": [
       "[('банка', 12163),\n",
       " ('карта', 9722),\n",
       " ('банк', 8507),\n",
       " ('это', 5770),\n",
       " ('год', 5624),\n",
       " ('мой', 5102),\n",
       " ('кредит', 4956),\n",
       " ('день', 4929),\n",
       " ('деньга', 4676),\n",
       " ('сотрудник', 4508)]"
      ]
     },
     "execution_count": 42,
     "metadata": {},
     "output_type": "execute_result"
    }
   ],
   "source": [
    "# 10 Самых частых лемм\n",
    "lemmas_cnt.most_common(10)"
   ]
  },
  {
   "cell_type": "code",
   "execution_count": 43,
   "metadata": {},
   "outputs": [
    {
     "data": {
      "text/plain": [
       "[('банка', 12163),\n",
       " ('карта', 9722),\n",
       " ('банк', 8507),\n",
       " ('год', 5624),\n",
       " ('кредит', 4956),\n",
       " ('день', 4929),\n",
       " ('деньга', 4676),\n",
       " ('сотрудник', 4508),\n",
       " ('клиент', 4008),\n",
       " ('отделение', 3437)]"
      ]
     },
     "execution_count": 43,
     "metadata": {},
     "output_type": "execute_result"
    }
   ],
   "source": [
    "# 10 Самых частых существительных\n",
    "nouns_cnt.most_common(10)"
   ]
  },
  {
   "cell_type": "markdown",
   "metadata": {},
   "source": [
    "##### Кривая Ципфа"
   ]
  },
  {
   "cell_type": "markdown",
   "metadata": {},
   "source": [
    "**Зако́н Ци́пфа («ранг—частота»)** — эмпирическая закономерность распределения частоты слов естественного языка: если все слова языка (или просто достаточно длинного текста) упорядочить по убыванию частоты их использования, то частота n-го слова в таком списке окажется приблизительно обратно пропорциональной его порядковому номеру n (так называемому рангу этого слова, см. шкала порядка). \n",
    "\n",
    "Например, второе по используемости слово встречается примерно в два раза реже, чем первое, третье — в три раза реже, чем первое, и так далее."
   ]
  },
  {
   "cell_type": "markdown",
   "metadata": {},
   "source": [
    "**Определение**\n",
    "\n",
    "В любом достаточно большом тексте ранг типа обратно пропорционален его частоте: $f = \\frac{a}{r}$\n",
    "\n",
    "$f$ – частота типа, $r$  – ранг типа, $a$  – параметр, для славянских языков – около 0.07"
   ]
  },
  {
   "cell_type": "code",
   "execution_count": 44,
   "metadata": {},
   "outputs": [
    {
     "data": {
      "image/png": "[encoded data removed]",
      "text/plain": [
       "<Figure size 720x288 with 1 Axes>"
      ]
     },
     "metadata": {},
     "output_type": "display_data"
    }
   ],
   "source": [
    "# Настройка графика\n",
    "sns.set(rc={'figure.figsize':(10,4)})\n",
    "\n",
    "# В качестве типа слова будем использовать лемму\n",
    "freqs = list(lemmas_cnt.values())\n",
    "freqs = sorted(freqs, reverse = True)\n",
    "\n",
    "fig, ax = plt.subplots()\n",
    "ax.plot(freqs[:300], range(300))\n",
    "plt.show()"
   ]
  },
  {
   "cell_type": "markdown",
   "metadata": {},
   "source": [
    "##### Кривая Хипса\n",
    "С увеличением длины текста (количества токенов), количество типов увеличивается в соответствии с законом: $|V| = K*N^b$\n",
    "\n",
    "\n",
    "$N$  –  число токенов, $|V|$  – количество типов в словаре, $K, b$  –  параметры, обычно $K \\in [10,100], b \\in [0.4, 0.6]$"
   ]
  },
  {
   "cell_type": "code",
   "execution_count": 45,
   "metadata": {},
   "outputs": [
    {
     "data": {
      "image/png": "[encoded data removed]",
      "text/plain": [
       "<Figure size 720x288 with 1 Axes>"
      ]
     },
     "metadata": {},
     "output_type": "display_data"
    }
   ],
   "source": [
    "fig, ax = plt.subplots()\n",
    "ax.plot(n_tokens, n_types)\n",
    "plt.show()"
   ]
  },
  {
   "cell_type": "markdown",
   "metadata": {},
   "source": [
    "#### Ответы на вопросы\n",
    "- какое слово встречается чаще, \"сотрудник\" или \"клиент\"?   "
   ]
  },
  {
   "cell_type": "code",
   "execution_count": 46,
   "metadata": {},
   "outputs": [
    {
     "name": "stdout",
     "output_type": "stream",
     "text": [
      "Слово 'сотрудник' встречается чаще слова 'клиент'\n"
     ]
    }
   ],
   "source": [
    "def sort_values(word1, word2, cnt=lemmas_cnt):\n",
    "    try:\n",
    "        if cnt[word1]>cnt[word2]:\n",
    "            return [word1, word2]\n",
    "        else:\n",
    "            return [word2, word1]\n",
    "    except:\n",
    "        return ['-', '-']\n",
    "    \n",
    "print(\"Слово '{0}' встречается чаще слова '{1}'\".format(sort_values('сотрудник', 'клиент')[0], \n",
    "                                                        sort_values('сотрудник', 'клиент')[1]))"
   ]
  },
  {
   "cell_type": "markdown",
   "metadata": {},
   "source": [
    "- сколько раз встречается слова \"мошенничество\" и \"доверие\"?    "
   ]
  },
  {
   "cell_type": "code",
   "execution_count": 47,
   "metadata": {
    "scrolled": true
   },
   "outputs": [
    {
     "name": "stdout",
     "output_type": "stream",
     "text": [
      "Слово мошенничество встречается 116 раз\n",
      "Слово доверие встречается 85 раз\n"
     ]
    }
   ],
   "source": [
    "print(\"Слово {0} встречается {1} раз\".format('мошенничество', lemmas_cnt['мошенничество']))\n",
    "print(\"Слово {0} встречается {1} раз\".format('доверие', lemmas_cnt['доверие']))"
   ]
  },
  {
   "cell_type": "markdown",
   "metadata": {},
   "source": [
    "### Задача - поиск положительных отзывов"
   ]
  },
  {
   "cell_type": "markdown",
   "metadata": {},
   "source": [
    "- В поле \"rating_grade\" записана оценка отзыва по шкале от 1 до 5. Используйте меру  $𝑡𝑓−𝑖𝑑𝑓$ , для того, чтобы найти ключевые слова и биграмы для положительных отзывов (с оценкой 5) и отрицательных отзывов (с оценкой 1)"
   ]
  },
  {
   "cell_type": "code",
   "execution_count": null,
   "metadata": {
    "scrolled": false
   },
   "outputs": [],
   "source": [
    "X = data[(data.rating_grade==1)|(data.rating_grade==5)].loc[:, ['rating_grade', 'text']].copy()\n",
    "X['rating_grade'].unique()"
   ]
  },
  {
   "cell_type": "code",
   "execution_count": null,
   "metadata": {},
   "outputs": [],
   "source": [
    "tokens_by_rating = []\n",
    "for rating in X['rating_grade'].fillna(3).unique():\n",
    "    if X['rating_grade'].value_counts()[rating] > 100: \n",
    "        print(rating)\n",
    "        tokens = []\n",
    "        sample = X[X['rating_grade']==rating].sample(n=100)\n",
    "\n",
    "        sample.text = sample.text.str.lower()\n",
    "        sample.text = sample.text.apply(words_only)\n",
    "        sample.text = sample.text.apply(drop_stopwords) \n",
    "        sample.text = sample.text.apply(lemmatize)\n",
    "        #sample.text = sample.text.apply(remove_stoplemmas) \n",
    "        for i in range(len(sample)):\n",
    "            tokens += sample.text.iloc[i].split()\n",
    "        tokens_by_rating.append(tokens)"
   ]
  },
  {
   "cell_type": "markdown",
   "metadata": {},
   "source": [
    "###### Определим по 20 ключевых слов для положительных и отрицательных отзывов"
   ]
  },
  {
   "cell_type": "code",
   "execution_count": null,
   "metadata": {},
   "outputs": [],
   "source": [
    "rating_id=1"
   ]
  },
  {
   "cell_type": "code",
   "execution_count": null,
   "metadata": {},
   "outputs": [],
   "source": [
    "from sklearn.feature_extraction.text import TfidfVectorizer\n",
    "import numpy as np\n",
    "\n",
    "tfidf = TfidfVectorizer(analyzer='word', stop_words=rus_stopwords, ngram_range=(1,1), min_df = 0)\n",
    "tfidf_matrix =  tfidf.fit_transform(negative.text)\n",
    "feature_names = tfidf.get_feature_names() \n",
    "tfidf_ranking = []\n",
    "dense = tfidf_matrix.todense()"
   ]
  },
  {
   "cell_type": "code",
   "execution_count": null,
   "metadata": {},
   "outputs": [],
   "source": [
    "text = dense[rating_id].tolist()[0]\n",
    "phrase_scores = [pair for pair in zip(range(0, len(text)), text) if pair[1] > 0]\n",
    "sorted_phrase_scores = sorted(phrase_scores, key=lambda t: t[1] * -1)\n",
    "phrases = []\n",
    "for phrase, score in [(feature_names[word_id], score) for (word_id, score) in sorted_phrase_scores][:40]:\n",
    "    tfidf_ranking.append(phrase)"
   ]
  },
  {
   "cell_type": "markdown",
   "metadata": {},
   "source": [
    "###### Определим 20 биграм и 20 ключевых слов для положительных отзывов (с оценкой 5)"
   ]
  },
  {
   "cell_type": "markdown",
   "metadata": {},
   "source": [
    "## Часть 2. Тематическое моделирование [20/100]\n",
    "\n",
    "1. Постройте несколько тематических моделей коллекции документов с разным числом тем. Приведите примеры понятных (интерпретируемых) тем.\n",
    "2. Найдите темы, в которых упомянуты конкретные банки (Сбербанк, ВТБ, другой банк). Можете ли вы их прокомментировать / объяснить?\n",
    "\n",
    "Эта часть задания может быть сделана с использованием gensim. "
   ]
  },
  {
   "cell_type": "code",
   "execution_count": 131,
   "metadata": {},
   "outputs": [],
   "source": [
    "from gensim.models import Word2Vec"
   ]
  },
  {
   "cell_type": "code",
   "execution_count": null,
   "metadata": {},
   "outputs": [],
   "source": [
    "from sklearn.feature_extraction.text import TfidfVectorizer\n",
    "import numpy as np\n",
    "\n",
    "\n",
    "tfidf = TfidfVectorizer(analyzer='word', ngram_range=(1,1), min_df = 0)\n",
    "tfidf_matrix =  tfidf.fit_transform([' '.join(tokens) for tokens in tokens_by_topic])\n",
    "feature_names = tfidf.get_feature_names() \n",
    "tfidf_ranking = []\n",
    "dense = tfidf_matrix.todense()\n",
    "\n",
    "text = dense[topic_id].tolist()[0]\n",
    "phrase_scores = [pair for pair in zip(range(0, len(text)), text) if pair[1] > 0]\n",
    "sorted_phrase_scores = sorted(phrase_scores, key=lambda t: t[1] * -1)\n",
    "phrases = []\n",
    "for phrase, score in [(feature_names[word_id], score) for (word_id, score) in sorted_phrase_scores][:40]:\n",
    "    tfidf_ranking.append(phrase)"
   ]
  },
  {
   "cell_type": "markdown",
   "metadata": {},
   "source": [
    "## Часть 3. Классификация текстов [40/100]\n",
    "\n",
    "Сформулируем для простоты задачу бинарной классификации: будем классифицировать на два класса, то есть, различать резко отрицательные отзывы (с оценкой 1) и положительные отзывы (с оценкой 5). \n",
    "\n",
    "1.  Составьте обучающее и тестовое множество: выберите из всего набора данных N1 отзывов с оценкой 1 и N2 отзывов с оценкой 5 (значение N1 и N2 – на ваше усмотрение). Используйте ```sklearn.model_selection.train_test_split``` для разделения множества отобранных документов на обучающее и тестовое. \n",
    "2. Используйте любой известный вам алгоритм классификации текстов для решения задачи и получите baseline. Сравните разные варианты векторизации текста: использование только униграм, пар или троек слов или с использованием символьных $n$-грам. \n",
    "3. Сравните, как изменяется качество решения задачи при использовании скрытых тем в качестве признаков:\n",
    "* 1-ый вариант: $tf-idf$ преобразование (```sklearn.feature_extraction.text.TfidfTransformer```) и сингулярное разложение (оно же – латентый семантический анализ) (```sklearn.decomposition.TruncatedSVD```), \n",
    "* 2-ой вариант: тематические модели LDA (```sklearn.decomposition.LatentDirichletAllocation```). \n",
    "\n",
    "Используйте accuracy и F-measure для оценки качества классификации. \n",
    "\n",
    "Ниже написан примерный Pipeline для классификации текстов. \n",
    "\n",
    "Эта часть задания может быть сделана с использованием sklearn. "
   ]
  },
  {
   "cell_type": "code",
   "execution_count": null,
   "metadata": {},
   "outputs": [],
   "source": [
    "from sklearn.pipeline import Pipeline\n",
    "from sklearn.ensemble import RandomForestClassifier\n",
    "\n",
    "# !!! На каждом этапе Pipeline нужно указать свои параметры\n",
    "# 1-ый вариант: tf-idf + LSI\n",
    "# 2-ой вариант: LDA\n",
    "\n",
    "# clf = Pipeline([\n",
    "#     ('vect', CountVectorizer(analyzer = 'char', ngram_range={4,6})),\n",
    "#     ('clf', RandomForestClassifier()),\n",
    "# ])\n",
    "\n",
    "clf = Pipeline([ \n",
    "    ('vect', CountVectorizer()), \n",
    "    ('tfidf', TfidfTransformer()), \n",
    "    ('tm', TruncatedSVD()), \n",
    "    ('clf', RandomForestClassifier())\n",
    "])\n",
    "\n"
   ]
  }
 ],
 "metadata": {
  "kernelspec": {
   "display_name": "Python 3",
   "language": "python",
   "name": "python3"
  },
  "language_info": {
   "codemirror_mode": {
    "name": "ipython",
    "version": 3
   },
   "file_extension": ".py",
   "mimetype": "text/x-python",
   "name": "python",
   "nbconvert_exporter": "python",
   "pygments_lexer": "ipython3",
   "version": "3.7.1"
  }
 },
 "nbformat": 4,
 "nbformat_minor": 2
}

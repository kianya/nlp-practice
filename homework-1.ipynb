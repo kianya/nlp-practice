{
 "cells": [
  {
   "cell_type": "markdown",
   "metadata": {},
   "source": [
    "# Домашняя работа 1.\n",
    "\n",
    "В этом домашнем задании вам предстоит классифицировать по тональности отзывы на банки с сайта banki.ru.\n",
    " - Ноутбук с заданием: https://github.com/artemovae/nlp-course-netology/blob/master/HW1_banki_TM-and-classification.ipynb\n",
    " - Данные: https://www.dropbox.com/s/ol3ux3ibr6rd5ke/banki_responses.json.bz2?dl=0\n",
    "\n",
    "Данные содержат непосредственно тексты отзывов, некоторую дополнительную информацию, а также оценку по шкале от 1 до 5.\n",
    "Тексты хранятся в json-ах в массиве responses.\n",
    "\n",
    "Решением будет ссылка на гитхаб с ноутбуком."
   ]
  },
  {
   "cell_type": "markdown",
   "metadata": {},
   "source": [
    "## Импорт библиотек"
   ]
  },
  {
   "cell_type": "code",
   "execution_count": 3,
   "metadata": {},
   "outputs": [
    {
     "name": "stdout",
     "output_type": "stream",
     "text": [
      "Populating the interactive namespace from numpy and matplotlib\n"
     ]
    }
   ],
   "source": [
    "import json\n",
    "\n",
    "import bz2\n",
    "import regex\n",
    "from tqdm import tqdm, tqdm_notebook\n",
    "from scipy import sparse\n",
    "\n",
    "import re\n",
    "\n",
    "import pandas as pd\n",
    "import numpy as np\n",
    "import nltk\n",
    "import matplotlib.pyplot as plt\n",
    "import seaborn as sns\n",
    "\n",
    "%matplotlib inline\n",
    "%pylab inline"
   ]
  },
  {
   "cell_type": "markdown",
   "metadata": {},
   "source": [
    "## Загрузка данных"
   ]
  },
  {
   "cell_type": "code",
   "execution_count": 4,
   "metadata": {},
   "outputs": [
    {
     "name": "stderr",
     "output_type": "stream",
     "text": [
      "201030it [01:38, 2043.25it/s]\n"
     ]
    }
   ],
   "source": [
    "responses = []\n",
    "with bz2.BZ2File('../data/banki_responses.json.bz2', 'r') as thefile:\n",
    "    for row in tqdm(thefile):\n",
    "        resp = json.loads(row)\n",
    "        if not resp['rating_not_checked'] and (len(resp['text'].split()) > 0):\n",
    "            responses.append(resp)"
   ]
  },
  {
   "cell_type": "markdown",
   "metadata": {},
   "source": [
    "## Часть 1. Анализ текстов"
   ]
  },
  {
   "cell_type": "markdown",
   "metadata": {},
   "source": [
    "Поэтапный анализ текста:\n",
    "1. Посчитайте количество отзывов в разных городах и на разные банки\n",
    "2. Постройте гистограмы длин слов в символах и в словах\n",
    "3. Найдите 10 самых частых:\n",
    "    - слов\n",
    "    - слов без стоп-слов\n",
    "    - лемм\n",
    "    - существительных\n",
    "4. Постройте кривые Ципфа и Хипса\n",
    "5. Ответьте на следующие вопросы:\n",
    "    - какое слово встречается чаще, \"сотрудник\" или \"клиент\"?\n",
    "    - сколько раз встречается слова \"мошенничество\" и \"доверие\"?\n",
    "    - В поле \"rating_grade\" записана оценка отзыва по шкале от 1 до 5. Используйте меру $tf-idf$, для того, чтобы найти ключевые слова и биграмы для положительных отзывов (с оценкой 5) и отрицательных отзывов (с оценкой 1)"
   ]
  },
  {
   "cell_type": "code",
   "execution_count": 5,
   "metadata": {},
   "outputs": [
    {
     "data": {
      "text/plain": [
       "{'city': 'г. Саратов',\n",
       " 'rating_not_checked': False,\n",
       " 'title': 'Карта ко вкладу',\n",
       " 'num_comments': 0,\n",
       " 'bank_license': 'лицензия № 880',\n",
       " 'author': 'ronnichka',\n",
       " 'bank_name': 'Югра',\n",
       " 'datetime': '2015-06-03 20:56:57',\n",
       " 'text': 'Здравствуйте! Хотела написать, что мне месяц не выдают карту ко вкладу, ссылаясь на \"нам же их из Самары везут\" (на секундочку 5 часов езды от нашего города). Но! Прочитала, что людям 3,5 месяцев не выдают карту, и поняла, что у меня все хорошо, пока что. И подарок мне дали, и кулер в отделении есть. Так что я, конечно, готова ждать. Правда хотелось бы не очень долго.',\n",
       " 'rating_grade': 3}"
      ]
     },
     "execution_count": 5,
     "metadata": {},
     "output_type": "execute_result"
    }
   ],
   "source": [
    "# Пример отзыва \n",
    "responses[99]"
   ]
  },
  {
   "cell_type": "code",
   "execution_count": 262,
   "metadata": {
    "scrolled": true
   },
   "outputs": [
    {
     "data": {
      "text/html": [
       "<div>\n",
       "<style scoped>\n",
       "    .dataframe tbody tr th:only-of-type {\n",
       "        vertical-align: middle;\n",
       "    }\n",
       "\n",
       "    .dataframe tbody tr th {\n",
       "        vertical-align: top;\n",
       "    }\n",
       "\n",
       "    .dataframe thead th {\n",
       "        text-align: right;\n",
       "    }\n",
       "</style>\n",
       "<table border=\"1\" class=\"dataframe\">\n",
       "  <thead>\n",
       "    <tr style=\"text-align: right;\">\n",
       "      <th></th>\n",
       "      <th>author</th>\n",
       "      <th>bank_license</th>\n",
       "      <th>bank_name</th>\n",
       "      <th>city</th>\n",
       "      <th>datetime</th>\n",
       "      <th>num_comments</th>\n",
       "      <th>rating_grade</th>\n",
       "      <th>rating_not_checked</th>\n",
       "      <th>text</th>\n",
       "      <th>title</th>\n",
       "    </tr>\n",
       "  </thead>\n",
       "  <tbody>\n",
       "    <tr>\n",
       "      <th>0</th>\n",
       "      <td>uhnov1</td>\n",
       "      <td>лицензия № 2562</td>\n",
       "      <td>Бинбанк</td>\n",
       "      <td>г. Москва</td>\n",
       "      <td>2015-06-08 12:50:54</td>\n",
       "      <td>0</td>\n",
       "      <td>NaN</td>\n",
       "      <td>False</td>\n",
       "      <td>Добрый день! Я не являюсь клиентом банка и пор...</td>\n",
       "      <td>Жалоба</td>\n",
       "    </tr>\n",
       "    <tr>\n",
       "      <th>1</th>\n",
       "      <td>Foryou</td>\n",
       "      <td>лицензия № 1481</td>\n",
       "      <td>Сбербанк России</td>\n",
       "      <td>г. Новосибирск</td>\n",
       "      <td>2015-06-08 11:09:57</td>\n",
       "      <td>0</td>\n",
       "      <td>NaN</td>\n",
       "      <td>False</td>\n",
       "      <td>Доброго дня! Являюсь держателем зарплатной кар...</td>\n",
       "      <td>Не могу пользоваться услугой Сбербанк он-лайн</td>\n",
       "    </tr>\n",
       "    <tr>\n",
       "      <th>2</th>\n",
       "      <td>Vladimir84</td>\n",
       "      <td>лицензия № 2562</td>\n",
       "      <td>Бинбанк</td>\n",
       "      <td>г. Москва</td>\n",
       "      <td>2015-06-05 20:14:28</td>\n",
       "      <td>1</td>\n",
       "      <td>NaN</td>\n",
       "      <td>False</td>\n",
       "      <td>Здравствуйте!  Дублирую свое заявление от 03.0...</td>\n",
       "      <td>Двойное списание за один товар.</td>\n",
       "    </tr>\n",
       "    <tr>\n",
       "      <th>3</th>\n",
       "      <td>643609</td>\n",
       "      <td>лицензия № 1481</td>\n",
       "      <td>Сбербанк России</td>\n",
       "      <td>г. Ставрополь</td>\n",
       "      <td>2015-06-05 13:51:01</td>\n",
       "      <td>2</td>\n",
       "      <td>NaN</td>\n",
       "      <td>False</td>\n",
       "      <td>Добрый день!! Я открыл расчетный счет в СберБа...</td>\n",
       "      <td>Меняют проценты комиссии  не предупредив и не ...</td>\n",
       "    </tr>\n",
       "    <tr>\n",
       "      <th>4</th>\n",
       "      <td>anfisa-2003</td>\n",
       "      <td>лицензия № 2766</td>\n",
       "      <td>ОТП Банк</td>\n",
       "      <td>г. Челябинск</td>\n",
       "      <td>2015-06-05 10:58:12</td>\n",
       "      <td>1</td>\n",
       "      <td>NaN</td>\n",
       "      <td>False</td>\n",
       "      <td>04.03.2015 г. взяла кредит в вашем банке, заяв...</td>\n",
       "      <td>Верните денежные средства за страховку</td>\n",
       "    </tr>\n",
       "  </tbody>\n",
       "</table>\n",
       "</div>"
      ],
      "text/plain": [
       "        author     bank_license        bank_name            city  \\\n",
       "0       uhnov1  лицензия № 2562          Бинбанк       г. Москва   \n",
       "1       Foryou  лицензия № 1481  Сбербанк России  г. Новосибирск   \n",
       "2   Vladimir84  лицензия № 2562          Бинбанк       г. Москва   \n",
       "3       643609  лицензия № 1481  Сбербанк России   г. Ставрополь   \n",
       "4  anfisa-2003  лицензия № 2766         ОТП Банк    г. Челябинск   \n",
       "\n",
       "              datetime  num_comments  rating_grade  rating_not_checked  \\\n",
       "0  2015-06-08 12:50:54             0           NaN               False   \n",
       "1  2015-06-08 11:09:57             0           NaN               False   \n",
       "2  2015-06-05 20:14:28             1           NaN               False   \n",
       "3  2015-06-05 13:51:01             2           NaN               False   \n",
       "4  2015-06-05 10:58:12             1           NaN               False   \n",
       "\n",
       "                                                text  \\\n",
       "0  Добрый день! Я не являюсь клиентом банка и пор...   \n",
       "1  Доброго дня! Являюсь держателем зарплатной кар...   \n",
       "2  Здравствуйте!  Дублирую свое заявление от 03.0...   \n",
       "3  Добрый день!! Я открыл расчетный счет в СберБа...   \n",
       "4  04.03.2015 г. взяла кредит в вашем банке, заяв...   \n",
       "\n",
       "                                               title  \n",
       "0                                             Жалоба  \n",
       "1      Не могу пользоваться услугой Сбербанк он-лайн  \n",
       "2                    Двойное списание за один товар.  \n",
       "3  Меняют проценты комиссии  не предупредив и не ...  \n",
       "4             Верните денежные средства за страховку  "
      ]
     },
     "execution_count": 262,
     "metadata": {},
     "output_type": "execute_result"
    }
   ],
   "source": [
    "data = pd.DataFrame(responses)\n",
    "data.head()"
   ]
  },
  {
   "cell_type": "code",
   "execution_count": 263,
   "metadata": {},
   "outputs": [
    {
     "name": "stdout",
     "output_type": "stream",
     "text": [
      "<class 'pandas.core.frame.DataFrame'>\n",
      "RangeIndex: 153499 entries, 0 to 153498\n",
      "Data columns (total 10 columns):\n",
      "author                153479 non-null object\n",
      "bank_license          153498 non-null object\n",
      "bank_name             153499 non-null object\n",
      "city                  138325 non-null object\n",
      "datetime              153499 non-null object\n",
      "num_comments          153499 non-null int64\n",
      "rating_grade          88658 non-null float64\n",
      "rating_not_checked    153499 non-null bool\n",
      "text                  153499 non-null object\n",
      "title                 153499 non-null object\n",
      "dtypes: bool(1), float64(1), int64(1), object(7)\n",
      "memory usage: 10.7+ MB\n"
     ]
    }
   ],
   "source": [
    "data.info()"
   ]
  },
  {
   "cell_type": "markdown",
   "metadata": {},
   "source": [
    "Поэтапный анализ текста:\n",
    "1. Посчитайте количество отзывов в разных городах и на разные банки\n",
    "2. Постройте гистограмы длин слов в символах и в словах\n",
    "3. Найдите 10 самых частых:\n",
    "    - слов\n",
    "    - слов без стоп-слов\n",
    "    - лемм\n",
    "    - существительных\n",
    "4. Постройте кривые Ципфа и Хипса\n",
    "5. Ответьте на следующие вопросы:\n",
    "    - какое слово встречается чаще, \"сотрудник\" или \"клиент\"?\n",
    "    - сколько раз встречается слова \"мошенничество\" и \"доверие\"?\n",
    "    - В поле \"rating_grade\" записана оценка отзыва по шкале от 1 до 5. Используйте меру $tf-idf$, для того, чтобы найти ключевые слова и биграмы для положительных отзывов (с оценкой 5) и отрицательных отзывов (с оценкой 1)"
   ]
  },
  {
   "cell_type": "markdown",
   "metadata": {},
   "source": [
    "###### 1. Количество отзывов в разных городах и на разные банки"
   ]
  },
  {
   "cell_type": "code",
   "execution_count": 264,
   "metadata": {},
   "outputs": [],
   "source": [
    "cities = data.loc[:, 'city'].copy()"
   ]
  },
  {
   "cell_type": "code",
   "execution_count": 265,
   "metadata": {},
   "outputs": [],
   "source": [
    "# Для того чтобы выделить названия городов, попробуем использовать токенайзер natasha\n",
    "import natasha\n",
    "from natasha import LocationExtractor"
   ]
  },
  {
   "cell_type": "code",
   "execution_count": 266,
   "metadata": {},
   "outputs": [],
   "source": [
    "extractor = LocationExtractor()\n",
    "\n",
    "def extract_city(text, extractor=extractor):\n",
    "    try:\n",
    "        matches = extractor(text)\n",
    "        start, stop = matches[0].span\n",
    "        return text[start:stop].lower()\n",
    "    except:\n",
    "        return ''\n",
    "\n",
    "cities_transformed = cities.apply(extract_city)"
   ]
  },
  {
   "cell_type": "code",
   "execution_count": 267,
   "metadata": {},
   "outputs": [
    {
     "data": {
      "text/plain": [
       "<matplotlib.axes._subplots.AxesSubplot at 0x1a4eca90f0>"
      ]
     },
     "execution_count": 267,
     "metadata": {},
     "output_type": "execute_result"
    },
    {
     "data": {
      "image/png": "[encoded data removed]",
      "text/plain": [
       "<Figure size 432x288 with 1 Axes>"
      ]
     },
     "metadata": {
      "needs_background": "light"
     },
     "output_type": "display_data"
    }
   ],
   "source": [
    "cities_extracted = cities_transformed.reset_index().groupby('city').count().sort_values('index', ascending=False)\n",
    "sns.barplot(data=cities_extracted.reset_index().head(25), x='index', y='city', saturation=.5)"
   ]
  },
  {
   "cell_type": "markdown",
   "metadata": {},
   "source": [
    "##### Количество отзывов по банкам"
   ]
  },
  {
   "cell_type": "code",
   "execution_count": 268,
   "metadata": {},
   "outputs": [
    {
     "data": {
      "text/plain": [
       "<matplotlib.axes._subplots.AxesSubplot at 0x1a69abcba8>"
      ]
     },
     "execution_count": 268,
     "metadata": {},
     "output_type": "execute_result"
    },
    {
     "data": {
      "image/png": "[encoded data removed]",
      "text/plain": [
       "<Figure size 432x288 with 1 Axes>"
      ]
     },
     "metadata": {
      "needs_background": "light"
     },
     "output_type": "display_data"
    }
   ],
   "source": [
    "bank_names = data.loc[:,['bank_name']].copy()\n",
    "banks = bank_names.reset_index().groupby('bank_name').count().sort_values('index', ascending=False).head(5)\n",
    "sns.barplot(data=banks.reset_index(), x='index', y='bank_name', saturation=.5)"
   ]
  },
  {
   "cell_type": "code",
   "execution_count": 269,
   "metadata": {},
   "outputs": [],
   "source": [
    "regex = r'г\\. ([А-Яа-я- ]+)'\n",
    "def get_city(text, regex=regex):\n",
    "    try:\n",
    "        values = re.findall(regex, text)\n",
    "        return ' '.join(values).lower()\n",
    "    except:\n",
    "        return \"\""
   ]
  },
  {
   "cell_type": "markdown",
   "metadata": {},
   "source": [
    "###### Гистограмы длин слов в символах"
   ]
  },
  {
   "cell_type": "code",
   "execution_count": 270,
   "metadata": {},
   "outputs": [],
   "source": [
    "regex = '[А-Яа-я]+'\n",
    "from nltk.corpus import stopwords\n",
    "from pymystem3 import Mystem\n",
    "from pymorphy2 import MorphAnalyzer\n",
    "\n",
    "\n",
    "rus_stopwords = stopwords.words('russian')\n",
    "lemmatizator = Mystem()\n",
    "pm2 = MorphAnalyzer()\n",
    "\n",
    "def words_only(text, regex=regex):\n",
    "    try:\n",
    "        value = ' '.join(re.findall(regex, text)).lower()\n",
    "        return value\n",
    "    except:\n",
    "        return ''\n",
    "    \n",
    "def drop_stopwords(text, stopwords=rus_stopwords):\n",
    "    try:\n",
    "        value = ' '.join([token for token in text.split() if not token in stopwords])\n",
    "        return value\n",
    "    except:\n",
    "        return ''\n",
    "    \n",
    "def lemmatize(text, converter=pm2):\n",
    "    try:\n",
    "        value = [converter.parse(word)[0].normal_form for word in text.split()]\n",
    "        return ' '.join(value)\n",
    "    except:\n",
    "        return ''\n",
    "    \n",
    "def nounizator(text, converter=pm2):\n",
    "    try:\n",
    "        value = [converter.parse(word)[0].normal_form for word in text.split() \n",
    "                              if 'NOUN' in converter.parse(word)[0].tag]\n",
    "        return ' '.join(value)\n",
    "    except:\n",
    "        return ''"
   ]
  },
  {
   "cell_type": "code",
   "execution_count": 271,
   "metadata": {},
   "outputs": [],
   "source": [
    "texts = data.text.apply(words_only)"
   ]
  },
  {
   "cell_type": "code",
   "execution_count": 14,
   "metadata": {},
   "outputs": [
    {
     "data": {
      "application/vnd.jupyter.widget-view+json": {
       "model_id": "58755b1b9d2947f38ccd088e179d0470",
       "version_major": 2,
       "version_minor": 0
      },
      "text/plain": [
       "HBox(children=(IntProgress(value=1, bar_style='info', max=1), HTML(value='')))"
      ]
     },
     "metadata": {},
     "output_type": "display_data"
    },
    {
     "name": "stdout",
     "output_type": "stream",
     "text": [
      "\n"
     ]
    }
   ],
   "source": [
    "from collections import Counter\n",
    "cnt = Counter()\n",
    "len_cnt = Counter()\n",
    "tokens = []\n",
    "for i, text in tqdm_notebook(texts.iteritems()):\n",
    "    # Слова\n",
    "    tokens = [i for i in text.split()]\n",
    "    cnt.update(tokens)\n",
    "    # Длины слов\n",
    "    len_tokens = [len(i) for i in text.split()]\n",
    "    len_cnt.update(len_tokens)"
   ]
  },
  {
   "cell_type": "code",
   "execution_count": 15,
   "metadata": {},
   "outputs": [],
   "source": [
    "# Настройка размера графика\n",
    "sns.set(rc={'figure.figsize':(10,4)})"
   ]
  },
  {
   "cell_type": "code",
   "execution_count": 16,
   "metadata": {
    "scrolled": true
   },
   "outputs": [
    {
     "data": {
      "text/plain": [
       "<matplotlib.axes._subplots.AxesSubplot at 0x1a2e1eae48>"
      ]
     },
     "execution_count": 16,
     "metadata": {},
     "output_type": "execute_result"
    },
    {
     "data": {
      "image/png": "[encoded data removed]",
      "text/plain": [
       "<Figure size 720x288 with 1 Axes>"
      ]
     },
     "metadata": {},
     "output_type": "display_data"
    }
   ],
   "source": [
    "# Гистограмма длин слов в символах\n",
    "word_lens = pd.DataFrame.from_dict(dict(len_cnt), orient='index').reset_index()\n",
    "word_lens.columns = ['len', 'count_len']\n",
    "sns.barplot(data=word_lens, x='len', y='count_len', ci=10)"
   ]
  },
  {
   "cell_type": "markdown",
   "metadata": {},
   "source": [
    "###### Гистограма длин предложений в словах"
   ]
  },
  {
   "cell_type": "code",
   "execution_count": 17,
   "metadata": {},
   "outputs": [],
   "source": [
    "from nltk.tokenize import sent_tokenize\n",
    "text_sentences = data.text.apply(sent_tokenize)"
   ]
  },
  {
   "cell_type": "code",
   "execution_count": 18,
   "metadata": {},
   "outputs": [
    {
     "data": {
      "application/vnd.jupyter.widget-view+json": {
       "model_id": "7009fc43ad21472ab436072257ce02ff",
       "version_major": 2,
       "version_minor": 0
      },
      "text/plain": [
       "HBox(children=(IntProgress(value=1, bar_style='info', max=1), HTML(value='')))"
      ]
     },
     "metadata": {},
     "output_type": "display_data"
    },
    {
     "name": "stdout",
     "output_type": "stream",
     "text": [
      "\n"
     ]
    }
   ],
   "source": [
    "len_sent = Counter()\n",
    "sentenses = []\n",
    "for i, text in tqdm_notebook(text_sentences.iteritems()):\n",
    "    # Предложения\n",
    "    for sentense in text:\n",
    "        words = words_only(sentense).split()\n",
    "        len_sent.update([len(words)])"
   ]
  },
  {
   "cell_type": "code",
   "execution_count": 19,
   "metadata": {},
   "outputs": [
    {
     "data": {
      "text/plain": [
       "<matplotlib.axes._subplots.AxesSubplot at 0x1a576fe048>"
      ]
     },
     "execution_count": 19,
     "metadata": {},
     "output_type": "execute_result"
    },
    {
     "data": {
      "image/png": "[encoded data removed]",
      "text/plain": [
       "<Figure size 1800x288 with 1 Axes>"
      ]
     },
     "metadata": {},
     "output_type": "display_data"
    }
   ],
   "source": [
    "# Настройка графика\n",
    "sns.set(rc={'figure.figsize':(25,4)})\n",
    "\n",
    "# Гистограмма длин предложений в словах\n",
    "sent_lens = pd.DataFrame.from_dict(dict(len_sent), orient='index').reset_index()\n",
    "sent_lens.columns = ['len', 'count_len']\n",
    "sns.barplot(data=sent_lens, x='len', y='count_len', ci=10)"
   ]
  },
  {
   "cell_type": "markdown",
   "metadata": {},
   "source": [
    "###### Частотный анализ\n",
    "10 самых частых:\n",
    " - слов\n",
    " - слов без стоп-слов\n",
    " - лемм\n",
    " - существительных"
   ]
  },
  {
   "cell_type": "code",
   "execution_count": 39,
   "metadata": {},
   "outputs": [
    {
     "data": {
      "application/vnd.jupyter.widget-view+json": {
       "model_id": "ce76a62022514be29f4de2cd28b7561b",
       "version_major": 2,
       "version_minor": 0
      },
      "text/plain": [
       "HBox(children=(IntProgress(value=1, bar_style='info', max=1), HTML(value='')))"
      ]
     },
     "metadata": {},
     "output_type": "display_data"
    },
    {
     "name": "stderr",
     "output_type": "stream",
     "text": [
      "/anaconda3/lib/python3.7/site-packages/ipykernel_launcher.py:22: DeprecationWarning: Calling np.sum(generator) is deprecated, and in the future will give a different result. Use np.sum(np.from_iter(generator)) or the python sum builtin instead.\n"
     ]
    },
    {
     "name": "stdout",
     "output_type": "stream",
     "text": [
      "\n"
     ]
    }
   ],
   "source": [
    "words_cnt = Counter()\n",
    "words_stop_off = Counter()\n",
    "lemmas_cnt = Counter()\n",
    "nouns_cnt = Counter()\n",
    "\n",
    "n_types = []\n",
    "n_tokens = []\n",
    "\n",
    "for i, text in tqdm_notebook(texts.head(5000).iteritems()):\n",
    "    # Считаем самые частые слова\n",
    "    words_cnt.update(text.split())\n",
    "    # Убираем стоп-слова\n",
    "    clean_text_without_stop_words = drop_stopwords(text)\n",
    "    words_stop_off.update(clean_text_without_stop_words.split())\n",
    "    # Лемма и сцществительные\n",
    "    nouns = nounizator(clean_text_without_stop_words)\n",
    "    lemmas = lemmatize(clean_text_without_stop_words)\n",
    "    lemmas_cnt.update(lemmas)\n",
    "    nouns_cnt.update(nouns)\n",
    "    # Инфа для закона Хипса - зависимость от количества слов\n",
    "    n_types.append(len(lemmas_cnt))\n",
    "    n_tokens.append(np.sum(lemmas_cnt[item] for item in lemmas_cnt))"
   ]
  },
  {
   "cell_type": "code",
   "execution_count": 40,
   "metadata": {},
   "outputs": [
    {
     "data": {
      "text/plain": [
       "[('в', 37223),\n",
       " ('и', 30266),\n",
       " ('не', 24950),\n",
       " ('на', 20386),\n",
       " ('что', 17935),\n",
       " ('я', 16774),\n",
       " ('с', 14048),\n",
       " ('по', 11323),\n",
       " ('мне', 9421),\n",
       " ('банка', 8566)]"
      ]
     },
     "execution_count": 40,
     "metadata": {},
     "output_type": "execute_result"
    }
   ],
   "source": [
    "# 10 Самых частых слов\n",
    "words_cnt.most_common(10)"
   ]
  },
  {
   "cell_type": "code",
   "execution_count": 41,
   "metadata": {},
   "outputs": [
    {
     "data": {
      "text/plain": [
       "[('банка', 8566),\n",
       " ('банк', 6868),\n",
       " ('это', 5076),\n",
       " ('деньги', 3472),\n",
       " ('карты', 3095),\n",
       " ('карту', 2940),\n",
       " ('т', 2700),\n",
       " ('день', 2411),\n",
       " ('кредит', 2376),\n",
       " ('г', 2239)]"
      ]
     },
     "execution_count": 41,
     "metadata": {},
     "output_type": "execute_result"
    }
   ],
   "source": [
    "# 10 Самых частых слов без стоп слов\n",
    "words_stop_off.most_common(10)"
   ]
  },
  {
   "cell_type": "code",
   "execution_count": 42,
   "metadata": {},
   "outputs": [
    {
     "data": {
      "text/plain": [
       "[('банка', 12163),\n",
       " ('карта', 9722),\n",
       " ('банк', 8507),\n",
       " ('это', 5770),\n",
       " ('год', 5624),\n",
       " ('мой', 5102),\n",
       " ('кредит', 4956),\n",
       " ('день', 4929),\n",
       " ('деньга', 4676),\n",
       " ('сотрудник', 4508)]"
      ]
     },
     "execution_count": 42,
     "metadata": {},
     "output_type": "execute_result"
    }
   ],
   "source": [
    "# 10 Самых частых лемм\n",
    "lemmas_cnt.most_common(10)"
   ]
  },
  {
   "cell_type": "code",
   "execution_count": 43,
   "metadata": {},
   "outputs": [
    {
     "data": {
      "text/plain": [
       "[('банка', 12163),\n",
       " ('карта', 9722),\n",
       " ('банк', 8507),\n",
       " ('год', 5624),\n",
       " ('кредит', 4956),\n",
       " ('день', 4929),\n",
       " ('деньга', 4676),\n",
       " ('сотрудник', 4508),\n",
       " ('клиент', 4008),\n",
       " ('отделение', 3437)]"
      ]
     },
     "execution_count": 43,
     "metadata": {},
     "output_type": "execute_result"
    }
   ],
   "source": [
    "# 10 Самых частых существительных\n",
    "nouns_cnt.most_common(10)"
   ]
  },
  {
   "cell_type": "markdown",
   "metadata": {},
   "source": [
    "##### Кривая Ципфа"
   ]
  },
  {
   "cell_type": "markdown",
   "metadata": {},
   "source": [
    "**Зако́н Ци́пфа («ранг—частота»)** — эмпирическая закономерность распределения частоты слов естественного языка: если все слова языка (или просто достаточно длинного текста) упорядочить по убыванию частоты их использования, то частота n-го слова в таком списке окажется приблизительно обратно пропорциональной его порядковому номеру n (так называемому рангу этого слова, см. шкала порядка). \n",
    "\n",
    "Например, второе по используемости слово встречается примерно в два раза реже, чем первое, третье — в три раза реже, чем первое, и так далее."
   ]
  },
  {
   "cell_type": "markdown",
   "metadata": {},
   "source": [
    "**Определение**\n",
    "\n",
    "В любом достаточно большом тексте ранг типа обратно пропорционален его частоте: $f = \\frac{a}{r}$\n",
    "\n",
    "$f$ – частота типа, $r$  – ранг типа, $a$  – параметр, для славянских языков – около 0.07"
   ]
  },
  {
   "cell_type": "code",
   "execution_count": 44,
   "metadata": {},
   "outputs": [
    {
     "data": {
      "image/png": "[encoded data removed]",
      "text/plain": [
       "<Figure size 720x288 with 1 Axes>"
      ]
     },
     "metadata": {},
     "output_type": "display_data"
    }
   ],
   "source": [
    "# Настройка графика\n",
    "sns.set(rc={'figure.figsize':(10,4)})\n",
    "\n",
    "# В качестве типа слова будем использовать лемму\n",
    "freqs = list(lemmas_cnt.values())\n",
    "freqs = sorted(freqs, reverse = True)\n",
    "\n",
    "fig, ax = plt.subplots()\n",
    "ax.plot(freqs[:300], range(300))\n",
    "plt.show()"
   ]
  },
  {
   "cell_type": "markdown",
   "metadata": {},
   "source": [
    "##### Кривая Хипса\n",
    "С увеличением длины текста (количества токенов), количество типов увеличивается в соответствии с законом: $|V| = K*N^b$\n",
    "\n",
    "\n",
    "$N$  –  число токенов, $|V|$  – количество типов в словаре, $K, b$  –  параметры, обычно $K \\in [10,100], b \\in [0.4, 0.6]$"
   ]
  },
  {
   "cell_type": "code",
   "execution_count": 45,
   "metadata": {},
   "outputs": [
    {
     "data": {
      "image/png": "[encoded data removed]",
      "text/plain": [
       "<Figure size 720x288 with 1 Axes>"
      ]
     },
     "metadata": {},
     "output_type": "display_data"
    }
   ],
   "source": [
    "fig, ax = plt.subplots()\n",
    "ax.plot(n_tokens, n_types)\n",
    "plt.show()"
   ]
  },
  {
   "cell_type": "markdown",
   "metadata": {},
   "source": [
    "#### Ответы на вопросы\n",
    "- какое слово встречается чаще, \"сотрудник\" или \"клиент\"?   "
   ]
  },
  {
   "cell_type": "code",
   "execution_count": 46,
   "metadata": {},
   "outputs": [
    {
     "name": "stdout",
     "output_type": "stream",
     "text": [
      "Слово 'сотрудник' встречается чаще слова 'клиент'\n"
     ]
    }
   ],
   "source": [
    "def sort_values(word1, word2, cnt=lemmas_cnt):\n",
    "    try:\n",
    "        if cnt[word1]>cnt[word2]:\n",
    "            return [word1, word2]\n",
    "        else:\n",
    "            return [word2, word1]\n",
    "    except:\n",
    "        return ['-', '-']\n",
    "    \n",
    "print(\"Слово '{0}' встречается чаще слова '{1}'\".format(sort_values('сотрудник', 'клиент')[0], \n",
    "                                                        sort_values('сотрудник', 'клиент')[1]))"
   ]
  },
  {
   "cell_type": "markdown",
   "metadata": {},
   "source": [
    "- сколько раз встречается слова \"мошенничество\" и \"доверие\"?    "
   ]
  },
  {
   "cell_type": "code",
   "execution_count": 47,
   "metadata": {
    "scrolled": true
   },
   "outputs": [
    {
     "name": "stdout",
     "output_type": "stream",
     "text": [
      "Слово мошенничество встречается 116 раз\n",
      "Слово доверие встречается 85 раз\n"
     ]
    }
   ],
   "source": [
    "print(\"Слово {0} встречается {1} раз\".format('мошенничество', lemmas_cnt['мошенничество']))\n",
    "print(\"Слово {0} встречается {1} раз\".format('доверие', lemmas_cnt['доверие']))"
   ]
  },
  {
   "cell_type": "markdown",
   "metadata": {},
   "source": [
    "### Задача - поиск положительных отзывов"
   ]
  },
  {
   "cell_type": "markdown",
   "metadata": {},
   "source": [
    "- В поле \"rating_grade\" записана оценка отзыва по шкале от 1 до 5. Используйте меру  $𝑡𝑓−𝑖𝑑𝑓$ , для того, чтобы найти ключевые слова и биграмы для положительных отзывов (с оценкой 5) и отрицательных отзывов (с оценкой 1)"
   ]
  },
  {
   "cell_type": "code",
   "execution_count": 35,
   "metadata": {},
   "outputs": [],
   "source": [
    "# Поскольку тут придется работать с текстами различных объемов, \n",
    "# соберем сбалансированный датасет из отзывов различных рейтингов\n",
    "NUM_ROWS = 150\n",
    "\n",
    "dataset = data[(data.rating_grade==1)].sample(NUM_ROWS).copy()\n",
    "dataset = dataset.append(data[(data.rating_grade==2)].sample(NUM_ROWS))\n",
    "dataset = dataset.append(data[(data.rating_grade==3)].sample(NUM_ROWS))\n",
    "dataset = dataset.append(data[(data.rating_grade==4)].sample(NUM_ROWS))\n",
    "dataset = dataset.append(data[(data.rating_grade==5)].sample(NUM_ROWS))\n",
    "\n",
    "dataset['text'] = dataset.apply(lambda row: words_only(row['text']), axis=1)\n",
    "dataset['text'] = dataset.apply(lambda row: drop_stopwords(row['text']), axis=1)\n",
    "dataset['lemmas'] = dataset.apply(lambda row: lemmatize(row['text']), axis=1)\n",
    "dataset['nouns'] = dataset.apply(lambda row: nounizator(row['lemmas']), axis=1)"
   ]
  },
  {
   "cell_type": "code",
   "execution_count": 36,
   "metadata": {},
   "outputs": [
    {
     "name": "stdout",
     "output_type": "stream",
     "text": [
      "1.0\n",
      "2.0\n",
      "3.0\n",
      "4.0\n",
      "5.0\n"
     ]
    }
   ],
   "source": [
    "tokens_by_rating = []\n",
    "\n",
    "for rating_grade in dataset.rating_grade.unique():\n",
    "    if dataset['rating_grade'].value_counts()[rating_grade] > 100: \n",
    "        print(rating_grade)\n",
    "        tokens = []\n",
    "        sample = dataset[dataset['rating_grade']==rating_grade]\n",
    "        \n",
    "        for i in range(len(sample)):\n",
    "            tokens += sample.text.iloc[i].split()\n",
    "        tokens_by_rating.append(tokens)"
   ]
  },
  {
   "cell_type": "markdown",
   "metadata": {},
   "source": [
    "###### Определим по 20 ключевых слов для положительных и отрицательных отзывов"
   ]
  },
  {
   "cell_type": "code",
   "execution_count": 90,
   "metadata": {
    "scrolled": true
   },
   "outputs": [],
   "source": [
    "from sklearn.feature_extraction.text import TfidfVectorizer\n",
    "import numpy as np\n",
    "\n",
    "tfidf = TfidfVectorizer(analyzer='word', ngram_range=(1,1), min_df = 0)\n",
    "tfidf_matrix = tfidf.fit_transform([' '.join(tokens) for tokens in tokens_by_rating])\n",
    "feature_names = tfidf.get_feature_names() \n",
    "tfidf_positive_ranking = []\n",
    "tfidf_negative_ranking = []\n",
    "dense = tfidf_matrix.todense()\n",
    "\n",
    "text = dense[4].tolist()[0]\n",
    "phrase_scores = [pair for pair in zip(range(0, len(text)), text) if pair[1] > 0]\n",
    "sorted_phrase_scores = sorted(phrase_scores, key=lambda t: t[1] * -1)\n",
    "phrases = []\n",
    "for phrase, score in [(feature_names[word_id], score) for (word_id, score) in sorted_phrase_scores][:50]:\n",
    "    tfidf_positive_ranking.append(phrase)\n",
    "\n",
    "text = dense[0].tolist()[0]\n",
    "phrase_scores = [pair for pair in zip(range(0, len(text)), text) if pair[1] > 0]\n",
    "sorted_phrase_scores = sorted(phrase_scores, key=lambda t: t[1] * -1)\n",
    "phrases = []\n",
    "for phrase, score in [(feature_names[word_id], score) for (word_id, score) in sorted_phrase_scores][:50]:\n",
    "    tfidf_negative_ranking.append(phrase)"
   ]
  },
  {
   "cell_type": "markdown",
   "metadata": {},
   "source": [
    "Очевидно, что перед тем как определять ключевые слова для позитивных и негативных отзывов, необходимо исключить стоп слова из текстов.\n",
    "\n",
    "Но без определения таких стоп слов, можно использовать исключение негативных ключевых слов из позитивных и наоборот."
   ]
  },
  {
   "cell_type": "code",
   "execution_count": 51,
   "metadata": {},
   "outputs": [
    {
     "data": {
      "text/plain": [
       "['заявление',\n",
       " 'почему',\n",
       " 'ответ',\n",
       " 'сумму',\n",
       " 'рублей',\n",
       " 'вопрос',\n",
       " 'сказали',\n",
       " 'смс',\n",
       " 'могу',\n",
       " 'номер',\n",
       " 'руб',\n",
       " 'телефону',\n",
       " 'никто',\n",
       " 'который',\n",
       " 'моей',\n",
       " 'договора',\n",
       " 'счета',\n",
       " 'заявку',\n",
       " 'месяц',\n",
       " 'хотя']"
      ]
     },
     "execution_count": 51,
     "metadata": {},
     "output_type": "execute_result"
    }
   ],
   "source": [
    "# ключевые слова для негативных отзывов\n",
    "[i for i in tfidf_negative_ranking if not i in tfidf_positive_ranking]"
   ]
  },
  {
   "cell_type": "code",
   "execution_count": 53,
   "metadata": {
    "scrolled": true
   },
   "outputs": [
    {
     "data": {
      "text/plain": [
       "['спасибо',\n",
       " 'быстро',\n",
       " 'интернет',\n",
       " 'обслуживание',\n",
       " 'хочу',\n",
       " 'вс',\n",
       " 'вклад',\n",
       " 'банку',\n",
       " 'сразу',\n",
       " 'сотрудников',\n",
       " 'вопросы',\n",
       " 'приятно',\n",
       " 'клиентом',\n",
       " 'банков',\n",
       " 'дня',\n",
       " 'клиентов',\n",
       " 'всем',\n",
       " 'очереди',\n",
       " 'пока',\n",
       " 'удобно']"
      ]
     },
     "execution_count": 53,
     "metadata": {},
     "output_type": "execute_result"
    }
   ],
   "source": [
    "# ключевые слова для позитивных отзывов\n",
    "[i for i in tfidf_positive_ranking if not i in tfidf_negative_ranking]"
   ]
  },
  {
   "cell_type": "markdown",
   "metadata": {},
   "source": [
    "###### Определим 20 биграм для положительных и отрицательных отзывов"
   ]
  },
  {
   "cell_type": "code",
   "execution_count": 67,
   "metadata": {
    "scrolled": false
   },
   "outputs": [],
   "source": [
    "tfidf = TfidfVectorizer(analyzer='word', ngram_range=(2,2), min_df = 0)\n",
    "tfidf_matrix = tfidf.fit_transform([' '.join(tokens) for tokens in tokens_by_rating])\n",
    "feature_names = tfidf.get_feature_names() \n",
    "tfidf_positive_ranking = []\n",
    "tfidf_negative_ranking = []\n",
    "dense = tfidf_matrix.todense()\n",
    "\n",
    "text = dense[4].tolist()[0]\n",
    "phrase_scores = [pair for pair in zip(range(0, len(text)), text) if pair[1] > 0]\n",
    "sorted_phrase_scores = sorted(phrase_scores, key=lambda t: t[1] * -1)\n",
    "phrases = []\n",
    "for phrase, score in [(feature_names[word_id], score) for (word_id, score) in sorted_phrase_scores][:50]:\n",
    "    tfidf_positive_ranking.append(phrase)\n",
    "\n",
    "text = dense[0].tolist()[0]\n",
    "phrase_scores = [pair for pair in zip(range(0, len(text)), text) if pair[1] > 0]\n",
    "sorted_phrase_scores = sorted(phrase_scores, key=lambda t: t[1] * -1)\n",
    "phrases = []\n",
    "for phrase, score in [(feature_names[word_id], score) for (word_id, score) in sorted_phrase_scores][:50]:\n",
    "    tfidf_negative_ranking.append(phrase)"
   ]
  },
  {
   "cell_type": "code",
   "execution_count": 69,
   "metadata": {
    "scrolled": true
   },
   "outputs": [
    {
     "data": {
      "text/plain": [
       "['отделение банка',\n",
       " 'сих пор',\n",
       " 'следующий день',\n",
       " 'написать заявление',\n",
       " 'сотрудники сбербанка',\n",
       " 'тыс руб',\n",
       " 'добрый день',\n",
       " 'сотрудники банка',\n",
       " 'кредитный счет',\n",
       " 'вопрос почему',\n",
       " 'службу поддержки',\n",
       " 'биллинг адрес',\n",
       " 'недели назад',\n",
       " 'тыс рубл',\n",
       " 'денежных средств',\n",
       " 'интернет банк',\n",
       " 'кредитной карты',\n",
       " 'кредитную линию',\n",
       " 'досрочное погашение',\n",
       " 'таким образом']"
      ]
     },
     "execution_count": 69,
     "metadata": {},
     "output_type": "execute_result"
    }
   ],
   "source": [
    "tfidf_negative_ranking[0:20]"
   ]
  },
  {
   "cell_type": "code",
   "execution_count": 70,
   "metadata": {},
   "outputs": [
    {
     "data": {
      "text/plain": [
       "['следующий день',\n",
       " 'интернет банк',\n",
       " 'добрый день',\n",
       " 'хочу выразить',\n",
       " 'очень быстро',\n",
       " 'являюсь клиентом',\n",
       " 'других банках',\n",
       " 'клиентом банка',\n",
       " 'хочу поблагодарить',\n",
       " 'интернет банкинг',\n",
       " 'отдельное спасибо',\n",
       " 'очень приятно',\n",
       " 'день день',\n",
       " 'данного банка',\n",
       " 'альфа банк',\n",
       " 'другом банке',\n",
       " 'очень удобно',\n",
       " 'никаких проблем',\n",
       " 'сотрудник банка',\n",
       " 'исчерпывающие ответы']"
      ]
     },
     "execution_count": 70,
     "metadata": {},
     "output_type": "execute_result"
    }
   ],
   "source": [
    "tfidf_positive_ranking[0:20]"
   ]
  },
  {
   "cell_type": "markdown",
   "metadata": {},
   "source": [
    "## Часть 2. Тематическое моделирование [20/100]\n",
    "\n",
    "1. Постройте несколько тематических моделей коллекции документов с разным числом тем. Приведите примеры понятных (интерпретируемых) тем.\n",
    "2. Найдите темы, в которых упомянуты конкретные банки (Сбербанк, ВТБ, другой банк). Можете ли вы их прокомментировать / объяснить?\n",
    "\n",
    "Эта часть задания может быть сделана с использованием gensim. "
   ]
  },
  {
   "cell_type": "code",
   "execution_count": 102,
   "metadata": {},
   "outputs": [],
   "source": [
    "stoplemmas = ['банка', 'это', 'банк',  'карты',   'карту',  \n",
    "              'отделение',   'день',  'банке',  'года',  \n",
    "              'просто',  'очень',  'отделении',  'дней',  \n",
    "              'несколько',  'минут',  'отделения',  \n",
    "              'девушка',  'денег',  'банком',  'офис']\n",
    "\n",
    "def drop_stoplemmas(text, stoplemmas = stoplemmas):\n",
    "    try:\n",
    "        return \" \".join([token for token in text.split() if not token in stoplemmas])\n",
    "    except:\n",
    "        return \"\""
   ]
  },
  {
   "cell_type": "code",
   "execution_count": 103,
   "metadata": {},
   "outputs": [],
   "source": [
    "from gensim import corpora, models\n",
    "import gensim"
   ]
  },
  {
   "cell_type": "code",
   "execution_count": 109,
   "metadata": {},
   "outputs": [],
   "source": [
    "from gensim import corpora, models\n",
    "\n",
    "dictionary = corpora.Dictionary(dataset.nouns.apply(drop_stoplemmas).str.split())\n",
    "corpus = [dictionary.doc2bow(text) for text in dataset.nouns.apply(drop_stoplemmas).str.split()]"
   ]
  },
  {
   "cell_type": "code",
   "execution_count": 110,
   "metadata": {},
   "outputs": [
    {
     "name": "stdout",
     "output_type": "stream",
     "text": [
      "CPU times: user 16.7 s, sys: 142 ms, total: 16.8 s\n",
      "Wall time: 17 s\n"
     ]
    }
   ],
   "source": [
    "%time ldamodel = gensim.models.ldamodel.LdaModel(corpus, num_topics=5, id2word = dictionary, passes=20)"
   ]
  },
  {
   "cell_type": "code",
   "execution_count": 111,
   "metadata": {},
   "outputs": [
    {
     "data": {
      "text/plain": [
       "[(0,\n",
       "  '0.028*\"кредит\" + 0.018*\"сотрудник\" + 0.014*\"документ\" + 0.013*\"год\" + 0.012*\"клиент\"'),\n",
       " (1,\n",
       "  '0.026*\"клиент\" + 0.021*\"очередь\" + 0.018*\"сотрудник\" + 0.017*\"банкомат\" + 0.017*\"деньга\"'),\n",
       " (2,\n",
       "  '0.017*\"вклад\" + 0.017*\"клиент\" + 0.012*\"операционистка\" + 0.012*\"вопрос\" + 0.006*\"решение\"'),\n",
       " (3,\n",
       "  '0.087*\"карта\" + 0.021*\"деньга\" + 0.016*\"счёт\" + 0.013*\"заявление\" + 0.013*\"клиент\"'),\n",
       " (4,\n",
       "  '0.030*\"рубль\" + 0.029*\"кредит\" + 0.028*\"сумма\" + 0.025*\"год\" + 0.024*\"счёт\"')]"
      ]
     },
     "execution_count": 111,
     "metadata": {},
     "output_type": "execute_result"
    }
   ],
   "source": [
    "ldamodel.print_topics(num_topics=5, num_words=5)"
   ]
  },
  {
   "cell_type": "code",
   "execution_count": 112,
   "metadata": {
    "scrolled": false
   },
   "outputs": [
    {
     "data": {
      "text/html": [
       "\n",
       "<link rel=\"stylesheet\" type=\"text/css\" href=\"https://cdn.rawgit.com/bmabey/pyLDAvis/files/ldavis.v1.0.0.css\">\n",
       "\n",
       "\n",
       "<div id=\"ldavis_el594321126463548889948824140\"></div>\n",
       "<script type=\"text/javascript\">\n",
       "\n",
       "var ldavis_el594321126463548889948824140_data = {\"mdsDat\": {\"x\": [-0.08485138083636427, -0.029179849314577375, -0.08807227058285554, 0.010913376073181961, 0.1911901246606153], \"y\": [0.015079529054763893, -0.007969592050141572, -0.07506234189333925, 0.10292937067776604, -0.034976965789049165], \"topics\": [1, 2, 3, 4, 5], \"cluster\": [1, 1, 1, 1, 1], \"Freq\": [37.20698165893555, 22.83370590209961, 19.461843490600586, 18.296640396118164, 2.2008397579193115]}, \"tinfo\": {\"Category\": [\"Default\", \"Default\", \"Default\", \"Default\", \"Default\", \"Default\", \"Default\", \"Default\", \"Default\", \"Default\", \"Default\", \"Default\", \"Default\", \"Default\", \"Default\", \"Default\", \"Default\", \"Default\", \"Default\", \"Default\", \"Default\", \"Default\", \"Default\", \"Default\", \"Default\", \"Default\", \"Default\", \"Default\", \"Default\", \"Default\", \"Topic1\", \"Topic1\", \"Topic1\", \"Topic1\", \"Topic1\", \"Topic1\", \"Topic1\", \"Topic1\", \"Topic1\", \"Topic1\", \"Topic1\", \"Topic1\", \"Topic1\", \"Topic1\", \"Topic1\", \"Topic1\", \"Topic1\", \"Topic1\", \"Topic1\", \"Topic1\", \"Topic1\", \"Topic1\", \"Topic1\", \"Topic1\", \"Topic1\", \"Topic1\", \"Topic1\", \"Topic1\", \"Topic1\", \"Topic1\", \"Topic1\", \"Topic1\", \"Topic1\", \"Topic1\", \"Topic1\", \"Topic1\", \"Topic1\", \"Topic1\", \"Topic1\", \"Topic1\", \"Topic1\", \"Topic1\", \"Topic1\", \"Topic1\", \"Topic1\", \"Topic1\", \"Topic1\", \"Topic1\", \"Topic1\", \"Topic1\", \"Topic1\", \"Topic1\", \"Topic1\", \"Topic1\", \"Topic1\", \"Topic1\", \"Topic1\", \"Topic1\", \"Topic1\", \"Topic1\", \"Topic1\", \"Topic1\", \"Topic1\", \"Topic1\", \"Topic1\", \"Topic1\", \"Topic1\", \"Topic1\", \"Topic1\", \"Topic1\", \"Topic1\", \"Topic1\", \"Topic2\", \"Topic2\", \"Topic2\", \"Topic2\", \"Topic2\", \"Topic2\", \"Topic2\", \"Topic2\", \"Topic2\", \"Topic2\", \"Topic2\", \"Topic2\", \"Topic2\", \"Topic2\", \"Topic2\", \"Topic2\", \"Topic2\", \"Topic2\", \"Topic2\", \"Topic2\", \"Topic2\", \"Topic2\", \"Topic2\", \"Topic2\", \"Topic2\", \"Topic2\", \"Topic2\", \"Topic2\", \"Topic2\", \"Topic2\", \"Topic2\", \"Topic2\", \"Topic2\", \"Topic2\", \"Topic2\", \"Topic2\", \"Topic2\", \"Topic2\", \"Topic2\", \"Topic2\", \"Topic2\", \"Topic2\", \"Topic2\", \"Topic2\", \"Topic2\", \"Topic2\", \"Topic2\", \"Topic2\", \"Topic2\", \"Topic2\", \"Topic2\", \"Topic2\", \"Topic2\", \"Topic2\", \"Topic2\", \"Topic2\", \"Topic2\", \"Topic2\", \"Topic2\", \"Topic2\", \"Topic2\", \"Topic2\", \"Topic2\", \"Topic2\", \"Topic2\", \"Topic2\", \"Topic2\", \"Topic2\", \"Topic2\", \"Topic2\", \"Topic2\", \"Topic2\", \"Topic2\", \"Topic2\", \"Topic2\", \"Topic2\", \"Topic2\", \"Topic2\", \"Topic3\", \"Topic3\", \"Topic3\", \"Topic3\", \"Topic3\", \"Topic3\", \"Topic3\", \"Topic3\", \"Topic3\", \"Topic3\", \"Topic3\", \"Topic3\", \"Topic3\", \"Topic3\", \"Topic3\", \"Topic3\", \"Topic3\", \"Topic3\", \"Topic3\", \"Topic3\", \"Topic3\", \"Topic3\", \"Topic3\", \"Topic3\", \"Topic3\", \"Topic3\", \"Topic3\", \"Topic3\", \"Topic3\", \"Topic3\", \"Topic3\", \"Topic3\", \"Topic3\", \"Topic3\", \"Topic3\", \"Topic3\", \"Topic3\", \"Topic3\", \"Topic3\", \"Topic3\", \"Topic3\", \"Topic3\", \"Topic3\", \"Topic3\", \"Topic3\", \"Topic3\", \"Topic3\", \"Topic3\", \"Topic3\", \"Topic3\", \"Topic3\", \"Topic3\", \"Topic3\", \"Topic3\", \"Topic3\", \"Topic3\", \"Topic3\", \"Topic3\", \"Topic3\", \"Topic3\", \"Topic3\", \"Topic3\", \"Topic3\", \"Topic3\", \"Topic3\", \"Topic3\", \"Topic3\", \"Topic3\", \"Topic3\", \"Topic3\", \"Topic3\", \"Topic3\", \"Topic3\", \"Topic3\", \"Topic3\", \"Topic3\", \"Topic3\", \"Topic4\", \"Topic4\", \"Topic4\", \"Topic4\", \"Topic4\", \"Topic4\", \"Topic4\", \"Topic4\", \"Topic4\", \"Topic4\", \"Topic4\", \"Topic4\", \"Topic4\", \"Topic4\", \"Topic4\", \"Topic4\", \"Topic4\", \"Topic4\", \"Topic4\", \"Topic4\", \"Topic4\", \"Topic4\", \"Topic4\", \"Topic4\", \"Topic4\", \"Topic4\", \"Topic4\", \"Topic4\", \"Topic4\", \"Topic4\", \"Topic4\", \"Topic4\", \"Topic4\", \"Topic4\", \"Topic4\", \"Topic4\", \"Topic4\", \"Topic4\", \"Topic4\", \"Topic4\", \"Topic4\", \"Topic4\", \"Topic4\", \"Topic4\", \"Topic4\", \"Topic4\", \"Topic4\", \"Topic4\", \"Topic4\", \"Topic4\", \"Topic4\", \"Topic4\", \"Topic4\", \"Topic4\", \"Topic4\", \"Topic4\", \"Topic4\", \"Topic4\", \"Topic4\", \"Topic4\", \"Topic4\", \"Topic4\", \"Topic4\", \"Topic4\", \"Topic4\", \"Topic4\", \"Topic4\", \"Topic4\", \"Topic4\", \"Topic4\", \"Topic4\", \"Topic4\", \"Topic4\", \"Topic5\", \"Topic5\", \"Topic5\", \"Topic5\", \"Topic5\", \"Topic5\", \"Topic5\", \"Topic5\", \"Topic5\", \"Topic5\", \"Topic5\", \"Topic5\", \"Topic5\", \"Topic5\", \"Topic5\", \"Topic5\", \"Topic5\", \"Topic5\", \"Topic5\", \"Topic5\", \"Topic5\", \"Topic5\", \"Topic5\", \"Topic5\", \"Topic5\", \"Topic5\", \"Topic5\", \"Topic5\", \"Topic5\", \"Topic5\", \"Topic5\", \"Topic5\", \"Topic5\", \"Topic5\", \"Topic5\", \"Topic5\", \"Topic5\", \"Topic5\", \"Topic5\", \"Topic5\", \"Topic5\", \"Topic5\", \"Topic5\", \"Topic5\", \"Topic5\", \"Topic5\", \"Topic5\", \"Topic5\", \"Topic5\", \"Topic5\", \"Topic5\", \"Topic5\", \"Topic5\", \"Topic5\", \"Topic5\", \"Topic5\", \"Topic5\", \"Topic5\", \"Topic5\", \"Topic5\", \"Topic5\", \"Topic5\", \"Topic5\", \"Topic5\", \"Topic5\", \"Topic5\", \"Topic5\", \"Topic5\", \"Topic5\"], \"Freq\": [1777.0, 479.0, 695.0, 464.0, 715.0, 467.0, 323.0, 512.0, 184.0, 401.0, 139.0, 654.0, 756.0, 244.0, 146.0, 47.0, 297.0, 129.0, 314.0, 118.0, 297.0, 106.0, 430.0, 347.0, 308.0, 652.0, 78.0, 102.0, 227.0, 160.0, 52.2402458190918, 44.4990119934082, 32.856544494628906, 17.551952362060547, 13.675191879272461, 11.766274452209473, 12.54837417602539, 99.16683959960938, 11.516693115234375, 16.770681381225586, 7.889601707458496, 7.8784942626953125, 19.337297439575195, 29.78000831604004, 13.09375286102295, 6.943672180175781, 1620.353759765625, 6.93107795715332, 6.916604518890381, 6.907000541687012, 14.747478485107422, 12.131404876708984, 6.876811981201172, 6.867040157318115, 9.426162719726562, 5.969684600830078, 5.9362030029296875, 7.647484302520752, 21.25361442565918, 5.899440765380859, 24.838882446289062, 34.565956115722656, 21.55775260925293, 39.91868591308594, 30.720787048339844, 195.83425903320312, 15.442832946777344, 11.557591438293457, 247.2805938720703, 119.4886474609375, 390.9279479980469, 90.09410095214844, 209.4715576171875, 36.195701599121094, 104.62466430664062, 296.16754150390625, 137.74612426757812, 54.82343673706055, 85.90296173095703, 114.9156723022461, 96.7490463256836, 169.385498046875, 148.68212890625, 80.75639343261719, 95.88621520996094, 201.0067596435547, 144.48162841796875, 67.13677978515625, 235.5521240234375, 175.84451293945312, 129.6527557373047, 153.66905212402344, 227.50457763671875, 202.995361328125, 106.64836883544922, 112.24146270751953, 151.27725219726562, 114.81156921386719, 132.0946502685547, 93.49787902832031, 96.93653869628906, 94.9729995727539, 10.28594970703125, 10.285764694213867, 9.357245445251465, 8.441269874572754, 22.88661766052246, 7.518109321594238, 12.529009819030762, 7.427061080932617, 6.6119914054870605, 6.6115498542785645, 6.606569290161133, 6.606313228607178, 6.552238941192627, 5.669073581695557, 7.29003381729126, 4.775270938873291, 4.774439334869385, 4.773876667022705, 4.772485256195068, 4.769093990325928, 4.759194850921631, 10.235222816467285, 9.371871948242188, 3.8557140827178955, 3.8532514572143555, 3.853687286376953, 3.8534774780273438, 3.8523967266082764, 3.8429105281829834, 3.838006019592285, 14.403558731079102, 6.597910404205322, 21.033971786499023, 4.587533473968506, 17.361326217651367, 10.261223793029785, 13.567930221557617, 31.147418975830078, 10.778233528137207, 138.30319213867188, 55.13140106201172, 60.58494186401367, 36.8303337097168, 161.74081420898438, 14.382591247558594, 320.1657409667969, 98.12177276611328, 73.25840759277344, 77.69938659667969, 52.63320541381836, 123.3032455444336, 205.2548065185547, 113.41886138916016, 119.55358123779297, 124.53195190429688, 93.58649444580078, 118.30196380615234, 53.34369659423828, 65.50484466552734, 121.63943481445312, 128.12176513671875, 36.440185546875, 151.26551818847656, 55.20287322998047, 143.21229553222656, 92.03600311279297, 45.90258026123047, 58.96770477294922, 61.1368408203125, 113.70863342285156, 61.49151611328125, 62.95585250854492, 66.09930419921875, 61.5300407409668, 61.95109176635742, 62.47211837768555, 59.79878234863281, 59.18705368041992, 9.385674476623535, 8.468657493591309, 6.603592395782471, 6.568026542663574, 6.550029277801514, 5.689877033233643, 5.670765399932861, 5.62985372543335, 5.626919746398926, 122.55943298339844, 4.78656530380249, 4.758609771728516, 8.457564353942871, 4.721046447753906, 4.682381629943848, 3.8634839057922363, 3.8626201152801514, 3.8542187213897705, 44.51097869873047, 6.071974277496338, 25.4141902923584, 2.944572925567627, 2.9445419311523438, 2.943556785583496, 2.9425389766693115, 2.942342519760132, 2.941856861114502, 2.9418952465057373, 2.940807342529297, 2.940493583679199, 97.21446228027344, 6.4951605796813965, 294.83856201171875, 7.759048938751221, 9.746264457702637, 4.782502174377441, 5.702137470245361, 42.28034591674805, 272.5534362792969, 21.217391967773438, 45.979793548583984, 59.579708099365234, 148.6844024658203, 109.59597778320312, 279.27337646484375, 235.38807678222656, 53.41203689575195, 34.82619094848633, 32.18775177001953, 247.3297576904297, 27.165098190307617, 113.78308868408203, 54.67420196533203, 33.487422943115234, 77.91282653808594, 137.1286163330078, 95.94510650634766, 23.97075843811035, 26.54092788696289, 47.742130279541016, 115.06767272949219, 73.08059692382812, 42.72051239013672, 87.49980163574219, 147.82223510742188, 68.53678131103516, 58.337650299072266, 48.750282287597656, 74.62828063964844, 53.04546356201172, 53.3293342590332, 96.08442687988281, 72.81512451171875, 62.26013946533203, 57.12520980834961, 49.84241485595703, 49.96644973754883, 20.63298225402832, 13.236088752746582, 9.492899894714355, 8.571907997131348, 9.335213661193848, 34.86433029174805, 6.712717056274414, 6.7136054039001465, 6.688961982727051, 7.522579669952393, 6.663360595703125, 39.84479522705078, 5.72853946685791, 4.854113578796387, 4.835999488830566, 4.830568313598633, 4.728343486785889, 3.921520709991455, 3.919170379638672, 3.917515754699707, 7.699337482452393, 3.9015886783599854, 3.8822176456451416, 3.871824026107788, 6.690445899963379, 55.179256439208984, 4.533506870269775, 2.9871249198913574, 2.986495018005371, 2.986499547958374, 141.67556762695312, 11.155024528503418, 12.498570442199707, 13.131024360656738, 16.0436954498291, 189.90184020996094, 14.559070587158203, 40.70193099975586, 19.135061264038086, 12.308064460754395, 13.815320014953613, 114.9804916381836, 18.115100860595703, 157.59622192382812, 236.49134826660156, 119.33428955078125, 146.71951293945312, 50.62539291381836, 110.48944854736328, 20.529970169067383, 167.92393493652344, 130.10110473632812, 43.767215728759766, 46.4048957824707, 89.26580047607422, 157.15377807617188, 112.92428588867188, 31.85514259338379, 124.35447692871094, 22.930585861206055, 38.5472297668457, 56.23101806640625, 60.36360168457031, 38.03687286376953, 30.409427642822266, 49.989654541015625, 58.0960807800293, 52.471431732177734, 66.47087860107422, 63.23137283325195, 44.30739974975586, 43.00536346435547, 38.980995178222656, 3.053891181945801, 2.467398166656494, 2.4646823406219482, 1.8764381408691406, 1.8753985166549683, 1.8662148714065552, 1.2922667264938354, 1.2922266721725464, 1.2918701171875, 1.2917966842651367, 1.2918057441711426, 1.2913525104522705, 1.2909572124481201, 1.2908928394317627, 1.29025399684906, 1.2899248600006104, 1.2901204824447632, 1.2896621227264404, 1.2890722751617432, 1.2893011569976807, 1.2886306047439575, 1.2880070209503174, 1.2834173440933228, 1.2815097570419312, 2.467785120010376, 1.8798344135284424, 1.849913477897644, 0.7052170634269714, 0.7052054405212402, 0.7050999402999878, 3.5006868839263916, 4.119119167327881, 1.2942513227462769, 13.810331344604492, 4.974637508392334, 3.5806961059570312, 18.608543395996094, 3.9089317321777344, 5.094715595245361, 18.312788009643555, 2.2784790992736816, 1.8476295471191406, 4.2810587882995605, 2.7509844303131104, 13.084001541137695, 2.2836925983428955, 4.145702362060547, 3.9216973781585693, 6.911855697631836, 2.346118688583374, 1.8717715740203857, 3.05661678314209, 4.949254989624023, 5.2091193199157715, 5.0156402587890625, 4.3932342529296875, 5.353402137756348, 4.857694149017334, 4.694983005523682, 6.352376461029053, 4.349880695343018, 4.633537769317627, 4.828922748565674, 4.792840480804443, 4.739587783813477, 4.03277063369751, 3.6244704723358154, 3.7116711139678955, 3.528675079345703], \"Term\": [\"\\u043a\\u0430\\u0440\\u0442\\u0430\", \"\\u0432\\u043a\\u043b\\u0430\\u0434\", \"\\u043a\\u043b\\u0438\\u0435\\u043d\\u0442\", \"\\u0440\\u0443\\u0431\\u043b\\u044c\", \"\\u043a\\u0440\\u0435\\u0434\\u0438\\u0442\", \"\\u0441\\u0443\\u043c\\u043c\\u0430\", \"\\u043e\\u0447\\u0435\\u0440\\u0435\\u0434\\u044c\", \"\\u0432\\u043e\\u043f\\u0440\\u043e\\u0441\", \"\\u043a\\u0430\\u0441\\u0441\\u0430\", \"\\u0431\\u0430\\u043d\\u043a\\u043e\\u043c\\u0430\\u0442\", \"\\u0437\\u0430\\u0434\\u043e\\u043b\\u0436\\u0435\\u043d\\u043d\\u043e\\u0441\\u0442\\u044c\", \"\\u0441\\u0447\\u0451\\u0442\", \"\\u0433\\u043e\\u0434\", \"\\u0447\\u0435\\u043b\\u043e\\u0432\\u0435\\u043a\", \"\\u0440\\u0435\\u0448\\u0435\\u043d\\u0438\\u0435\", \"\\u043e\\u043f\\u0435\\u0440\\u0430\\u0446\\u0438\\u043e\\u043d\\u0438\\u0441\\u0442\\u043a\\u0430\", \"\\u043f\\u043b\\u0430\\u0442\\u0451\\u0436\", \"\\u0442\\u044b\\u0441\\u044f\\u0447\\u0430\", \"\\u0434\\u043e\\u043a\\u0443\\u043c\\u0435\\u043d\\u0442\", \"\\u043e\\u043f\\u0435\\u0440\\u0430\\u0446\\u0438\\u043e\\u043d\\u0438\\u0441\\u0442\", \"\\u043c\\u0438\\u043d\\u0443\\u0442\\u0430\", \"\\u043b\\u0438\\u0446\\u043e\", \"\\u0437\\u0430\\u044f\\u0432\\u043b\\u0435\\u043d\\u0438\\u0435\", \"\\u0440\\u0430\\u0431\\u043e\\u0442\\u0430\", \"\\u0434\\u043e\\u0433\\u043e\\u0432\\u043e\\u0440\", \"\\u0441\\u043e\\u0442\\u0440\\u0443\\u0434\\u043d\\u0438\\u043a\", \"\\u0432\\u044b\\u043f\\u0438\\u0441\\u043a\\u0430\", \"\\u0440\\u0430\\u0431\\u043e\\u0447\\u0438\\u0439\", \"\\u043f\\u0440\\u043e\\u0446\\u0435\\u043d\\u0442\", \"\\u043e\\u0442\\u0437\\u044b\\u0432\", \"\\u0432\\u044b\\u043f\\u0443\\u0441\\u043a\", \"\\u043f\\u0435\\u0440\\u0435\\u0432\\u044b\\u043f\\u0443\\u0441\\u043a\", \"\\u043f\\u0438\\u043d\", \"\\u0434\\u043e\\u0441\\u0442\\u0430\\u0432\\u043a\\u0430\", \"\\u043a\\u043e\\u043d\\u0432\\u0435\\u0440\\u0442\", \"\\u043a\\u0435\\u0448\\u0431\\u0435\\u043a\", \"\\u043d\\u043e\\u0432\\u043e\\u0441\\u0442\\u044c\", \"\\u043b\\u0438\\u043c\\u0438\\u0442\", \"\\u0447\\u0438\\u043f\", \"\\u0430\\u0432\\u0430\\u043d\\u0433\\u0430\\u0440\\u0434\", \"\\u0430\\u0432\\u0442\\u043e\\u0440\\u0438\\u0437\\u0430\\u0446\\u0438\\u044f\", \"\\u0437\\u0430\\u0445\\u0432\\u0430\\u0442\", \"\\u0431\\u043b\\u043e\\u043a\\u0438\\u0440\\u043e\\u0432\\u043a\\u0430\", \"\\u0431\\u0430\\u043b\\u0430\\u043d\\u0441\", \"\\u043c\\u0430\\u0441\\u0442\\u0435\\u0440\\u043a\\u0430\\u0440\\u0434\", \"\\u0430\\u044d\\u0440\\u043e\\u0444\\u043b\\u043e\\u0442\", \"\\u043a\\u0430\\u0440\\u0442\\u0430\", \"\\u0438\\u0437\\u0433\\u043e\\u0442\\u043e\\u0432\\u043b\\u0435\\u043d\\u0438\\u0435\", \"\\u0440\\u0435\\u0437\\u044e\\u043c\\u0435\", \"\\u0433\\u0440\\u0435\\u0439\\u0441\", \"\\u0434\\u0435\\u0440\\u0436\\u0430\\u0442\\u0435\\u043b\\u044c\", \"\\u0434\\u043e\\u0432\\u0435\\u0440\\u0435\\u043d\\u043d\\u043e\\u0441\\u0442\\u044c\", \"\\u0447\\u0435\\u0442\\u0432\\u0451\\u0440\\u043a\\u0430\", \"\\u043e\\u043d\\u043b\\u0430\\u0439\\u043d\\u0435\", \"\\u0442\\u0435\\u0445\\u043f\\u043e\\u0434\\u0434\\u0435\\u0440\\u0436\\u043a\\u0430\", \"\\u043b\\u043e\\u0442\\u0435\\u0440\\u0435\\u044f\", \"\\u043c\\u043e\\u0448\\u0435\\u043d\\u043d\\u0438\\u043a\", \"\\u043f\\u0438\\u043d\\u043a\\u043e\\u0434\", \"\\u043a\\u043e\\u043d\\u0432\\u0435\\u0440\\u0442\\u0430\\u0446\\u0438\\u044f\", \"\\u043e\\u043f\\u0440\\u043e\\u0442\\u0435\\u0441\\u0442\\u043e\\u0432\\u0430\\u043d\\u0438\\u0435\", \"\\u0442\\u0440\\u0430\\u043d\\u0437\\u0430\\u043a\\u0446\\u0438\\u044f\", \"\\u0435\\u0432\\u0440\\u043e\", \"\\u043f\\u0430\\u0440\\u043e\\u043b\\u044c\", \"\\u043a\\u043e\\u0434\", \"\\u0438\\u0441\\u043f\\u043e\\u043b\\u044c\\u0437\\u043e\\u0432\\u0430\\u043d\\u0438\\u0435\", \"\\u0438\\u043d\\u0442\\u0435\\u0440\\u043d\\u0435\\u0442\", \"\\u043c\\u0442\\u0441\", \"\\u0430\\u043a\\u0442\\u0438\\u0432\\u0430\\u0446\\u0438\\u044f\", \"\\u0437\\u0430\\u044f\\u0432\\u043b\\u0435\\u043d\\u0438\\u0435\", \"\\u0441\\u043c\\u0441\", \"\\u0434\\u0435\\u043d\\u044c\\u0433\\u0430\", \"\\u0441\\u043b\\u0443\\u0436\\u0431\\u0430\", \"\\u0431\\u0430\\u043d\\u043a\\u043e\\u043c\\u0430\\u0442\", \"\\u0432\\u0430\\u043b\\u044e\\u0442\\u0430\", \"\\u0446\\u0435\\u043d\\u0442\\u0440\", \"\\u0441\\u0447\\u0451\\u0442\", \"\\u043d\\u043e\\u043c\\u0435\\u0440\", \"\\u0441\\u043d\\u044f\\u0442\\u0438\\u0435\", \"\\u043c\\u043e\\u0441\\u043a\\u0432\\u0430\", \"\\u043e\\u043f\\u0435\\u0440\\u0430\\u0446\\u0438\\u044f\", \"\\u043a\\u043e\\u043c\\u0438\\u0441\\u0441\\u0438\\u044f\", \"\\u043f\\u0440\\u043e\\u0431\\u043b\\u0435\\u043c\\u0430\", \"\\u0442\\u0435\\u043b\\u0435\\u0444\\u043e\\u043d\", \"\\u043e\\u043f\\u0435\\u0440\\u0430\\u0442\\u043e\\u0440\", \"\\u043d\\u0435\\u0434\\u0435\\u043b\\u044f\", \"\\u0432\\u043e\\u043f\\u0440\\u043e\\u0441\", \"\\u043e\\u0431\\u0441\\u043b\\u0443\\u0436\\u0438\\u0432\\u0430\\u043d\\u0438\\u0435\", \"\\u0441\\u043b\\u043e\\u0432\\u043e\", \"\\u043a\\u043b\\u0438\\u0435\\u043d\\u0442\", \"\\u0432\\u043a\\u043b\\u0430\\u0434\", \"\\u043c\\u0435\\u0441\\u044f\\u0446\", \"\\u043c\\u043e\\u0447\\u044c\", \"\\u0433\\u043e\\u0434\", \"\\u0441\\u043e\\u0442\\u0440\\u0443\\u0434\\u043d\\u0438\\u043a\", \"\\u0441\\u0440\\u043e\\u043a\", \"\\u0441\\u0430\\u0439\\u0442\", \"\\u0432\\u0440\\u0435\\u043c\\u044f\", \"\\u043e\\u0442\\u0432\\u0435\\u0442\", \"\\u0440\\u0443\\u0431\\u043b\\u044c\", \"\\u0443\\u0441\\u043b\\u0443\\u0433\\u0430\", \"\\u0440\\u0430\\u0431\\u043e\\u0442\\u0430\", \"\\u0441\\u0443\\u043c\\u043c\\u0430\", \"\\u0433\\u0435\\u0440\\u043c\\u0430\\u043d\", \"\\u043e\\u0441\\u043a\\u0430\\u0440\", \"\\u0430\\u043d\\u0433\\u0435\\u043b\\u0438\\u043d\\u0430\", \"\\u0448\\u0432\\u0430\\u0440\\u0446\", \"\\u0430\\u043d\\u043d\\u0430\", \"\\u043e\\u0442\\u043f\\u0440\\u0430\\u0432\\u0438\\u0442\\u0435\\u043b\\u044c\", \"\\u0430\\u0432\\u0442\\u043e\", \"\\u043e\\u0444\\u0435\\u0440\\u0442\\u0430\", \"\\u043b\\u044e\\u0434\\u043c\\u0438\\u043b\\u0430\", \"\\u0444\\u043d\\u0441\", \"\\u043d\\u043e\\u0443\\u0442\\u0431\\u0443\\u043a\", \"\\u0432\\u0438\\u043a\\u0442\\u043e\\u0440\\u0438\\u044f\", \"\\u0440\\u043e\\u0441\\u043f\\u043e\\u0442\\u0440\\u0435\\u0431\\u043d\\u0430\\u0434\\u0437\\u043e\\u0440\", \"\\u0441\\u0435\\u0442\\u0435\\u043b\\u044c\", \"\\u043f\\u0430\\u0432\\u0435\\u043b\", \"\\u0442\\u043e\\u043b\\u044c\\u044f\\u0442\\u0442\\u0438\", \"\\u0443\\u043d\\u0438\\u0444\\u0438\\u043d\\u0430\", \"\\u043d\\u0438\\u043a\\u0438\\u0442\\u0430\", \"\\u0438\\u043d\\u0432\\u0430\\u043b\\u0438\\u0434\", \"\\u043f\\u0440\\u043e\\u043a\\u0443\\u0440\\u0430\\u0442\\u0443\\u0440\\u0430\", \"\\u0431\\u0430\\u0431\\u0443\\u0448\\u043a\\u0430\", \"\\u043e\\u0431\\u044f\\u0437\\u0430\\u043d\\u043d\\u043e\\u0441\\u0442\\u044c\", \"\\u043e\\u0440\\u0438\\u0433\\u0438\\u043d\\u0430\\u043b\", \"\\u043a\\u0440\\u044e\\u043a\\u043e\\u0432\\u043e\", \"\\u043b\\u043e\\u043a\\u043e\", \"\\u043f\\u043e\\u0440\\u0442\\u0430\\u043b\", \"\\u0433\\u0443\\u043b\\u044c\\u043d\\u0430\\u0440\\u0430\", \"\\u043e\\u0431\\u0438\\u0434\\u0430\", \"\\u0434\\u0438\\u0440\\u0435\\u043a\\u0442\", \"\\u0432\\u043e\\u0437\\u0440\\u0430\\u0441\\u0442\", \"\\u0430\\u0432\\u0442\\u043e\\u0441\\u0430\\u043b\\u043e\\u043d\", \"\\u0432\\u0437\\u044b\\u0441\\u043a\\u0430\\u043d\\u0438\\u0435\", \"\\u043a\\u043e\\u043d\\u0442\\u0430\\u043a\\u0442\", \"\\u044e\\u043b\\u044f\", \"\\u043a\\u0438\\u0432\\u0438\", \"\\u043f\\u0440\\u0435\\u043c\\u0438\\u044f\", \"\\u0438\\u0440\\u0438\\u043d\\u0430\", \"\\u0437\\u0430\\u043f\\u0440\\u043e\\u0441\", \"\\u043d\\u0430\\u0442\\u0430\\u043b\\u044c\\u044f\", \"\\u0437\\u0430\\u044f\\u0432\\u043a\\u0430\", \"\\u0430\\u043b\\u044c\\u0444\\u0430\", \"\\u043f\\u0438\\u0441\\u044c\\u043c\\u043e\", \"\\u043a\\u043e\\u043c\\u043f\\u0430\\u043d\\u0438\\u044f\", \"\\u0434\\u043e\\u043a\\u0443\\u043c\\u0435\\u043d\\u0442\", \"\\u0430\\u043b\\u0435\\u043a\\u0441\\u0430\\u043d\\u0434\\u0440\", \"\\u043a\\u0440\\u0435\\u0434\\u0438\\u0442\", \"\\u0437\\u0432\\u043e\\u043d\\u043e\\u043a\", \"\\u0440\\u0435\\u0448\\u0435\\u043d\\u0438\\u0435\", \"\\u043c\\u0435\\u043d\\u0435\\u0434\\u0436\\u0435\\u0440\", \"\\u0430\\u0434\\u043c\\u0438\\u043d\\u0438\\u0441\\u0442\\u0440\\u0430\\u0442\\u043e\\u0440\", \"\\u0442\\u0435\\u043b\\u0435\\u0444\\u043e\\u043d\", \"\\u0441\\u043e\\u0442\\u0440\\u0443\\u0434\\u043d\\u0438\\u043a\", \"\\u0434\\u043e\\u0433\\u043e\\u0432\\u043e\\u0440\", \"\\u043e\\u0442\\u0432\\u0435\\u0442\", \"\\u043f\\u0440\\u043e\\u0431\\u043b\\u0435\\u043c\\u0430\", \"\\u043d\\u043e\\u043c\\u0435\\u0440\", \"\\u043c\\u043e\\u0447\\u044c\", \"\\u0434\\u0435\\u043b\\u043e\", \"\\u0446\\u0435\\u043d\\u0442\\u0440\", \"\\u0432\\u0440\\u0435\\u043c\\u044f\", \"\\u0432\\u043e\\u043f\\u0440\\u043e\\u0441\", \"\\u043f\\u0430\\u0441\\u043f\\u043e\\u0440\\u0442\", \"\\u0433\\u043e\\u0434\", \"\\u0442\\u0435\\u0447\\u0435\\u043d\\u0438\\u0435\", \"\\u043a\\u043b\\u0438\\u0435\\u043d\\u0442\", \"\\u0440\\u0430\\u0431\\u043e\\u0442\\u0430\", \"\\u0447\\u0430\\u0441\", \"\\u0432\\u0441\", \"\\u0441\\u0438\\u0442\\u0443\\u0430\\u0446\\u0438\\u044f\", \"\\u0434\\u0435\\u043d\\u044c\\u0433\\u0430\", \"\\u0438\\u043d\\u0444\\u043e\\u0440\\u043c\\u0430\\u0446\\u0438\\u044f\", \"\\u0447\\u0435\\u043b\\u043e\\u0432\\u0435\\u043a\", \"\\u043c\\u0438\\u043d\\u0443\\u0442\\u0430\", \"\\u0441\\u0430\\u0439\\u0442\", \"\\u043e\\u0447\\u0435\\u0440\\u0435\\u0434\\u044c\", \"\\u0437\\u0430\\u044f\\u0432\\u043b\\u0435\\u043d\\u0438\\u0435\", \"\\u043e\\u0431\\u0441\\u043b\\u0443\\u0436\\u0438\\u0432\\u0430\\u043d\\u0438\\u0435\", \"\\u0441\\u0447\\u0451\\u0442\", \"\\u0438\\u043d\\u0434\\u0435\\u043a\\u0441\", \"\\u0438\\u0437\\u0432\\u0435\\u0449\\u0435\\u043d\\u0438\\u0435\", \"\\u0440\\u0430\\u0437\\u044a\\u044f\\u0441\\u043d\\u0435\\u043d\\u0438\\u0435\", \"\\u0440\\u043e\\u0441\\u0442\\u043e\\u0432\", \"\\u0432\\u043e\\u0440\\u043e\\u043d\\u0435\\u0436\", \"\\u043f\\u0440\\u043e\\u0445\\u043e\\u0434\", \"\\u0440\\u0430\\u0441\\u0441\\u0440\\u043e\\u0447\\u043a\\u0430\", \"\\u0434\\u043e\\u043d\", \"\\u0441\\u0435\\u043a\\u0442\\u043e\\u0440\", \"\\u0437\\u0430\\u0434\\u043e\\u043b\\u0436\\u0435\\u043d\\u043d\\u043e\\u0441\\u0442\\u044c\", \"\\u0432\\u0435\\u043a\\u0441\\u0435\\u043b\\u044c\", \"\\u043c\\u0430\\u044d\\u0441\\u0442\\u0440\\u043e\", \"\\u0443\\u0440\\u0430\\u043b\\u0441\\u0438\\u0431\", \"\\u043e\\u0431\\u043c\\u0430\\u043d\", \"\\u0437\\u0430\\u0449\\u0438\\u0442\\u0430\", \"\\u0440\\u0443\\u0431\\u043b\\u0435\\u0432\\u043e\", \"\\u0432\\u043e\\u0440\\u043a\\u0443\\u0442\\u0430\", \"\\u0432\\u043e\\u0440\\u043e\\u0442\\u0430\", \"\\u0438\\u043f\\u043e\\u0442\\u0435\\u043a\\u0430\", \"\\u0440\\u0443\\u0441\\u0441\\u043b\\u0430\\u0432\\u0431\\u0430\\u043d\\u043a\", \"\\u0448\\u0442\\u0440\\u0430\\u0444\", \"\\u0443\\u043f\\u0440\\u0430\\u0432\\u0430\", \"\\u043c\\u0430\\u0442\\u0435\\u043c\\u0430\\u0442\\u0438\\u043a\\u0430\", \"\\u043c\\u0430\\u0433\\u043d\\u0438\\u0442\", \"\\u043d\\u043e\\u0433\\u0438\\u043d\\u0441\\u043a\", \"\\u0437\\u0430\\u0433\\u043e\\u043b\\u043e\\u0432\\u043e\\u043a\", \"\\u0432\\u0430\\u0440\\u0448\\u0430\\u0432\\u043a\\u0430\", \"\\u0430\\u0432\\u0442\\u043e\\u043e\\u0442\\u0432\\u0435\\u0442\\u0447\\u0438\\u043a\", \"\\u0442\\u0440\\u0430\\u043d\\u0448\", \"\\u043d\\u0443\\u043b\\u044c\", \"\\u0442\\u044b\\u0441\\u044f\\u0447\\u0430\", \"\\u0431\\u044e\\u0434\\u0436\\u0435\\u0442\", \"\\u0440\\u0443\\u0431\\u043b\\u044c\", \"\\u0433\\u0430\\u0437\\u043f\\u0440\\u043e\\u043c\\u0431\\u0430\\u043d\\u043a\", \"\\u043e\\u0442\\u0447\\u0451\\u0442\", \"\\u0437\\u0430\\u043f\\u0430\\u0434\", \"\\u043a\\u0431\", \"\\u043f\\u0440\\u043e\\u0441\\u0440\\u043e\\u0447\\u043a\\u0430\", \"\\u0441\\u0443\\u043c\\u043c\\u0430\", \"\\u0432\\u044b\\u043f\\u043b\\u0430\\u0442\\u0430\", \"\\u0434\\u043e\\u043b\\u0433\", \"\\u043f\\u043e\\u0433\\u0430\\u0448\\u0435\\u043d\\u0438\\u0435\", \"\\u043f\\u043b\\u0430\\u0442\\u0451\\u0436\", \"\\u043f\\u0440\\u043e\\u0446\\u0435\\u043d\\u0442\", \"\\u043a\\u0440\\u0435\\u0434\\u0438\\u0442\", \"\\u0441\\u0447\\u0451\\u0442\", \"\\u0441\\u0442\\u0440\\u0430\\u0445\\u043e\\u0432\\u043a\\u0430\", \"\\u0441\\u0442\\u0440\\u0430\\u0445\\u043e\\u0432\\u0430\\u043d\\u0438\\u0435\", \"\\u0433\\u0440\\u0430\\u0444\\u0438\\u043a\", \"\\u0433\\u043e\\u0434\", \"\\u0438\\u044e\\u043b\\u044c\", \"\\u0434\\u043e\\u0433\\u043e\\u0432\\u043e\\u0440\", \"\\u0441\\u043f\\u0440\\u0430\\u0432\\u043a\\u0430\", \"\\u043c\\u0430\\u0440\\u0442\", \"\\u0441\\u0440\\u0435\\u0434\\u0441\\u0442\\u0432\\u043e\", \"\\u0432\\u043a\\u043b\\u0430\\u0434\", \"\\u043c\\u0435\\u0441\\u044f\\u0446\", \"\\u0440\\u0430\\u0437\\u043c\\u0435\\u0440\", \"\\u0434\\u043e\\u043b\\u043b\\u0430\\u0440\", \"\\u043e\\u043f\\u0435\\u0440\\u0430\\u0446\\u0438\\u043e\\u043d\\u0438\\u0441\\u0442\", \"\\u0437\\u0430\\u044f\\u0432\\u043b\\u0435\\u043d\\u0438\\u0435\", \"\\u0441\\u0431\\u0435\\u0440\\u0431\\u0430\\u043d\\u043a\", \"\\u0441\\u0442\\u0430\\u0432\\u043a\\u0430\", \"\\u0434\\u043e\\u043a\\u0443\\u043c\\u0435\\u043d\\u0442\", \"\\u0434\\u0435\\u043d\\u044c\\u0433\\u0430\", \"\\u0441\\u0440\\u043e\\u043a\", \"\\u043a\\u043e\\u043c\\u0438\\u0441\\u0441\\u0438\\u044f\", \"\\u043f\\u0440\\u0435\\u0442\\u0435\\u043d\\u0437\\u0438\\u044f\", \"\\u043c\\u043e\\u0447\\u044c\", \"\\u043d\\u0435\\u0434\\u0435\\u043b\\u044f\", \"\\u0441\\u043c\\u0441\", \"\\u043a\\u0430\\u0440\\u0442\\u0430\", \"\\u0441\\u043e\\u0442\\u0440\\u0443\\u0434\\u043d\\u0438\\u043a\", \"\\u043a\\u043b\\u0438\\u0435\\u043d\\u0442\", \"\\u0432\\u043e\\u043f\\u0440\\u043e\\u0441\", \"\\u0435\", \"\\u0443\\u0441\\u043b\\u0443\\u0433\\u0430\", \"\\u0442\\u0430\\u043b\\u043e\\u043d\", \"\\u043f\\u0435\\u0440\\u0435\\u0440\\u044b\\u0432\", \"\\u044e\\u043d\\u0438\\u043a\\u0440\\u0435\\u0434\\u0438\\u0442\", \"\\u0431\\u0438\\u043b\\u043b\\u0438\\u043d\\u0433\\u0430\", \"\\u0434\\u043c\\u0438\\u0442\\u0440\\u0438\\u0439\", \"\\u043e\\u043a\\u043d\\u043e\", \"\\u044f\\u0447\\u0435\\u0439\\u043a\\u0430\", \"\\u0434\\u0435\\u043b\\u044c\\u0442\\u0430\\u043a\\u0440\\u0435\\u0434\\u0438\\u0442\", \"\\u0432\\u044b\\u0432\\u0435\\u0441\\u043a\\u0430\", \"\\u0434\\u043e\\u043f\\u043e\\u0444\\u0438\\u0441\", \"\\u043e\\u0440\\u0434\\u0435\\u0440\", \"\\u0437\\u0430\\u043b\", \"\\u0436\\u0435\\u0442\\u043e\\u043d\", \"\\u0434\\u0436\\u0438\\u044f\", \"\\u043f\\u0435\\u0440\\u0435\\u0440\\u0430\\u0441\\u0447\", \"\\u043a\\u0441\\u0435\\u0440\\u043e\\u043a\\u0441\", \"\\u043e\\u0445\\u0440\\u0430\\u043d\\u0430\", \"\\u0430\\u043b\\u0444\\u0430\\u0432\\u0438\\u0442\", \"\\u043d\\u0430\\u0442\\u0430\\u043b\\u0438\\u044f\", \"\\u043e\\u0440\\u0435\\u043d\\u0431\\u0443\\u0440\\u0433\", \"\\u0441\\u0442\\u0443\\u043b\", \"\\u0431\\u0443\\u0445\\u0433\\u0430\\u043b\\u0442\\u0435\\u0440\", \"\\u043c\\u0430\\u0440\\u0438\\u043d\", \"\\u0440\\u0430\\u0441\\u0448\\u0438\\u0444\\u0440\\u043e\\u0432\\u043a\\u0430\", \"\\u0437\\u0430\\u0442\\u0440\\u0430\\u0442\\u0430\", \"\\u043a\\u0430\\u0441\\u0441\\u0438\\u0440\", \"\\u043c\\u0435\\u0431\\u0435\\u043b\\u044c\", \"\\u0437\\u0430\\u0442\\u043e\\u0440\", \"\\u0430\\u043b\\u0430\", \"\\u043d\\u043e\\u043c\\u0435\\u0440\\u043e\\u043a\", \"\\u043a\\u0430\\u0441\\u0441\\u0430\", \"\\u0438\\u043f\", \"\\u043e\\u043a\\u043e\\u0448\\u043a\\u043e\", \"\\u043f\\u043e\\u0441\\u0435\\u0442\\u0438\\u0442\\u0435\\u043b\\u044c\", \"\\u043f\\u0440\\u043e\\u0444\\u0435\\u0441\\u0441\\u0438\\u043e\\u043d\\u0430\\u043b\\u0438\\u0437\\u043c\", \"\\u043e\\u0447\\u0435\\u0440\\u0435\\u0434\\u044c\", \"\\u043e\\u043b\\u044c\\u0433\\u0430\", \"\\u043a\\u0432\\u0430\\u0440\\u0442\\u0438\\u0440\\u0430\", \"\\u043f\\u043e\\u043c\\u0435\\u0449\\u0435\\u043d\\u0438\\u0435\", \"\\u044d\\u0442\\u0430\\u0436\", \"\\u043f\\u0440\\u043e\\u0434\\u0430\\u0432\\u0435\\u0446\", \"\\u0447\\u0435\\u043b\\u043e\\u0432\\u0435\\u043a\", \"\\u0432\\u0445\\u043e\\u0434\", \"\\u0431\\u0430\\u043d\\u043a\\u043e\\u043c\\u0430\\u0442\", \"\\u043a\\u043b\\u0438\\u0435\\u043d\\u0442\", \"\\u043c\\u0438\\u043d\\u0443\\u0442\\u0430\", \"\\u0432\\u0440\\u0435\\u043c\\u044f\", \"\\u043e\\u043f\\u0435\\u0440\\u0430\\u0446\\u0438\\u043e\\u043d\\u0438\\u0441\\u0442\", \"\\u0440\\u0430\\u0431\\u043e\\u0442\\u0430\", \"\\u0434\\u0432\\u0435\\u0440\\u044c\", \"\\u0441\\u043e\\u0442\\u0440\\u0443\\u0434\\u043d\\u0438\\u043a\", \"\\u0432\\u043a\\u043b\\u0430\\u0434\", \"\\u043b\\u0438\\u0446\\u043e\", \"\\u043a\\u0430\\u0440\\u0442\\u043e\\u0447\\u043a\\u0430\", \"\\u043e\\u0431\\u0441\\u043b\\u0443\\u0436\\u0438\\u0432\\u0430\\u043d\\u0438\\u0435\", \"\\u0434\\u0435\\u043d\\u044c\\u0433\\u0430\", \"\\u0432\\u043e\\u043f\\u0440\\u043e\\u0441\", \"\\u043e\\u0436\\u0438\\u0434\\u0430\\u043d\\u0438\\u0435\", \"\\u0433\\u043e\\u0434\", \"\\u043a\\u0443\\u043f\\u044e\\u0440\\u0430\", \"\\u0430\\u0434\\u0440\\u0435\\u0441\", \"\\u0443\\u0441\\u043b\\u0443\\u0433\\u0430\", \"\\u043f\\u043b\\u0430\\u0442\\u0451\\u0436\", \"\\u043c\\u0435\\u0442\\u0440\", \"\\u0444\\u0438\\u043b\\u0438\\u0430\\u043b\", \"\\u0441\\u0430\\u0439\\u0442\", \"\\u043c\\u043e\\u0447\\u044c\", \"\\u043e\\u0442\\u0432\\u0435\\u0442\", \"\\u043a\\u0440\\u0435\\u0434\\u0438\\u0442\", \"\\u0441\\u0447\\u0451\\u0442\", \"\\u043e\\u043f\\u0435\\u0440\\u0430\\u0446\\u0438\\u044f\", \"\\u0441\\u0443\\u043c\\u043c\\u0430\", \"\\u043a\\u0430\\u0440\\u0442\\u0430\", \"\\u0431\\u0440\\u0430\\u0442\", \"\\u0437\\u0430\\u0441\\u0442\\u0440\\u043e\\u0439\\u0449\\u0438\\u043a\", \"\\u0438\\u0441\\u043a\", \"\\u044e\\u0431\\u043a\\u0430\", \"\\u0444\\u0438\\u0437\\u043b\\u0438\\u0446\\u043e\", \"\\u0430\\u0440\\u0433\\u0443\\u043c\\u0435\\u043d\\u0442\", \"\\u0449\\u0451\\u043b\\u043a\", \"\\u043d\\u043e\\u0432\\u0448\\u0435\\u0441\\u0442\\u0432\\u043e\", \"\\u043f\\u0435\\u0440\\u0432\\u043e\\u0441\\u0442\\u0440\\u043e\\u0438\\u0442\\u0435\\u043b\\u044c\", \"\\u0441\\u043b\\u043e\\u0431\\u043e\\u0434\\u0430\", \"\\u0430\\u0433\\u0440\\u0435\\u0441\\u0441\\u0438\\u044f\", \"\\u043c\\u0430\\u043a\\u0443\\u043b\\u0430\\u0442\\u0443\\u0440\\u0430\", \"\\u0441\\u0441\\u0443\\u0434\\u0430\", \"\\u0437\\u0430\\u043d\\u044f\\u0442\\u043e\\u0441\\u0442\\u044c\", \"\\u043a\\u0430\\u0440\\u0442\\u0441\\u0447\\u0451\\u0442\", \"\\u043d\\u0430\\u043f\\u0430\\u0440\\u043d\\u0438\\u0446\\u0430\", \"\\u0432\\u0438\\u0437\\u0435\", \"\\u043c\\u0430\\u043d\\u0435\\u0440\", \"\\u043a\\u0440\\u043e\\u043b\\u0438\\u043a\", \"\\u043d\\u0430\\u043f\\u0440\\u0430\\u0432\\u043b\\u0435\\u043d\\u043d\\u043e\\u0441\\u0442\\u044c\", \"\\u0431\\u043b\\u0443\\u0437\\u0430\", \"\\u043d\\u0435\\u0442\\u0435\\u0440\\u043f\\u0435\\u043d\\u0438\\u0435\", \"\\u0442\\u043e\\u0431\\u043e\\u043b\\u044c\\u0441\\u043a\", \"\\u043d\\u0435\\u043f\\u043e\\u043d\\u0438\\u043c\\u0430\\u043d\\u0438\\u0435\", \"\\u043d\\u043e\\u0432\\u043e\\u0441\\u0442\\u0440\\u043e\\u0439\\u043a\\u0430\", \"\\u043a\\u0440\\u0430\\u0441\\u043d\\u043e\\u044f\\u0440\\u0441\\u043a\", \"\\u0447\\u0435\\u0441\\u0442\\u044c\", \"\\u0441\\u0442\\u0438\\u043c\\u0443\\u043b\", \"\\u0440\\u0430\\u0434\\u0443\\u0448\\u0438\\u0435\", \"\\u0441\\u043e\\u043a\\u0440\\u0430\\u0449\", \"\\u043f\\u043e\\u0440\\u0443\\u0447\\u0438\\u0442\\u0435\\u043b\\u044c\", \"\\u043d\\u0435\\u0443\\u0441\\u0442\\u043e\\u0439\\u043a\\u0430\", \"\\u043b\\u0451\\u0433\\u043a\\u043e\\u0435\", \"\\u043e\\u043f\\u0435\\u0440\\u0430\\u0446\\u0438\\u043e\\u043d\\u0438\\u0441\\u0442\\u043a\\u0430\", \"\\u0441\\u0430\\u043b\\u043e\\u043d\", \"\\u0442\\u0435\\u043b\\u0435\\u0431\\u0430\\u043d\\u043a\\u0430\", \"\\u0432\\u043a\\u043b\\u0430\\u0434\", \"\\u0437\\u0430\\u043a\\u0430\\u0437\", \"\\u0434\\u0435\\u0432\\u043e\\u0447\\u043a\\u0430\", \"\\u043a\\u043b\\u0438\\u0435\\u043d\\u0442\", \"\\u043e\\u0431\\u044a\\u044f\\u0432\\u043b\\u0435\\u043d\\u0438\\u0435\", \"\\u0432\\u043e\\u0437\\u0440\\u043e\\u0436\\u0434\\u0435\\u043d\\u0438\\u0435\", \"\\u0432\\u0438\\u0437\\u0430\", \"\\u0447\\u0443\\u0432\\u0441\\u0442\\u0432\\u043e\", \"\\u0432\\u043e\\u043f\\u0440\\u043e\\u0441\", \"\\u043f\\u043e\\u0442\\u043e\\u043a\", \"\\u0441\\u0443\\u0434\", \"\\u0433\\u043e\\u043b\\u043e\\u0441\", \"\\u0440\\u0435\\u0448\\u0435\\u043d\\u0438\\u0435\", \"\\u043f\\u0440\\u0438\\u0445\\u043e\\u0434\", \"\\u0436\\u0435\\u043b\\u0430\\u044e\\u0449\\u0438\\u0439\", \"\\u043a\\u0440\\u0438\\u0437\\u0438\\u0441\", \"\\u0444\\u0438\\u043b\\u0438\\u0430\\u043b\", \"\\u043b\\u0438\\u0446\\u043e\", \"\\u0440\\u0430\\u0431\\u043e\\u0447\\u0438\\u0439\", \"\\u0432\\u044b\\u043f\\u0438\\u0441\\u043a\\u0430\", \"\\u043e\\u0442\\u0437\\u044b\\u0432\", \"\\u043e\\u043f\\u0435\\u0440\\u0430\\u0446\\u0438\\u043e\\u043d\\u0438\\u0441\\u0442\", \"\\u043e\\u0442\\u043d\\u043e\\u0448\\u0435\\u043d\\u0438\\u0435\", \"\\u0433\\u043e\\u0434\", \"\\u0435\", \"\\u0447\\u0435\\u043b\\u043e\\u0432\\u0435\\u043a\", \"\\u043e\\u0447\\u0435\\u0440\\u0435\\u0434\\u044c\", \"\\u043e\\u0442\\u0432\\u0435\\u0442\", \"\\u0440\\u0430\\u0431\\u043e\\u0442\\u0430\", \"\\u043c\\u0435\\u043d\\u0435\\u0434\\u0436\\u0435\\u0440\", \"\\u0441\\u0432\\u044f\\u0437\\u044c\", \"\\u0441\\u043e\\u0442\\u0440\\u0443\\u0434\\u043d\\u0438\\u043a\", \"\\u043c\\u0438\\u043d\\u0443\\u0442\\u0430\"], \"Total\": [1777.0, 479.0, 695.0, 464.0, 715.0, 467.0, 323.0, 512.0, 184.0, 401.0, 139.0, 654.0, 756.0, 244.0, 146.0, 47.0, 297.0, 129.0, 314.0, 118.0, 297.0, 106.0, 430.0, 347.0, 308.0, 652.0, 78.0, 102.0, 227.0, 160.0, 52.95470428466797, 45.238956451416016, 33.659141540527344, 18.228919982910156, 14.36771011352539, 12.440289497375488, 13.395894050598145, 106.45812225341797, 12.429930686950684, 18.197669982910156, 8.580145835876465, 8.57944107055664, 21.068740844726562, 32.59082794189453, 14.349172592163086, 7.616491794586182, 1777.6640625, 7.614928722381592, 7.610286235809326, 7.605647087097168, 16.25765609741211, 13.383655548095703, 7.610193252563477, 7.612654209136963, 10.495134353637695, 6.651200294494629, 6.648743629455566, 8.567787170410156, 23.945003509521484, 6.6474785804748535, 28.686676025390625, 40.19683837890625, 24.855247497558594, 48.77152633666992, 37.239078521728516, 275.4367980957031, 18.126935958862305, 13.349926948547363, 430.6493225097656, 195.95315551757812, 809.7576904296875, 147.66213989257812, 401.15594482421875, 51.401973724365234, 183.27833557128906, 654.1348876953125, 261.0467529296875, 85.28933715820312, 151.41419982910156, 220.89718627929688, 179.4204864501953, 375.4608154296875, 323.0509338378906, 144.7926025390625, 184.55960083007812, 512.2620239257812, 327.3664245605469, 118.41925048828125, 695.8286743164062, 479.93585205078125, 309.1822509765625, 407.4608154296875, 756.8067016601562, 652.700927734375, 236.8505859375, 261.47039794921875, 470.03619384765625, 332.634521484375, 464.8330383300781, 231.9919891357422, 347.4651794433594, 467.46923828125, 10.969634056091309, 10.969635963439941, 10.050783157348633, 9.131948471069336, 24.766971588134766, 8.21164321899414, 13.743200302124023, 8.17613697052002, 7.294617176055908, 7.294393062591553, 7.293971538543701, 7.29376745223999, 7.28390645980835, 6.3734941482543945, 8.216483116149902, 5.457311630249023, 5.457363605499268, 5.457265853881836, 5.456808567047119, 5.456020832061768, 5.456010818481445, 11.932086944580078, 10.971532821655273, 4.538576126098633, 4.537249565124512, 4.538043022155762, 4.538359642028809, 4.538000106811523, 4.536360740661621, 4.536696910858154, 17.4158935546875, 7.88329553604126, 26.799375534057617, 5.44779109954834, 22.18787956237793, 12.834909439086914, 17.344425201416016, 42.647491455078125, 13.789559364318848, 251.801025390625, 88.52222442626953, 100.2414321899414, 56.769920349121094, 314.46331787109375, 19.38263511657715, 715.053466796875, 193.39950561523438, 146.89344787597656, 168.7978515625, 104.45825958251953, 323.0509338378906, 652.700927734375, 308.37646484375, 332.634521484375, 375.4608154296875, 261.0467529296875, 407.4608154296875, 131.8349151611328, 183.27833557128906, 470.03619384765625, 512.2620239257812, 78.34807586669922, 756.8067016601562, 153.1367645263672, 695.8286743164062, 347.4651794433594, 116.2520751953125, 189.05514526367188, 212.98931884765625, 809.7576904296875, 216.8130340576172, 244.57688903808594, 297.2667236328125, 261.47039794921875, 323.6818542480469, 430.6493225097656, 327.3664245605469, 654.1348876953125, 10.072272300720215, 9.151535034179688, 7.307975769042969, 7.307694435119629, 7.30811882019043, 6.38712739944458, 6.386856555938721, 6.3870015144348145, 6.3872151374816895, 139.97840881347656, 5.468145847320557, 5.4667134284973145, 9.737632751464844, 5.461782455444336, 5.4675822257995605, 4.546934127807617, 4.5469136238098145, 4.5455708503723145, 53.16423797607422, 7.321946620941162, 31.27713966369629, 3.626349449157715, 3.626315116882324, 3.6261322498321533, 3.6260013580322266, 3.62595272064209, 3.6260135173797607, 3.626117706298828, 3.6254384517669678, 3.625969171524048, 129.9571990966797, 8.27184009552002, 464.8330383300781, 10.070700645446777, 12.836732864379883, 6.057412624359131, 7.304581165313721, 62.72484588623047, 467.46923828125, 30.468788146972656, 72.90508270263672, 97.54251098632812, 297.34619140625, 227.37428283691406, 715.053466796875, 654.1348876953125, 107.19747924804688, 64.13872528076172, 59.1049690246582, 756.8067016601562, 48.527618408203125, 308.37646484375, 121.19157409667969, 66.30482482910156, 209.11610412597656, 479.93585205078125, 309.1822509765625, 44.813785552978516, 51.778629302978516, 118.9232406616211, 430.6493225097656, 230.24818420410156, 104.95301818847656, 314.46331787109375, 809.7576904296875, 236.8505859375, 179.4204864501953, 140.1273956298828, 407.4608154296875, 184.55960083007812, 195.95315551757812, 1777.6640625, 652.700927734375, 695.8286743164062, 512.2620239257812, 171.591796875, 231.9919891357422, 21.409271240234375, 13.939793586730957, 10.20252513885498, 9.269683837890625, 10.182941436767578, 38.27002716064453, 7.399969577789307, 7.401311874389648, 7.400883674621582, 8.33212661743164, 7.401288986206055, 44.54322814941406, 6.466916084289551, 5.533951282501221, 5.532827854156494, 5.533778667449951, 5.531320571899414, 4.600091934204102, 4.5996527671813965, 4.599786758422852, 9.074260711669922, 4.598721504211426, 4.599545001983643, 4.597607135772705, 7.991947650909424, 67.08167266845703, 5.529348373413086, 3.6660311222076416, 3.6658196449279785, 3.666015148162842, 184.2873992919922, 13.984914779663086, 15.801944732666016, 16.741409301757812, 21.483793258666992, 323.6818542480469, 19.643648147583008, 63.6377067565918, 27.401248931884766, 16.69240951538086, 19.319589614868164, 244.57688903808594, 27.155174255371094, 401.15594482421875, 695.8286743164062, 297.2667236328125, 470.03619384765625, 118.9232406616211, 347.4651794433594, 34.64509963989258, 652.700927734375, 479.93585205078125, 106.69306945800781, 120.79547119140625, 327.3664245605469, 809.7576904296875, 512.2620239257812, 71.34674835205078, 756.8067016601562, 44.529117584228516, 112.95905303955078, 231.9919891357422, 297.34619140625, 127.03485870361328, 82.14055633544922, 261.47039794921875, 407.4608154296875, 332.634521484375, 715.053466796875, 654.1348876953125, 220.89718627929688, 467.46923828125, 1777.6640625, 3.805513620376587, 3.217078924179077, 3.2177884578704834, 2.6305317878723145, 2.630192756652832, 2.637277603149414, 2.04121470451355, 2.04123854637146, 2.0412814617156982, 2.041266918182373, 2.041322708129883, 2.0417323112487793, 2.0414669513702393, 2.0419082641601562, 2.042233467102051, 2.041858196258545, 2.0423178672790527, 2.042426109313965, 2.042325019836426, 2.042840003967285, 2.0425798892974854, 2.0420236587524414, 2.0432705879211426, 2.0443294048309326, 4.145563125610352, 3.545332908630371, 3.577543258666992, 1.452930212020874, 1.4529366493225098, 1.4529821872711182, 9.064544677734375, 11.49067497253418, 2.956784725189209, 47.98981475830078, 15.820772171020508, 10.150285720825195, 479.93585205078125, 21.09177017211914, 40.32731246948242, 695.8286743164062, 7.044249057769775, 4.524784564971924, 30.601486206054688, 12.295625686645508, 512.2620239257812, 8.033851623535156, 34.55012512207031, 30.857812881469727, 146.89344787597656, 9.738100051879883, 5.389570236206055, 20.867416381835938, 82.14055633544922, 106.69306945800781, 102.71714782714844, 78.02803802490234, 160.10186767578125, 118.9232406616211, 114.97208404541016, 756.8067016601562, 171.591796875, 244.57688903808594, 323.6818542480469, 332.634521484375, 347.4651794433594, 168.7978515625, 97.45099639892578, 652.700927734375, 297.2667236328125], \"loglift\": [30.0, 29.0, 28.0, 27.0, 26.0, 25.0, 24.0, 23.0, 22.0, 21.0, 20.0, 19.0, 18.0, 17.0, 16.0, 15.0, 14.0, 13.0, 12.0, 11.0, 10.0, 9.0, 8.0, 7.0, 6.0, 5.0, 4.0, 3.0, 2.0, 1.0, 0.9750999808311462, 0.9721999764442444, 0.9645000100135803, 0.9508000016212463, 0.939300000667572, 0.9330000281333923, 0.92330002784729, 0.9176999926567078, 0.9124000072479248, 0.9070000052452087, 0.9047999978065491, 0.9034000039100647, 0.902899980545044, 0.8985000252723694, 0.8970999717712402, 0.8962000012397766, 0.8960000276565552, 0.894599974155426, 0.8931000232696533, 0.892300009727478, 0.8912000060081482, 0.8903999924659729, 0.8873000144958496, 0.8855999708175659, 0.8812999725341797, 0.8805999755859375, 0.8752999901771545, 0.875, 0.8694000244140625, 0.8693000078201294, 0.8446999788284302, 0.8378000259399414, 0.8463000059127808, 0.7883999943733215, 0.7962999939918518, 0.647599995136261, 0.8284000158309937, 0.8445000052452087, 0.43389999866485596, 0.49399998784065247, 0.2605000138282776, 0.49459999799728394, 0.33889999985694885, 0.6378999948501587, 0.42800000309944153, 0.19629999995231628, 0.34940001368522644, 0.5467000007629395, 0.4219000041484833, 0.3352000117301941, 0.3711000084877014, 0.19269999861717224, 0.2126999944448471, 0.4047999978065491, 0.33390000462532043, 0.053199999034404755, 0.17069999873638153, 0.4212000072002411, -0.09449999779462814, -0.015399999916553497, 0.11959999799728394, 0.013500000350177288, -0.21330000460147858, -0.179299995303154, 0.1907999962568283, 0.14300000667572021, -0.14499999582767487, -0.07509999722242355, -0.2694999873638153, 0.07989999651908875, -0.28790000081062317, -0.6050999760627747, 1.412600040435791, 1.412600040435791, 1.405400037765503, 1.398300051689148, 1.3980000019073486, 1.388700008392334, 1.3844000101089478, 1.3808000087738037, 1.3787000179290771, 1.378600001335144, 1.3779000043869019, 1.3779000043869019, 1.3710999488830566, 1.3597999811172485, 1.357300043106079, 1.343400001525879, 1.3431999683380127, 1.3430999517440796, 1.342900037765503, 1.3423999547958374, 1.3402999639511108, 1.3235000371932983, 1.3193000555038452, 1.3138999938964844, 1.3135000467300415, 1.3135000467300415, 1.3133000135421753, 1.313099980354309, 1.3109999895095825, 1.3097000122070312, 1.2869999408721924, 1.2989000082015991, 1.2346999645233154, 1.3050999641418457, 1.231600046157837, 1.253100037574768, 1.2314000129699707, 1.1627000570297241, 1.2304999828338623, 0.8776999711990356, 1.0033999681472778, 0.9733999967575073, 1.0441999435424805, 0.8120999932289124, 1.1785999536514282, 0.6733999848365784, 0.7983999848365784, 0.7811999917030334, 0.7010999917984009, 0.7914999723434448, 0.5138000249862671, 0.32010000944137573, 0.4767000079154968, 0.4537000060081482, 0.3732999861240387, 0.4510999917984009, 0.2401999980211258, 0.5720999836921692, 0.4481000006198883, 0.12520000338554382, 0.09109999984502792, 0.7113999724388123, -0.1331000030040741, 0.45660001039505005, -0.10379999876022339, 0.14839999377727509, 0.5476999878883362, 0.31189998984336853, 0.2287999987602234, -0.4862000048160553, 0.2168000042438507, 0.11980000138282776, -0.026499999687075615, 0.03009999915957451, -0.17649999260902405, -0.4535999894142151, -0.2231999933719635, -0.9257000088691711, 1.566100001335144, 1.5592000484466553, 1.5354000329971313, 1.5299999713897705, 1.5271999835968018, 1.5211000442504883, 1.517799973487854, 1.5104999542236328, 1.5099999904632568, 1.5038000345230103, 1.503600001335144, 1.4980000257492065, 1.4958000183105469, 1.4910000562667847, 1.4816999435424805, 1.4737999439239502, 1.4736000299453735, 1.4716999530792236, 1.4591000080108643, 1.4494999647140503, 1.4291000366210938, 1.4285000562667847, 1.4285000562667847, 1.4282000064849854, 1.427899956703186, 1.4278000593185425, 1.4276000261306763, 1.4276000261306763, 1.42739999294281, 1.4271999597549438, 1.3464000225067139, 1.3948999643325806, 1.18149995803833, 1.3759000301361084, 1.361299991607666, 1.4004000425338745, 1.3890999555587769, 1.242300033569336, 1.0972000360488892, 1.2747999429702759, 1.1757999658584595, 1.1437000036239624, 0.9435999989509583, 0.9068999886512756, 0.6965000033378601, 0.6146000027656555, 0.9401000142097473, 1.0260000228881836, 1.0290000438690186, 0.5182999968528748, 1.05649995803833, 0.6396999955177307, 0.8406999707221985, 0.9535999894142151, 0.649399995803833, 0.3840000033378601, 0.4666000008583069, 1.0110000371932983, 0.9684000015258789, 0.7240999937057495, 0.31690001487731934, 0.48910000920295715, 0.7379000186920166, 0.35749998688697815, -0.06400000303983688, 0.396699994802475, 0.5131999850273132, 0.5809000134468079, -0.06069999933242798, 0.38989999890327454, 0.3352999985218048, -1.2811000347137451, -0.5565000176429749, -0.7771000266075134, -0.5569000244140625, 0.40049999952316284, 0.10140000283718109, 1.6614999771118164, 1.6467000246047974, 1.6263999938964844, 1.6202000379562378, 1.6115000247955322, 1.6052000522613525, 1.6009999513626099, 1.6009000539779663, 1.5973000526428223, 1.5961999893188477, 1.593400001525879, 1.5870000123977661, 1.5772000551223755, 1.5673999786376953, 1.5637999773025513, 1.5625, 1.541599988937378, 1.5389000177383423, 1.5384000539779663, 1.5378999710083008, 1.53410005569458, 1.53410005569458, 1.5289000272750854, 1.5266000032424927, 1.5206999778747559, 1.503100037574768, 1.499899983406067, 1.4937000274658203, 1.493499994277954, 1.493399977684021, 1.4355000257492065, 1.4723999500274658, 1.4638999700546265, 1.4555000066757202, 1.406499981880188, 1.1651999950408936, 1.398900032043457, 1.2515000104904175, 1.339400053024292, 1.3938000202178955, 1.3631000518798828, 0.9437000155448914, 1.2935999631881714, 0.7641000151634216, 0.6193000078201294, 0.7857999801635742, 0.5342000126838684, 0.8443999886512756, 0.5526999831199646, 1.1751999855041504, 0.3407999873161316, 0.39309999346733093, 0.8073999881744385, 0.7418000102043152, 0.39899998903274536, 0.05889999866485596, 0.18629999458789825, 0.8920999765396118, -0.10750000178813934, 1.0348000526428223, 0.6233000159263611, 0.28119999170303345, 0.1039000004529953, 0.4925000071525574, 0.704800009727478, 0.04390000179409981, -0.24940000474452972, -0.14830000698566437, -0.6771000027656555, -0.6381000280380249, 0.09189999848604202, -0.6876000165939331, -2.121500015258789, 3.596299886703491, 3.5510001182556152, 3.5497000217437744, 3.4784998893737793, 3.478100061416626, 3.4704999923706055, 3.3592000007629395, 3.359100103378296, 3.358799934387207, 3.358799934387207, 3.358799934387207, 3.3582000732421875, 3.3580000400543213, 3.357800006866455, 3.357100009918213, 3.357100009918213, 3.3570001125335693, 3.356600046157837, 3.3561999797821045, 3.356100082397461, 3.3557000160217285, 3.3554999828338623, 3.351300001144409, 3.349299907684326, 3.297600030899048, 3.1819000244140625, 3.1568000316619873, 3.0934998989105225, 3.0934998989105225, 3.0933001041412354, 2.8649001121520996, 2.7904000282287598, 2.9902000427246094, 2.5708000659942627, 2.65939998626709, 2.774399995803833, 0.5662999749183655, 2.13070011138916, 1.747499942779541, 0.17880000174045563, 2.6875998973846436, 2.9207000732421875, 1.8494999408721924, 2.319000005722046, 0.14890000224113464, 2.558500051498413, 1.6959999799728394, 1.753499984741211, 0.7598999738693237, 2.3929998874664307, 2.7588000297546387, 1.8954999446868896, 1.007099986076355, 0.7968000173568726, 0.7968999743461609, 0.939300000667572, 0.41830000281333923, 0.618399977684021, 0.6180999875068665, -0.9639000296592712, 0.14139999449253082, -0.14990000426769257, -0.3887999951839447, -0.4235999882221222, -0.47839999198913574, 0.08209999650716782, 0.5246999859809875, -1.3532999753952026, -0.6173999905586243], \"logprob\": [30.0, 29.0, 28.0, 27.0, 26.0, 25.0, 24.0, 23.0, 22.0, 21.0, 20.0, 19.0, 18.0, 17.0, 16.0, 15.0, 14.0, 13.0, 12.0, 11.0, 10.0, 9.0, 8.0, 7.0, 6.0, 5.0, 4.0, 3.0, 2.0, 1.0, -5.87939977645874, -6.039700031280518, -6.343100070953369, -6.970099925994873, -7.219600200653076, -7.369999885559082, -7.305600166320801, -5.238399982452393, -7.39139986038208, -7.015600204467773, -7.769700050354004, -7.771100044250488, -6.873199939727783, -6.441400051116943, -7.2631001472473145, -7.89739990234375, -2.4447999000549316, -7.899199962615967, -7.901299953460693, -7.902699947357178, -7.144100189208984, -7.339399814605713, -7.907100200653076, -7.9085001945495605, -7.591700077056885, -8.048500061035156, -8.054100036621094, -7.80079984664917, -6.77869987487793, -8.060400009155273, -6.622799873352051, -6.292300224304199, -6.764500141143799, -6.148399829864502, -6.410299777984619, -4.5578999519348145, -7.098100185394287, -7.387899875640869, -4.324699878692627, -5.052000045776367, -3.8666999340057373, -5.334400177001953, -4.490600109100342, -6.246300220489502, -5.184800148010254, -4.1442999839782715, -4.909800052642822, -5.831099987030029, -5.381999969482422, -5.091000080108643, -5.2631001472473145, -4.703000068664551, -4.833399772644043, -5.44379997253418, -5.27209997177124, -4.531899929046631, -4.862100124359131, -5.628499984741211, -4.373300075531006, -4.665599822998047, -4.970399856567383, -4.8003997802734375, -4.4079999923706055, -4.521999835968018, -5.1656999588012695, -5.11460018157959, -4.816100120544434, -5.091899871826172, -4.951700210571289, -5.297299861907959, -5.261199951171875, -5.281599998474121, -7.016200065612793, -7.016200065612793, -7.110799789428711, -7.213799953460693, -6.216400146484375, -7.329599857330322, -6.818900108337402, -7.341800212860107, -7.458099842071533, -7.458099842071533, -7.458899974822998, -7.458899974822998, -7.467199802398682, -7.6118998527526855, -7.360400199890137, -7.7835001945495605, -7.783699989318848, -7.78380012512207, -7.78410005569458, -7.784800052642822, -7.786900043487549, -7.021100044250488, -7.1092000007629395, -7.997399806976318, -7.998000144958496, -7.997900009155273, -7.998000144958496, -7.998300075531006, -8.000699996948242, -8.001999855041504, -6.679500102996826, -7.46019983291626, -6.30079984664917, -7.823599815368652, -6.492700099945068, -7.018599987030029, -6.739200115203857, -5.908199787139893, -6.969399929046631, -4.417500019073486, -5.337200164794922, -5.2428998947143555, -5.740600109100342, -4.261000156402588, -6.6809000968933105, -3.5780999660491943, -4.760700225830078, -5.052999973297119, -4.994100093841553, -5.383600234985352, -4.532299995422363, -4.02269983291626, -4.615900039672852, -4.563199996948242, -4.52239990234375, -4.80810022354126, -4.573699951171875, -5.370200157165527, -5.16480016708374, -4.545899868011475, -4.49399995803833, -5.751299858093262, -4.327899932861328, -5.335899829864502, -4.382599830627441, -4.82480001449585, -5.520400047302246, -5.269999980926514, -5.233799934387207, -4.61329984664917, -5.228099822998047, -5.204500198364258, -5.155799865722656, -5.227399826049805, -5.220600128173828, -5.212200164794922, -5.25600004196167, -5.266300201416016, -6.947999954223633, -7.05079984664917, -7.299600124359131, -7.304999828338623, -7.307700157165527, -7.448500156402588, -7.451900005340576, -7.459099769592285, -7.45959997177124, -4.378600120544434, -7.621399879455566, -7.627200126647949, -7.05210018157959, -7.6350998878479, -7.643400192260742, -7.835599899291992, -7.8358001708984375, -7.8379998207092285, -5.39139986038208, -7.383500099182129, -5.951900005340576, -8.107199668884277, -8.107199668884277, -8.107600212097168, -8.10789966583252, -8.107999801635742, -8.108099937438965, -8.108099937438965, -8.108499526977539, -8.108599662780762, -4.610300064086914, -7.316100120544434, -3.500699996948242, -7.138299942016602, -6.910299777984619, -7.622200012207031, -7.446300029754639, -5.44290018081665, -3.5792999267578125, -6.132400035858154, -5.359000205993652, -5.099899768829346, -4.185299873352051, -4.4903998374938965, -3.555000066757202, -3.7258999347686768, -5.209099769592285, -5.6367998123168945, -5.71560001373291, -3.676500082015991, -5.885200023651123, -4.452899932861328, -5.185800075531006, -5.676000118255615, -4.831600189208984, -4.266300201416016, -4.6234002113342285, -6.010300159454346, -5.9085001945495605, -5.321400165557861, -4.441699981689453, -4.895599842071533, -5.432499885559082, -4.7154998779296875, -4.191199779510498, -4.959799766540527, -5.1209001541137695, -5.30049991607666, -4.87470006942749, -5.216000080108643, -5.210700035095215, -4.6219000816345215, -4.8993000984191895, -5.0559000968933105, -5.141900062561035, -5.278299808502197, -5.2758002281188965, -6.098499774932861, -6.542500019073486, -6.874899864196777, -6.976900100708008, -6.891600131988525, -5.573999881744385, -7.221399784088135, -7.22130012512207, -7.224999904632568, -7.107500076293945, -7.228799819946289, -5.440400123596191, -7.380000114440918, -7.545599937438965, -7.549300193786621, -7.55049991607666, -7.571899890899658, -7.758999824523926, -7.7596001625061035, -7.760000228881836, -7.0843000411987305, -7.764100074768066, -7.769000053405762, -7.771699905395508, -7.224800109863281, -5.114799976348877, -7.613900184631348, -8.031100273132324, -8.031299591064453, -8.031299591064453, -4.171899795532227, -6.713500022888184, -6.599800109863281, -6.55049991607666, -6.350100040435791, -3.8789000511169434, -6.447199821472168, -5.4191999435424805, -6.173900127410889, -6.615200042724609, -6.49970006942749, -4.38070011138916, -6.228700160980225, -4.065400123596191, -3.6594998836517334, -4.343500137329102, -4.136899948120117, -5.201000213623047, -4.420499801635742, -6.103600025177002, -4.0019001960754395, -4.2571001052856445, -5.34660005569458, -5.288000106811523, -4.633800029754639, -4.06820011138916, -4.39870023727417, -5.6641998291015625, -4.302299976348877, -5.993000030517578, -5.473599910736084, -5.0960001945495605, -5.025100231170654, -5.4868998527526855, -5.710700035095215, -5.213600158691406, -5.063300132751465, -5.165200233459473, -4.928699970245361, -4.978600025177002, -5.3343000411987305, -5.364099979400635, -5.462399959564209, -5.89109992980957, -6.104400157928467, -6.105500221252441, -6.378200054168701, -6.378699779510498, -6.383600234985352, -6.751200199127197, -6.751200199127197, -6.751500129699707, -6.751500129699707, -6.751500129699707, -6.7519001960754395, -6.752200126647949, -6.752200126647949, -6.752699851989746, -6.752999782562256, -6.752799987792969, -6.753200054168701, -6.753600120544434, -6.753499984741211, -6.754000186920166, -6.754499912261963, -6.757999897003174, -6.759500026702881, -6.1041998863220215, -6.376399993896484, -6.392399787902832, -7.356800079345703, -7.356800079345703, -7.35699987411499, -5.7546000480651855, -5.591899871826172, -6.749599933624268, -4.3821001052856445, -5.403200149536133, -5.73199987411499, -4.083899974822998, -5.6442999839782715, -5.37939977645874, -4.099999904632568, -6.184100151062012, -6.393700122833252, -5.553400039672852, -5.99560022354126, -4.436200141906738, -6.18179988861084, -5.5854997634887695, -5.640999794006348, -5.0742998123168945, -6.154799938201904, -6.38070011138916, -5.8902997970581055, -5.408299922943115, -5.357100009918213, -5.394999980926514, -5.527500152587891, -5.329800128936768, -5.427000045776367, -5.461100101470947, -5.158699989318848, -5.537399768829346, -5.4741997718811035, -5.4328999519348145, -5.440400123596191, -5.451600074768066, -5.613100051879883, -5.719900131225586, -5.696100234985352, -5.746600151062012]}, \"token.table\": {\"Topic\": [1, 4, 1, 2, 3, 1, 2, 3, 4, 5, 1, 2, 3, 4, 5, 1, 2, 3, 4, 5, 1, 3, 4, 1, 2, 4, 4, 1, 2, 3, 4, 2, 2, 4, 5, 1, 2, 1, 2, 3, 1, 2, 3, 4, 4, 1, 2, 5, 5, 4, 1, 3, 1, 2, 3, 4, 3, 3, 2, 5, 1, 3, 5, 5, 2, 1, 2, 3, 4, 5, 2, 1, 2, 5, 1, 2, 3, 4, 5, 3, 3, 3, 1, 2, 3, 4, 5, 1, 2, 3, 4, 5, 1, 2, 3, 4, 4, 1, 3, 4, 5, 1, 2, 3, 4, 1, 3, 5, 2, 1, 2, 3, 4, 5, 1, 2, 3, 4, 5, 1, 2, 3, 4, 1, 2, 1, 2, 3, 4, 5, 1, 2, 3, 4, 5, 1, 2, 3, 4, 5, 4, 1, 2, 3, 4, 1, 3, 4, 2, 4, 1, 4, 1, 2, 3, 4, 5, 1, 2, 3, 4, 1, 2, 3, 4, 1, 2, 3, 4, 5, 3, 4, 1, 1, 2, 3, 4, 5, 1, 3, 4, 2, 5, 4, 3, 1, 2, 3, 4, 5, 1, 2, 4, 5, 2, 4, 5, 3, 5, 1, 2, 4, 5, 4, 4, 5, 1, 3, 1, 2, 3, 4, 1, 2, 3, 4, 5, 1, 2, 3, 4, 3, 1, 2, 3, 1, 2, 3, 4, 1, 2, 3, 4, 1, 3, 4, 2, 3, 4, 1, 2, 3, 4, 5, 1, 2, 3, 1, 2, 3, 4, 1, 2, 3, 4, 1, 2, 3, 4, 5, 1, 2, 3, 4, 5, 1, 2, 3, 4, 2, 3, 2, 3, 4, 5, 1, 1, 2, 1, 2, 3, 4, 5, 1, 2, 3, 4, 1, 2, 3, 4, 1, 2, 3, 4, 1, 1, 4, 1, 2, 3, 2, 5, 1, 2, 3, 4, 1, 2, 4, 5, 5, 2, 4, 1, 2, 3, 4, 5, 1, 3, 4, 1, 2, 3, 4, 5, 2, 1, 2, 3, 5, 3, 5, 5, 4, 1, 2, 3, 4, 1, 4, 3, 3, 4, 1, 2, 3, 4, 5, 1, 2, 3, 4, 1, 2, 3, 4, 5, 1, 2, 3, 4, 5, 1, 2, 3, 4, 1, 2, 3, 4, 5, 1, 1, 2, 5, 5, 4, 1, 2, 3, 1, 2, 3, 4, 5, 5, 5, 2, 3, 5, 2, 4, 5, 1, 5, 3, 1, 2, 3, 4, 5, 4, 2, 3, 2, 3, 1, 2, 3, 4, 5, 2, 4, 5, 1, 2, 1, 2, 3, 4, 5, 1, 2, 4, 3, 4, 5, 1, 4, 1, 1, 2, 3, 4, 1, 2, 3, 4, 5, 1, 2, 3, 4, 5, 1, 2, 3, 4, 5, 1, 4, 4, 2, 3, 2, 1, 2, 3, 4, 5, 1, 2, 3, 4, 5, 1, 2, 3, 4, 5, 2, 2, 3, 2, 4, 1, 2, 3, 4, 5, 2, 1, 3, 1, 2, 3, 4, 5, 1, 4, 4, 1, 1, 1, 2, 3, 4, 1, 2, 3, 4, 1, 2, 3, 4, 1, 2, 4, 5, 2, 2, 3, 5, 1, 2, 4, 1, 2, 4, 5, 2, 4, 1, 2, 3, 4, 5, 2, 3, 4, 5, 1, 2, 3, 4, 5, 1, 3, 4, 2, 1, 2, 3, 4, 2, 3, 4, 5, 3, 1, 2, 3, 4, 5, 1, 2, 3, 4, 5, 1, 2, 3, 4, 5, 5, 1, 2, 3, 4, 3, 3, 4, 1, 1, 2, 3, 4, 5, 2, 3, 3, 1, 2, 3, 4, 1, 3, 1, 2, 3, 4, 5, 1, 2, 5, 1, 2, 3, 4, 5, 1, 2, 3, 4, 5, 3, 2, 1, 2, 3, 4, 5, 5, 1, 2, 3, 4, 5, 1, 2, 3, 4, 1, 2, 3, 4, 1, 2, 3, 4, 5, 1, 2, 3, 4, 5, 1, 2, 3, 4, 1, 2, 3, 4, 5, 1, 2, 3, 4, 5, 1, 2, 3, 4, 5, 1, 2, 3, 4, 5, 1, 2, 3, 4, 4, 1, 2, 3, 4, 5, 1, 2, 3, 4, 5, 1, 2, 3, 4, 4, 1, 4, 5, 1, 2, 3, 4, 5, 1, 4, 1, 2, 3, 4, 5, 5, 2, 1, 2, 3, 3, 1, 2, 3, 4, 2, 3, 3, 5, 1, 2, 3, 4, 5, 5, 1, 2, 3, 4, 5, 2, 1, 2, 3, 4, 1, 2, 3, 4, 5, 1, 2, 3, 4, 5, 4, 5, 1, 1, 1, 2, 5, 2, 1, 2, 3, 5, 1, 2, 3, 4, 5, 2, 4, 4], \"Freq\": [0.9341855049133301, 0.05495208874344826, 0.07276325672864914, 0.945922315120697, 0.8273311257362366, 0.9323850870132446, 0.8038634061813354, 0.1148376315832138, 0.0574188157916069, 0.48987844586372375, 0.22018364071846008, 0.5073797106742859, 0.08615881949663162, 0.1818908303976059, 0.009573201648890972, 0.28328850865364075, 0.30099403858184814, 0.07082212716341019, 0.34525784850120544, 0.008852765895426273, 0.8988813161849976, 0.07490677386522293, 0.8183708786964417, 0.15477772057056427, 0.7222959995269775, 0.10318514704704285, 0.8695478439331055, 0.2937115430831909, 0.6213129162788391, 0.022593196481466293, 0.06777958571910858, 0.895452618598938, 0.9286561012268066, 0.04037635400891304, 0.7583577632904053, 0.9190583229064941, 0.9164204597473145, 0.9205043911933899, 0.061366960406303406, 0.030683480203151703, 0.5209944248199463, 0.05484151467680931, 0.029913553968071938, 0.3938618004322052, 0.9709069132804871, 0.9018099308013916, 0.04746368154883385, 0.48957693576812744, 0.7883298397064209, 0.8698069453239441, 0.12089208513498306, 0.7253525257110596, 0.7003622055053711, 0.03890901058912277, 0.09727253019809723, 0.1556360423564911, 0.827354907989502, 0.9143867492675781, 0.887953519821167, 0.12685050070285797, 0.5882067084312439, 0.2614251971244812, 0.1307125985622406, 0.4896397590637207, 0.9597234725952148, 0.366715669631958, 0.03750501200556755, 0.28545480966567993, 0.27086952328681946, 0.039588622748851776, 0.881698727607727, 0.22100499272346497, 0.22100499272346497, 0.44200998544692993, 0.3923773169517517, 0.2498721182346344, 0.11127118021249771, 0.2205902338027954, 0.025377636775374413, 0.8797175884246826, 0.9578388333320618, 0.8799774646759033, 0.32125186920166016, 0.2595544755458832, 0.10424729436635971, 0.31274187564849854, 0.00425499165430665, 0.4178674817085266, 0.3120782673358917, 0.1375260055065155, 0.11107870191335678, 0.01586838625371456, 0.25777775049209595, 0.03682539612054825, 0.03682539612054825, 0.6628571152687073, 0.9458330273628235, 0.6023475527763367, 0.24350221455097198, 0.08971133828163147, 0.05126362293958664, 0.09846141189336777, 0.13128188252449036, 0.6892299056053162, 0.09846141189336777, 0.9819713234901428, 0.7943836450576782, 0.19859591126441956, 0.9116074442863464, 0.3012658357620239, 0.19952253997325897, 0.32637131214141846, 0.16384632885456085, 0.007928048260509968, 0.6157273650169373, 0.1296268105506897, 0.09722010791301727, 0.06481340527534485, 0.1296268105506897, 0.03383810073137283, 0.2030286192893982, 0.5414096117019653, 0.2199476659297943, 0.9203687906265259, 0.8813757300376892, 0.2597770094871521, 0.028864111751317978, 0.057728223502635956, 0.6061463356018066, 0.057728223502635956, 0.4711447060108185, 0.14878253638744354, 0.2231738120317459, 0.024797089397907257, 0.12398544698953629, 0.24272780120372772, 0.4020179212093353, 0.15170487761497498, 0.18963110446929932, 0.007585243787616491, 0.9457782506942749, 0.4828605055809021, 0.14078286290168762, 0.1827707290649414, 0.19388516247272491, 0.9226422309875488, 0.06150948256254196, 0.9035135507583618, 0.8817641139030457, 0.8838310837745667, 0.8966160416603088, 0.07471799850463867, 0.22050969302654266, 0.3664352297782898, 0.3696780204772949, 0.03891347721219063, 0.0032427895348519087, 0.09540063142776489, 0.5151634216308594, 0.27666184306144714, 0.11130073666572571, 0.08229878544807434, 0.2606128454208374, 0.6309573650360107, 0.01371646486222744, 0.3862597346305847, 0.019312987104058266, 0.5214506387710571, 0.057938963174819946, 0.019312987104058266, 0.9394079446792603, 0.9601390361785889, 0.9874419569969177, 0.4312560558319092, 0.10490012168884277, 0.29138922691345215, 0.14569461345672607, 0.023311138153076172, 0.8707152605056763, 0.0995103120803833, 0.04975515604019165, 0.5566306710243225, 0.37108710408210754, 0.9277992844581604, 0.8273687362670898, 0.050007712095975876, 0.06429562717676163, 0.8787069320678711, 0.007143958937376738, 0.007143958937376738, 0.28447115421295166, 0.37929487228393555, 0.14223557710647583, 0.18964743614196777, 0.06735030561685562, 0.8980040550231934, 0.48973795771598816, 0.8254349231719971, 0.16508698463439941, 0.21103234589099884, 0.7268891930580139, 0.0468960776925087, 0.6216819882392883, 0.8183236718177795, 0.8758816123008728, 0.1251259446144104, 0.932461678981781, 0.914480984210968, 0.3137397766113281, 0.5480517745018005, 0.09928474575281143, 0.03574250638484955, 0.5735524892807007, 0.1439686417579651, 0.26703861355781555, 0.006966224871575832, 0.004644149914383888, 0.3567744493484497, 0.5067231059074402, 0.07755965739488602, 0.05170644074678421, 0.8741703033447266, 0.9192469716072083, 0.9162864685058594, 0.8935421705245972, 0.7115970253944397, 0.08350373059511185, 0.07261193543672562, 0.1343320906162262, 0.4058796465396881, 0.28134840726852417, 0.20293982326984406, 0.10608218610286713, 0.14301124215126038, 0.07150562107563019, 0.7865618467330933, 0.09404817968606949, 0.8464336395263672, 0.05642890930175781, 0.05765541270375252, 0.8071757555007935, 0.05765541270375252, 0.05765541270375252, 0.6215448975563049, 0.8324588537216187, 0.053707022219896317, 0.10741404443979263, 0.32970914244651794, 0.103034108877182, 0.5563842058181763, 0.02060682140290737, 0.9113082885742188, 0.012375791557133198, 0.054003454744815826, 0.021938903257250786, 0.4304797053337097, 0.0910630151629448, 0.0910630151629448, 0.3808089792728424, 0.48965999484062195, 0.07054199278354645, 0.04341045394539833, 0.10852614045143127, 0.7705355882644653, 0.005426306743174791, 0.08944320678710938, 0.029814403504133224, 0.05962880700826645, 0.8198961019515991, 0.136900395154953, 0.8214023113250732, 0.031427908688783646, 0.31427907943725586, 0.6442720890045166, 0.015713954344391823, 0.9646077752113342, 0.18027859926223755, 0.7661840915679932, 0.33916395902633667, 0.20551036298274994, 0.08910239487886429, 0.33916395902633667, 0.025868436321616173, 0.8201506733894348, 0.06151130050420761, 0.02050376683473587, 0.10251883417367935, 0.5406294465065002, 0.061308495700359344, 0.3232629597187042, 0.07802899181842804, 0.28183940052986145, 0.6517536044120789, 0.01761496253311634, 0.05284488573670387, 0.9744071960449219, 0.8770096898078918, 0.08352473378181458, 0.18657150864601135, 0.7836003303527832, 0.03731430321931839, 0.2820609509944916, 0.5641219019889832, 0.06852634251117706, 0.4475189745426178, 0.3901806175708771, 0.09230078756809235, 0.5271376371383667, 0.2396080046892166, 0.09584320336580276, 0.14376480877399445, 0.4896380305290222, 0.8813337087631226, 0.9035417437553406, 0.29194381833076477, 0.08982886373996735, 0.04491443186998367, 0.5165159702301025, 0.06737164407968521, 0.9299431443214417, 0.056360188871622086, 0.009393365122377872, 0.09372679889202118, 0.35616183280944824, 0.08435411751270294, 0.41239792108535767, 0.04686339944601059, 0.8815913796424866, 0.9020928144454956, 0.959611713886261, 0.3382052183151245, 0.3382052183151245, 0.8273277878761292, 0.48978015780448914, 0.489613801240921, 0.8696512579917908, 0.31671902537345886, 0.1206548660993576, 0.49770134687423706, 0.04524557664990425, 0.9059755802154541, 0.06969042867422104, 0.8272860646247864, 0.9146263003349304, 0.9042657017707825, 0.1836516261100769, 0.4620911777019501, 0.15995463728904724, 0.16587889194488525, 0.023696983233094215, 0.4204639792442322, 0.1552482396364212, 0.3104964792728424, 0.1164361760020256, 0.32274606823921204, 0.22041194140911102, 0.14956524968147278, 0.29913049936294556, 0.007871855050325394, 0.2960304319858551, 0.22202283143997192, 0.07064362615346909, 0.4003138840198517, 0.013455929234623909, 0.5679784417152405, 0.21794521808624268, 0.05283520370721817, 0.1585056036710739, 0.3779504597187042, 0.28959840536117554, 0.1840667724609375, 0.14234498143196106, 0.007362671196460724, 0.9024261236190796, 0.8274978399276733, 0.11033304035663605, 0.4897499680519104, 0.4895145893096924, 0.8696308732032776, 0.14503726363182068, 0.7977049946784973, 0.07251863181591034, 0.5201571583747864, 0.15713080763816833, 0.2871701121330261, 0.03250982239842415, 0.0054183038882911205, 0.48915794491767883, 0.4897103011608124, 0.08702708780765533, 0.5221625566482544, 0.34810835123062134, 0.9162096977233887, 0.24122175574302673, 0.48244351148605347, 0.9704465866088867, 0.4898986518383026, 0.8273576498031616, 0.5286409258842468, 0.3600887656211853, 0.01915365643799305, 0.09193755686283112, 0.0038307313807308674, 0.8183272480964661, 0.9596966505050659, 0.827364981174469, 0.8814455270767212, 0.9154520630836487, 0.4398740530014038, 0.1832808554172516, 0.09469511359930038, 0.2718666195869446, 0.00916404277086258, 0.1419597715139389, 0.4258793294429779, 0.2839195430278778, 0.08380763977766037, 0.8380763530731201, 0.3924495577812195, 0.11212844401597977, 0.04204816743731499, 0.44851377606391907, 0.01401605550199747, 0.05226022005081177, 0.026130110025405884, 0.9145538210868835, 0.06328334659337997, 0.7594001889228821, 0.12656669318675995, 0.2545351982116699, 0.7636055946350098, 0.9195216298103333, 0.5594208240509033, 0.11740931123495102, 0.1519414633512497, 0.17266075313091278, 0.06727027893066406, 0.06727027893066406, 0.40362170338630676, 0.4288480579853058, 0.04204392805695534, 0.14586427807807922, 0.06251326203346252, 0.14586427807807922, 0.37507960200309753, 0.29172855615615845, 0.5206041932106018, 0.09959384799003601, 0.17655272781848907, 0.19918769598007202, 0.004526992794126272, 0.9025978446006775, 0.9457812309265137, 0.869605541229248, 0.8203046917915344, 0.09114496409893036, 0.9116072654724121, 0.34572479128837585, 0.3607563078403473, 0.12325840443372726, 0.1563277244567871, 0.015031512826681137, 0.34977731108665466, 0.2935630977153778, 0.11242841929197311, 0.2123647928237915, 0.03123011626303196, 0.24353738129138947, 0.3479105532169342, 0.10437316447496414, 0.26093289256095886, 0.043488819152116776, 0.9742264747619629, 0.1558028906583786, 0.7790144085884094, 0.8561500310897827, 0.9039432406425476, 0.10813086479902267, 0.19154611229896545, 0.09886250644922256, 0.5869961380958557, 0.015447267331182957, 0.8519459962844849, 0.8851249814033508, 0.12069886177778244, 0.2680346667766571, 0.45948800444602966, 0.1021084412932396, 0.16592621803283691, 0.48988834023475647, 0.9726130366325378, 0.9036970138549805, 0.9325819611549377, 0.9804171323776245, 0.9337300062179565, 0.2094942182302475, 0.6085308194160461, 0.15961463749408722, 0.029927745461463928, 0.21187424659729004, 0.08407708257436752, 0.5010994076728821, 0.20178499817848206, 0.010251940228044987, 0.3485659658908844, 0.6151164174079895, 0.030755821615457535, 0.03649468719959259, 0.21896812319755554, 0.6933990716934204, 0.03649468719959259, 0.8814372420310974, 0.44127973914146423, 0.11031993478536606, 0.44127973914146423, 0.05973212793469429, 0.11946425586938858, 0.7765176892280579, 0.24894659221172333, 0.24894659221172333, 0.12447329610586166, 0.24894659221172333, 0.7791250944137573, 0.15582501888275146, 0.3139999806880951, 0.08563636243343353, 0.3496817946434021, 0.24977271258831024, 0.007136363070458174, 0.41075775027275085, 0.10268943756818771, 0.10268943756818771, 0.20537887513637543, 0.45011353492736816, 0.3329242169857025, 0.12251611053943634, 0.08789199590682983, 0.00799018144607544, 0.05176093429327011, 0.15528279542922974, 0.7246530652046204, 0.9164187908172607, 0.047827936708927155, 0.20725439488887787, 0.6695911288261414, 0.0637705847620964, 0.09309343248605728, 0.09309343248605728, 0.7447474598884583, 0.04654671624302864, 0.9393894076347351, 0.3474447429180145, 0.043980348855257034, 0.4837838113307953, 0.1231449767947197, 0.004398034885525703, 0.2791646718978882, 0.26477473974227905, 0.12375340610742569, 0.3165784776210785, 0.014389931224286556, 0.272593230009079, 0.38941890001296997, 0.06814830750226974, 0.23365135490894318, 0.048677362501621246, 0.6882612705230713, 0.29008930921554565, 0.04462912306189537, 0.5355494618415833, 0.11157280951738358, 0.957857608795166, 0.9394292831420898, 0.8700177669525146, 0.9198077321052551, 0.25188326835632324, 0.49695885181427, 0.1497684270143509, 0.04765358939766884, 0.04765358939766884, 0.9610227942466736, 0.9578944444656372, 0.8797136545181274, 0.28397291898727417, 0.027967030182480812, 0.6346364617347717, 0.05378275364637375, 0.13657569885253906, 0.8194541931152344, 0.42834678292274475, 0.23712053894996643, 0.13768288493156433, 0.19122622907161713, 0.007649049628525972, 0.31604018807411194, 0.31604018807411194, 0.31604018807411194, 0.3344217538833618, 0.2388726770877838, 0.31704917550086975, 0.0955490693449974, 0.013029418885707855, 0.3899395763874054, 0.29758545756340027, 0.10261567682027817, 0.1641850769519806, 0.04104626923799515, 0.9393765330314636, 0.9413988590240479, 0.4084711968898773, 0.28639933466911316, 0.19719298183918, 0.09390142560005188, 0.009390141814947128, 0.48989182710647583, 0.5657863616943359, 0.1604468822479248, 0.08444572985172272, 0.1604468822479248, 0.025333719328045845, 0.6094995141029358, 0.2912053167819977, 0.05417773127555847, 0.040633298456668854, 0.6072880029678345, 0.1122717335820198, 0.27047279477119446, 0.005103260278701782, 0.6448637247085571, 0.03517438471317291, 0.2579454779624939, 0.07034876942634583, 0.6882396936416626, 0.3110153377056122, 0.31407952308654785, 0.11184295266866684, 0.257392019033432, 0.006128381006419659, 0.10726818442344666, 0.34655874967575073, 0.4538269340991974, 0.09076538681983948, 0.42081886529922485, 0.1482430100440979, 0.37299853563308716, 0.057384390383958817, 0.004782032687216997, 0.4517616033554077, 0.20265941321849823, 0.2913229167461395, 0.05910899490118027, 0.48984384536743164, 0.22867374122142792, 0.2953702509403229, 0.40970712900161743, 0.06669650971889496, 0.6882643103599548, 0.10913843661546707, 0.31182408332824707, 0.5456921458244324, 0.031182410195469856, 0.015591205097734928, 0.11194293200969696, 0.3824716806411743, 0.4944145977497101, 0.009328577667474747, 0.8816145062446594, 0.05788690969347954, 0.40520837903022766, 0.37626492977142334, 0.05788690969347954, 0.11577381938695908, 0.20322193205356598, 0.11979398131370544, 0.5839956402778625, 0.09198465943336487, 0.002139178104698658, 0.45250606536865234, 0.09019546210765839, 0.3592531085014343, 0.09631041437387466, 0.9808834791183472, 0.3940775692462921, 0.19703878462314606, 0.3940775692462921, 0.46122756600379944, 0.38074490427970886, 0.08357815444469452, 0.06500522792339325, 0.009286461398005486, 0.8575402498245239, 0.09528224915266037, 0.43098729848861694, 0.35915607213974, 0.16325277090072632, 0.03918066248297691, 0.006530110724270344, 0.48941144347190857, 0.9162020087242126, 0.8714846968650818, 0.03485938906669617, 0.06971877813339233, 0.8274860978126526, 0.1769813448190689, 0.023084523156285286, 0.7463995814323425, 0.05386388674378395, 0.9161933064460754, 0.8272782564163208, 0.8215548992156982, 0.10269436240196228, 0.40087589621543884, 0.1379358023405075, 0.21552468836307526, 0.24138765037059784, 0.00431049382314086, 0.7604005336761475, 0.20696231722831726, 0.23131082952022552, 0.13391679525375366, 0.365227609872818, 0.060871269553899765, 0.95964115858078, 0.5728991627693176, 0.36010801792144775, 0.03273709490895271, 0.03819327428936958, 0.24945791065692902, 0.3956918716430664, 0.05161198228597641, 0.2924678921699524, 0.008601997047662735, 0.15537036955356598, 0.2575877010822296, 0.09812864661216736, 0.4701997935771942, 0.020443469285964966, 0.2795214354991913, 0.5590428709983826, 0.9198189377784729, 0.9654116630554199, 0.08132973313331604, 0.6506378650665283, 0.24398921430110931, 0.8760452270507812, 0.03197223320603371, 0.12788893282413483, 0.7993058562278748, 0.48990437388420105, 0.059907469898462296, 0.17972241342067719, 0.059907469898462296, 0.7188896536827087, 0.7603025436401367, 0.917803168296814, 0.8821345567703247, 0.9459498524665833], \"Term\": [\"\\u0430\\u0432\\u0430\\u043d\\u0433\\u0430\\u0440\\u0434\", \"\\u0430\\u0432\\u0430\\u043d\\u0433\\u0430\\u0440\\u0434\", \"\\u0430\\u0432\\u0442\\u043e\", \"\\u0430\\u0432\\u0442\\u043e\", \"\\u0430\\u0432\\u0442\\u043e\\u043e\\u0442\\u0432\\u0435\\u0442\\u0447\\u0438\\u043a\", \"\\u0430\\u0432\\u0442\\u043e\\u0440\\u0438\\u0437\\u0430\\u0446\\u0438\\u044f\", \"\\u0430\\u0432\\u0442\\u043e\\u0441\\u0430\\u043b\\u043e\\u043d\", \"\\u0430\\u0432\\u0442\\u043e\\u0441\\u0430\\u043b\\u043e\\u043d\", \"\\u0430\\u0432\\u0442\\u043e\\u0441\\u0430\\u043b\\u043e\\u043d\", \"\\u0430\\u0433\\u0440\\u0435\\u0441\\u0441\\u0438\\u044f\", \"\\u0430\\u0434\\u043c\\u0438\\u043d\\u0438\\u0441\\u0442\\u0440\\u0430\\u0442\\u043e\\u0440\", \"\\u0430\\u0434\\u043c\\u0438\\u043d\\u0438\\u0441\\u0442\\u0440\\u0430\\u0442\\u043e\\u0440\", \"\\u0430\\u0434\\u043c\\u0438\\u043d\\u0438\\u0441\\u0442\\u0440\\u0430\\u0442\\u043e\\u0440\", \"\\u0430\\u0434\\u043c\\u0438\\u043d\\u0438\\u0441\\u0442\\u0440\\u0430\\u0442\\u043e\\u0440\", \"\\u0430\\u0434\\u043c\\u0438\\u043d\\u0438\\u0441\\u0442\\u0440\\u0430\\u0442\\u043e\\u0440\", \"\\u0430\\u0434\\u0440\\u0435\\u0441\", \"\\u0430\\u0434\\u0440\\u0435\\u0441\", \"\\u0430\\u0434\\u0440\\u0435\\u0441\", \"\\u0430\\u0434\\u0440\\u0435\\u0441\", \"\\u0430\\u0434\\u0440\\u0435\\u0441\", \"\\u0430\\u043a\\u0442\\u0438\\u0432\\u0430\\u0446\\u0438\\u044f\", \"\\u0430\\u043a\\u0442\\u0438\\u0432\\u0430\\u0446\\u0438\\u044f\", \"\\u0430\\u043b\\u0430\", \"\\u0430\\u043b\\u0435\\u043a\\u0441\\u0430\\u043d\\u0434\\u0440\", \"\\u0430\\u043b\\u0435\\u043a\\u0441\\u0430\\u043d\\u0434\\u0440\", \"\\u0430\\u043b\\u0435\\u043a\\u0441\\u0430\\u043d\\u0434\\u0440\", \"\\u0430\\u043b\\u0444\\u0430\\u0432\\u0438\\u0442\", \"\\u0430\\u043b\\u044c\\u0444\\u0430\", \"\\u0430\\u043b\\u044c\\u0444\\u0430\", \"\\u0430\\u043b\\u044c\\u0444\\u0430\", \"\\u0430\\u043b\\u044c\\u0444\\u0430\", \"\\u0430\\u043d\\u0433\\u0435\\u043b\\u0438\\u043d\\u0430\", \"\\u0430\\u043d\\u043d\\u0430\", \"\\u0430\\u043d\\u043d\\u0430\", \"\\u0430\\u0440\\u0433\\u0443\\u043c\\u0435\\u043d\\u0442\", \"\\u0430\\u044d\\u0440\\u043e\\u0444\\u043b\\u043e\\u0442\", \"\\u0431\\u0430\\u0431\\u0443\\u0448\\u043a\\u0430\", \"\\u0431\\u0430\\u043b\\u0430\\u043d\\u0441\", \"\\u0431\\u0430\\u043b\\u0430\\u043d\\u0441\", \"\\u0431\\u0430\\u043b\\u0430\\u043d\\u0441\", \"\\u0431\\u0430\\u043d\\u043a\\u043e\\u043c\\u0430\\u0442\", \"\\u0431\\u0430\\u043d\\u043a\\u043e\\u043c\\u0430\\u0442\", \"\\u0431\\u0430\\u043d\\u043a\\u043e\\u043c\\u0430\\u0442\", \"\\u0431\\u0430\\u043d\\u043a\\u043e\\u043c\\u0430\\u0442\", \"\\u0431\\u0438\\u043b\\u043b\\u0438\\u043d\\u0433\\u0430\", \"\\u0431\\u043b\\u043e\\u043a\\u0438\\u0440\\u043e\\u0432\\u043a\\u0430\", \"\\u0431\\u043b\\u043e\\u043a\\u0438\\u0440\\u043e\\u0432\\u043a\\u0430\", \"\\u0431\\u043b\\u0443\\u0437\\u0430\", \"\\u0431\\u0440\\u0430\\u0442\", \"\\u0431\\u0443\\u0445\\u0433\\u0430\\u043b\\u0442\\u0435\\u0440\", \"\\u0431\\u044e\\u0434\\u0436\\u0435\\u0442\", \"\\u0431\\u044e\\u0434\\u0436\\u0435\\u0442\", \"\\u0432\\u0430\\u043b\\u044e\\u0442\\u0430\", \"\\u0432\\u0430\\u043b\\u044e\\u0442\\u0430\", \"\\u0432\\u0430\\u043b\\u044e\\u0442\\u0430\", \"\\u0432\\u0430\\u043b\\u044e\\u0442\\u0430\", \"\\u0432\\u0430\\u0440\\u0448\\u0430\\u0432\\u043a\\u0430\", \"\\u0432\\u0435\\u043a\\u0441\\u0435\\u043b\\u044c\", \"\\u0432\\u0437\\u044b\\u0441\\u043a\\u0430\\u043d\\u0438\\u0435\", \"\\u0432\\u0437\\u044b\\u0441\\u043a\\u0430\\u043d\\u0438\\u0435\", \"\\u0432\\u0438\\u0437\\u0430\", \"\\u0432\\u0438\\u0437\\u0430\", \"\\u0432\\u0438\\u0437\\u0430\", \"\\u0432\\u0438\\u0437\\u0435\", \"\\u0432\\u0438\\u043a\\u0442\\u043e\\u0440\\u0438\\u044f\", \"\\u0432\\u043a\\u043b\\u0430\\u0434\", \"\\u0432\\u043a\\u043b\\u0430\\u0434\", \"\\u0432\\u043a\\u043b\\u0430\\u0434\", \"\\u0432\\u043a\\u043b\\u0430\\u0434\", \"\\u0432\\u043a\\u043b\\u0430\\u0434\", \"\\u0432\\u043e\\u0437\\u0440\\u0430\\u0441\\u0442\", \"\\u0432\\u043e\\u0437\\u0440\\u043e\\u0436\\u0434\\u0435\\u043d\\u0438\\u0435\", \"\\u0432\\u043e\\u0437\\u0440\\u043e\\u0436\\u0434\\u0435\\u043d\\u0438\\u0435\", \"\\u0432\\u043e\\u0437\\u0440\\u043e\\u0436\\u0434\\u0435\\u043d\\u0438\\u0435\", \"\\u0432\\u043e\\u043f\\u0440\\u043e\\u0441\", \"\\u0432\\u043e\\u043f\\u0440\\u043e\\u0441\", \"\\u0432\\u043e\\u043f\\u0440\\u043e\\u0441\", \"\\u0432\\u043e\\u043f\\u0440\\u043e\\u0441\", \"\\u0432\\u043e\\u043f\\u0440\\u043e\\u0441\", \"\\u0432\\u043e\\u0440\\u043a\\u0443\\u0442\\u0430\", \"\\u0432\\u043e\\u0440\\u043e\\u043d\\u0435\\u0436\", \"\\u0432\\u043e\\u0440\\u043e\\u0442\\u0430\", \"\\u0432\\u0440\\u0435\\u043c\\u044f\", \"\\u0432\\u0440\\u0435\\u043c\\u044f\", \"\\u0432\\u0440\\u0435\\u043c\\u044f\", \"\\u0432\\u0440\\u0435\\u043c\\u044f\", \"\\u0432\\u0440\\u0435\\u043c\\u044f\", \"\\u0432\\u0441\", \"\\u0432\\u0441\", \"\\u0432\\u0441\", \"\\u0432\\u0441\", \"\\u0432\\u0441\", \"\\u0432\\u0445\\u043e\\u0434\", \"\\u0432\\u0445\\u043e\\u0434\", \"\\u0432\\u0445\\u043e\\u0434\", \"\\u0432\\u0445\\u043e\\u0434\", \"\\u0432\\u044b\\u0432\\u0435\\u0441\\u043a\\u0430\", \"\\u0432\\u044b\\u043f\\u0438\\u0441\\u043a\\u0430\", \"\\u0432\\u044b\\u043f\\u0438\\u0441\\u043a\\u0430\", \"\\u0432\\u044b\\u043f\\u0438\\u0441\\u043a\\u0430\", \"\\u0432\\u044b\\u043f\\u0438\\u0441\\u043a\\u0430\", \"\\u0432\\u044b\\u043f\\u043b\\u0430\\u0442\\u0430\", \"\\u0432\\u044b\\u043f\\u043b\\u0430\\u0442\\u0430\", \"\\u0432\\u044b\\u043f\\u043b\\u0430\\u0442\\u0430\", \"\\u0432\\u044b\\u043f\\u043b\\u0430\\u0442\\u0430\", \"\\u0432\\u044b\\u043f\\u0443\\u0441\\u043a\", \"\\u0433\\u0430\\u0437\\u043f\\u0440\\u043e\\u043c\\u0431\\u0430\\u043d\\u043a\", \"\\u0433\\u0430\\u0437\\u043f\\u0440\\u043e\\u043c\\u0431\\u0430\\u043d\\u043a\", \"\\u0433\\u0435\\u0440\\u043c\\u0430\\u043d\", \"\\u0433\\u043e\\u0434\", \"\\u0433\\u043e\\u0434\", \"\\u0433\\u043e\\u0434\", \"\\u0433\\u043e\\u0434\", \"\\u0433\\u043e\\u0434\", \"\\u0433\\u043e\\u043b\\u043e\\u0441\", \"\\u0433\\u043e\\u043b\\u043e\\u0441\", \"\\u0433\\u043e\\u043b\\u043e\\u0441\", \"\\u0433\\u043e\\u043b\\u043e\\u0441\", \"\\u0433\\u043e\\u043b\\u043e\\u0441\", \"\\u0433\\u0440\\u0430\\u0444\\u0438\\u043a\", \"\\u0433\\u0440\\u0430\\u0444\\u0438\\u043a\", \"\\u0433\\u0440\\u0430\\u0444\\u0438\\u043a\", \"\\u0433\\u0440\\u0430\\u0444\\u0438\\u043a\", \"\\u0433\\u0440\\u0435\\u0439\\u0441\", \"\\u0433\\u0443\\u043b\\u044c\\u043d\\u0430\\u0440\\u0430\", \"\\u0434\\u0432\\u0435\\u0440\\u044c\", \"\\u0434\\u0432\\u0435\\u0440\\u044c\", \"\\u0434\\u0432\\u0435\\u0440\\u044c\", \"\\u0434\\u0432\\u0435\\u0440\\u044c\", \"\\u0434\\u0432\\u0435\\u0440\\u044c\", \"\\u0434\\u0435\\u0432\\u043e\\u0447\\u043a\\u0430\", \"\\u0434\\u0435\\u0432\\u043e\\u0447\\u043a\\u0430\", \"\\u0434\\u0435\\u0432\\u043e\\u0447\\u043a\\u0430\", \"\\u0434\\u0435\\u0432\\u043e\\u0447\\u043a\\u0430\", \"\\u0434\\u0435\\u0432\\u043e\\u0447\\u043a\\u0430\", \"\\u0434\\u0435\\u043b\\u043e\", \"\\u0434\\u0435\\u043b\\u043e\", \"\\u0434\\u0435\\u043b\\u043e\", \"\\u0434\\u0435\\u043b\\u043e\", \"\\u0434\\u0435\\u043b\\u043e\", \"\\u0434\\u0435\\u043b\\u044c\\u0442\\u0430\\u043a\\u0440\\u0435\\u0434\\u0438\\u0442\", \"\\u0434\\u0435\\u043d\\u044c\\u0433\\u0430\", \"\\u0434\\u0435\\u043d\\u044c\\u0433\\u0430\", \"\\u0434\\u0435\\u043d\\u044c\\u0433\\u0430\", \"\\u0434\\u0435\\u043d\\u044c\\u0433\\u0430\", \"\\u0434\\u0435\\u0440\\u0436\\u0430\\u0442\\u0435\\u043b\\u044c\", \"\\u0434\\u0435\\u0440\\u0436\\u0430\\u0442\\u0435\\u043b\\u044c\", \"\\u0434\\u0436\\u0438\\u044f\", \"\\u0434\\u0438\\u0440\\u0435\\u043a\\u0442\", \"\\u0434\\u043c\\u0438\\u0442\\u0440\\u0438\\u0439\", \"\\u0434\\u043e\\u0432\\u0435\\u0440\\u0435\\u043d\\u043d\\u043e\\u0441\\u0442\\u044c\", \"\\u0434\\u043e\\u0432\\u0435\\u0440\\u0435\\u043d\\u043d\\u043e\\u0441\\u0442\\u044c\", \"\\u0434\\u043e\\u0433\\u043e\\u0432\\u043e\\u0440\", \"\\u0434\\u043e\\u0433\\u043e\\u0432\\u043e\\u0440\", \"\\u0434\\u043e\\u0433\\u043e\\u0432\\u043e\\u0440\", \"\\u0434\\u043e\\u0433\\u043e\\u0432\\u043e\\u0440\", \"\\u0434\\u043e\\u0433\\u043e\\u0432\\u043e\\u0440\", \"\\u0434\\u043e\\u043a\\u0443\\u043c\\u0435\\u043d\\u0442\", \"\\u0434\\u043e\\u043a\\u0443\\u043c\\u0435\\u043d\\u0442\", \"\\u0434\\u043e\\u043a\\u0443\\u043c\\u0435\\u043d\\u0442\", \"\\u0434\\u043e\\u043a\\u0443\\u043c\\u0435\\u043d\\u0442\", \"\\u0434\\u043e\\u043b\\u0433\", \"\\u0434\\u043e\\u043b\\u0433\", \"\\u0434\\u043e\\u043b\\u0433\", \"\\u0434\\u043e\\u043b\\u0433\", \"\\u0434\\u043e\\u043b\\u043b\\u0430\\u0440\", \"\\u0434\\u043e\\u043b\\u043b\\u0430\\u0440\", \"\\u0434\\u043e\\u043b\\u043b\\u0430\\u0440\", \"\\u0434\\u043e\\u043b\\u043b\\u0430\\u0440\", \"\\u0434\\u043e\\u043b\\u043b\\u0430\\u0440\", \"\\u0434\\u043e\\u043d\", \"\\u0434\\u043e\\u043f\\u043e\\u0444\\u0438\\u0441\", \"\\u0434\\u043e\\u0441\\u0442\\u0430\\u0432\\u043a\\u0430\", \"\\u0435\", \"\\u0435\", \"\\u0435\", \"\\u0435\", \"\\u0435\", \"\\u0435\\u0432\\u0440\\u043e\", \"\\u0435\\u0432\\u0440\\u043e\", \"\\u0435\\u0432\\u0440\\u043e\", \"\\u0436\\u0435\\u043b\\u0430\\u044e\\u0449\\u0438\\u0439\", \"\\u0436\\u0435\\u043b\\u0430\\u044e\\u0449\\u0438\\u0439\", \"\\u0436\\u0435\\u0442\\u043e\\u043d\", \"\\u0437\\u0430\\u0433\\u043e\\u043b\\u043e\\u0432\\u043e\\u043a\", \"\\u0437\\u0430\\u0434\\u043e\\u043b\\u0436\\u0435\\u043d\\u043d\\u043e\\u0441\\u0442\\u044c\", \"\\u0437\\u0430\\u0434\\u043e\\u043b\\u0436\\u0435\\u043d\\u043d\\u043e\\u0441\\u0442\\u044c\", \"\\u0437\\u0430\\u0434\\u043e\\u043b\\u0436\\u0435\\u043d\\u043d\\u043e\\u0441\\u0442\\u044c\", \"\\u0437\\u0430\\u0434\\u043e\\u043b\\u0436\\u0435\\u043d\\u043d\\u043e\\u0441\\u0442\\u044c\", \"\\u0437\\u0430\\u0434\\u043e\\u043b\\u0436\\u0435\\u043d\\u043d\\u043e\\u0441\\u0442\\u044c\", \"\\u0437\\u0430\\u043a\\u0430\\u0437\", \"\\u0437\\u0430\\u043a\\u0430\\u0437\", \"\\u0437\\u0430\\u043a\\u0430\\u0437\", \"\\u0437\\u0430\\u043a\\u0430\\u0437\", \"\\u0437\\u0430\\u043b\", \"\\u0437\\u0430\\u043b\", \"\\u0437\\u0430\\u043d\\u044f\\u0442\\u043e\\u0441\\u0442\\u044c\", \"\\u0437\\u0430\\u043f\\u0430\\u0434\", \"\\u0437\\u0430\\u043f\\u0430\\u0434\", \"\\u0437\\u0430\\u043f\\u0440\\u043e\\u0441\", \"\\u0437\\u0430\\u043f\\u0440\\u043e\\u0441\", \"\\u0437\\u0430\\u043f\\u0440\\u043e\\u0441\", \"\\u0437\\u0430\\u0441\\u0442\\u0440\\u043e\\u0439\\u0449\\u0438\\u043a\", \"\\u0437\\u0430\\u0442\\u043e\\u0440\", \"\\u0437\\u0430\\u0442\\u0440\\u0430\\u0442\\u0430\", \"\\u0437\\u0430\\u0442\\u0440\\u0430\\u0442\\u0430\", \"\\u0437\\u0430\\u0445\\u0432\\u0430\\u0442\", \"\\u0437\\u0430\\u0449\\u0438\\u0442\\u0430\", \"\\u0437\\u0430\\u044f\\u0432\\u043a\\u0430\", \"\\u0437\\u0430\\u044f\\u0432\\u043a\\u0430\", \"\\u0437\\u0430\\u044f\\u0432\\u043a\\u0430\", \"\\u0437\\u0430\\u044f\\u0432\\u043a\\u0430\", \"\\u0437\\u0430\\u044f\\u0432\\u043b\\u0435\\u043d\\u0438\\u0435\", \"\\u0437\\u0430\\u044f\\u0432\\u043b\\u0435\\u043d\\u0438\\u0435\", \"\\u0437\\u0430\\u044f\\u0432\\u043b\\u0435\\u043d\\u0438\\u0435\", \"\\u0437\\u0430\\u044f\\u0432\\u043b\\u0435\\u043d\\u0438\\u0435\", \"\\u0437\\u0430\\u044f\\u0432\\u043b\\u0435\\u043d\\u0438\\u0435\", \"\\u0437\\u0432\\u043e\\u043d\\u043e\\u043a\", \"\\u0437\\u0432\\u043e\\u043d\\u043e\\u043a\", \"\\u0437\\u0432\\u043e\\u043d\\u043e\\u043a\", \"\\u0437\\u0432\\u043e\\u043d\\u043e\\u043a\", \"\\u0438\\u0437\\u0432\\u0435\\u0449\\u0435\\u043d\\u0438\\u0435\", \"\\u0438\\u0437\\u0433\\u043e\\u0442\\u043e\\u0432\\u043b\\u0435\\u043d\\u0438\\u0435\", \"\\u0438\\u043d\\u0432\\u0430\\u043b\\u0438\\u0434\", \"\\u0438\\u043d\\u0434\\u0435\\u043a\\u0441\", \"\\u0438\\u043d\\u0442\\u0435\\u0440\\u043d\\u0435\\u0442\", \"\\u0438\\u043d\\u0442\\u0435\\u0440\\u043d\\u0435\\u0442\", \"\\u0438\\u043d\\u0442\\u0435\\u0440\\u043d\\u0435\\u0442\", \"\\u0438\\u043d\\u0442\\u0435\\u0440\\u043d\\u0435\\u0442\", \"\\u0438\\u043d\\u0444\\u043e\\u0440\\u043c\\u0430\\u0446\\u0438\\u044f\", \"\\u0438\\u043d\\u0444\\u043e\\u0440\\u043c\\u0430\\u0446\\u0438\\u044f\", \"\\u0438\\u043d\\u0444\\u043e\\u0440\\u043c\\u0430\\u0446\\u0438\\u044f\", \"\\u0438\\u043d\\u0444\\u043e\\u0440\\u043c\\u0430\\u0446\\u0438\\u044f\", \"\\u0438\\u043f\", \"\\u0438\\u043f\", \"\\u0438\\u043f\", \"\\u0438\\u043f\\u043e\\u0442\\u0435\\u043a\\u0430\", \"\\u0438\\u043f\\u043e\\u0442\\u0435\\u043a\\u0430\", \"\\u0438\\u043f\\u043e\\u0442\\u0435\\u043a\\u0430\", \"\\u0438\\u0440\\u0438\\u043d\\u0430\", \"\\u0438\\u0440\\u0438\\u043d\\u0430\", \"\\u0438\\u0440\\u0438\\u043d\\u0430\", \"\\u0438\\u0440\\u0438\\u043d\\u0430\", \"\\u0438\\u0441\\u043a\", \"\\u0438\\u0441\\u043f\\u043e\\u043b\\u044c\\u0437\\u043e\\u0432\\u0430\\u043d\\u0438\\u0435\", \"\\u0438\\u0441\\u043f\\u043e\\u043b\\u044c\\u0437\\u043e\\u0432\\u0430\\u043d\\u0438\\u0435\", \"\\u0438\\u0441\\u043f\\u043e\\u043b\\u044c\\u0437\\u043e\\u0432\\u0430\\u043d\\u0438\\u0435\", \"\\u0438\\u044e\\u043b\\u044c\", \"\\u0438\\u044e\\u043b\\u044c\", \"\\u0438\\u044e\\u043b\\u044c\", \"\\u0438\\u044e\\u043b\\u044c\", \"\\u043a\\u0430\\u0440\\u0442\\u0430\", \"\\u043a\\u0430\\u0440\\u0442\\u0430\", \"\\u043a\\u0430\\u0440\\u0442\\u0430\", \"\\u043a\\u0430\\u0440\\u0442\\u0430\", \"\\u043a\\u0430\\u0440\\u0442\\u043e\\u0447\\u043a\\u0430\", \"\\u043a\\u0430\\u0440\\u0442\\u043e\\u0447\\u043a\\u0430\", \"\\u043a\\u0430\\u0440\\u0442\\u043e\\u0447\\u043a\\u0430\", \"\\u043a\\u0430\\u0440\\u0442\\u043e\\u0447\\u043a\\u0430\", \"\\u043a\\u0430\\u0440\\u0442\\u0441\\u0447\\u0451\\u0442\", \"\\u043a\\u0430\\u0441\\u0441\\u0430\", \"\\u043a\\u0430\\u0441\\u0441\\u0430\", \"\\u043a\\u0430\\u0441\\u0441\\u0430\", \"\\u043a\\u0430\\u0441\\u0441\\u0430\", \"\\u043a\\u0430\\u0441\\u0441\\u0430\", \"\\u043a\\u0430\\u0441\\u0441\\u0438\\u0440\", \"\\u043a\\u0430\\u0441\\u0441\\u0438\\u0440\", \"\\u043a\\u0430\\u0441\\u0441\\u0438\\u0440\", \"\\u043a\\u0430\\u0441\\u0441\\u0438\\u0440\", \"\\u043a\\u0431\", \"\\u043a\\u0431\", \"\\u043a\\u0432\\u0430\\u0440\\u0442\\u0438\\u0440\\u0430\", \"\\u043a\\u0432\\u0430\\u0440\\u0442\\u0438\\u0440\\u0430\", \"\\u043a\\u0432\\u0430\\u0440\\u0442\\u0438\\u0440\\u0430\", \"\\u043a\\u0432\\u0430\\u0440\\u0442\\u0438\\u0440\\u0430\", \"\\u043a\\u0435\\u0448\\u0431\\u0435\\u043a\", \"\\u043a\\u0438\\u0432\\u0438\", \"\\u043a\\u0438\\u0432\\u0438\", \"\\u043a\\u043b\\u0438\\u0435\\u043d\\u0442\", \"\\u043a\\u043b\\u0438\\u0435\\u043d\\u0442\", \"\\u043a\\u043b\\u0438\\u0435\\u043d\\u0442\", \"\\u043a\\u043b\\u0438\\u0435\\u043d\\u0442\", \"\\u043a\\u043b\\u0438\\u0435\\u043d\\u0442\", \"\\u043a\\u043e\\u0434\", \"\\u043a\\u043e\\u0434\", \"\\u043a\\u043e\\u0434\", \"\\u043a\\u043e\\u0434\", \"\\u043a\\u043e\\u043c\\u0438\\u0441\\u0441\\u0438\\u044f\", \"\\u043a\\u043e\\u043c\\u0438\\u0441\\u0441\\u0438\\u044f\", \"\\u043a\\u043e\\u043c\\u0438\\u0441\\u0441\\u0438\\u044f\", \"\\u043a\\u043e\\u043c\\u0438\\u0441\\u0441\\u0438\\u044f\", \"\\u043a\\u043e\\u043c\\u043f\\u0430\\u043d\\u0438\\u044f\", \"\\u043a\\u043e\\u043c\\u043f\\u0430\\u043d\\u0438\\u044f\", \"\\u043a\\u043e\\u043c\\u043f\\u0430\\u043d\\u0438\\u044f\", \"\\u043a\\u043e\\u043c\\u043f\\u0430\\u043d\\u0438\\u044f\", \"\\u043a\\u043e\\u043d\\u0432\\u0435\\u0440\\u0442\", \"\\u043a\\u043e\\u043d\\u0432\\u0435\\u0440\\u0442\\u0430\\u0446\\u0438\\u044f\", \"\\u043a\\u043e\\u043d\\u0432\\u0435\\u0440\\u0442\\u0430\\u0446\\u0438\\u044f\", \"\\u043a\\u043e\\u043d\\u0442\\u0430\\u043a\\u0442\", \"\\u043a\\u043e\\u043d\\u0442\\u0430\\u043a\\u0442\", \"\\u043a\\u043e\\u043d\\u0442\\u0430\\u043a\\u0442\", \"\\u043a\\u0440\\u0430\\u0441\\u043d\\u043e\\u044f\\u0440\\u0441\\u043a\", \"\\u043a\\u0440\\u0430\\u0441\\u043d\\u043e\\u044f\\u0440\\u0441\\u043a\", \"\\u043a\\u0440\\u0435\\u0434\\u0438\\u0442\", \"\\u043a\\u0440\\u0435\\u0434\\u0438\\u0442\", \"\\u043a\\u0440\\u0435\\u0434\\u0438\\u0442\", \"\\u043a\\u0440\\u0435\\u0434\\u0438\\u0442\", \"\\u043a\\u0440\\u0438\\u0437\\u0438\\u0441\", \"\\u043a\\u0440\\u0438\\u0437\\u0438\\u0441\", \"\\u043a\\u0440\\u0438\\u0437\\u0438\\u0441\", \"\\u043a\\u0440\\u0438\\u0437\\u0438\\u0441\", \"\\u043a\\u0440\\u043e\\u043b\\u0438\\u043a\", \"\\u043a\\u0440\\u044e\\u043a\\u043e\\u0432\\u043e\", \"\\u043a\\u0441\\u0435\\u0440\\u043e\\u043a\\u0441\", \"\\u043a\\u0443\\u043f\\u044e\\u0440\\u0430\", \"\\u043a\\u0443\\u043f\\u044e\\u0440\\u0430\", \"\\u043a\\u0443\\u043f\\u044e\\u0440\\u0430\", \"\\u043a\\u0443\\u043f\\u044e\\u0440\\u0430\", \"\\u043a\\u0443\\u043f\\u044e\\u0440\\u0430\", \"\\u043b\\u0438\\u043c\\u0438\\u0442\", \"\\u043b\\u0438\\u043c\\u0438\\u0442\", \"\\u043b\\u0438\\u043c\\u0438\\u0442\", \"\\u043b\\u0438\\u0446\\u043e\", \"\\u043b\\u0438\\u0446\\u043e\", \"\\u043b\\u0438\\u0446\\u043e\", \"\\u043b\\u0438\\u0446\\u043e\", \"\\u043b\\u0438\\u0446\\u043e\", \"\\u043b\\u043e\\u043a\\u043e\", \"\\u043b\\u043e\\u0442\\u0435\\u0440\\u0435\\u044f\", \"\\u043b\\u044e\\u0434\\u043c\\u0438\\u043b\\u0430\", \"\\u043b\\u0451\\u0433\\u043a\\u043e\\u0435\", \"\\u043b\\u0451\\u0433\\u043a\\u043e\\u0435\", \"\\u043c\\u0430\\u0433\\u043d\\u0438\\u0442\", \"\\u043c\\u0430\\u043a\\u0443\\u043b\\u0430\\u0442\\u0443\\u0440\\u0430\", \"\\u043c\\u0430\\u043d\\u0435\\u0440\", \"\\u043c\\u0430\\u0440\\u0438\\u043d\", \"\\u043c\\u0430\\u0440\\u0442\", \"\\u043c\\u0430\\u0440\\u0442\", \"\\u043c\\u0430\\u0440\\u0442\", \"\\u043c\\u0430\\u0440\\u0442\", \"\\u043c\\u0430\\u0441\\u0442\\u0435\\u0440\\u043a\\u0430\\u0440\\u0434\", \"\\u043c\\u0430\\u0441\\u0442\\u0435\\u0440\\u043a\\u0430\\u0440\\u0434\", \"\\u043c\\u0430\\u0442\\u0435\\u043c\\u0430\\u0442\\u0438\\u043a\\u0430\", \"\\u043c\\u0430\\u044d\\u0441\\u0442\\u0440\\u043e\", \"\\u043c\\u0435\\u0431\\u0435\\u043b\\u044c\", \"\\u043c\\u0435\\u043d\\u0435\\u0434\\u0436\\u0435\\u0440\", \"\\u043c\\u0435\\u043d\\u0435\\u0434\\u0436\\u0435\\u0440\", \"\\u043c\\u0435\\u043d\\u0435\\u0434\\u0436\\u0435\\u0440\", \"\\u043c\\u0435\\u043d\\u0435\\u0434\\u0436\\u0435\\u0440\", \"\\u043c\\u0435\\u043d\\u0435\\u0434\\u0436\\u0435\\u0440\", \"\\u043c\\u0435\\u0441\\u044f\\u0446\", \"\\u043c\\u0435\\u0441\\u044f\\u0446\", \"\\u043c\\u0435\\u0441\\u044f\\u0446\", \"\\u043c\\u0435\\u0441\\u044f\\u0446\", \"\\u043c\\u0435\\u0442\\u0440\", \"\\u043c\\u0435\\u0442\\u0440\", \"\\u043c\\u0435\\u0442\\u0440\", \"\\u043c\\u0435\\u0442\\u0440\", \"\\u043c\\u0435\\u0442\\u0440\", \"\\u043c\\u0438\\u043d\\u0443\\u0442\\u0430\", \"\\u043c\\u0438\\u043d\\u0443\\u0442\\u0430\", \"\\u043c\\u0438\\u043d\\u0443\\u0442\\u0430\", \"\\u043c\\u0438\\u043d\\u0443\\u0442\\u0430\", \"\\u043c\\u0438\\u043d\\u0443\\u0442\\u0430\", \"\\u043c\\u043e\\u0441\\u043a\\u0432\\u0430\", \"\\u043c\\u043e\\u0441\\u043a\\u0432\\u0430\", \"\\u043c\\u043e\\u0441\\u043a\\u0432\\u0430\", \"\\u043c\\u043e\\u0441\\u043a\\u0432\\u0430\", \"\\u043c\\u043e\\u0447\\u044c\", \"\\u043c\\u043e\\u0447\\u044c\", \"\\u043c\\u043e\\u0447\\u044c\", \"\\u043c\\u043e\\u0447\\u044c\", \"\\u043c\\u043e\\u0447\\u044c\", \"\\u043c\\u043e\\u0448\\u0435\\u043d\\u043d\\u0438\\u043a\", \"\\u043c\\u0442\\u0441\", \"\\u043c\\u0442\\u0441\", \"\\u043d\\u0430\\u043f\\u0430\\u0440\\u043d\\u0438\\u0446\\u0430\", \"\\u043d\\u0430\\u043f\\u0440\\u0430\\u0432\\u043b\\u0435\\u043d\\u043d\\u043e\\u0441\\u0442\\u044c\", \"\\u043d\\u0430\\u0442\\u0430\\u043b\\u0438\\u044f\", \"\\u043d\\u0430\\u0442\\u0430\\u043b\\u044c\\u044f\", \"\\u043d\\u0430\\u0442\\u0430\\u043b\\u044c\\u044f\", \"\\u043d\\u0430\\u0442\\u0430\\u043b\\u044c\\u044f\", \"\\u043d\\u0435\\u0434\\u0435\\u043b\\u044f\", \"\\u043d\\u0435\\u0434\\u0435\\u043b\\u044f\", \"\\u043d\\u0435\\u0434\\u0435\\u043b\\u044f\", \"\\u043d\\u0435\\u0434\\u0435\\u043b\\u044f\", \"\\u043d\\u0435\\u0434\\u0435\\u043b\\u044f\", \"\\u043d\\u0435\\u043f\\u043e\\u043d\\u0438\\u043c\\u0430\\u043d\\u0438\\u0435\", \"\\u043d\\u0435\\u0442\\u0435\\u0440\\u043f\\u0435\\u043d\\u0438\\u0435\", \"\\u043d\\u0435\\u0443\\u0441\\u0442\\u043e\\u0439\\u043a\\u0430\", \"\\u043d\\u0435\\u0443\\u0441\\u0442\\u043e\\u0439\\u043a\\u0430\", \"\\u043d\\u0435\\u0443\\u0441\\u0442\\u043e\\u0439\\u043a\\u0430\", \"\\u043d\\u0438\\u043a\\u0438\\u0442\\u0430\", \"\\u043d\\u043e\\u0432\\u043e\\u0441\\u0442\\u0440\\u043e\\u0439\\u043a\\u0430\", \"\\u043d\\u043e\\u0432\\u043e\\u0441\\u0442\\u0440\\u043e\\u0439\\u043a\\u0430\", \"\\u043d\\u043e\\u0432\\u043e\\u0441\\u0442\\u044c\", \"\\u043d\\u043e\\u0432\\u0448\\u0435\\u0441\\u0442\\u0432\\u043e\", \"\\u043d\\u043e\\u0433\\u0438\\u043d\\u0441\\u043a\", \"\\u043d\\u043e\\u043c\\u0435\\u0440\", \"\\u043d\\u043e\\u043c\\u0435\\u0440\", \"\\u043d\\u043e\\u043c\\u0435\\u0440\", \"\\u043d\\u043e\\u043c\\u0435\\u0440\", \"\\u043d\\u043e\\u043c\\u0435\\u0440\", \"\\u043d\\u043e\\u043c\\u0435\\u0440\\u043e\\u043a\", \"\\u043d\\u043e\\u0443\\u0442\\u0431\\u0443\\u043a\", \"\\u043d\\u0443\\u043b\\u044c\", \"\\u043e\\u0431\\u0438\\u0434\\u0430\", \"\\u043e\\u0431\\u043c\\u0430\\u043d\", \"\\u043e\\u0431\\u0441\\u043b\\u0443\\u0436\\u0438\\u0432\\u0430\\u043d\\u0438\\u0435\", \"\\u043e\\u0431\\u0441\\u043b\\u0443\\u0436\\u0438\\u0432\\u0430\\u043d\\u0438\\u0435\", \"\\u043e\\u0431\\u0441\\u043b\\u0443\\u0436\\u0438\\u0432\\u0430\\u043d\\u0438\\u0435\", \"\\u043e\\u0431\\u0441\\u043b\\u0443\\u0436\\u0438\\u0432\\u0430\\u043d\\u0438\\u0435\", \"\\u043e\\u0431\\u0441\\u043b\\u0443\\u0436\\u0438\\u0432\\u0430\\u043d\\u0438\\u0435\", \"\\u043e\\u0431\\u044a\\u044f\\u0432\\u043b\\u0435\\u043d\\u0438\\u0435\", \"\\u043e\\u0431\\u044a\\u044f\\u0432\\u043b\\u0435\\u043d\\u0438\\u0435\", \"\\u043e\\u0431\\u044a\\u044f\\u0432\\u043b\\u0435\\u043d\\u0438\\u0435\", \"\\u043e\\u0431\\u044f\\u0437\\u0430\\u043d\\u043d\\u043e\\u0441\\u0442\\u044c\", \"\\u043e\\u0431\\u044f\\u0437\\u0430\\u043d\\u043d\\u043e\\u0441\\u0442\\u044c\", \"\\u043e\\u0436\\u0438\\u0434\\u0430\\u043d\\u0438\\u0435\", \"\\u043e\\u0436\\u0438\\u0434\\u0430\\u043d\\u0438\\u0435\", \"\\u043e\\u0436\\u0438\\u0434\\u0430\\u043d\\u0438\\u0435\", \"\\u043e\\u0436\\u0438\\u0434\\u0430\\u043d\\u0438\\u0435\", \"\\u043e\\u0436\\u0438\\u0434\\u0430\\u043d\\u0438\\u0435\", \"\\u043e\\u043a\\u043d\\u043e\", \"\\u043e\\u043a\\u043d\\u043e\", \"\\u043e\\u043a\\u043d\\u043e\", \"\\u043e\\u043a\\u043e\\u0448\\u043a\\u043e\", \"\\u043e\\u043a\\u043e\\u0448\\u043a\\u043e\", \"\\u043e\\u043a\\u043e\\u0448\\u043a\\u043e\", \"\\u043e\\u043b\\u044c\\u0433\\u0430\", \"\\u043e\\u043b\\u044c\\u0433\\u0430\", \"\\u043e\\u043d\\u043b\\u0430\\u0439\\u043d\\u0435\", \"\\u043e\\u043f\\u0435\\u0440\\u0430\\u0442\\u043e\\u0440\", \"\\u043e\\u043f\\u0435\\u0440\\u0430\\u0442\\u043e\\u0440\", \"\\u043e\\u043f\\u0435\\u0440\\u0430\\u0442\\u043e\\u0440\", \"\\u043e\\u043f\\u0435\\u0440\\u0430\\u0442\\u043e\\u0440\", \"\\u043e\\u043f\\u0435\\u0440\\u0430\\u0446\\u0438\\u043e\\u043d\\u0438\\u0441\\u0442\", \"\\u043e\\u043f\\u0435\\u0440\\u0430\\u0446\\u0438\\u043e\\u043d\\u0438\\u0441\\u0442\", \"\\u043e\\u043f\\u0435\\u0440\\u0430\\u0446\\u0438\\u043e\\u043d\\u0438\\u0441\\u0442\", \"\\u043e\\u043f\\u0435\\u0440\\u0430\\u0446\\u0438\\u043e\\u043d\\u0438\\u0441\\u0442\", \"\\u043e\\u043f\\u0435\\u0440\\u0430\\u0446\\u0438\\u043e\\u043d\\u0438\\u0441\\u0442\", \"\\u043e\\u043f\\u0435\\u0440\\u0430\\u0446\\u0438\\u043e\\u043d\\u0438\\u0441\\u0442\\u043a\\u0430\", \"\\u043e\\u043f\\u0435\\u0440\\u0430\\u0446\\u0438\\u043e\\u043d\\u0438\\u0441\\u0442\\u043a\\u0430\", \"\\u043e\\u043f\\u0435\\u0440\\u0430\\u0446\\u0438\\u043e\\u043d\\u0438\\u0441\\u0442\\u043a\\u0430\", \"\\u043e\\u043f\\u0435\\u0440\\u0430\\u0446\\u0438\\u043e\\u043d\\u0438\\u0441\\u0442\\u043a\\u0430\", \"\\u043e\\u043f\\u0435\\u0440\\u0430\\u0446\\u0438\\u043e\\u043d\\u0438\\u0441\\u0442\\u043a\\u0430\", \"\\u043e\\u043f\\u0435\\u0440\\u0430\\u0446\\u0438\\u044f\", \"\\u043e\\u043f\\u0435\\u0440\\u0430\\u0446\\u0438\\u044f\", \"\\u043e\\u043f\\u0435\\u0440\\u0430\\u0446\\u0438\\u044f\", \"\\u043e\\u043f\\u0435\\u0440\\u0430\\u0446\\u0438\\u044f\", \"\\u043e\\u043f\\u0435\\u0440\\u0430\\u0446\\u0438\\u044f\", \"\\u043e\\u043f\\u0440\\u043e\\u0442\\u0435\\u0441\\u0442\\u043e\\u0432\\u0430\\u043d\\u0438\\u0435\", \"\\u043e\\u0440\\u0434\\u0435\\u0440\", \"\\u043e\\u0440\\u0435\\u043d\\u0431\\u0443\\u0440\\u0433\", \"\\u043e\\u0440\\u0438\\u0433\\u0438\\u043d\\u0430\\u043b\", \"\\u043e\\u0440\\u0438\\u0433\\u0438\\u043d\\u0430\\u043b\", \"\\u043e\\u0441\\u043a\\u0430\\u0440\", \"\\u043e\\u0442\\u0432\\u0435\\u0442\", \"\\u043e\\u0442\\u0432\\u0435\\u0442\", \"\\u043e\\u0442\\u0432\\u0435\\u0442\", \"\\u043e\\u0442\\u0432\\u0435\\u0442\", \"\\u043e\\u0442\\u0432\\u0435\\u0442\", \"\\u043e\\u0442\\u0437\\u044b\\u0432\", \"\\u043e\\u0442\\u0437\\u044b\\u0432\", \"\\u043e\\u0442\\u0437\\u044b\\u0432\", \"\\u043e\\u0442\\u0437\\u044b\\u0432\", \"\\u043e\\u0442\\u0437\\u044b\\u0432\", \"\\u043e\\u0442\\u043d\\u043e\\u0448\\u0435\\u043d\\u0438\\u0435\", \"\\u043e\\u0442\\u043d\\u043e\\u0448\\u0435\\u043d\\u0438\\u0435\", \"\\u043e\\u0442\\u043d\\u043e\\u0448\\u0435\\u043d\\u0438\\u0435\", \"\\u043e\\u0442\\u043d\\u043e\\u0448\\u0435\\u043d\\u0438\\u0435\", \"\\u043e\\u0442\\u043d\\u043e\\u0448\\u0435\\u043d\\u0438\\u0435\", \"\\u043e\\u0442\\u043f\\u0440\\u0430\\u0432\\u0438\\u0442\\u0435\\u043b\\u044c\", \"\\u043e\\u0442\\u0447\\u0451\\u0442\", \"\\u043e\\u0442\\u0447\\u0451\\u0442\", \"\\u043e\\u0444\\u0435\\u0440\\u0442\\u0430\", \"\\u043e\\u0445\\u0440\\u0430\\u043d\\u0430\", \"\\u043e\\u0447\\u0435\\u0440\\u0435\\u0434\\u044c\", \"\\u043e\\u0447\\u0435\\u0440\\u0435\\u0434\\u044c\", \"\\u043e\\u0447\\u0435\\u0440\\u0435\\u0434\\u044c\", \"\\u043e\\u0447\\u0435\\u0440\\u0435\\u0434\\u044c\", \"\\u043e\\u0447\\u0435\\u0440\\u0435\\u0434\\u044c\", \"\\u043f\\u0430\\u0432\\u0435\\u043b\", \"\\u043f\\u0430\\u0440\\u043e\\u043b\\u044c\", \"\\u043f\\u0430\\u0440\\u043e\\u043b\\u044c\", \"\\u043f\\u0430\\u0441\\u043f\\u043e\\u0440\\u0442\", \"\\u043f\\u0430\\u0441\\u043f\\u043e\\u0440\\u0442\", \"\\u043f\\u0430\\u0441\\u043f\\u043e\\u0440\\u0442\", \"\\u043f\\u0430\\u0441\\u043f\\u043e\\u0440\\u0442\", \"\\u043f\\u0435\\u0440\\u0432\\u043e\\u0441\\u0442\\u0440\\u043e\\u0438\\u0442\\u0435\\u043b\\u044c\", \"\\u043f\\u0435\\u0440\\u0435\\u0432\\u044b\\u043f\\u0443\\u0441\\u043a\", \"\\u043f\\u0435\\u0440\\u0435\\u0440\\u0430\\u0441\\u0447\", \"\\u043f\\u0435\\u0440\\u0435\\u0440\\u044b\\u0432\", \"\\u043f\\u0438\\u043d\", \"\\u043f\\u0438\\u043d\\u043a\\u043e\\u0434\", \"\\u043f\\u0438\\u0441\\u044c\\u043c\\u043e\", \"\\u043f\\u0438\\u0441\\u044c\\u043c\\u043e\", \"\\u043f\\u0438\\u0441\\u044c\\u043c\\u043e\", \"\\u043f\\u0438\\u0441\\u044c\\u043c\\u043e\", \"\\u043f\\u043b\\u0430\\u0442\\u0451\\u0436\", \"\\u043f\\u043b\\u0430\\u0442\\u0451\\u0436\", \"\\u043f\\u043b\\u0430\\u0442\\u0451\\u0436\", \"\\u043f\\u043b\\u0430\\u0442\\u0451\\u0436\", \"\\u043f\\u043e\\u0433\\u0430\\u0448\\u0435\\u043d\\u0438\\u0435\", \"\\u043f\\u043e\\u0433\\u0430\\u0448\\u0435\\u043d\\u0438\\u0435\", \"\\u043f\\u043e\\u0433\\u0430\\u0448\\u0435\\u043d\\u0438\\u0435\", \"\\u043f\\u043e\\u0433\\u0430\\u0448\\u0435\\u043d\\u0438\\u0435\", \"\\u043f\\u043e\\u043c\\u0435\\u0449\\u0435\\u043d\\u0438\\u0435\", \"\\u043f\\u043e\\u043c\\u0435\\u0449\\u0435\\u043d\\u0438\\u0435\", \"\\u043f\\u043e\\u043c\\u0435\\u0449\\u0435\\u043d\\u0438\\u0435\", \"\\u043f\\u043e\\u043c\\u0435\\u0449\\u0435\\u043d\\u0438\\u0435\", \"\\u043f\\u043e\\u0440\\u0442\\u0430\\u043b\", \"\\u043f\\u043e\\u0440\\u0443\\u0447\\u0438\\u0442\\u0435\\u043b\\u044c\", \"\\u043f\\u043e\\u0440\\u0443\\u0447\\u0438\\u0442\\u0435\\u043b\\u044c\", \"\\u043f\\u043e\\u0440\\u0443\\u0447\\u0438\\u0442\\u0435\\u043b\\u044c\", \"\\u043f\\u043e\\u0441\\u0435\\u0442\\u0438\\u0442\\u0435\\u043b\\u044c\", \"\\u043f\\u043e\\u0441\\u0435\\u0442\\u0438\\u0442\\u0435\\u043b\\u044c\", \"\\u043f\\u043e\\u0441\\u0435\\u0442\\u0438\\u0442\\u0435\\u043b\\u044c\", \"\\u043f\\u043e\\u0442\\u043e\\u043a\", \"\\u043f\\u043e\\u0442\\u043e\\u043a\", \"\\u043f\\u043e\\u0442\\u043e\\u043a\", \"\\u043f\\u043e\\u0442\\u043e\\u043a\", \"\\u043f\\u0440\\u0435\\u043c\\u0438\\u044f\", \"\\u043f\\u0440\\u0435\\u043c\\u0438\\u044f\", \"\\u043f\\u0440\\u0435\\u0442\\u0435\\u043d\\u0437\\u0438\\u044f\", \"\\u043f\\u0440\\u0435\\u0442\\u0435\\u043d\\u0437\\u0438\\u044f\", \"\\u043f\\u0440\\u0435\\u0442\\u0435\\u043d\\u0437\\u0438\\u044f\", \"\\u043f\\u0440\\u0435\\u0442\\u0435\\u043d\\u0437\\u0438\\u044f\", \"\\u043f\\u0440\\u0435\\u0442\\u0435\\u043d\\u0437\\u0438\\u044f\", \"\\u043f\\u0440\\u0438\\u0445\\u043e\\u0434\", \"\\u043f\\u0440\\u0438\\u0445\\u043e\\u0434\", \"\\u043f\\u0440\\u0438\\u0445\\u043e\\u0434\", \"\\u043f\\u0440\\u0438\\u0445\\u043e\\u0434\", \"\\u043f\\u0440\\u043e\\u0431\\u043b\\u0435\\u043c\\u0430\", \"\\u043f\\u0440\\u043e\\u0431\\u043b\\u0435\\u043c\\u0430\", \"\\u043f\\u0440\\u043e\\u0431\\u043b\\u0435\\u043c\\u0430\", \"\\u043f\\u0440\\u043e\\u0431\\u043b\\u0435\\u043c\\u0430\", \"\\u043f\\u0440\\u043e\\u0431\\u043b\\u0435\\u043c\\u0430\", \"\\u043f\\u0440\\u043e\\u0434\\u0430\\u0432\\u0435\\u0446\", \"\\u043f\\u0440\\u043e\\u0434\\u0430\\u0432\\u0435\\u0446\", \"\\u043f\\u0440\\u043e\\u0434\\u0430\\u0432\\u0435\\u0446\", \"\\u043f\\u0440\\u043e\\u043a\\u0443\\u0440\\u0430\\u0442\\u0443\\u0440\\u0430\", \"\\u043f\\u0440\\u043e\\u0441\\u0440\\u043e\\u0447\\u043a\\u0430\", \"\\u043f\\u0440\\u043e\\u0441\\u0440\\u043e\\u0447\\u043a\\u0430\", \"\\u043f\\u0440\\u043e\\u0441\\u0440\\u043e\\u0447\\u043a\\u0430\", \"\\u043f\\u0440\\u043e\\u0441\\u0440\\u043e\\u0447\\u043a\\u0430\", \"\\u043f\\u0440\\u043e\\u0444\\u0435\\u0441\\u0441\\u0438\\u043e\\u043d\\u0430\\u043b\\u0438\\u0437\\u043c\", \"\\u043f\\u0440\\u043e\\u0444\\u0435\\u0441\\u0441\\u0438\\u043e\\u043d\\u0430\\u043b\\u0438\\u0437\\u043c\", \"\\u043f\\u0440\\u043e\\u0444\\u0435\\u0441\\u0441\\u0438\\u043e\\u043d\\u0430\\u043b\\u0438\\u0437\\u043c\", \"\\u043f\\u0440\\u043e\\u0444\\u0435\\u0441\\u0441\\u0438\\u043e\\u043d\\u0430\\u043b\\u0438\\u0437\\u043c\", \"\\u043f\\u0440\\u043e\\u0445\\u043e\\u0434\", \"\\u043f\\u0440\\u043e\\u0446\\u0435\\u043d\\u0442\", \"\\u043f\\u0440\\u043e\\u0446\\u0435\\u043d\\u0442\", \"\\u043f\\u0440\\u043e\\u0446\\u0435\\u043d\\u0442\", \"\\u043f\\u0440\\u043e\\u0446\\u0435\\u043d\\u0442\", \"\\u043f\\u0440\\u043e\\u0446\\u0435\\u043d\\u0442\", \"\\u0440\\u0430\\u0431\\u043e\\u0442\\u0430\", \"\\u0440\\u0430\\u0431\\u043e\\u0442\\u0430\", \"\\u0440\\u0430\\u0431\\u043e\\u0442\\u0430\", \"\\u0440\\u0430\\u0431\\u043e\\u0442\\u0430\", \"\\u0440\\u0430\\u0431\\u043e\\u0442\\u0430\", \"\\u0440\\u0430\\u0431\\u043e\\u0447\\u0438\\u0439\", \"\\u0440\\u0430\\u0431\\u043e\\u0447\\u0438\\u0439\", \"\\u0440\\u0430\\u0431\\u043e\\u0447\\u0438\\u0439\", \"\\u0440\\u0430\\u0431\\u043e\\u0447\\u0438\\u0439\", \"\\u0440\\u0430\\u0431\\u043e\\u0447\\u0438\\u0439\", \"\\u0440\\u0430\\u0434\\u0443\\u0448\\u0438\\u0435\", \"\\u0440\\u0430\\u0437\\u043c\\u0435\\u0440\", \"\\u0440\\u0430\\u0437\\u043c\\u0435\\u0440\", \"\\u0440\\u0430\\u0437\\u043c\\u0435\\u0440\", \"\\u0440\\u0430\\u0437\\u043c\\u0435\\u0440\", \"\\u0440\\u0430\\u0437\\u044a\\u044f\\u0441\\u043d\\u0435\\u043d\\u0438\\u0435\", \"\\u0440\\u0430\\u0441\\u0441\\u0440\\u043e\\u0447\\u043a\\u0430\", \"\\u0440\\u0430\\u0441\\u0448\\u0438\\u0444\\u0440\\u043e\\u0432\\u043a\\u0430\", \"\\u0440\\u0435\\u0437\\u044e\\u043c\\u0435\", \"\\u0440\\u0435\\u0448\\u0435\\u043d\\u0438\\u0435\", \"\\u0440\\u0435\\u0448\\u0435\\u043d\\u0438\\u0435\", \"\\u0440\\u0435\\u0448\\u0435\\u043d\\u0438\\u0435\", \"\\u0440\\u0435\\u0448\\u0435\\u043d\\u0438\\u0435\", \"\\u0440\\u0435\\u0448\\u0435\\u043d\\u0438\\u0435\", \"\\u0440\\u043e\\u0441\\u043f\\u043e\\u0442\\u0440\\u0435\\u0431\\u043d\\u0430\\u0434\\u0437\\u043e\\u0440\", \"\\u0440\\u043e\\u0441\\u0442\\u043e\\u0432\", \"\\u0440\\u0443\\u0431\\u043b\\u0435\\u0432\\u043e\", \"\\u0440\\u0443\\u0431\\u043b\\u044c\", \"\\u0440\\u0443\\u0431\\u043b\\u044c\", \"\\u0440\\u0443\\u0431\\u043b\\u044c\", \"\\u0440\\u0443\\u0431\\u043b\\u044c\", \"\\u0440\\u0443\\u0441\\u0441\\u043b\\u0430\\u0432\\u0431\\u0430\\u043d\\u043a\", \"\\u0440\\u0443\\u0441\\u0441\\u043b\\u0430\\u0432\\u0431\\u0430\\u043d\\u043a\", \"\\u0441\\u0430\\u0439\\u0442\", \"\\u0441\\u0430\\u0439\\u0442\", \"\\u0441\\u0430\\u0439\\u0442\", \"\\u0441\\u0430\\u0439\\u0442\", \"\\u0441\\u0430\\u0439\\u0442\", \"\\u0441\\u0430\\u043b\\u043e\\u043d\", \"\\u0441\\u0430\\u043b\\u043e\\u043d\", \"\\u0441\\u0430\\u043b\\u043e\\u043d\", \"\\u0441\\u0431\\u0435\\u0440\\u0431\\u0430\\u043d\\u043a\", \"\\u0441\\u0431\\u0435\\u0440\\u0431\\u0430\\u043d\\u043a\", \"\\u0441\\u0431\\u0435\\u0440\\u0431\\u0430\\u043d\\u043a\", \"\\u0441\\u0431\\u0435\\u0440\\u0431\\u0430\\u043d\\u043a\", \"\\u0441\\u0431\\u0435\\u0440\\u0431\\u0430\\u043d\\u043a\", \"\\u0441\\u0432\\u044f\\u0437\\u044c\", \"\\u0441\\u0432\\u044f\\u0437\\u044c\", \"\\u0441\\u0432\\u044f\\u0437\\u044c\", \"\\u0441\\u0432\\u044f\\u0437\\u044c\", \"\\u0441\\u0432\\u044f\\u0437\\u044c\", \"\\u0441\\u0435\\u043a\\u0442\\u043e\\u0440\", \"\\u0441\\u0435\\u0442\\u0435\\u043b\\u044c\", \"\\u0441\\u0438\\u0442\\u0443\\u0430\\u0446\\u0438\\u044f\", \"\\u0441\\u0438\\u0442\\u0443\\u0430\\u0446\\u0438\\u044f\", \"\\u0441\\u0438\\u0442\\u0443\\u0430\\u0446\\u0438\\u044f\", \"\\u0441\\u0438\\u0442\\u0443\\u0430\\u0446\\u0438\\u044f\", \"\\u0441\\u0438\\u0442\\u0443\\u0430\\u0446\\u0438\\u044f\", \"\\u0441\\u043b\\u043e\\u0431\\u043e\\u0434\\u0430\", \"\\u0441\\u043b\\u043e\\u0432\\u043e\", \"\\u0441\\u043b\\u043e\\u0432\\u043e\", \"\\u0441\\u043b\\u043e\\u0432\\u043e\", \"\\u0441\\u043b\\u043e\\u0432\\u043e\", \"\\u0441\\u043b\\u043e\\u0432\\u043e\", \"\\u0441\\u043b\\u0443\\u0436\\u0431\\u0430\", \"\\u0441\\u043b\\u0443\\u0436\\u0431\\u0430\", \"\\u0441\\u043b\\u0443\\u0436\\u0431\\u0430\", \"\\u0441\\u043b\\u0443\\u0436\\u0431\\u0430\", \"\\u0441\\u043c\\u0441\", \"\\u0441\\u043c\\u0441\", \"\\u0441\\u043c\\u0441\", \"\\u0441\\u043c\\u0441\", \"\\u0441\\u043d\\u044f\\u0442\\u0438\\u0435\", \"\\u0441\\u043d\\u044f\\u0442\\u0438\\u0435\", \"\\u0441\\u043d\\u044f\\u0442\\u0438\\u0435\", \"\\u0441\\u043d\\u044f\\u0442\\u0438\\u0435\", \"\\u0441\\u043e\\u043a\\u0440\\u0430\\u0449\", \"\\u0441\\u043e\\u0442\\u0440\\u0443\\u0434\\u043d\\u0438\\u043a\", \"\\u0441\\u043e\\u0442\\u0440\\u0443\\u0434\\u043d\\u0438\\u043a\", \"\\u0441\\u043e\\u0442\\u0440\\u0443\\u0434\\u043d\\u0438\\u043a\", \"\\u0441\\u043e\\u0442\\u0440\\u0443\\u0434\\u043d\\u0438\\u043a\", \"\\u0441\\u043e\\u0442\\u0440\\u0443\\u0434\\u043d\\u0438\\u043a\", \"\\u0441\\u043f\\u0440\\u0430\\u0432\\u043a\\u0430\", \"\\u0441\\u043f\\u0440\\u0430\\u0432\\u043a\\u0430\", \"\\u0441\\u043f\\u0440\\u0430\\u0432\\u043a\\u0430\", \"\\u0441\\u043f\\u0440\\u0430\\u0432\\u043a\\u0430\", \"\\u0441\\u0440\\u0435\\u0434\\u0441\\u0442\\u0432\\u043e\", \"\\u0441\\u0440\\u0435\\u0434\\u0441\\u0442\\u0432\\u043e\", \"\\u0441\\u0440\\u0435\\u0434\\u0441\\u0442\\u0432\\u043e\", \"\\u0441\\u0440\\u0435\\u0434\\u0441\\u0442\\u0432\\u043e\", \"\\u0441\\u0440\\u0435\\u0434\\u0441\\u0442\\u0432\\u043e\", \"\\u0441\\u0440\\u043e\\u043a\", \"\\u0441\\u0440\\u043e\\u043a\", \"\\u0441\\u0440\\u043e\\u043a\", \"\\u0441\\u0440\\u043e\\u043a\", \"\\u0441\\u0441\\u0443\\u0434\\u0430\", \"\\u0441\\u0442\\u0430\\u0432\\u043a\\u0430\", \"\\u0441\\u0442\\u0430\\u0432\\u043a\\u0430\", \"\\u0441\\u0442\\u0430\\u0432\\u043a\\u0430\", \"\\u0441\\u0442\\u0430\\u0432\\u043a\\u0430\", \"\\u0441\\u0442\\u0438\\u043c\\u0443\\u043b\", \"\\u0441\\u0442\\u0440\\u0430\\u0445\\u043e\\u0432\\u0430\\u043d\\u0438\\u0435\", \"\\u0441\\u0442\\u0440\\u0430\\u0445\\u043e\\u0432\\u0430\\u043d\\u0438\\u0435\", \"\\u0441\\u0442\\u0440\\u0430\\u0445\\u043e\\u0432\\u0430\\u043d\\u0438\\u0435\", \"\\u0441\\u0442\\u0440\\u0430\\u0445\\u043e\\u0432\\u0430\\u043d\\u0438\\u0435\", \"\\u0441\\u0442\\u0440\\u0430\\u0445\\u043e\\u0432\\u0430\\u043d\\u0438\\u0435\", \"\\u0441\\u0442\\u0440\\u0430\\u0445\\u043e\\u0432\\u043a\\u0430\", \"\\u0441\\u0442\\u0440\\u0430\\u0445\\u043e\\u0432\\u043a\\u0430\", \"\\u0441\\u0442\\u0440\\u0430\\u0445\\u043e\\u0432\\u043a\\u0430\", \"\\u0441\\u0442\\u0440\\u0430\\u0445\\u043e\\u0432\\u043a\\u0430\", \"\\u0441\\u0442\\u0443\\u043b\", \"\\u0441\\u0443\\u0434\", \"\\u0441\\u0443\\u0434\", \"\\u0441\\u0443\\u0434\", \"\\u0441\\u0443\\u0434\", \"\\u0441\\u0443\\u0434\", \"\\u0441\\u0443\\u043c\\u043c\\u0430\", \"\\u0441\\u0443\\u043c\\u043c\\u0430\", \"\\u0441\\u0443\\u043c\\u043c\\u0430\", \"\\u0441\\u0443\\u043c\\u043c\\u0430\", \"\\u0441\\u0443\\u043c\\u043c\\u0430\", \"\\u0441\\u0447\\u0451\\u0442\", \"\\u0441\\u0447\\u0451\\u0442\", \"\\u0441\\u0447\\u0451\\u0442\", \"\\u0441\\u0447\\u0451\\u0442\", \"\\u0442\\u0430\\u043b\\u043e\\u043d\", \"\\u0442\\u0435\\u043b\\u0435\\u0431\\u0430\\u043d\\u043a\\u0430\", \"\\u0442\\u0435\\u043b\\u0435\\u0431\\u0430\\u043d\\u043a\\u0430\", \"\\u0442\\u0435\\u043b\\u0435\\u0431\\u0430\\u043d\\u043a\\u0430\", \"\\u0442\\u0435\\u043b\\u0435\\u0444\\u043e\\u043d\", \"\\u0442\\u0435\\u043b\\u0435\\u0444\\u043e\\u043d\", \"\\u0442\\u0435\\u043b\\u0435\\u0444\\u043e\\u043d\", \"\\u0442\\u0435\\u043b\\u0435\\u0444\\u043e\\u043d\", \"\\u0442\\u0435\\u043b\\u0435\\u0444\\u043e\\u043d\", \"\\u0442\\u0435\\u0445\\u043f\\u043e\\u0434\\u0434\\u0435\\u0440\\u0436\\u043a\\u0430\", \"\\u0442\\u0435\\u0445\\u043f\\u043e\\u0434\\u0434\\u0435\\u0440\\u0436\\u043a\\u0430\", \"\\u0442\\u0435\\u0447\\u0435\\u043d\\u0438\\u0435\", \"\\u0442\\u0435\\u0447\\u0435\\u043d\\u0438\\u0435\", \"\\u0442\\u0435\\u0447\\u0435\\u043d\\u0438\\u0435\", \"\\u0442\\u0435\\u0447\\u0435\\u043d\\u0438\\u0435\", \"\\u0442\\u0435\\u0447\\u0435\\u043d\\u0438\\u0435\", \"\\u0442\\u043e\\u0431\\u043e\\u043b\\u044c\\u0441\\u043a\", \"\\u0442\\u043e\\u043b\\u044c\\u044f\\u0442\\u0442\\u0438\", \"\\u0442\\u0440\\u0430\\u043d\\u0437\\u0430\\u043a\\u0446\\u0438\\u044f\", \"\\u0442\\u0440\\u0430\\u043d\\u0437\\u0430\\u043a\\u0446\\u0438\\u044f\", \"\\u0442\\u0440\\u0430\\u043d\\u0437\\u0430\\u043a\\u0446\\u0438\\u044f\", \"\\u0442\\u0440\\u0430\\u043d\\u0448\", \"\\u0442\\u044b\\u0441\\u044f\\u0447\\u0430\", \"\\u0442\\u044b\\u0441\\u044f\\u0447\\u0430\", \"\\u0442\\u044b\\u0441\\u044f\\u0447\\u0430\", \"\\u0442\\u044b\\u0441\\u044f\\u0447\\u0430\", \"\\u0443\\u043d\\u0438\\u0444\\u0438\\u043d\\u0430\", \"\\u0443\\u043f\\u0440\\u0430\\u0432\\u0430\", \"\\u0443\\u0440\\u0430\\u043b\\u0441\\u0438\\u0431\", \"\\u0443\\u0440\\u0430\\u043b\\u0441\\u0438\\u0431\", \"\\u0443\\u0441\\u043b\\u0443\\u0433\\u0430\", \"\\u0443\\u0441\\u043b\\u0443\\u0433\\u0430\", \"\\u0443\\u0441\\u043b\\u0443\\u0433\\u0430\", \"\\u0443\\u0441\\u043b\\u0443\\u0433\\u0430\", \"\\u0443\\u0441\\u043b\\u0443\\u0433\\u0430\", \"\\u0444\\u0438\\u0437\\u043b\\u0438\\u0446\\u043e\", \"\\u0444\\u0438\\u043b\\u0438\\u0430\\u043b\", \"\\u0444\\u0438\\u043b\\u0438\\u0430\\u043b\", \"\\u0444\\u0438\\u043b\\u0438\\u0430\\u043b\", \"\\u0444\\u0438\\u043b\\u0438\\u0430\\u043b\", \"\\u0444\\u0438\\u043b\\u0438\\u0430\\u043b\", \"\\u0444\\u043d\\u0441\", \"\\u0446\\u0435\\u043d\\u0442\\u0440\", \"\\u0446\\u0435\\u043d\\u0442\\u0440\", \"\\u0446\\u0435\\u043d\\u0442\\u0440\", \"\\u0446\\u0435\\u043d\\u0442\\u0440\", \"\\u0447\\u0430\\u0441\", \"\\u0447\\u0430\\u0441\", \"\\u0447\\u0430\\u0441\", \"\\u0447\\u0430\\u0441\", \"\\u0447\\u0430\\u0441\", \"\\u0447\\u0435\\u043b\\u043e\\u0432\\u0435\\u043a\", \"\\u0447\\u0435\\u043b\\u043e\\u0432\\u0435\\u043a\", \"\\u0447\\u0435\\u043b\\u043e\\u0432\\u0435\\u043a\", \"\\u0447\\u0435\\u043b\\u043e\\u0432\\u0435\\u043a\", \"\\u0447\\u0435\\u043b\\u043e\\u0432\\u0435\\u043a\", \"\\u0447\\u0435\\u0441\\u0442\\u044c\", \"\\u0447\\u0435\\u0441\\u0442\\u044c\", \"\\u0447\\u0435\\u0442\\u0432\\u0451\\u0440\\u043a\\u0430\", \"\\u0447\\u0438\\u043f\", \"\\u0447\\u0443\\u0432\\u0441\\u0442\\u0432\\u043e\", \"\\u0447\\u0443\\u0432\\u0441\\u0442\\u0432\\u043e\", \"\\u0447\\u0443\\u0432\\u0441\\u0442\\u0432\\u043e\", \"\\u0448\\u0432\\u0430\\u0440\\u0446\", \"\\u0448\\u0442\\u0440\\u0430\\u0444\", \"\\u0448\\u0442\\u0440\\u0430\\u0444\", \"\\u0448\\u0442\\u0440\\u0430\\u0444\", \"\\u0449\\u0451\\u043b\\u043a\", \"\\u044d\\u0442\\u0430\\u0436\", \"\\u044d\\u0442\\u0430\\u0436\", \"\\u044d\\u0442\\u0430\\u0436\", \"\\u044d\\u0442\\u0430\\u0436\", \"\\u044e\\u0431\\u043a\\u0430\", \"\\u044e\\u043b\\u044f\", \"\\u044e\\u043d\\u0438\\u043a\\u0440\\u0435\\u0434\\u0438\\u0442\", \"\\u044f\\u0447\\u0435\\u0439\\u043a\\u0430\"]}, \"R\": 30, \"lambda.step\": 0.01, \"plot.opts\": {\"xlab\": \"PC1\", \"ylab\": \"PC2\"}, \"topic.order\": [4, 1, 5, 2, 3]};\n",
       "\n",
       "function LDAvis_load_lib(url, callback){\n",
       "  var s = document.createElement('script');\n",
       "  s.src = url;\n",
       "  s.async = true;\n",
       "  s.onreadystatechange = s.onload = callback;\n",
       "  s.onerror = function(){console.warn(\"failed to load library \" + url);};\n",
       "  document.getElementsByTagName(\"head\")[0].appendChild(s);\n",
       "}\n",
       "\n",
       "if(typeof(LDAvis) !== \"undefined\"){\n",
       "   // already loaded: just create the visualization\n",
       "   !function(LDAvis){\n",
       "       new LDAvis(\"#\" + \"ldavis_el594321126463548889948824140\", ldavis_el594321126463548889948824140_data);\n",
       "   }(LDAvis);\n",
       "}else if(typeof define === \"function\" && define.amd){\n",
       "   // require.js is available: use it to load d3/LDAvis\n",
       "   require.config({paths: {d3: \"https://cdnjs.cloudflare.com/ajax/libs/d3/3.5.5/d3.min\"}});\n",
       "   require([\"d3\"], function(d3){\n",
       "      window.d3 = d3;\n",
       "      LDAvis_load_lib(\"https://cdn.rawgit.com/bmabey/pyLDAvis/files/ldavis.v1.0.0.js\", function(){\n",
       "        new LDAvis(\"#\" + \"ldavis_el594321126463548889948824140\", ldavis_el594321126463548889948824140_data);\n",
       "      });\n",
       "    });\n",
       "}else{\n",
       "    // require.js not available: dynamically load d3 & LDAvis\n",
       "    LDAvis_load_lib(\"https://cdnjs.cloudflare.com/ajax/libs/d3/3.5.5/d3.min.js\", function(){\n",
       "         LDAvis_load_lib(\"https://cdn.rawgit.com/bmabey/pyLDAvis/files/ldavis.v1.0.0.js\", function(){\n",
       "                 new LDAvis(\"#\" + \"ldavis_el594321126463548889948824140\", ldavis_el594321126463548889948824140_data);\n",
       "            })\n",
       "         });\n",
       "}\n",
       "</script>"
      ],
      "text/plain": [
       "<IPython.core.display.HTML object>"
      ]
     },
     "execution_count": 112,
     "metadata": {},
     "output_type": "execute_result"
    }
   ],
   "source": [
    "import pyLDAvis.gensim\n",
    "vis = pyLDAvis.gensim.prepare(ldamodel, corpus, dictionary)\n",
    "pyLDAvis.display(vis)"
   ]
  },
  {
   "cell_type": "markdown",
   "metadata": {},
   "source": [
    "##### Рассмотрим темы, которые возникают при анализе Сбербанка"
   ]
  },
  {
   "cell_type": "code",
   "execution_count": 120,
   "metadata": {},
   "outputs": [
    {
     "data": {
      "text/plain": [
       "Сбербанк России     92\n",
       "Альфа-Банк          50\n",
       "ВТБ 24              38\n",
       "Русский Стандарт    33\n",
       "Хоум Кредит Банк    31\n",
       "Name: bank_name, dtype: int64"
      ]
     },
     "execution_count": 120,
     "metadata": {},
     "output_type": "execute_result"
    }
   ],
   "source": [
    "dataset.bank_name.value_counts().head()"
   ]
  },
  {
   "cell_type": "code",
   "execution_count": 122,
   "metadata": {},
   "outputs": [],
   "source": [
    "from gensim import corpora, models\n",
    "\n",
    "dictionary = corpora.Dictionary(dataset[(dataset.bank_name=='Сбербанк России')].nouns.apply(drop_stoplemmas).str.split())\n",
    "corpus = [dictionary.doc2bow(text) for text in dataset.nouns.apply(drop_stoplemmas).str.split()]"
   ]
  },
  {
   "cell_type": "code",
   "execution_count": 123,
   "metadata": {},
   "outputs": [
    {
     "name": "stdout",
     "output_type": "stream",
     "text": [
      "CPU times: user 15.6 s, sys: 45.5 ms, total: 15.7 s\n",
      "Wall time: 15.7 s\n"
     ]
    }
   ],
   "source": [
    "%time ldamodel = gensim.models.ldamodel.LdaModel(corpus, num_topics=5, id2word = dictionary, passes=20)"
   ]
  },
  {
   "cell_type": "code",
   "execution_count": 124,
   "metadata": {},
   "outputs": [
    {
     "data": {
      "text/plain": [
       "[(0,\n",
       "  '0.064*\"кредит\" + 0.029*\"заявка\" + 0.024*\"договор\" + 0.020*\"год\" + 0.020*\"документ\"'),\n",
       " (1,\n",
       "  '0.063*\"деньга\" + 0.040*\"банкомат\" + 0.037*\"счёт\" + 0.037*\"рубль\" + 0.032*\"сумма\"'),\n",
       " (2,\n",
       "  '0.030*\"клиент\" + 0.029*\"сотрудник\" + 0.019*\"год\" + 0.017*\"счёт\" + 0.017*\"документ\"'),\n",
       " (3,\n",
       "  '0.129*\"карта\" + 0.018*\"заявление\" + 0.017*\"год\" + 0.017*\"интернет\" + 0.016*\"счёт\"'),\n",
       " (4,\n",
       "  '0.073*\"вклад\" + 0.036*\"очередь\" + 0.031*\"клиент\" + 0.022*\"касса\" + 0.020*\"минута\"')]"
      ]
     },
     "execution_count": 124,
     "metadata": {},
     "output_type": "execute_result"
    }
   ],
   "source": [
    "ldamodel.print_topics(num_topics=5, num_words=5)"
   ]
  },
  {
   "cell_type": "code",
   "execution_count": 125,
   "metadata": {
    "scrolled": false
   },
   "outputs": [
    {
     "name": "stderr",
     "output_type": "stream",
     "text": [
      "/anaconda3/lib/python3.7/site-packages/pyLDAvis/_prepare.py:257: FutureWarning: Sorting because non-concatenation axis is not aligned. A future version\n",
      "of pandas will change to not sort by default.\n",
      "\n",
      "To accept the future behavior, pass 'sort=False'.\n",
      "\n",
      "To retain the current behavior and silence the warning, pass 'sort=True'.\n",
      "\n",
      "  return pd.concat([default_term_info] + list(topic_dfs))\n"
     ]
    },
    {
     "data": {
      "text/html": [
       "\n",
       "<link rel=\"stylesheet\" type=\"text/css\" href=\"https://cdn.rawgit.com/bmabey/pyLDAvis/files/ldavis.v1.0.0.css\">\n",
       "\n",
       "\n",
       "<div id=\"ldavis_el594321126041382566835300569\"></div>\n",
       "<script type=\"text/javascript\">\n",
       "\n",
       "var ldavis_el594321126041382566835300569_data = {\"mdsDat\": {\"x\": [-0.01827946361260918, 0.0189535317390182, -0.08604372921360626, -0.08618069871436868, 0.17155035980156566], \"y\": [0.0952502999684939, -0.03189031064684385, 0.07791225457771074, -0.12914517871944592, -0.012127065179915077], \"topics\": [1, 2, 3, 4, 5], \"cluster\": [1, 1, 1, 1, 1], \"Freq\": [27.97769546508789, 20.74951171875, 19.121387481689453, 16.448463439941406, 15.702947616577148]}, \"tinfo\": {\"Category\": [\"Default\", \"Default\", \"Default\", \"Default\", \"Default\", \"Default\", \"Default\", \"Default\", \"Default\", \"Default\", \"Default\", \"Default\", \"Default\", \"Default\", \"Default\", \"Default\", \"Default\", \"Default\", \"Default\", \"Default\", \"Default\", \"Default\", \"Default\", \"Default\", \"Default\", \"Default\", \"Default\", \"Default\", \"Default\", \"Default\", \"Topic1\", \"Topic1\", \"Topic1\", \"Topic1\", \"Topic1\", \"Topic1\", \"Topic1\", \"Topic1\", \"Topic1\", \"Topic1\", \"Topic1\", \"Topic1\", \"Topic1\", \"Topic1\", \"Topic1\", \"Topic1\", \"Topic1\", \"Topic1\", \"Topic1\", \"Topic1\", \"Topic1\", \"Topic1\", \"Topic1\", \"Topic1\", \"Topic1\", \"Topic1\", \"Topic1\", \"Topic1\", \"Topic1\", \"Topic1\", \"Topic1\", \"Topic1\", \"Topic1\", \"Topic1\", \"Topic1\", \"Topic1\", \"Topic1\", \"Topic1\", \"Topic1\", \"Topic1\", \"Topic1\", \"Topic1\", \"Topic1\", \"Topic1\", \"Topic1\", \"Topic1\", \"Topic1\", \"Topic1\", \"Topic1\", \"Topic1\", \"Topic1\", \"Topic1\", \"Topic1\", \"Topic1\", \"Topic1\", \"Topic1\", \"Topic1\", \"Topic1\", \"Topic1\", \"Topic1\", \"Topic1\", \"Topic1\", \"Topic1\", \"Topic1\", \"Topic1\", \"Topic1\", \"Topic1\", \"Topic1\", \"Topic1\", \"Topic1\", \"Topic1\", \"Topic2\", \"Topic2\", \"Topic2\", \"Topic2\", \"Topic2\", \"Topic2\", \"Topic2\", \"Topic2\", \"Topic2\", \"Topic2\", \"Topic2\", \"Topic2\", \"Topic2\", \"Topic2\", \"Topic2\", \"Topic2\", \"Topic2\", \"Topic2\", \"Topic2\", \"Topic2\", \"Topic2\", \"Topic2\", \"Topic2\", \"Topic2\", \"Topic2\", \"Topic2\", \"Topic2\", \"Topic2\", \"Topic2\", \"Topic2\", \"Topic2\", \"Topic2\", \"Topic2\", \"Topic2\", \"Topic2\", \"Topic2\", \"Topic2\", \"Topic2\", \"Topic2\", \"Topic2\", \"Topic2\", \"Topic2\", \"Topic2\", \"Topic2\", \"Topic2\", \"Topic2\", \"Topic2\", \"Topic2\", \"Topic2\", \"Topic2\", \"Topic2\", \"Topic2\", \"Topic2\", \"Topic2\", \"Topic2\", \"Topic2\", \"Topic2\", \"Topic2\", \"Topic2\", \"Topic2\", \"Topic2\", \"Topic2\", \"Topic2\", \"Topic2\", \"Topic2\", \"Topic2\", \"Topic2\", \"Topic2\", \"Topic2\", \"Topic2\", \"Topic2\", \"Topic2\", \"Topic2\", \"Topic2\", \"Topic2\", \"Topic2\", \"Topic2\", \"Topic2\", \"Topic3\", \"Topic3\", \"Topic3\", \"Topic3\", \"Topic3\", \"Topic3\", \"Topic3\", \"Topic3\", \"Topic3\", \"Topic3\", \"Topic3\", \"Topic3\", \"Topic3\", \"Topic3\", \"Topic3\", \"Topic3\", \"Topic3\", \"Topic3\", \"Topic3\", \"Topic3\", \"Topic3\", \"Topic3\", \"Topic3\", \"Topic3\", \"Topic3\", \"Topic3\", \"Topic3\", \"Topic3\", \"Topic3\", \"Topic3\", \"Topic3\", \"Topic3\", \"Topic3\", \"Topic3\", \"Topic3\", \"Topic3\", \"Topic3\", \"Topic3\", \"Topic3\", \"Topic3\", \"Topic3\", \"Topic3\", \"Topic3\", \"Topic3\", \"Topic3\", \"Topic3\", \"Topic3\", \"Topic3\", \"Topic3\", \"Topic3\", \"Topic3\", \"Topic3\", \"Topic3\", \"Topic3\", \"Topic3\", \"Topic3\", \"Topic3\", \"Topic3\", \"Topic3\", \"Topic3\", \"Topic3\", \"Topic3\", \"Topic3\", \"Topic3\", \"Topic3\", \"Topic3\", \"Topic4\", \"Topic4\", \"Topic4\", \"Topic4\", \"Topic4\", \"Topic4\", \"Topic4\", \"Topic4\", \"Topic4\", \"Topic4\", \"Topic4\", \"Topic4\", \"Topic4\", \"Topic4\", \"Topic4\", \"Topic4\", \"Topic4\", \"Topic4\", \"Topic4\", \"Topic4\", \"Topic4\", \"Topic4\", \"Topic4\", \"Topic4\", \"Topic4\", \"Topic4\", \"Topic4\", \"Topic4\", \"Topic4\", \"Topic4\", \"Topic4\", \"Topic4\", \"Topic4\", \"Topic4\", \"Topic4\", \"Topic4\", \"Topic4\", \"Topic4\", \"Topic4\", \"Topic4\", \"Topic4\", \"Topic4\", \"Topic4\", \"Topic4\", \"Topic4\", \"Topic4\", \"Topic4\", \"Topic4\", \"Topic4\", \"Topic4\", \"Topic4\", \"Topic4\", \"Topic4\", \"Topic4\", \"Topic4\", \"Topic4\", \"Topic4\", \"Topic4\", \"Topic4\", \"Topic4\", \"Topic4\", \"Topic4\", \"Topic4\", \"Topic4\", \"Topic5\", \"Topic5\", \"Topic5\", \"Topic5\", \"Topic5\", \"Topic5\", \"Topic5\", \"Topic5\", \"Topic5\", \"Topic5\", \"Topic5\", \"Topic5\", \"Topic5\", \"Topic5\", \"Topic5\", \"Topic5\", \"Topic5\", \"Topic5\", \"Topic5\", \"Topic5\", \"Topic5\", \"Topic5\", \"Topic5\", \"Topic5\", \"Topic5\", \"Topic5\", \"Topic5\", \"Topic5\", \"Topic5\", \"Topic5\", \"Topic5\", \"Topic5\", \"Topic5\", \"Topic5\", \"Topic5\", \"Topic5\", \"Topic5\", \"Topic5\", \"Topic5\", \"Topic5\", \"Topic5\", \"Topic5\", \"Topic5\", \"Topic5\", \"Topic5\", \"Topic5\", \"Topic5\", \"Topic5\", \"Topic5\", \"Topic5\", \"Topic5\", \"Topic5\", \"Topic5\", \"Topic5\", \"Topic5\", \"Topic5\", \"Topic5\", \"Topic5\", \"Topic5\", \"Topic5\", \"Topic5\", \"Topic5\", \"Topic5\", \"Topic5\", \"Topic5\", \"Topic5\", \"Topic5\"], \"Freq\": [1806.0, 505.0, 760.0, 831.0, 410.0, 338.0, 267.0, 485.0, 671.0, 490.0, 329.0, 191.0, 724.0, 115.0, 325.0, 310.0, 149.0, 236.0, 446.0, 108.0, 308.0, 336.0, 136.0, 78.0, 69.0, 204.0, 125.0, 111.0, 281.0, 180.0, 45.10228729248047, 106.0448226928711, 17.80299949645996, 32.59192657470703, 21.40949249267578, 20.28579330444336, 8.984620094299316, 7.998673439025879, 7.041741847991943, 22.769664764404297, 6.0482707023620605, 6.041398525238037, 6.892400741577148, 6.010343074798584, 16.25526237487793, 11.94300651550293, 12.749655723571777, 6.789673805236816, 8.488993644714355, 5.065775394439697, 32.60271453857422, 1549.465087890625, 45.8628044128418, 20.88474464416504, 8.276668548583984, 4.970183849334717, 6.579470634460449, 4.109430313110352, 4.109228134155273, 4.097668647766113, 45.29492950439453, 28.353736877441406, 13.663288116455078, 39.074462890625, 206.11004638671875, 12.016880989074707, 57.36317443847656, 14.074942588806152, 57.468040466308594, 69.73966979980469, 89.12335205078125, 114.50384521484375, 219.19876098632812, 51.48442459106445, 104.02420806884766, 45.48524475097656, 45.50638961791992, 48.99850082397461, 80.51995849609375, 128.787353515625, 95.21630096435547, 93.59838104248047, 140.62779235839844, 152.25965881347656, 116.70084381103516, 177.85353088378906, 196.1233673095703, 96.70114135742188, 126.5544662475586, 206.52850341796875, 133.8438720703125, 110.75003051757812, 87.02407836914062, 83.7299575805664, 98.56483459472656, 143.98486328125, 118.61687469482422, 130.59292602539062, 131.41363525390625, 77.12152099609375, 89.8755111694336, 11.497271537780762, 13.21444320678711, 17.3800048828125, 7.7143964767456055, 10.220138549804688, 5.809968948364258, 15.768656730651855, 4.883257865905762, 4.8461761474609375, 5.653866767883301, 4.7427520751953125, 3.948312282562256, 8.625140190124512, 3.919771671295166, 4.694732666015625, 6.051370620727539, 3.017502546310425, 3.016651153564453, 3.015526294708252, 3.0151290893554688, 3.015126943588257, 3.0121185779571533, 11.304274559020996, 3.0095601081848145, 3.009572982788086, 3.0072827339172363, 3.006282329559326, 3.003314971923828, 2.9749293327331543, 7.403284549713135, 7.387406826019287, 14.016352653503418, 17.221559524536133, 87.69657135009766, 9.287291526794434, 19.56498908996582, 9.124807357788086, 5.7714152336120605, 61.1358528137207, 24.327966690063477, 15.149683952331543, 62.83667755126953, 19.712156295776367, 20.19818687438965, 153.0516357421875, 15.406893730163574, 58.6771354675293, 25.126617431640625, 260.4490661621094, 74.95942687988281, 264.0523376464844, 70.74250030517578, 51.0169792175293, 19.1308650970459, 93.75247192382812, 77.15419006347656, 116.30342864990234, 138.5400390625, 47.25286102294922, 141.74444580078125, 112.55133819580078, 153.4818572998047, 170.87351989746094, 79.29965209960938, 93.79158782958984, 43.2913932800293, 90.70066833496094, 46.091243743896484, 99.57389068603516, 132.56504821777344, 45.40434646606445, 80.08782958984375, 74.55863189697266, 65.39303588867188, 56.904788970947266, 51.89945983886719, 69.64128875732422, 53.48501968383789, 21.485145568847656, 7.884950637817383, 49.120094299316406, 7.854762554168701, 7.84368371963501, 9.562222480773926, 8.57883071899414, 6.74664306640625, 6.717583179473877, 5.033535480499268, 5.02139949798584, 5.019047260284424, 4.960056781768799, 11.593214988708496, 7.360851287841797, 8.903557777404785, 5.614137172698975, 3.873478889465332, 3.0990006923675537, 4.646572589874268, 3.097280502319336, 3.094759464263916, 3.0947067737579346, 326.9891662597656, 3.0737099647521973, 37.619632720947266, 3.055124044418335, 25.934764862060547, 18.838769912719727, 45.92083740234375, 47.24264144897461, 517.4660034179688, 91.32662200927734, 301.4635314941406, 44.04102325439453, 88.6999282836914, 261.0179138183594, 161.23312377929688, 306.07275390625, 29.75263786315918, 30.996028900146484, 101.46348571777344, 75.98194122314453, 101.42607879638672, 24.624515533447266, 85.14424896240234, 134.25169372558594, 59.32422637939453, 33.74671936035156, 19.368452072143555, 170.85655212402344, 92.09107971191406, 71.45774841308594, 159.4375457763672, 67.20532989501953, 54.43156051635742, 75.33697509765625, 147.3573455810547, 52.589942932128906, 72.61112976074219, 42.661556243896484, 67.02301025390625, 50.63399124145508, 57.11968994140625, 59.63862228393555, 49.42698287963867, 13.111212730407715, 65.3646011352539, 11.045130729675293, 11.044351577758789, 105.65371704101562, 24.57111930847168, 9.090102195739746, 5.198575973510742, 49.95143508911133, 5.174205780029297, 5.126058578491211, 10.188216209411621, 5.093351364135742, 10.194784164428711, 12.618261337280273, 4.1950883865356445, 4.1588263511657715, 9.103373527526855, 5.660027980804443, 3.198707342147827, 3.175851583480835, 9.468442916870117, 5.525458812713623, 3.136836051940918, 8.59499454498291, 53.502296447753906, 204.35061645507812, 5.128969192504883, 2.1986477375030518, 2.1985371112823486, 29.083709716796875, 5.06003475189209, 33.72361373901367, 454.211669921875, 51.2949104309082, 23.923994064331055, 64.10536193847656, 169.6691436767578, 49.08830261230469, 81.21905517578125, 89.596923828125, 137.74000549316406, 56.22132110595703, 18.85499382019043, 88.68855285644531, 53.70994567871094, 65.07674407958984, 33.90455627441406, 124.23362731933594, 47.07221603393555, 61.02360534667969, 144.46279907226562, 116.99178314208984, 59.49399948120117, 73.66300201416016, 67.49734497070312, 82.90609741210938, 51.15950393676758, 67.84830474853516, 68.3904800415039, 54.21537780761719, 59.80064392089844, 54.337337493896484, 52.70183181762695, 492.58612060546875, 21.038467407226562, 45.25832748413086, 6.874001979827881, 5.930922985076904, 5.929647445678711, 7.232555389404297, 14.362968444824219, 64.61662292480469, 10.904256820678711, 3.093653917312622, 3.0914313793182373, 3.088750123977661, 3.8369994163513184, 3.7969553470611572, 13.605968475341797, 145.37783813476562, 43.53740310668945, 4.24718713760376, 2.1267542839050293, 7.112219333648682, 4.973850250244141, 2.1219539642333984, 2.1185710430145264, 8.499116897583008, 2.1158618927001953, 241.8916473388672, 2.070112705230713, 20.14844512939453, 4.0618815422058105, 4.734189510345459, 31.23018455505371, 7.301204681396484, 25.35201072692871, 43.98402786254883, 75.23637390136719, 24.835771560668945, 17.663036346435547, 47.74388885498047, 13.596640586853027, 13.023407936096191, 21.338205337524414, 106.41197967529297, 131.6088409423828, 38.6007194519043, 210.68096923828125, 47.844173431396484, 89.15994262695312, 108.49105072021484, 28.300329208374023, 48.00222396850586, 126.1826400756836, 101.35283660888672, 44.77864456176758, 58.45365905761719, 58.639400482177734, 44.14249038696289, 120.68489837646484, 89.71244812011719, 100.03790283203125, 96.89248657226562, 39.99394226074219, 57.27003479003906, 51.262855529785156, 50.19247055053711, 53.36723327636719, 49.29835510253906], \"Term\": [\"\\u043a\\u0430\\u0440\\u0442\\u0430\", \"\\u0432\\u043a\\u043b\\u0430\\u0434\", \"\\u043a\\u0440\\u0435\\u0434\\u0438\\u0442\", \"\\u0434\\u0435\\u043d\\u044c\\u0433\\u0430\", \"\\u0431\\u0430\\u043d\\u043a\\u043e\\u043c\\u0430\\u0442\", \"\\u043e\\u0447\\u0435\\u0440\\u0435\\u0434\\u044c\", \"\\u0437\\u0430\\u044f\\u0432\\u043a\\u0430\", \"\\u0440\\u0443\\u0431\\u043b\\u044c\", \"\\u0441\\u0447\\u0451\\u0442\", \"\\u0441\\u0443\\u043c\\u043c\\u0430\", \"\\u0434\\u043e\\u043a\\u0443\\u043c\\u0435\\u043d\\u0442\", \"\\u043a\\u0430\\u0441\\u0441\\u0430\", \"\\u043a\\u043b\\u0438\\u0435\\u043d\\u0442\", \"\\u0441\\u0442\\u0440\\u0430\\u0445\\u043e\\u0432\\u043a\\u0430\", \"\\u0434\\u043e\\u0433\\u043e\\u0432\\u043e\\u0440\", \"\\u043f\\u043b\\u0430\\u0442\\u0451\\u0436\", \"\\u0437\\u0430\\u0434\\u043e\\u043b\\u0436\\u0435\\u043d\\u043d\\u043e\\u0441\\u0442\\u044c\", \"\\u043f\\u0440\\u043e\\u0446\\u0435\\u043d\\u0442\", \"\\u0437\\u0430\\u044f\\u0432\\u043b\\u0435\\u043d\\u0438\\u0435\", \"\\u043b\\u0438\\u043c\\u0438\\u0442\", \"\\u043c\\u0438\\u043d\\u0443\\u0442\\u0430\", \"\\u043e\\u0431\\u0441\\u043b\\u0443\\u0436\\u0438\\u0432\\u0430\\u043d\\u0438\\u0435\", \"\\u0442\\u044b\\u0441\\u044f\\u0447\\u0430\", \"\\u0434\\u0435\\u043f\\u043e\\u0437\\u0438\\u0442\", \"\\u0441\\u0442\\u0440\\u0430\\u0445\\u043e\\u0432\\u0430\\u043d\\u0438\\u0435\", \"\\u0443\\u0441\\u043b\\u043e\\u0432\\u0438\\u0435\", \"\\u0441\\u043f\\u0440\\u0430\\u0432\\u043a\\u0430\", \"\\u0441\\u0442\\u0430\\u0432\\u043a\\u0430\", \"\\u0438\\u043d\\u0442\\u0435\\u0440\\u043d\\u0435\\u0442\", \"\\u043c\\u0435\\u043d\\u0435\\u0434\\u0436\\u0435\\u0440\", \"\\u043f\\u0435\\u0440\\u0435\\u0432\\u044b\\u043f\\u0443\\u0441\\u043a\", \"\\u043b\\u0438\\u043c\\u0438\\u0442\", \"\\u0434\\u043e\\u0441\\u0442\\u0430\\u0432\\u043a\\u0430\", \"\\u043f\\u0438\\u043d\", \"\\u043d\\u0430\\u043f\\u0438\\u0441\\u0430\\u043d\\u0438\\u0435\", \"\\u0431\\u043b\\u043e\\u043a\\u0438\\u0440\\u043e\\u0432\\u043a\\u0430\", \"\\u0433\\u043e\\u043b\\u0434\", \"\\u0430\\u0432\\u0442\\u043e\\u0440\\u0438\\u0437\\u0430\\u0446\\u0438\\u044f\", \"\\u0430\\u044d\\u0440\\u043e\\u0444\\u043b\\u043e\\u0442\", \"\\u043f\\u0430\\u0440\\u043e\\u043b\\u044c\", \"\\u043d\\u043e\\u0432\\u0433\\u043e\\u0440\\u043e\\u0434\", \"\\u0430\\u0440\\u0445\\u0430\\u043d\\u0433\\u0435\\u043b\\u044c\\u0441\\u043a\", \"\\u043e\\u043d\\u043b\\u0430\\u0439\\u043d\\u0435\", \"\\u043c\\u043e\\u0448\\u0435\\u043d\\u043d\\u0438\\u043a\", \"\\u043c\\u0442\\u0441\", \"\\u0430\\u043a\\u0442\\u0438\\u0432\\u0430\\u0446\\u0438\\u044f\", \"\\u043d\\u0435\\u0432\\u043e\\u0437\\u043c\\u043e\\u0436\\u043d\\u043e\\u0441\\u0442\\u044c\", \"\\u0432\\u0438\\u043a\\u0442\\u043e\\u0440\\u0438\\u044f\", \"\\u0432\\u0435\\u0440\\u0441\\u0438\\u044f\", \"\\u0437\\u0430\\u0449\\u0438\\u0442\\u0430\", \"\\u0438\\u0441\\u043f\\u043e\\u043b\\u044c\\u0437\\u043e\\u0432\\u0430\\u043d\\u0438\\u0435\", \"\\u043a\\u0430\\u0440\\u0442\\u0430\", \"\\u0432\\u044b\\u043f\\u0443\\u0441\\u043a\", \"\\u043f\\u043e\\u043b\\u044c\\u0437\\u043e\\u0432\\u0430\\u043d\\u0438\\u0435\", \"\\u043a\\u043b\\u0430\\u0441\\u0441\\u0438\\u043a\", \"\\u043e\\u0431\\u043c\\u0435\\u043d\", \"\\u0437\\u0430\\u043f\\u0440\\u0435\\u0442\", \"\\u0432\\u043e\\u0440\\u043a\\u0443\\u0442\\u0430\", \"\\u043d\\u0435\\u0434\\u0435\\u043b\\u044c\\u043a\\u0430\", \"\\u044d\\u043a\\u0432\\u0430\\u0439\\u0440\\u0435\\u0440\", \"\\u043a\\u0440\\u0435\\u0434\\u0438\\u0442\\u043a\\u0430\", \"\\u0432\\u0438\\u0437\\u0430\", \"\\u0434\\u0435\\u0440\\u0436\\u0430\\u0442\\u0435\\u043b\\u044c\", \"\\u043a\\u043e\\u0434\", \"\\u0438\\u043d\\u0442\\u0435\\u0440\\u043d\\u0435\\u0442\", \"\\u043c\\u0430\\u0441\\u0442\\u0435\\u0440\\u043a\\u0430\\u0440\\u0434\", \"\\u0432\\u044b\\u043f\\u0438\\u0441\\u043a\\u0430\", \"\\u0441\\u0435\\u0440\\u0435\\u0434\\u0438\\u043d\\u0430\", \"\\u0441\\u043d\\u044f\\u0442\\u0438\\u0435\", \"\\u043f\\u043e\\u0434\\u0434\\u0435\\u0440\\u0436\\u043a\\u0430\", \"\\u0441\\u043b\\u0443\\u0436\\u0431\\u0430\", \"\\u0441\\u043c\\u0441\", \"\\u0437\\u0430\\u044f\\u0432\\u043b\\u0435\\u043d\\u0438\\u0435\", \"\\u043f\\u043e\\u043a\\u0443\\u043f\\u043a\\u0430\", \"\\u0446\\u0435\\u043d\\u0442\\u0440\", \"\\u043f\\u0435\\u0440\\u0438\\u043e\\u0434\", \"\\u0442\\u0430\\u0440\\u0438\\u0444\", \"\\u043a\\u043e\\u043b\\u043b\", \"\\u043e\\u043f\\u0435\\u0440\\u0430\\u0442\\u043e\\u0440\", \"\\u043d\\u043e\\u043c\\u0435\\u0440\", \"\\u043a\\u043e\\u043c\\u0438\\u0441\\u0441\\u0438\\u044f\", \"\\u043d\\u0435\\u0434\\u0435\\u043b\\u044f\", \"\\u0442\\u0435\\u043b\\u0435\\u0444\\u043e\\u043d\", \"\\u043f\\u0440\\u043e\\u0431\\u043b\\u0435\\u043c\\u0430\", \"\\u0441\\u0430\\u0439\\u0442\", \"\\u0432\\u043e\\u043f\\u0440\\u043e\\u0441\", \"\\u0441\\u0447\\u0451\\u0442\", \"\\u043e\\u043f\\u0435\\u0440\\u0430\\u0446\\u0438\\u044f\", \"\\u043e\\u0442\\u0432\\u0435\\u0442\", \"\\u0433\\u043e\\u0434\", \"\\u043c\\u043e\\u0447\\u044c\", \"\\u043e\\u0431\\u0441\\u043b\\u0443\\u0436\\u0438\\u0432\\u0430\\u043d\\u0438\\u0435\", \"\\u0443\\u0441\\u043b\\u0443\\u0433\\u0430\", \"\\u0438\\u043d\\u0444\\u043e\\u0440\\u043c\\u0430\\u0446\\u0438\\u044f\", \"\\u043c\\u0435\\u0441\\u044f\\u0446\", \"\\u043a\\u043b\\u0438\\u0435\\u043d\\u0442\", \"\\u0432\\u0440\\u0435\\u043c\\u044f\", \"\\u0441\\u043e\\u0442\\u0440\\u0443\\u0434\\u043d\\u0438\\u043a\", \"\\u0434\\u0435\\u043d\\u044c\\u0433\\u0430\", \"\\u0441\\u0440\\u043e\\u043a\", \"\\u0440\\u0443\\u0431\\u043b\\u044c\", \"\\u043d\\u0438\\u043a\\u043e\\u043b\\u0430\\u0439\", \"\\u043f\\u0440\\u043e\\u043f\\u0438\\u0441\\u043a\\u0430\", \"\\u043d\\u0435\\u043a\\u043e\\u043c\\u043f\\u0435\\u0442\\u0435\\u043d\\u0442\\u043d\\u043e\\u0441\\u0442\\u044c\", \"\\u043c\\u0438\\u043b\\u0430\", \"\\u0437\\u0430\\u043c\", \"\\u043e\\u0446\\u0435\\u043d\\u0449\\u0438\\u043a\", \"\\u0430\\u0432\\u0442\\u043e\\u0441\\u0430\\u043b\\u043e\\u043d\", \"\\u043d\\u043e\\u0432\\u043e\\u0441\\u0438\\u0431\\u0438\\u0440\\u0441\\u043a\", \"\\u0433\\u0440\\u0430\\u0444\", \"\\u043e\\u0442\\u0447\\u0435\\u0441\\u0442\\u0432\\u043e\", \"\\u043c\\u043e\\u043b\\u0447\\u0430\\u043d\\u0438\\u0435\", \"\\u0440\\u0430\\u0441\\u0448\\u0438\\u0444\\u0440\\u043e\\u0432\\u043a\\u0430\", \"\\u0430\\u043d\\u0434\\u0440\\u0435\\u0439\", \"\\u0440\\u043e\\u043c\\u0430\\u043d\", \"\\u0431\\u0430\\u0431\\u0443\\u0448\\u043a\\u0430\", \"\\u043e\\u0440\\u0434\\u0435\\u0440\", \"\\u0435\\u0440\\u043a\\u0435\\u0446\", \"\\u043a\\u043e\\u043d\\u0442\\u0440\\u043e\\u043b\\u0451\\u0440\", \"\\u0448\\u0442\\u0430\\u043c\\u043f\", \"\\u043a\\u0443\\u0434\\u0440\\u044f\\u0448\", \"\\u043c\\u043e\\u043c\\u0435\\u043d\\u0442\\u0443\\u043c\", \"\\u043b\\u0438\\u043f\\u0435\\u0446\\u043a\", \"\\u043d\\u0430\\u0442\\u0430\\u043b\\u044c\\u044f\", \"\\u0441\\u0435\\u0440\\u0442\\u0438\\u0444\\u0438\\u043a\\u0430\\u0442\", \"\\u043f\\u0440\\u0438\\u043e\\u0441\\u0442\\u0430\\u043d\\u043e\\u0432\\u043a\\u0430\", \"\\u0441\\u043c\\u0438\\u0440\\u043d\\u043e\\u0432\", \"\\u0434\\u043e\\u043a\", \"\\u0437\\u0430\\u0442\\u043e\\u0440\", \"\\u043d\\u043e\\u043c\\u0435\\u0440\\u043e\\u043a\", \"\\u0434\\u043e\\u043b\\u0436\\u043d\\u043e\\u0441\\u0442\\u044c\", \"\\u043f\\u0435\\u0440\\u0435\\u0433\\u043e\\u0432\\u043e\\u0440\\u044b\", \"\\u0438\\u0440\\u0438\\u043d\\u0430\", \"\\u043f\\u043b\\u0430\\u0442\\u0435\\u0436\\u043a\\u0430\", \"\\u0441\\u043f\\u0440\\u0430\\u0432\\u043a\\u0430\", \"\\u0440\\u0435\\u0431\\u044f\\u0442\\u0430\", \"\\u043a\\u043e\\u043d\\u0442\\u0430\\u043a\\u0442\", \"\\u0445\\u0430\\u043c\\u0441\\u0442\\u0432\\u043e\", \"\\u043a\\u0430\\u0440\\u0442\\u0438\\u043d\\u0430\", \"\\u043e\\u0442\\u0434\\u0435\\u043b\", \"\\u0440\\u0435\\u0433\\u0438\\u0441\\u0442\\u0440\\u0430\\u0446\\u0438\\u044f\", \"\\u043e\\u0431\\u0435\\u0434\", \"\\u043f\\u0438\\u0441\\u044c\\u043c\\u043e\", \"\\u0440\\u0443\\u043a\\u043e\\u0432\\u043e\\u0434\\u0438\\u0442\\u0435\\u043b\\u044c\", \"\\u0432\\u0441\\u0442\\u0440\\u0435\\u0447\\u0430\", \"\\u0434\\u043e\\u043a\\u0443\\u043c\\u0435\\u043d\\u0442\", \"\\u0431\\u0438\\u0437\\u043d\\u0435\\u0441\", \"\\u043b\\u0438\\u0446\\u043e\", \"\\u043a\\u043e\\u043b\\u043b\\u0435\\u0433\\u0430\", \"\\u0441\\u043e\\u0442\\u0440\\u0443\\u0434\\u043d\\u0438\\u043a\", \"\\u043c\\u043e\\u0441\\u043a\\u0432\\u0430\", \"\\u043a\\u043b\\u0438\\u0435\\u043d\\u0442\", \"\\u0441\\u043f\\u0435\\u0446\\u0438\\u0430\\u043b\\u0438\\u0441\\u0442\", \"\\u0434\\u0440\\u0443\\u0433\", \"\\u0431\\u043b\\u0430\\u0433\\u043e\\u0434\\u0430\\u0440\\u043d\\u043e\\u0441\\u0442\\u044c\", \"\\u0443\\u0441\\u043b\\u0443\\u0433\\u0430\", \"\\u0437\\u0432\\u043e\\u043d\\u043e\\u043a\", \"\\u0440\\u0430\\u0431\\u043e\\u0442\\u0430\", \"\\u0432\\u0440\\u0435\\u043c\\u044f\", \"\\u0430\\u0434\\u043c\\u0438\\u043d\\u0438\\u0441\\u0442\\u0440\\u0430\\u0442\\u043e\\u0440\", \"\\u0432\\u043e\\u043f\\u0440\\u043e\\u0441\", \"\\u043f\\u0440\\u043e\\u0431\\u043b\\u0435\\u043c\\u0430\", \"\\u0441\\u0447\\u0451\\u0442\", \"\\u0433\\u043e\\u0434\", \"\\u0447\\u0435\\u043b\\u043e\\u0432\\u0435\\u043a\", \"\\u043e\\u0431\\u0441\\u043b\\u0443\\u0436\\u0438\\u0432\\u0430\\u043d\\u0438\\u0435\", \"\\u0441\\u0432\\u044f\\u0437\\u044c\", \"\\u0442\\u0435\\u043b\\u0435\\u0444\\u043e\\u043d\", \"\\u0430\\u0434\\u0440\\u0435\\u0441\", \"\\u043c\\u043e\\u0447\\u044c\", \"\\u043a\\u0440\\u0435\\u0434\\u0438\\u0442\", \"\\u043e\\u0442\\u043d\\u043e\\u0448\\u0435\\u043d\\u0438\\u0435\", \"\\u043e\\u0442\\u0432\\u0435\\u0442\", \"\\u043c\\u0438\\u043d\\u0443\\u0442\\u0430\", \"\\u043d\\u043e\\u043c\\u0435\\u0440\", \"\\u043c\\u0435\\u0441\\u044f\\u0446\", \"\\u0438\\u043d\\u0444\\u043e\\u0440\\u043c\\u0430\\u0446\\u0438\\u044f\", \"\\u043a\\u0430\\u0440\\u0442\\u0430\", \"\\u0434\\u043e\\u0433\\u043e\\u0432\\u043e\\u0440\", \"\\u0438\\u043d\\u043a\\u0430\\u0441\\u0441\\u0430\\u0446\\u0438\\u044f\", \"\\u0441\\u0431\\u0435\\u0440\\u043a\\u043d\\u0438\\u0436\\u043a\\u0430\", \"\\u0447\\u0435\\u043a\", \"\\u0440\\u0430\\u0441\\u0441\\u043b\\u0435\\u0434\\u043e\\u0432\\u0430\\u043d\\u0438\\u0435\", \"\\u043e\\u0442\\u043f\\u0440\\u0430\\u0432\\u0438\\u0442\\u0435\\u043b\\u044c\", \"\\u043d\\u0430\\u0434\\u043f\\u0438\\u0441\\u044c\", \"\\u0442\\u0435\\u0445\\u043d\\u0438\\u043a\\u0430\", \"\\u0430\\u043f\\u043f\\u0430\\u0440\\u0430\\u0442\", \"\\u043a\\u0443\\u043f\\u043b\\u044f\", \"\\u0437\\u0430\\u043f\\u0438\\u0441\\u043a\\u0430\", \"\\u0438\\u043d\\u0432\\u0430\\u043b\\u0438\\u0434\", \"\\u043d\\u0435\\u0438\\u0441\\u043f\\u0440\\u0430\\u0432\\u043d\\u043e\\u0441\\u0442\\u044c\", \"\\u043a\\u0430\\u043f\\u043b\\u044f\", \"\\u044d\\u043a\\u0440\\u0430\\u043d\", \"\\u043b\\u0430\\u0439\\u043d\\u0430\", \"\\u043e\\u0442\\u0435\\u0446\", \"\\u043e\\u0431\\u043e\\u0440\\u0443\\u0434\\u043e\\u0432\\u0430\\u043d\\u0438\\u0435\", \"\\u0432\\u0440\\u0435\\u0434\", \"\\u0441\\u0442\\u0440\\u043e\\u0433\\u0438\\u043d\\u043e\", \"\\u0441\\u0442\\u0430\\u0434\\u0438\\u044f\", \"\\u0442\\u0440\\u0430\\u043d\\u0448\", \"\\u0434\\u0435\\u0440\\u0433\\u0430\\u0447\", \"\\u0442\\u0430\\u0440\\u0445\\u043e\\u0432\", \"\\u0431\\u0430\\u043d\\u043a\\u043e\\u043c\\u0430\\u0442\", \"\\u0441\\u0432\\u0438\\u0434\\u0435\\u0442\\u0435\\u043b\\u044c\", \"\\u043a\\u0443\\u043f\\u044e\\u0440\\u0430\", \"\\u043f\\u0443\\u0448\\u043a\\u0438\\u043d\\u043e\", \"\\u0448\\u0442\\u0440\\u0430\\u0444\", \"\\u0432\\u043d\\u0435\\u0441\\u0435\\u043d\\u0438\\u0435\", \"\\u0432\\u043e\\u0437\\u0432\\u0440\\u0430\\u0442\", \"\\u0442\\u0435\\u0440\\u043c\\u0438\\u043d\\u0430\\u043b\", \"\\u0434\\u0435\\u043d\\u044c\\u0433\\u0430\", \"\\u0442\\u044b\\u0441\\u044f\\u0447\\u0430\", \"\\u0440\\u0443\\u0431\\u043b\\u044c\", \"\\u043f\\u0440\\u043e\\u0441\\u0440\\u043e\\u0447\\u043a\\u0430\", \"\\u043f\\u0440\\u0435\\u0442\\u0435\\u043d\\u0437\\u0438\\u044f\", \"\\u0441\\u0443\\u043c\\u043c\\u0430\", \"\\u043f\\u043b\\u0430\\u0442\\u0451\\u0436\", \"\\u0441\\u0447\\u0451\\u0442\", \"\\u0440\\u0430\\u0437\\u043c\\u0435\\u0440\", \"\\u0438\\u044e\\u043b\\u044c\", \"\\u0441\\u0440\\u0435\\u0434\\u0441\\u0442\\u0432\\u043e\", \"\\u043f\\u0435\\u0440\\u0435\\u0432\\u043e\\u0434\", \"\\u0441\\u0431\\u0435\\u0440\\u0431\\u0430\\u043d\\u043a\", \"\\u0441\\u0431\\u043e\\u0439\", \"\\u043e\\u043f\\u0435\\u0440\\u0430\\u0446\\u0438\\u044f\", \"\\u0437\\u0430\\u044f\\u0432\\u043b\\u0435\\u043d\\u0438\\u0435\", \"\\u0437\\u0430\\u0434\\u043e\\u043b\\u0436\\u0435\\u043d\\u043d\\u043e\\u0441\\u0442\\u044c\", \"\\u043c\\u0430\\u0433\\u0430\\u0437\\u0438\\u043d\", \"\\u0437\\u0430\\u0447\\u0438\\u0441\\u043b\\u0435\\u043d\\u0438\\u0435\", \"\\u0433\\u043e\\u0434\", \"\\u043c\\u0435\\u0441\\u044f\\u0446\", \"\\u0441\\u0438\\u0442\\u0443\\u0430\\u0446\\u0438\\u044f\", \"\\u043a\\u0440\\u0435\\u0434\\u0438\\u0442\", \"\\u043f\\u0440\\u043e\\u0446\\u0435\\u043d\\u0442\", \"\\u043a\\u043e\\u043c\\u0438\\u0441\\u0441\\u0438\\u044f\", \"\\u043f\\u0440\\u043e\\u0431\\u043b\\u0435\\u043c\\u0430\", \"\\u043a\\u0430\\u0440\\u0442\\u0430\", \"\\u0435\", \"\\u043c\\u043e\\u0447\\u044c\", \"\\u043a\\u0430\\u0440\\u0442\\u043e\\u0447\\u043a\\u0430\", \"\\u0441\\u043e\\u0442\\u0440\\u0443\\u0434\\u043d\\u0438\\u043a\", \"\\u0441\\u0440\\u043e\\u043a\", \"\\u0432\\u0440\\u0435\\u043c\\u044f\", \"\\u043a\\u043b\\u0438\\u0435\\u043d\\u0442\", \"\\u0440\\u0430\\u0431\\u043e\\u0442\\u0430\", \"\\u043f\\u0440\\u0435\\u043c\\u0438\\u044f\", \"\\u0441\\u0442\\u0440\\u0430\\u0445\\u043e\\u0432\\u0430\\u043d\\u0438\\u0435\", \"\\u0433\\u0435\\u0440\\u043c\\u0430\\u043d\", \"\\u043e\\u0441\\u043a\\u0430\\u0440\", \"\\u0441\\u0442\\u0440\\u0430\\u0445\\u043e\\u0432\\u043a\\u0430\", \"\\u0435\\u043b\\u0435\\u043d\\u0430\", \"\\u0436\\u0438\\u043b\\u044c\\u0451\", \"\\u043e\\u0440\\u0433\\u0430\\u043d\\u0438\\u0437\\u0430\\u0442\\u043e\\u0440\", \"\\u0438\\u043f\\u043e\\u0442\\u0435\\u043a\\u0430\", \"\\u0440\\u0430\\u0441\\u043f\\u0435\\u0447\\u0430\\u0442\\u043a\\u0430\", \"\\u043e\\u0431\\u043c\\u0430\\u043d\", \"\\u043f\\u043e\\u0440\\u0443\\u0447\\u0438\\u0442\\u0435\\u043b\\u044c\", \"\\u0441\\u0438\\u043c\\u0432\\u043e\\u043b\", \"\\u0440\\u0435\\u0444\\u0438\\u043d\\u0430\\u043d\\u0441\\u0438\\u0440\\u043e\\u0432\\u0430\\u043d\\u0438\\u0435\", \"\\u043d\\u0435\\u0443\\u0441\\u0442\\u043e\\u0439\\u043a\\u0430\", \"\\u0438\\u0441\\u043a\", \"\\u043c\\u0435\\u0442\\u043e\\u0434\", \"\\u0437\\u0430\\u0451\\u043c\\u0449\\u0438\\u043a\", \"\\u043b\\u043e\\u0442\\u0435\\u0440\\u0435\\u044f\", \"\\u0440\\u043e\\u0437\\u044b\\u0433\\u0440\\u044b\\u0448\", \"\\u0440\\u0430\\u0437\\u0431\\u043e\\u0440\\u043a\\u0430\", \"\\u043e\\u0440\\u0438\\u0433\\u0438\\u043d\\u0430\\u043b\", \"\\u0434\\u0443\\u0440\\u0430\\u043a\", \"\\u043f\\u0443\\u0442\\u044b\", \"\\u0441\\u0443\\u0434\\u044c\\u0431\\u0430\", \"\\u043a\\u0432\\u0430\\u0440\\u0442\\u0438\\u0440\\u0430\", \"\\u0437\\u0430\\u044f\\u0432\\u043a\\u0430\", \"\\u0430\\u0440\\u0435\\u043d\\u0434\\u0430\", \"\\u0438\\u0437\\u043b\\u043e\\u0436\\u0435\\u043d\\u0438\\u0435\", \"\\u043a\\u0430\\u0432\\u044b\\u0447\\u043a\\u0430\", \"\\u0441\\u0443\\u0434\", \"\\u0441\\u043e\\u0431\\u0441\\u0442\\u0432\\u0435\\u043d\\u043d\\u043e\\u0441\\u0442\\u044c\", \"\\u0441\\u0434\\u0435\\u043b\\u043a\\u0430\", \"\\u043a\\u0440\\u0435\\u0434\\u0438\\u0442\", \"\\u0434\\u043e\\u043b\\u0433\", \"\\u043a\\u0440\\u0435\\u0434\\u0438\\u0442\\u043e\\u0432\\u0430\\u043d\\u0438\\u0435\", \"\\u043f\\u043e\\u0433\\u0430\\u0448\\u0435\\u043d\\u0438\\u0435\", \"\\u0434\\u043e\\u0433\\u043e\\u0432\\u043e\\u0440\", \"\\u0440\\u0430\\u0441\\u0441\\u043c\\u043e\\u0442\\u0440\\u0435\\u043d\\u0438\\u0435\", \"\\u0437\\u0430\\u0434\\u043e\\u043b\\u0436\\u0435\\u043d\\u043d\\u043e\\u0441\\u0442\\u044c\", \"\\u043c\\u0435\\u043d\\u0435\\u0434\\u0436\\u0435\\u0440\", \"\\u0434\\u043e\\u043a\\u0443\\u043c\\u0435\\u043d\\u0442\", \"\\u0441\\u0442\\u0430\\u0432\\u043a\\u0430\", \"\\u043c\\u0443\\u0436\", \"\\u0443\\u0441\\u043b\\u043e\\u0432\\u0438\\u0435\", \"\\u0438\\u0441\\u0442\\u043e\\u0440\\u0438\\u044f\", \"\\u0440\\u0435\\u0448\\u0435\\u043d\\u0438\\u0435\", \"\\u0430\\u043f\\u0440\\u0435\\u043b\\u044c\", \"\\u0441\\u0443\\u043c\\u043c\\u0430\", \"\\u043e\\u0444\\u043e\\u0440\\u043c\\u043b\\u0435\\u043d\\u0438\\u0435\", \"\\u0432\\u0441\", \"\\u0433\\u043e\\u0434\", \"\\u0441\\u043e\\u0442\\u0440\\u0443\\u0434\\u043d\\u0438\\u043a\", \"\\u0438\\u043d\\u0444\\u043e\\u0440\\u043c\\u0430\\u0446\\u0438\\u044f\", \"\\u043e\\u0442\\u0432\\u0435\\u0442\", \"\\u043f\\u043b\\u0430\\u0442\\u0451\\u0436\", \"\\u0432\\u043e\\u043f\\u0440\\u043e\\u0441\", \"\\u0437\\u0432\\u043e\\u043d\\u043e\\u043a\", \"\\u043c\\u043e\\u0447\\u044c\", \"\\u0440\\u0443\\u0431\\u043b\\u044c\", \"\\u0441\\u0440\\u043e\\u043a\", \"\\u0437\\u0430\\u044f\\u0432\\u043b\\u0435\\u043d\\u0438\\u0435\", \"\\u0441\\u0430\\u0439\\u0442\", \"\\u0440\\u0430\\u0431\\u043e\\u0442\\u0430\", \"\\u0432\\u043a\\u043b\\u0430\\u0434\", \"\\u0442\\u0430\\u043b\\u043e\\u043d\", \"\\u0432\\u043a\\u043b\\u0430\\u0434\\u0447\\u0438\\u043a\", \"\\u0432\\u044b\\u0432\\u0435\\u0441\\u043a\\u0430\", \"\\u0430\\u0434\\u043c\\u0438\\u043d\\u0438\\u0441\\u0442\\u0440\\u0430\\u0446\\u0438\\u044f\", \"\\u0436\\u0435\\u0442\\u043e\\u043d\", \"\\u043f\\u0435\\u0440\\u0435\\u043e\\u0444\\u043e\\u0440\\u043c\\u043b\\u0435\\u043d\\u0438\\u0435\", \"\\u043f\\u043e\\u0441\\u0435\\u0442\\u0438\\u0442\\u0435\\u043b\\u044c\", \"\\u0434\\u0435\\u043f\\u043e\\u0437\\u0438\\u0442\", \"\\u043f\\u0435\\u043d\\u0441\\u0438\\u043e\\u043d\\u0435\\u0440\", \"\\u043a\\u0430\\u0431\\u0438\\u043d\\u043a\\u0430\", \"\\u043a\\u043e\\u043d\\u0434\\u0438\\u0446\\u0438\\u043e\\u043d\\u0438\\u0440\\u043e\\u0432\\u0430\\u043d\\u0438\\u0435\", \"\\u0442\\u043a\\u0438\\u0439\", \"\\u0441\\u0431\\u0435\\u0440\\u0435\\u0436\\u0435\\u043d\\u0438\\u0435\", \"\\u0432\\u043e\\u0440\\u043e\\u0442\\u0430\", \"\\u043e\\u043a\\u043e\\u0448\\u043a\\u043e\", \"\\u043a\\u0430\\u0441\\u0441\\u0430\", \"\\u043e\\u043f\\u0435\\u0440\\u0430\\u0446\\u0438\\u043e\\u043d\\u0438\\u0441\\u0442\\u043a\\u0430\", \"\\u0440\\u0435\\u0435\\u0441\\u0442\\u0440\", \"\\u0432\\u043e\\u043b\\u0433\\u043e\\u0433\\u0440\\u0430\\u0434\\u043a\\u0430\", \"\\u0442\\u0430\\u043b\\u043e\\u043d\\u0447\\u0438\\u043a\", \"\\u0437\\u043e\\u043d\\u0430\", \"\\u043a\\u043e\\u043b\\u043b\\u0435\\u043a\\u0442\\u0438\\u0432\", \"\\u043a\\u043e\\u043d\\u0442\\u0440\\u0430\\u0441\\u0442\", \"\\u043f\\u0435\\u0440\\u0435\\u0443\\u043b\\u043e\\u043a\", \"\\u0431\\u0430\\u0440\\u044b\\u0448\\u043d\\u044f\", \"\\u043e\\u0447\\u0435\\u0440\\u0435\\u0434\\u044c\", \"\\u043f\\u0440\\u0438\\u043e\\u0440\\u0438\\u0442\\u0435\\u0442\", \"\\u043f\\u043e\\u043c\\u0435\\u0449\\u0435\\u043d\\u0438\\u0435\", \"\\u043e\\u0433\\u043e\\u043d\\u044c\", \"\\u043a\\u043e\\u043c\\u043c\\u0443\\u043d\\u0430\\u043b\\u043a\\u0430\", \"\\u0437\\u0430\\u043b\", \"\\u0434\\u0435\\u0441\\u044f\\u0442\\u043a\\u0430\", \"\\u043c\\u0438\\u043d\\u0430\", \"\\u043a\\u0430\\u0441\\u0441\\u0438\\u0440\", \"\\u043e\\u043f\\u0435\\u0440\\u0430\\u0446\\u0438\\u043e\\u043d\\u0438\\u0441\\u0442\", \"\\u043e\\u043a\\u043d\\u043e\", \"\\u0432\\u0445\\u043e\\u0434\", \"\\u0444\\u0438\\u043b\\u0438\\u0430\\u043b\", \"\\u0440\\u0435\\u0436\\u0438\\u043c\", \"\\u043f\\u043e\\u0442\\u0435\\u0440\\u044f\", \"\\u0434\\u0432\\u0435\\u0440\\u044c\", \"\\u043f\\u0440\\u043e\\u0446\\u0435\\u043d\\u0442\", \"\\u043c\\u0438\\u043d\\u0443\\u0442\\u0430\", \"\\u043e\\u0436\\u0438\\u0434\\u0430\\u043d\\u0438\\u0435\", \"\\u043a\\u043b\\u0438\\u0435\\u043d\\u0442\", \"\\u0441\\u0442\\u0430\\u0432\\u043a\\u0430\", \"\\u0447\\u0435\\u043b\\u043e\\u0432\\u0435\\u043a\", \"\\u043e\\u0431\\u0441\\u043b\\u0443\\u0436\\u0438\\u0432\\u0430\\u043d\\u0438\\u0435\", \"\\u043f\\u0435\\u0440\\u0441\\u043e\\u043d\\u0430\\u043b\", \"\\u0447\\u0430\\u0441\", \"\\u0432\\u0440\\u0435\\u043c\\u044f\", \"\\u0440\\u0430\\u0431\\u043e\\u0442\\u0430\", \"\\u043b\\u0438\\u0446\\u043e\", \"\\u0432\\u0441\", \"\\u0443\\u0441\\u043b\\u043e\\u0432\\u0438\\u0435\", \"\\u043c\\u0435\\u0442\\u0440\", \"\\u0434\\u0435\\u043d\\u044c\\u0433\\u0430\", \"\\u0432\\u043e\\u043f\\u0440\\u043e\\u0441\", \"\\u0441\\u043e\\u0442\\u0440\\u0443\\u0434\\u043d\\u0438\\u043a\", \"\\u0433\\u043e\\u0434\", \"\\u043c\\u0435\\u0441\\u0442\\u043e\", \"\\u0441\\u0430\\u0439\\u0442\", \"\\u0441\\u0440\\u043e\\u043a\", \"\\u0434\\u043e\\u0433\\u043e\\u0432\\u043e\\u0440\", \"\\u0441\\u0443\\u043c\\u043c\\u0430\", \"\\u043c\\u043e\\u0447\\u044c\"], \"Total\": [1806.0, 505.0, 760.0, 831.0, 410.0, 338.0, 267.0, 485.0, 671.0, 490.0, 329.0, 191.0, 724.0, 115.0, 325.0, 310.0, 149.0, 236.0, 446.0, 108.0, 308.0, 336.0, 136.0, 78.0, 69.0, 204.0, 125.0, 111.0, 281.0, 180.0, 45.99162292480469, 108.66346740722656, 18.588571548461914, 34.217926025390625, 22.49762535095215, 21.507966995239258, 9.778331756591797, 8.799088478088379, 7.821922779083252, 25.38542366027832, 6.841273307800293, 6.841963768005371, 7.815708160400391, 6.840270042419434, 18.572233200073242, 13.678276062011719, 14.659212112426758, 7.810664653778076, 9.773059844970703, 5.861126899719238, 38.0010871887207, 1806.576171875, 53.566524505615234, 24.47238540649414, 9.752052307128906, 5.860498905181885, 7.814539432525635, 4.885554790496826, 4.885552406311035, 4.884641647338867, 54.84664535522461, 34.18025207519531, 16.595449447631836, 49.749088287353516, 281.27703857421875, 14.652677536010742, 82.6826400756836, 17.512126922607422, 87.68177032470703, 113.37858581542969, 151.13180541992188, 202.9204559326172, 446.016845703125, 81.55294036865234, 188.72299194335938, 70.80054473876953, 71.76129150390625, 80.17318725585938, 148.4658203125, 269.4065246582031, 185.45382690429688, 190.8580780029297, 334.62030029296875, 388.0824279785156, 272.39471435546875, 536.263427734375, 671.4848022460938, 227.07077026367188, 348.2317199707031, 789.6138916015625, 423.175537109375, 336.7231750488281, 238.31103515625, 225.1045379638672, 319.5849304199219, 724.1461181640625, 485.1075744628906, 675.0946655273438, 831.6317749023438, 246.228515625, 485.3117370605469, 12.291170120239258, 14.188278198242188, 18.91438865661621, 8.517568588256836, 11.359638214111328, 6.630466938018799, 18.034873962402344, 5.686699867248535, 5.687953948974609, 6.641329765319824, 5.6952362060546875, 4.744356632232666, 10.43060302734375, 4.746505260467529, 5.692399501800537, 7.593108654022217, 3.8009605407714844, 3.8008737564086914, 3.800792694091797, 3.8006155490875244, 3.8006153106689453, 3.800405502319336, 14.26321792602539, 3.7998034954071045, 3.7999305725097656, 3.8002190589904785, 3.800306558609009, 3.800266742706299, 3.798784017562866, 9.492713928222656, 9.494443893432617, 18.134584426879883, 22.87049102783203, 125.57133483886719, 12.36087703704834, 27.629375457763672, 12.394055366516113, 7.599070072174072, 96.7215805053711, 36.41795349121094, 21.9456729888916, 103.76761627197266, 29.650182723999023, 30.761167526245117, 329.798095703125, 22.93842315673828, 112.78091430664062, 41.212257385253906, 675.0946655273438, 153.3946990966797, 724.1461181640625, 152.4004364013672, 102.72606658935547, 30.62472915649414, 238.31103515625, 200.76084899902344, 361.1823425292969, 485.1075744628906, 108.85572814941406, 536.263427734375, 388.0824279785156, 671.4848022460938, 789.6138916015625, 255.60848999023438, 336.7231750488281, 102.08966827392578, 334.62030029296875, 116.5142593383789, 423.175537109375, 760.5630493164062, 121.47870635986328, 348.2317199707031, 308.0967102050781, 269.4065246582031, 319.5849304199219, 225.1045379638672, 1806.576171875, 325.7673645019531, 22.290225982666016, 8.723196029663086, 54.37761306762695, 8.72089672088623, 8.72014331817627, 10.66897201538086, 9.68218994140625, 7.754798889160156, 7.749391078948975, 5.8155517578125, 5.815032482147217, 5.815744876861572, 5.814872741699219, 13.604302406311035, 8.739612579345703, 10.658896446228027, 6.782940864562988, 4.845380783081055, 3.8779122829437256, 5.81641960144043, 3.8777050971984863, 3.877737522125244, 3.877736806869507, 410.1219482421875, 3.8763670921325684, 47.4800910949707, 3.8724894523620605, 33.066036224365234, 25.141321182250977, 62.22506332397461, 64.11151885986328, 831.6317749023438, 136.7255401611328, 485.3117370605469, 66.17987823486328, 145.63487243652344, 490.89459228515625, 310.4767761230469, 671.4848022460938, 46.652870178222656, 50.25174331665039, 216.54229736328125, 157.73336791992188, 240.45008850097656, 41.751502990722656, 227.07077026367188, 446.016845703125, 149.85958862304688, 68.71003723144531, 32.06401824951172, 789.6138916015625, 319.5849304199219, 221.67259216308594, 760.5630493164062, 236.62948608398438, 185.45382690429688, 388.0824279785156, 1806.576171875, 180.6160888671875, 423.175537109375, 123.70145416259766, 675.0946655273438, 246.228515625, 485.1075744628906, 724.1461181640625, 361.1823425292969, 13.966076850891113, 69.8597183227539, 11.965513229370117, 11.96546745300293, 115.61154174804688, 26.911888122558594, 9.964517593383789, 5.970987796783447, 57.56331253051758, 5.967336177825928, 5.967247486114502, 11.912928581237793, 5.962312698364258, 11.938283920288086, 14.920741081237793, 4.970647811889648, 4.968732833862305, 10.943367004394531, 6.952142238616943, 3.9709393978118896, 3.969365119934082, 11.871840476989746, 6.946047306060791, 3.9668807983398438, 10.932114601135254, 68.21570587158203, 267.8653564453125, 6.912196636199951, 2.9708774089813232, 2.9708821773529053, 39.62834548950195, 6.905198097229004, 49.19580841064453, 760.5630493164062, 78.15684509277344, 35.388885498046875, 104.52931213378906, 325.7673645019531, 83.99209594726562, 149.85958862304688, 180.090087890625, 329.798095703125, 111.13217163085938, 29.468961715698242, 204.19366455078125, 109.8363265991211, 158.17369079589844, 68.60076141357422, 490.89459228515625, 130.2086181640625, 198.1669464111328, 789.6138916015625, 675.0946655273438, 225.1045379638672, 348.2317199707031, 310.4767761230469, 536.263427734375, 200.76084899902344, 423.175537109375, 485.3117370605469, 246.228515625, 446.016845703125, 272.39471435546875, 361.1823425292969, 505.3156433105469, 22.252689361572266, 48.416751861572266, 7.743305683135986, 6.774836540222168, 6.779541492462158, 8.720234870910645, 17.451520919799805, 78.51813507080078, 13.558484077453613, 3.8741118907928467, 3.873995542526245, 3.873765468597412, 4.845877170562744, 4.831710338592529, 17.440784454345703, 191.507568359375, 58.18904113769531, 5.788882255554199, 2.906500816345215, 9.721824645996094, 6.810401916503906, 2.9057981967926025, 2.905853509902954, 11.667715072631836, 2.9053382873535156, 338.68804931640625, 2.907761335372925, 28.965293884277344, 5.839742183685303, 6.8085174560546875, 46.15695571899414, 10.582569122314453, 38.69464874267578, 69.34292602539062, 126.60325622558594, 39.48369598388672, 27.935325622558594, 87.62601470947266, 21.35457992553711, 20.343299865722656, 36.52116394042969, 236.62948608398438, 308.0967102050781, 73.48104858398438, 724.1461181640625, 111.13217163085938, 255.60848999023438, 336.7231750488281, 57.713478088378906, 121.19651794433594, 485.1075744628906, 361.1823425292969, 112.78091430664062, 198.1669464111328, 204.19366455078125, 132.42196655273438, 831.6317749023438, 536.263427734375, 675.0946655273438, 789.6138916015625, 114.11236572265625, 272.39471435546875, 246.228515625, 325.7673645019531, 490.89459228515625, 423.175537109375], \"loglift\": [30.0, 29.0, 28.0, 27.0, 26.0, 25.0, 24.0, 23.0, 22.0, 21.0, 20.0, 19.0, 18.0, 17.0, 16.0, 15.0, 14.0, 13.0, 12.0, 11.0, 10.0, 9.0, 8.0, 7.0, 6.0, 5.0, 4.0, 3.0, 2.0, 1.0, 1.2541999816894531, 1.249400019645691, 1.2305999994277954, 1.225100040435791, 1.2242000102996826, 1.2152999639511108, 1.1891000270843506, 1.1784000396728516, 1.1686999797821045, 1.1649999618530273, 1.1505999565124512, 1.1492999792099, 1.1480000019073486, 1.1444000005722046, 1.1404999494552612, 1.138100028038025, 1.1341999769210815, 1.1337000131607056, 1.1328999996185303, 1.1279000043869019, 1.1204999685287476, 1.1202000379562378, 1.118499994277954, 1.1152000427246094, 1.1096999645233154, 1.1089999675750732, 1.101699948310852, 1.1008000373840332, 1.1007000207901, 1.098099946975708, 1.0823999643325806, 1.086899995803833, 1.079300045967102, 1.0321999788284302, 0.9628000259399414, 1.0755000114440918, 0.9082000255584717, 1.055299997329712, 0.8513000011444092, 0.7878000140190125, 0.7455999851226807, 0.7016000151634216, 0.5633999705314636, 0.8137999773025513, 0.6780999898910522, 0.8313000202178955, 0.8183000087738037, 0.7814000248908997, 0.661899983882904, 0.5357000231742859, 0.6071000099182129, 0.5612000226974487, 0.40689998865127563, 0.33809998631477356, 0.4260999858379364, 0.17010000348091125, 0.0430000014603138, 0.42010000348091125, 0.26159998774528503, -0.06729999929666519, 0.1225999966263771, 0.16179999709129333, 0.266400009393692, 0.2847999930381775, 0.09749999642372131, -0.34150001406669617, -0.1347000002861023, -0.36899998784065247, -0.5713000297546387, 0.11289999634027481, -0.41260001063346863, 1.5059000253677368, 1.5015000104904175, 1.4880000352859497, 1.4736000299453735, 1.4668999910354614, 1.440500020980835, 1.4384000301361084, 1.420300006866455, 1.412500023841858, 1.4117000102996826, 1.3896000385284424, 1.3890000581741333, 1.382599949836731, 1.3812999725341797, 1.3799999952316284, 1.3457000255584717, 1.3417999744415283, 1.341599941253662, 1.3411999940872192, 1.3410999774932861, 1.3410999774932861, 1.3401999473571777, 1.3401000499725342, 1.3394999504089355, 1.3394999504089355, 1.3386000394821167, 1.3382999897003174, 1.3372999429702759, 1.3281999826431274, 1.3240000009536743, 1.3216999769210815, 1.3150999546051025, 1.2890000343322754, 1.2137000560760498, 1.2868000268936157, 1.2274999618530273, 1.2663999795913696, 1.2975000143051147, 1.1138999462127686, 1.1691999435424805, 1.2021000385284424, 1.0709999799728394, 1.1643999814987183, 1.1519999504089355, 0.8048999905586243, 1.1746000051498413, 0.9193000197410583, 1.0778000354766846, 0.620199978351593, 0.8565999865531921, 0.5637999773025513, 0.8051999807357788, 0.8726999759674072, 1.1021000146865845, 0.6396999955177307, 0.6162999868392944, 0.43950000405311584, 0.31940001249313354, 0.738099992275238, 0.24199999868869781, 0.33480000495910645, 0.09669999778270721, 0.041999999433755875, 0.40220001339912415, 0.2944999933242798, 0.7146999835968018, 0.2671999931335449, 0.6452999711036682, 0.1257999986410141, -0.17430000007152557, 0.5885000228881836, 0.10289999842643738, 0.15379999577999115, 0.15680000185966492, -0.15299999713897705, 0.10540000349283218, -1.6832000017166138, -0.23409999907016754, 1.6175999641418457, 1.5533000230789185, 1.5527000427246094, 1.5498000383377075, 1.5484000444412231, 1.544800043106079, 1.533400058746338, 1.5151000022888184, 1.5115000009536743, 1.5098999738693237, 1.507599949836731, 1.5069999694824219, 1.4953999519348145, 1.4944000244140625, 1.482699990272522, 1.4744000434875488, 1.4651999473571777, 1.4305000305175781, 1.4300999641418457, 1.429800033569336, 1.4296000003814697, 1.4287999868392944, 1.4287999868392944, 1.4278000593185425, 1.4222999811172485, 1.4215999841690063, 1.4172999858856201, 1.4113999605178833, 1.3658000230789185, 1.3504999876022339, 1.3489999771118164, 1.179900050163269, 1.2508000135421753, 1.1782000064849854, 1.2470999956130981, 1.1584999561309814, 1.0226999521255493, 0.9991000294685364, 0.8687000274658203, 1.2044999599456787, 1.1712000370025635, 0.8963000178337097, 0.9240000247955322, 0.7911999821662903, 1.1263999938964844, 0.6733999848365784, 0.4537000060081482, 0.7276999950408936, 0.9434000253677368, 1.1503000259399414, 0.12359999865293503, 0.4101000130176544, 0.5223000049591064, 0.09200000017881393, 0.39559999108314514, 0.4284999966621399, 0.01510000042617321, -0.8519999980926514, 0.4205000102519989, -0.10830000042915344, 0.5898000001907349, -0.6554999947547913, 0.07270000129938126, -0.48489999771118164, -0.8422999978065491, -0.3345000147819519, 1.7417999505996704, 1.7383999824523926, 1.7249000072479248, 1.7247999906539917, 1.714900016784668, 1.7138999700546265, 1.7130999565124512, 1.6663999557495117, 1.663100004196167, 1.6622999906539917, 1.652999997138977, 1.6484999656677246, 1.6474000215530396, 1.6470999717712402, 1.6373000144958496, 1.6353000402450562, 1.6269999742507935, 1.6208000183105469, 1.5993000268936157, 1.5887000560760498, 1.5819000005722046, 1.5786999464035034, 1.5760999917984009, 1.570199966430664, 1.5643999576568604, 1.562000036239624, 1.5342999696731567, 1.506600022315979, 1.5039000511169434, 1.5039000511169434, 1.4955999851226807, 1.49399995803833, 1.427299976348877, 1.2893999814987183, 1.3838000297546387, 1.4134000539779663, 1.315999984741211, 1.1526000499725342, 1.267799973487854, 1.1923999786376953, 1.1067999601364136, 0.9318000078201294, 1.1234999895095825, 1.3583999872207642, 0.9710000157356262, 1.0894999504089355, 0.9168000221252441, 1.1002000570297241, 0.4309000074863434, 0.7875000238418579, 0.6270999908447266, 0.10639999806880951, 0.05220000073313713, 0.4742000102996826, 0.2515999972820282, 0.27889999747276306, -0.06199999898672104, 0.43779999017715454, -0.025599999353289604, -0.15459999442100525, 0.29159998893737793, -0.20440000295639038, 0.19290000200271606, -0.11980000138282776, 1.8257999420166016, 1.795199990272522, 1.7839000225067139, 1.732200026512146, 1.7182999849319458, 1.7173999547958374, 1.6642999649047852, 1.656499981880188, 1.656499981880188, 1.6334999799728394, 1.6263999938964844, 1.6256999969482422, 1.624899983406067, 1.617900013923645, 1.6102999448776245, 1.6030000448226929, 1.575700044631958, 1.5612000226974487, 1.541599988937378, 1.5390000343322754, 1.5388000011444092, 1.5370999574661255, 1.5369999408721924, 1.5353000164031982, 1.534500002861023, 1.5341999530792236, 1.5147000551223755, 1.5115000009536743, 1.4883999824523926, 1.4882999658584595, 1.4880000352859497, 1.4607000350952148, 1.4802000522613525, 1.4285000562667847, 1.3961000442504883, 1.330899953842163, 1.3876999616622925, 1.392899990081787, 1.2440999746322632, 1.399899959564209, 1.4053000211715698, 1.3138999938964844, 1.0520999431610107, 1.0006999969482422, 1.2075999975204468, 0.6166999936103821, 1.0085999965667725, 0.7980999946594238, 0.7186999917030334, 1.138700008392334, 0.9251999855041504, 0.5047000050544739, 0.5805000066757202, 0.9276000261306763, 0.6304000020027161, 0.6036999821662903, 0.7527999877929688, -0.07890000194311142, 0.0632999986410141, -0.057999998331069946, -0.24660000205039978, 0.8029000163078308, 0.29179999232292175, 0.28200000524520874, -0.01899999938905239, -0.3677000105381012, -0.2985999882221222], \"logprob\": [30.0, 29.0, 28.0, 27.0, 26.0, 25.0, 24.0, 23.0, 22.0, 21.0, 20.0, 19.0, 18.0, 17.0, 16.0, 15.0, 14.0, 13.0, 12.0, 11.0, 10.0, 9.0, 8.0, 7.0, 6.0, 5.0, 4.0, 3.0, 2.0, 1.0, -5.583899974822998, -4.729000091552734, -6.513500213623047, -5.90880012512207, -6.328999996185303, -6.382900238037109, -7.197400093078613, -7.313600063323975, -7.440999984741211, -6.267399787902832, -7.593100070953369, -7.594200134277344, -7.462399959564209, -7.599400043487549, -6.604400157928467, -6.912700176239014, -6.847400188446045, -7.477499961853027, -7.2540998458862305, -7.770400047302246, -5.9085001945495605, -2.0471999645233154, -5.567200183868408, -6.353799819946289, -7.279399871826172, -7.789400100708008, -7.508900165557861, -7.979599952697754, -7.979599952697754, -7.982399940490723, -5.579699993133545, -6.048099994659424, -6.778200149536133, -5.727399826049805, -4.064499855041504, -6.906599998474121, -5.343500137329102, -6.748499870300293, -5.341599941253662, -5.148099899291992, -4.9028000831604, -4.652299880981445, -4.002900123596191, -5.451600074768066, -4.748199939727783, -5.575500011444092, -5.574999809265137, -5.501100063323975, -5.00439977645874, -4.5346999168396, -4.836699962615967, -4.853899955749512, -4.446700096130371, -4.367300033569336, -4.633299827575684, -4.211900234222412, -4.114099979400635, -4.821199893951416, -4.552199840545654, -4.062399864196777, -4.496200084686279, -4.6855998039245605, -4.926700115203857, -4.9653000831604, -4.802199840545654, -4.4232001304626465, -4.617000102996826, -4.5208001136779785, -4.514500141143799, -5.047500133514404, -4.894400119781494, -6.651899814605713, -6.512700080871582, -6.238699913024902, -7.050899982452393, -6.769599914550781, -7.334400177001953, -6.335999965667725, -7.508200168609619, -7.5157999992370605, -7.361599922180176, -7.537399768829346, -7.720699787139893, -6.939300060272217, -7.72790002822876, -7.547500133514404, -7.293700218200684, -7.98960018157959, -7.989799976348877, -7.990200042724609, -7.990300178527832, -7.990300178527832, -7.991300106048584, -6.668799877166748, -7.992199897766113, -7.992199897766113, -7.9928998947143555, -7.993299961090088, -7.99429988861084, -8.003800392150879, -7.092100143432617, -7.094200134277344, -6.453800201416016, -6.247799873352051, -4.620100021362305, -6.865300178527832, -6.120200157165527, -6.882999897003174, -7.341100215911865, -4.980899810791016, -5.902400016784668, -6.375999927520752, -4.953400135040283, -6.11269998550415, -6.088399887084961, -4.063199996948242, -6.3592000007629395, -5.021900177001953, -5.870100021362305, -3.531599998474121, -4.7769999504089355, -3.5178000926971436, -4.83489990234375, -5.161799907684326, -6.1427001953125, -4.553299903869629, -4.748199939727783, -4.337800025939941, -4.162799835205078, -5.238500118255615, -4.139999866485596, -4.37060022354126, -4.060400009155273, -3.9530999660491943, -4.720699787139893, -4.5528998374938965, -5.326000213623047, -4.586400032043457, -5.263400077819824, -4.493100166320801, -4.206900119781494, -5.27839994430542, -4.710899829864502, -4.782400131225586, -4.913599967956543, -5.052599906921387, -5.144700050354004, -4.850599765777588, -5.11460018157959, -5.944900035858154, -6.947299957275391, -5.118000030517578, -6.951099872589111, -6.952600002288818, -6.75439977645874, -6.86299991607666, -7.1031999588012695, -7.107500076293945, -7.396100044250488, -7.398600101470947, -7.39900016784668, -7.410799980163574, -6.561800003051758, -7.01609992980957, -6.825799942016602, -7.2870001792907715, -7.658100128173828, -7.881199836730957, -7.476099967956543, -7.881700038909912, -7.882599830627441, -7.882599830627441, -3.2223000526428223, -7.889400005340576, -5.384699821472168, -7.895400047302246, -5.756700038909912, -6.076300144195557, -5.185299873352051, -5.1570000648498535, -2.7632999420166016, -4.497799873352051, -3.3036000728607178, -5.227099895477295, -4.5269999504089355, -3.447700023651123, -3.9293999671936035, -3.2883999347686768, -5.61929988861084, -5.578400135040283, -4.392600059509277, -4.68179988861084, -4.392899990081787, -5.808499813079834, -4.56790018081665, -4.112500190734863, -4.929200172424316, -5.4934000968933105, -6.048600196838379, -3.8714001178741455, -4.489500045776367, -4.743199825286865, -3.9405999183654785, -4.804500102996826, -5.0152997970581055, -4.690299987792969, -4.019400119781494, -5.049699783325195, -4.727099895477295, -5.258999824523926, -4.807199954986572, -5.087600231170654, -4.967100143432617, -4.923999786376953, -5.111800193786621, -6.2881999015808105, -4.681700229644775, -6.459700107574463, -6.459799766540527, -4.201499938964844, -5.660099983215332, -6.6545000076293945, -7.2133002281188965, -4.9506001472473145, -7.2179999351501465, -7.227399826049805, -6.540500164031982, -7.233799934387207, -6.53980016708374, -6.326499938964844, -7.427800178527832, -7.436500072479248, -6.6529998779296875, -7.128300189971924, -7.69890022277832, -7.706099987030029, -6.613699913024902, -7.152299880981445, -7.718500137329102, -6.7104997634887695, -4.881999969482422, -3.5418999195098877, -7.226799964904785, -8.073800086975098, -8.07390022277832, -5.491499900817871, -7.240300178527832, -5.343500137329102, -2.7430999279022217, -4.924099922180176, -5.686800003051758, -4.701200008392334, -3.727799892425537, -4.968100070953369, -4.4644999504089355, -4.366399765014648, -3.936300039291382, -4.832399845123291, -5.924900054931641, -4.3765997886657715, -4.8780999183654785, -4.686100006103516, -5.338099956512451, -4.0395002365112305, -5.010000228881836, -4.750400066375732, -3.888700008392334, -4.099599838256836, -4.7758002281188965, -4.56220006942749, -4.649600028991699, -4.443999767303467, -4.926700115203857, -4.644400119781494, -4.636499881744385, -4.86870002746582, -4.770699977874756, -4.866499900817871, -4.896999835968018, -2.615600109100342, -5.769000053405762, -5.002900123596191, -6.887599945068359, -7.035099983215332, -7.035299777984619, -6.836699962615967, -6.150700092315674, -4.6468000411987305, -6.426199913024902, -7.685999870300293, -7.686699867248535, -7.6875, -7.470600128173828, -7.481100082397461, -6.204800128936768, -3.8359999656677246, -5.0416998863220215, -7.36899995803833, -8.060700416564941, -6.853499889373779, -7.211100101470947, -8.062999725341797, -8.064599990844727, -6.675300121307373, -8.065799713134766, -3.3268001079559326, -8.087699890136719, -5.81220006942749, -7.413700103759766, -7.260499954223633, -5.373899936676025, -6.827300071716309, -5.582399845123291, -5.031499862670898, -4.494699954986572, -5.603000164031982, -5.94379997253418, -4.94950008392334, -6.20550012588501, -6.248600006103516, -5.754799842834473, -4.1479997634887695, -3.935499906539917, -5.1620001792907715, -3.4649999141693115, -4.947400093078613, -4.324900150299072, -4.128600120544434, -5.472400188446045, -4.9440999031066895, -3.97760009765625, -4.196700096130371, -5.013599872589111, -4.747099876403809, -4.743899822235107, -5.027900218963623, -4.02209997177124, -4.318699836730957, -4.209799766540527, -4.241700172424316, -5.1265997886657715, -4.767499923706055, -4.878300189971924, -4.899400234222412, -4.838099956512451, -4.917399883270264]}, \"token.table\": {\"Topic\": [1, 2, 4, 1, 2, 3, 4, 5, 5, 1, 2, 3, 4, 5, 1, 3, 2, 3, 3, 1, 2, 3, 4, 5, 2, 4, 1, 1, 2, 1, 2, 3, 5, 5, 1, 2, 3, 4, 2, 4, 5, 1, 2, 1, 3, 1, 2, 5, 1, 1, 2, 3, 5, 1, 5, 1, 2, 3, 5, 1, 2, 3, 4, 5, 5, 1, 2, 3, 4, 5, 1, 5, 3, 1, 2, 3, 4, 5, 1, 2, 3, 4, 5, 2, 4, 1, 2, 5, 5, 1, 2, 3, 4, 5, 1, 2, 4, 1, 2, 3, 4, 5, 1, 2, 2, 3, 5, 1, 2, 3, 4, 5, 1, 2, 3, 5, 3, 1, 2, 5, 2, 5, 1, 2, 3, 4, 5, 2, 1, 2, 3, 4, 5, 1, 2, 3, 4, 2, 5, 1, 1, 2, 3, 4, 5, 3, 4, 1, 2, 3, 4, 5, 4, 5, 2, 5, 4, 1, 2, 3, 4, 2, 3, 4, 5, 1, 2, 3, 1, 5, 2, 1, 3, 5, 1, 1, 2, 3, 4, 5, 1, 2, 3, 4, 1, 4, 1, 2, 3, 4, 5, 4, 5, 4, 3, 3, 1, 2, 3, 4, 5, 1, 2, 3, 4, 5, 2, 4, 2, 4, 4, 1, 2, 3, 1, 2, 3, 4, 5, 1, 2, 3, 5, 4, 3, 1, 2, 3, 4, 5, 2, 3, 1, 2, 3, 5, 1, 2, 3, 4, 5, 1, 2, 3, 5, 2, 3, 4, 1, 2, 1, 2, 3, 4, 5, 1, 2, 3, 4, 1, 2, 3, 4, 5, 1, 2, 4, 5, 5, 1, 2, 3, 4, 5, 4, 5, 5, 1, 2, 3, 5, 2, 1, 2, 3, 4, 5, 1, 2, 4, 5, 1, 2, 4, 5, 2, 3, 1, 3, 5, 3, 4, 1, 4, 2, 1, 2, 3, 4, 5, 4, 5, 1, 2, 3, 4, 1, 3, 1, 2, 3, 4, 5, 1, 2, 3, 4, 5, 1, 2, 3, 4, 5, 4, 1, 2, 3, 4, 5, 2, 1, 2, 4, 5, 1, 2, 3, 4, 5, 2, 2, 1, 2, 3, 4, 5, 1, 2, 3, 4, 5, 1, 1, 3, 2, 3, 4, 5, 3, 4, 1, 2, 4, 5, 1, 3, 1, 1, 2, 3, 4, 5, 3, 2, 3, 3, 4, 2, 1, 2, 1, 2, 3, 4, 5, 2, 2, 4, 5, 4, 1, 3, 5, 1, 2, 3, 4, 5, 4, 5, 1, 2, 3, 4, 5, 2, 3, 4, 5, 1, 3, 5, 1, 1, 2, 3, 4, 5, 1, 2, 3, 4, 5, 1, 3, 5, 1, 2, 3, 4, 5, 4, 2, 3, 2, 4, 4, 1, 2, 3, 4, 5, 1, 2, 3, 4, 5, 3, 5, 1, 2, 3, 4, 5, 3, 2, 1, 2, 3, 4, 5, 2, 1, 2, 3, 4, 5, 1, 2, 3, 3, 5, 1, 2, 3, 5, 1, 2, 3, 1, 5, 3, 4, 5, 1, 2, 4, 5, 1, 2, 4, 5, 1, 2, 1, 2, 3, 4, 1, 2, 4, 1, 2, 3, 4, 5, 2, 3, 4, 1, 2, 3, 1, 2, 3, 4, 1, 3, 4, 2, 4, 5, 2, 4, 2, 4, 5, 1, 2, 3, 5, 4, 1, 2, 3, 4, 5, 5, 2, 1, 2, 3, 4, 5, 2, 2, 3, 4, 1, 2, 3, 4, 5, 4, 3, 1, 2, 3, 4, 5, 4, 1, 2, 3, 4, 5, 4, 3, 1, 2, 3, 4, 2, 1, 2, 3, 1, 2, 3, 4, 2, 5, 1, 2, 4, 5, 3, 4, 1, 2, 3, 4, 5, 4, 2, 1, 2, 3, 4, 5, 2, 3, 4, 5, 1, 2, 3, 4, 5, 1, 2, 3, 4, 5, 5, 3, 1, 2, 3, 5, 3, 1, 2, 3, 4, 5, 2, 3, 4, 1, 2, 2, 4, 1, 2, 3, 4, 5, 1, 2, 3, 4, 2, 1, 2, 3, 4, 1, 2, 3, 5, 2, 4, 1, 2, 3, 4, 5, 1, 2, 3, 4, 5, 1, 2, 3, 4, 1, 2, 3, 4, 5, 1, 2, 3, 4, 5, 1, 2, 3, 4, 5, 1, 3, 1, 3, 4, 5, 1, 2, 3, 4, 3, 1, 2, 3, 4, 1, 4, 1, 2, 3, 4, 5, 1, 2, 3, 4, 5, 2, 5, 1, 4, 5, 1, 2, 3, 5, 3, 1, 2, 3, 4, 5, 1, 2, 3, 4, 5, 2, 3, 5, 3, 1, 2, 3, 4, 5, 1, 2, 3, 4, 5, 1, 2, 3, 4, 5, 1, 2, 3, 4, 5, 2, 3, 4, 1, 2, 3, 4, 5, 1, 2, 3, 4, 5, 1, 3, 4, 1, 2, 3, 4, 5, 2, 2, 3, 4, 1, 3, 4], \"Freq\": [0.9091851115226746, 0.8871700763702393, 0.11089625954627991, 0.16535648703575134, 0.431764155626297, 0.11942412704229355, 0.1469835340976715, 0.13779707252979279, 0.8856302499771118, 0.1630701720714569, 0.39480146765708923, 0.30897507071495056, 0.0944090485572815, 0.03433056175708771, 0.8773035407066345, 0.07310862839221954, 0.8628455996513367, 0.09587173163890839, 0.9026668667793274, 0.07288549095392227, 0.17492517828941345, 0.1603480726480484, 0.49562132358551025, 0.10203968733549118, 0.14467181265354156, 0.7233590483665466, 0.8769412040710449, 0.8949206471443176, 0.8783642053604126, 0.13654474914073944, 0.03169788792729378, 0.7973238229751587, 0.03413618728518486, 0.6883879899978638, 0.13078492879867554, 0.6539246439933777, 0.08718995004892349, 0.08718995004892349, 0.6204136610031128, 0.16326674818992615, 0.19592009484767914, 0.9298880100250244, 0.04649439826607704, 0.8185768127441406, 0.10232210159301758, 0.8191864490509033, 0.029256660491228104, 0.14628329873085022, 0.8962105512619019, 0.01978961005806923, 0.0019789610523730516, 0.003957922104746103, 0.9756278395652771, 0.04130801558494568, 0.929430365562439, 0.03977515548467636, 0.07955031096935272, 0.755728006362915, 0.11932547390460968, 0.16070695221424103, 0.016070695593953133, 0.739251971244812, 0.06428278237581253, 0.016070695593953133, 0.6881126761436462, 0.3319264352321625, 0.2647952437400818, 0.08204922825098038, 0.15477468073368073, 0.16782796382904053, 0.81874018907547, 0.8278641700744629, 0.8255285024642944, 0.24530641734600067, 0.2865343987941742, 0.1174997091293335, 0.09276293218135834, 0.25973621010780334, 0.176618754863739, 0.13120250403881073, 0.09083250164985657, 0.30782127380371094, 0.2926825284957886, 0.6501703858375549, 0.32508519291877747, 0.10739091038703918, 0.25057879090309143, 0.6443454623222351, 0.9040066599845886, 0.6893829107284546, 0.13303880393505096, 0.024188874289393425, 0.024188874289393425, 0.13303880393505096, 0.858745276927948, 0.13067862391471863, 0.9193086624145508, 0.2621534466743469, 0.21656154096126556, 0.21656154096126556, 0.18236760795116425, 0.12284485250711441, 0.9204024076461792, 0.8790507316589355, 0.3011952340602875, 0.10952553153038025, 0.5750090479850769, 0.15752163529396057, 0.060122761875391006, 0.621669352054596, 0.01442946307361126, 0.14549708366394043, 0.15283092856407166, 0.012735911644995213, 0.012735911644995213, 0.8278342485427856, 0.7736470103263855, 0.8436047434806824, 0.06025748327374458, 0.12051496654748917, 0.2834850251674652, 0.6614651083946228, 0.09515993297100067, 0.16269278526306152, 0.06753285229206085, 0.5218448042869568, 0.15348376333713531, 0.7894099950790405, 0.06670747697353363, 0.4639202058315277, 0.033353738486766815, 0.4184378385543823, 0.018192948773503304, 0.06397392600774765, 0.012794784270226955, 0.2558957040309906, 0.652534008026123, 0.7374076843261719, 0.10534395277500153, 0.9683369398117065, 0.12655015289783478, 0.4964660108089447, 0.10708090662956238, 0.09734627604484558, 0.16548867523670197, 0.14396676421165466, 0.8638006448745728, 0.3543427288532257, 0.02768302708864212, 0.2934400737285614, 0.16056156158447266, 0.16609816253185272, 0.928957462310791, 0.0743165984749794, 0.7892741560935974, 0.885015606880188, 0.9032047986984253, 0.05338330566883087, 0.006672913208603859, 0.3937018811702728, 0.5405059456825256, 0.25998249650001526, 0.04333041235804558, 0.02166520617902279, 0.6716214418411255, 0.08803097158670425, 0.8803097009658813, 0.8597636222839355, 0.8957661390304565, 0.12796659767627716, 0.7894182801246643, 0.28068846464157104, 0.5925645232200623, 0.09356281906366348, 0.8530782461166382, 0.14186231791973114, 0.06346472352743149, 0.029865751042962074, 0.7615766525268555, 0.0037332188803702593, 0.491012841463089, 0.07174617052078247, 0.3004370927810669, 0.13452406227588654, 0.0913795530796051, 0.8224160075187683, 0.34369251132011414, 0.38354092836380005, 0.004981050733476877, 0.2540335953235626, 0.014943152666091919, 0.14683420956134796, 0.7341710329055786, 0.6732017993927002, 0.859840452671051, 0.9421169757843018, 0.7323740124702454, 0.12798769772052765, 0.028441710397601128, 0.02133128233253956, 0.0924355611205101, 0.3731599450111389, 0.2310037910938263, 0.09328998625278473, 0.2621004581451416, 0.0399814248085022, 0.12160523235797882, 0.868608832359314, 0.772005558013916, 0.1654297560453415, 0.8047240972518921, 0.8683962225914001, 0.10526014864444733, 0.02631503716111183, 0.1456712931394577, 0.17298465967178345, 0.18208912014961243, 0.4916406273841858, 0.018208911642432213, 0.1989980787038803, 0.17909826338291168, 0.616894006729126, 0.7743710279464722, 0.6732007265090942, 0.8598640561103821, 0.8574230074882507, 0.03874732926487923, 0.08136939257383347, 0.00553533248603344, 0.017159530892968178, 0.7895702719688416, 0.13159504532814026, 0.2020994871854782, 0.16167958080768585, 0.34761109948158264, 0.29102325439453125, 0.020886903628706932, 0.07310415804386139, 0.1253214180469513, 0.026108628138899803, 0.7571502327919006, 0.014421082101762295, 0.20189514756202698, 0.1442108154296875, 0.6345275640487671, 0.1612531840801239, 0.043978143483400345, 0.7916065454483032, 0.8203401565551758, 0.10254251956939697, 0.19885489344596863, 0.3645673096179962, 0.0828562080860138, 0.06352309137582779, 0.2913776636123657, 0.7839339375495911, 0.1206052228808403, 0.04020174220204353, 0.06030261144042015, 0.6111769080162048, 0.08731098473072052, 0.08731098473072052, 0.16214896738529205, 0.04989199340343475, 0.2669108808040619, 0.6066156625747681, 0.09705850481987, 0.0242646262049675, 0.6882790327072144, 0.5122568607330322, 0.026960888877511024, 0.2911776006221771, 0.09166701883077621, 0.07549048960208893, 0.14687485992908478, 0.7343742847442627, 0.7743942737579346, 0.1809668093919754, 0.7238672375679016, 0.0723867267370224, 0.6882659196853638, 0.7892922163009644, 0.00788889266550541, 0.17487044632434845, 0.20905564725399017, 0.596926212310791, 0.010518522933125496, 0.8204694986343384, 0.03646530956029892, 0.10939593613147736, 0.01823265478014946, 0.02825745940208435, 0.25431713461875916, 0.6781790256500244, 0.0565149188041687, 0.7893458008766174, 0.9032967686653137, 0.021061459556221962, 0.8003354668617249, 0.1684916764497757, 0.800950825214386, 0.114421546459198, 0.9754888415336609, 0.018405450507998466, 0.789389431476593, 0.0177334975451231, 0.523138165473938, 0.04433374106884003, 0.0177334975451231, 0.39900368452072144, 0.8630433082580566, 0.14384055137634277, 0.3201861083507538, 0.17464697360992432, 0.4948330819606781, 0.014553914777934551, 0.8189629316329956, 0.13649383187294006, 0.1332666277885437, 0.24432216584682465, 0.005552776623517275, 0.4997498691082001, 0.12216108292341232, 0.15773925185203552, 0.2804253399372101, 0.07010633498430252, 0.14021266996860504, 0.3505316972732544, 0.30977681279182434, 0.1783563494682312, 0.28787338733673096, 0.1376785784959793, 0.08761364221572876, 0.8050342202186584, 0.15858395397663116, 0.15103234350681305, 0.10572264343500137, 0.2492033690214157, 0.33227115869522095, 0.9392351508140564, 0.07753010094165802, 0.15506020188331604, 0.1033734679222107, 0.646084189414978, 0.20123551785945892, 0.24343006312847137, 0.07465188205242157, 0.05842321366071701, 0.42843690514564514, 0.8779267072677612, 0.7893458604812622, 0.21513129770755768, 0.4889347553253174, 0.13038259744644165, 0.019557390362024307, 0.14993999898433685, 0.31665346026420593, 0.23630855977535248, 0.1725052446126938, 0.1606898158788681, 0.1157911941409111, 0.8771583437919617, 0.861501157283783, 0.10768764466047287, 0.23753805458545685, 0.06786801666021347, 0.6447461843490601, 0.06786801666021347, 0.9372974038124084, 0.09372974187135696, 0.93343186378479, 0.771214485168457, 0.07011040300130844, 0.07011040300130844, 0.8868143558502197, 0.0682164877653122, 0.8187406063079834, 0.4925125539302826, 0.16242435574531555, 0.1676638424396515, 0.14670586585998535, 0.03667646646499634, 0.8597350716590881, 0.8987866640090942, 0.052869804203510284, 0.13404159247875214, 0.8712704181671143, 0.8949514031410217, 0.8770297169685364, 0.8792445659637451, 0.4788302779197693, 0.24127106368541718, 0.06681352853775024, 0.1781693994998932, 0.03340676426887512, 0.7897263765335083, 0.6835060119628906, 0.09113413840532303, 0.18226827681064606, 0.8379072546958923, 0.8531696796417236, 0.8845720887184143, 0.14742867648601532, 0.32964763045310974, 0.2791610658168793, 0.05939597263932228, 0.008909395895898342, 0.3207382559776306, 0.17124043405056, 0.68496173620224, 0.2041342705488205, 0.17691636085510254, 0.0680447593331337, 0.04082685336470604, 0.5307490825653076, 0.25326910614967346, 0.05065381899476051, 0.05065381899476051, 0.6331727504730225, 0.057336870580911636, 0.11467374116182327, 0.8027161955833435, 0.8956322073936462, 0.5455801486968994, 0.16838893294334412, 0.17512448132038116, 0.020206671208143234, 0.09429779648780823, 0.10268298536539078, 0.12637905776500702, 0.15797382593154907, 0.015797382220625877, 0.5924018025398254, 0.18903903663158417, 0.05155609920620918, 0.7561561465263367, 0.42717960476875305, 0.10569392144680023, 0.37433263659477234, 0.004403913393616676, 0.08807826787233353, 0.8373823761940002, 0.7901902198791504, 0.1316983699798584, 0.16846588253974915, 0.75809645652771, 0.9193121790885925, 0.36469969153404236, 0.22973208129405975, 0.07179127633571625, 0.21250218152999878, 0.12348099797964096, 0.08271163702011108, 0.6306762099266052, 0.12406744807958603, 0.1447453647851944, 0.02067790925502777, 0.8443650603294373, 0.09381834417581558, 0.0987827479839325, 0.37043529748916626, 0.12347842752933502, 0.1399422138929367, 0.26342064142227173, 0.9174160957336426, 0.9034335017204285, 0.26879942417144775, 0.12287972867488861, 0.007679983042180538, 0.3609592020511627, 0.2380794733762741, 0.9049136638641357, 0.08562451601028442, 0.1181027814745903, 0.02362055517733097, 0.05905139073729515, 0.7145218253135681, 0.9060317277908325, 0.039392683655023575, 0.039392683655023575, 0.1475091129541397, 0.8113001585006714, 0.2662721276283264, 0.1458156853914261, 0.4818257689476013, 0.10777681320905685, 0.9784390330314636, 0.7372732758522034, 0.10532476007938385, 0.11467581242322922, 0.8027306795120239, 0.08570658415555954, 0.17141316831111908, 0.6856526732444763, 0.6355883479118347, 0.042372554540634155, 0.2966078817844391, 0.014124184846878052, 0.13861580193042755, 0.3292125165462494, 0.03465395048260689, 0.485155314207077, 0.9644067883491516, 0.029224447906017303, 0.12527993321418762, 0.6071258187294006, 0.0481845885515213, 0.2120121866464615, 0.17489786446094513, 0.7433159351348877, 0.08744893223047256, 0.1256132572889328, 0.13527582585811615, 0.5185573101043701, 0.21579714119434357, 0.003220852930098772, 0.0574001669883728, 0.3157009184360504, 0.6122684478759766, 0.6174005270004272, 0.2293201982975006, 0.1499401330947876, 0.6253606677055359, 0.012261973693966866, 0.11035776138305664, 0.2452394664287567, 0.8581100702285767, 0.08172477036714554, 0.08172477036714554, 0.20714445412158966, 0.06904815137386322, 0.6904815435409546, 0.08394241333007812, 0.8394241333007812, 0.0573015958070755, 0.114603191614151, 0.8022223711013794, 0.19662493467330933, 0.04915623366832733, 0.09831246733665466, 0.6390310525894165, 0.9308269023895264, 0.2059946209192276, 0.08239784836769104, 0.6111173629760742, 0.06866487115621567, 0.034332435578107834, 0.6878143548965454, 0.7894881367683411, 0.391669362783432, 0.2911752462387085, 0.1932579129934311, 0.08761025220155716, 0.03607480973005295, 0.9162492752075195, 0.10577233135700226, 0.6648546457290649, 0.2266549915075302, 0.0887463390827179, 0.016904063522815704, 0.2831430733203888, 0.1605886071920395, 0.44795769453048706, 0.7562617063522339, 0.7746954560279846, 0.11351606994867325, 0.3211674094200134, 0.13566555082798004, 0.14674028754234314, 0.2796371579170227, 0.7557883858680725, 0.171479269862175, 0.06430472433567047, 0.6430472731590271, 0.10717454552650452, 0.021434908732771873, 0.8378947973251343, 0.9173368811607361, 0.14287059009075165, 0.011905882507562637, 0.2619294226169586, 0.5833882093429565, 0.8431069254875183, 0.0809004083275795, 0.7281036972999573, 0.0809004083275795, 0.08237694948911667, 0.6590155959129333, 0.054917968809604645, 0.19221289455890656, 0.17274491488933563, 0.6909796595573425, 0.09365672618150711, 0.09365672618150711, 0.14048509299755096, 0.6555970907211304, 0.08376413583755493, 0.8376412987709045, 0.1770205944776535, 0.25920870900154114, 0.1264432817697525, 0.41094064712524414, 0.031610820442438126, 0.7554887533187866, 0.8427252769470215, 0.1854478120803833, 0.020605312660336494, 0.620219886302948, 0.1401161253452301, 0.030907968059182167, 0.6745321154594421, 0.06745321303606033, 0.16863302886486053, 0.1011798158288002, 0.429523766040802, 0.0991208627820015, 0.06240943446755409, 0.198241725564003, 0.2092551589012146, 0.2204199582338333, 0.2121022343635559, 0.4200455844402313, 0.1330837458372116, 0.01663546822965145, 0.8254439234733582, 0.9170950651168823, 0.2874147891998291, 0.02395123429596424, 0.5987808108329773, 0.07185369729995728, 0.7739205360412598, 0.30365461111068726, 0.4211983382701874, 0.10774841904640198, 0.07836248725652695, 0.08815779536962509, 0.22359628975391388, 0.08130773901939392, 0.6911157965660095, 0.7994459867477417, 0.17130985856056213, 0.7895144820213318, 0.838600754737854, 0.24811366200447083, 0.19397976994514465, 0.320292204618454, 0.1984909325838089, 0.03608926013112068, 0.5888899564743042, 0.25805288553237915, 0.11910133808851242, 0.026466963812708855, 0.789428174495697, 0.5667245388031006, 0.02956823632121086, 0.19219353795051575, 0.21190568804740906, 0.6500781178474426, 0.03421463817358017, 0.06842927634716034, 0.2280975878238678, 0.14481844007968903, 0.7240921854972839, 0.19404685497283936, 0.38513118028640747, 0.0992453396320343, 0.17330902814865112, 0.14812737703323364, 0.091863252222538, 0.4658779203891754, 0.15091820061206818, 0.22965814173221588, 0.05905494838953018, 0.031854402273893356, 0.700796902179718, 0.023890802636742592, 0.24687163531780243, 0.3186444342136383, 0.08312463760375977, 0.46642157435417175, 0.04156231880187988, 0.08774267137050629, 0.31271764636039734, 0.05279648303985596, 0.20712466537952423, 0.21930848062038422, 0.20712466537952423, 0.017996588721871376, 0.02699488401412964, 0.017996588721871376, 0.5039044618606567, 0.4319181442260742, 0.1719270795583725, 0.8596353530883789, 0.028628801926970482, 0.014314400963485241, 0.9304360151290894, 0.014314400963485241, 0.008649655617773533, 0.025948965921998024, 0.05189793184399605, 0.9168635010719299, 0.7736121416091919, 0.05046892538666725, 0.05046892538666725, 0.15140677988529205, 0.7317994236946106, 0.18294721841812134, 0.8232625126838684, 0.061112914234399796, 0.046853236854076385, 0.5316823720932007, 0.2526000440120697, 0.10796615481376648, 0.2918904423713684, 0.22785325348377228, 0.45570650696754456, 0.0104246586561203, 0.013403132557868958, 0.04493838921189308, 0.9437061548233032, 0.10286135226488113, 0.20572270452976227, 0.7200294733047485, 0.6410140991210938, 0.20902633666992188, 0.111480712890625, 0.041805267333984375, 0.773647129535675, 0.4213731288909912, 0.27195003628730774, 0.1344807893037796, 0.13149231672286987, 0.038850005716085434, 0.09358692914247513, 0.015597821213304996, 0.7330976128578186, 0.062391284853219986, 0.09358692914247513, 0.10328242182731628, 0.9295417666435242, 0.7744402885437012, 0.7736534476280212, 0.007313922513276339, 0.014627845026552677, 0.6655669212341309, 0.26330122351646423, 0.043883536010980606, 0.18609784543514252, 0.0734596773982048, 0.019589247182011604, 0.4358607232570648, 0.2889413833618164, 0.36506912112236023, 0.39444249868392944, 0.11329731345176697, 0.08812013268470764, 0.04196196794509888, 0.13694563508033752, 0.26247912645339966, 0.045648545026779175, 0.011412136256694794, 0.5477825403213501, 0.7261545658111572, 0.08068384230136871, 0.16136768460273743, 0.5510722398757935, 0.19075576961040497, 0.05828648433089256, 0.11657296866178513, 0.0794815719127655, 0.1815233677625656, 0.2062765508890152, 0.057757433503866196, 0.15677018463611603, 0.39605098962783813, 0.036779843270778656, 0.9011061191558838, 0.055169761180877686, 0.10171806067228317, 0.30906641483306885, 0.1330159306526184, 0.10171806067228317, 0.34818875789642334, 0.789309024810791, 0.06048502400517464, 0.78630530834198, 0.15121255815029144, 0.8188932538032532, 0.8820738792419434, 0.07350615411996841], \"Term\": [\"\\u0430\\u0432\\u0442\\u043e\\u0440\\u0438\\u0437\\u0430\\u0446\\u0438\\u044f\", \"\\u0430\\u0432\\u0442\\u043e\\u0441\\u0430\\u043b\\u043e\\u043d\", \"\\u0430\\u0432\\u0442\\u043e\\u0441\\u0430\\u043b\\u043e\\u043d\", \"\\u0430\\u0434\\u043c\\u0438\\u043d\\u0438\\u0441\\u0442\\u0440\\u0430\\u0442\\u043e\\u0440\", \"\\u0430\\u0434\\u043c\\u0438\\u043d\\u0438\\u0441\\u0442\\u0440\\u0430\\u0442\\u043e\\u0440\", \"\\u0430\\u0434\\u043c\\u0438\\u043d\\u0438\\u0441\\u0442\\u0440\\u0430\\u0442\\u043e\\u0440\", \"\\u0430\\u0434\\u043c\\u0438\\u043d\\u0438\\u0441\\u0442\\u0440\\u0430\\u0442\\u043e\\u0440\", \"\\u0430\\u0434\\u043c\\u0438\\u043d\\u0438\\u0441\\u0442\\u0440\\u0430\\u0442\\u043e\\u0440\", \"\\u0430\\u0434\\u043c\\u0438\\u043d\\u0438\\u0441\\u0442\\u0440\\u0430\\u0446\\u0438\\u044f\", \"\\u0430\\u0434\\u0440\\u0435\\u0441\", \"\\u0430\\u0434\\u0440\\u0435\\u0441\", \"\\u0430\\u0434\\u0440\\u0435\\u0441\", \"\\u0430\\u0434\\u0440\\u0435\\u0441\", \"\\u0430\\u0434\\u0440\\u0435\\u0441\", \"\\u0430\\u043a\\u0442\\u0438\\u0432\\u0430\\u0446\\u0438\\u044f\", \"\\u0430\\u043a\\u0442\\u0438\\u0432\\u0430\\u0446\\u0438\\u044f\", \"\\u0430\\u043d\\u0434\\u0440\\u0435\\u0439\", \"\\u0430\\u043d\\u0434\\u0440\\u0435\\u0439\", \"\\u0430\\u043f\\u043f\\u0430\\u0440\\u0430\\u0442\", \"\\u0430\\u043f\\u0440\\u0435\\u043b\\u044c\", \"\\u0430\\u043f\\u0440\\u0435\\u043b\\u044c\", \"\\u0430\\u043f\\u0440\\u0435\\u043b\\u044c\", \"\\u0430\\u043f\\u0440\\u0435\\u043b\\u044c\", \"\\u0430\\u043f\\u0440\\u0435\\u043b\\u044c\", \"\\u0430\\u0440\\u0435\\u043d\\u0434\\u0430\", \"\\u0430\\u0440\\u0435\\u043d\\u0434\\u0430\", \"\\u0430\\u0440\\u0445\\u0430\\u043d\\u0433\\u0435\\u043b\\u044c\\u0441\\u043a\", \"\\u0430\\u044d\\u0440\\u043e\\u0444\\u043b\\u043e\\u0442\", \"\\u0431\\u0430\\u0431\\u0443\\u0448\\u043a\\u0430\", \"\\u0431\\u0430\\u043d\\u043a\\u043e\\u043c\\u0430\\u0442\", \"\\u0431\\u0430\\u043d\\u043a\\u043e\\u043c\\u0430\\u0442\", \"\\u0431\\u0430\\u043d\\u043a\\u043e\\u043c\\u0430\\u0442\", \"\\u0431\\u0430\\u043d\\u043a\\u043e\\u043c\\u0430\\u0442\", \"\\u0431\\u0430\\u0440\\u044b\\u0448\\u043d\\u044f\", \"\\u0431\\u0438\\u0437\\u043d\\u0435\\u0441\", \"\\u0431\\u0438\\u0437\\u043d\\u0435\\u0441\", \"\\u0431\\u0438\\u0437\\u043d\\u0435\\u0441\", \"\\u0431\\u0438\\u0437\\u043d\\u0435\\u0441\", \"\\u0431\\u043b\\u0430\\u0433\\u043e\\u0434\\u0430\\u0440\\u043d\\u043e\\u0441\\u0442\\u044c\", \"\\u0431\\u043b\\u0430\\u0433\\u043e\\u0434\\u0430\\u0440\\u043d\\u043e\\u0441\\u0442\\u044c\", \"\\u0431\\u043b\\u0430\\u0433\\u043e\\u0434\\u0430\\u0440\\u043d\\u043e\\u0441\\u0442\\u044c\", \"\\u0431\\u043b\\u043e\\u043a\\u0438\\u0440\\u043e\\u0432\\u043a\\u0430\", \"\\u0431\\u043b\\u043e\\u043a\\u0438\\u0440\\u043e\\u0432\\u043a\\u0430\", \"\\u0432\\u0435\\u0440\\u0441\\u0438\\u044f\", \"\\u0432\\u0435\\u0440\\u0441\\u0438\\u044f\", \"\\u0432\\u0438\\u0437\\u0430\", \"\\u0432\\u0438\\u0437\\u0430\", \"\\u0432\\u0438\\u0437\\u0430\", \"\\u0432\\u0438\\u043a\\u0442\\u043e\\u0440\\u0438\\u044f\", \"\\u0432\\u043a\\u043b\\u0430\\u0434\", \"\\u0432\\u043a\\u043b\\u0430\\u0434\", \"\\u0432\\u043a\\u043b\\u0430\\u0434\", \"\\u0432\\u043a\\u043b\\u0430\\u0434\", \"\\u0432\\u043a\\u043b\\u0430\\u0434\\u0447\\u0438\\u043a\", \"\\u0432\\u043a\\u043b\\u0430\\u0434\\u0447\\u0438\\u043a\", \"\\u0432\\u043d\\u0435\\u0441\\u0435\\u043d\\u0438\\u0435\", \"\\u0432\\u043d\\u0435\\u0441\\u0435\\u043d\\u0438\\u0435\", \"\\u0432\\u043d\\u0435\\u0441\\u0435\\u043d\\u0438\\u0435\", \"\\u0432\\u043d\\u0435\\u0441\\u0435\\u043d\\u0438\\u0435\", \"\\u0432\\u043e\\u0437\\u0432\\u0440\\u0430\\u0442\", \"\\u0432\\u043e\\u0437\\u0432\\u0440\\u0430\\u0442\", \"\\u0432\\u043e\\u0437\\u0432\\u0440\\u0430\\u0442\", \"\\u0432\\u043e\\u0437\\u0432\\u0440\\u0430\\u0442\", \"\\u0432\\u043e\\u0437\\u0432\\u0440\\u0430\\u0442\", \"\\u0432\\u043e\\u043b\\u0433\\u043e\\u0433\\u0440\\u0430\\u0434\\u043a\\u0430\", \"\\u0432\\u043e\\u043f\\u0440\\u043e\\u0441\", \"\\u0432\\u043e\\u043f\\u0440\\u043e\\u0441\", \"\\u0432\\u043e\\u043f\\u0440\\u043e\\u0441\", \"\\u0432\\u043e\\u043f\\u0440\\u043e\\u0441\", \"\\u0432\\u043e\\u043f\\u0440\\u043e\\u0441\", \"\\u0432\\u043e\\u0440\\u043a\\u0443\\u0442\\u0430\", \"\\u0432\\u043e\\u0440\\u043e\\u0442\\u0430\", \"\\u0432\\u0440\\u0435\\u0434\", \"\\u0432\\u0440\\u0435\\u043c\\u044f\", \"\\u0432\\u0440\\u0435\\u043c\\u044f\", \"\\u0432\\u0440\\u0435\\u043c\\u044f\", \"\\u0432\\u0440\\u0435\\u043c\\u044f\", \"\\u0432\\u0440\\u0435\\u043c\\u044f\", \"\\u0432\\u0441\", \"\\u0432\\u0441\", \"\\u0432\\u0441\", \"\\u0432\\u0441\", \"\\u0432\\u0441\", \"\\u0432\\u0441\\u0442\\u0440\\u0435\\u0447\\u0430\", \"\\u0432\\u0441\\u0442\\u0440\\u0435\\u0447\\u0430\", \"\\u0432\\u0445\\u043e\\u0434\", \"\\u0432\\u0445\\u043e\\u0434\", \"\\u0432\\u0445\\u043e\\u0434\", \"\\u0432\\u044b\\u0432\\u0435\\u0441\\u043a\\u0430\", \"\\u0432\\u044b\\u043f\\u0438\\u0441\\u043a\\u0430\", \"\\u0432\\u044b\\u043f\\u0438\\u0441\\u043a\\u0430\", \"\\u0432\\u044b\\u043f\\u0438\\u0441\\u043a\\u0430\", \"\\u0432\\u044b\\u043f\\u0438\\u0441\\u043a\\u0430\", \"\\u0432\\u044b\\u043f\\u0438\\u0441\\u043a\\u0430\", \"\\u0432\\u044b\\u043f\\u0443\\u0441\\u043a\", \"\\u0432\\u044b\\u043f\\u0443\\u0441\\u043a\", \"\\u0433\\u0435\\u0440\\u043c\\u0430\\u043d\", \"\\u0433\\u043e\\u0434\", \"\\u0433\\u043e\\u0434\", \"\\u0433\\u043e\\u0434\", \"\\u0433\\u043e\\u0434\", \"\\u0433\\u043e\\u0434\", \"\\u0433\\u043e\\u043b\\u0434\", \"\\u0433\\u0440\\u0430\\u0444\", \"\\u0434\\u0432\\u0435\\u0440\\u044c\", \"\\u0434\\u0432\\u0435\\u0440\\u044c\", \"\\u0434\\u0432\\u0435\\u0440\\u044c\", \"\\u0434\\u0435\\u043d\\u044c\\u0433\\u0430\", \"\\u0434\\u0435\\u043d\\u044c\\u0433\\u0430\", \"\\u0434\\u0435\\u043d\\u044c\\u0433\\u0430\", \"\\u0434\\u0435\\u043d\\u044c\\u0433\\u0430\", \"\\u0434\\u0435\\u043d\\u044c\\u0433\\u0430\", \"\\u0434\\u0435\\u043f\\u043e\\u0437\\u0438\\u0442\", \"\\u0434\\u0435\\u043f\\u043e\\u0437\\u0438\\u0442\", \"\\u0434\\u0435\\u043f\\u043e\\u0437\\u0438\\u0442\", \"\\u0434\\u0435\\u043f\\u043e\\u0437\\u0438\\u0442\", \"\\u0434\\u0435\\u0440\\u0433\\u0430\\u0447\", \"\\u0434\\u0435\\u0440\\u0436\\u0430\\u0442\\u0435\\u043b\\u044c\", \"\\u0434\\u0435\\u0440\\u0436\\u0430\\u0442\\u0435\\u043b\\u044c\", \"\\u0434\\u0435\\u0440\\u0436\\u0430\\u0442\\u0435\\u043b\\u044c\", \"\\u0434\\u0435\\u0441\\u044f\\u0442\\u043a\\u0430\", \"\\u0434\\u0435\\u0441\\u044f\\u0442\\u043a\\u0430\", \"\\u0434\\u043e\\u0433\\u043e\\u0432\\u043e\\u0440\", \"\\u0434\\u043e\\u0433\\u043e\\u0432\\u043e\\u0440\", \"\\u0434\\u043e\\u0433\\u043e\\u0432\\u043e\\u0440\", \"\\u0434\\u043e\\u0433\\u043e\\u0432\\u043e\\u0440\", \"\\u0434\\u043e\\u0433\\u043e\\u0432\\u043e\\u0440\", \"\\u0434\\u043e\\u043a\", \"\\u0434\\u043e\\u043a\\u0443\\u043c\\u0435\\u043d\\u0442\", \"\\u0434\\u043e\\u043a\\u0443\\u043c\\u0435\\u043d\\u0442\", \"\\u0434\\u043e\\u043a\\u0443\\u043c\\u0435\\u043d\\u0442\", \"\\u0434\\u043e\\u043a\\u0443\\u043c\\u0435\\u043d\\u0442\", \"\\u0434\\u043e\\u043a\\u0443\\u043c\\u0435\\u043d\\u0442\", \"\\u0434\\u043e\\u043b\\u0433\", \"\\u0434\\u043e\\u043b\\u0433\", \"\\u0434\\u043e\\u043b\\u0433\", \"\\u0434\\u043e\\u043b\\u0433\", \"\\u0434\\u043e\\u043b\\u0436\\u043d\\u043e\\u0441\\u0442\\u044c\", \"\\u0434\\u043e\\u043b\\u0436\\u043d\\u043e\\u0441\\u0442\\u044c\", \"\\u0434\\u043e\\u0441\\u0442\\u0430\\u0432\\u043a\\u0430\", \"\\u0434\\u0440\\u0443\\u0433\", \"\\u0434\\u0440\\u0443\\u0433\", \"\\u0434\\u0440\\u0443\\u0433\", \"\\u0434\\u0440\\u0443\\u0433\", \"\\u0434\\u0440\\u0443\\u0433\", \"\\u0434\\u0443\\u0440\\u0430\\u043a\", \"\\u0434\\u0443\\u0440\\u0430\\u043a\", \"\\u0435\", \"\\u0435\", \"\\u0435\", \"\\u0435\", \"\\u0435\", \"\\u0435\\u043b\\u0435\\u043d\\u0430\", \"\\u0435\\u043b\\u0435\\u043d\\u0430\", \"\\u0435\\u0440\\u043a\\u0435\\u0446\", \"\\u0436\\u0435\\u0442\\u043e\\u043d\", \"\\u0436\\u0438\\u043b\\u044c\\u0451\", \"\\u0437\\u0430\\u0434\\u043e\\u043b\\u0436\\u0435\\u043d\\u043d\\u043e\\u0441\\u0442\\u044c\", \"\\u0437\\u0430\\u0434\\u043e\\u043b\\u0436\\u0435\\u043d\\u043d\\u043e\\u0441\\u0442\\u044c\", \"\\u0437\\u0430\\u0434\\u043e\\u043b\\u0436\\u0435\\u043d\\u043d\\u043e\\u0441\\u0442\\u044c\", \"\\u0437\\u0430\\u0434\\u043e\\u043b\\u0436\\u0435\\u043d\\u043d\\u043e\\u0441\\u0442\\u044c\", \"\\u0437\\u0430\\u043b\", \"\\u0437\\u0430\\u043b\", \"\\u0437\\u0430\\u043b\", \"\\u0437\\u0430\\u043b\", \"\\u0437\\u0430\\u043c\", \"\\u0437\\u0430\\u043c\", \"\\u0437\\u0430\\u043f\\u0438\\u0441\\u043a\\u0430\", \"\\u0437\\u0430\\u043f\\u0440\\u0435\\u0442\", \"\\u0437\\u0430\\u043f\\u0440\\u0435\\u0442\", \"\\u0437\\u0430\\u0442\\u043e\\u0440\", \"\\u0437\\u0430\\u0447\\u0438\\u0441\\u043b\\u0435\\u043d\\u0438\\u0435\", \"\\u0437\\u0430\\u0447\\u0438\\u0441\\u043b\\u0435\\u043d\\u0438\\u0435\", \"\\u0437\\u0430\\u0447\\u0438\\u0441\\u043b\\u0435\\u043d\\u0438\\u0435\", \"\\u0437\\u0430\\u0449\\u0438\\u0442\\u0430\", \"\\u0437\\u0430\\u044f\\u0432\\u043a\\u0430\", \"\\u0437\\u0430\\u044f\\u0432\\u043a\\u0430\", \"\\u0437\\u0430\\u044f\\u0432\\u043a\\u0430\", \"\\u0437\\u0430\\u044f\\u0432\\u043a\\u0430\", \"\\u0437\\u0430\\u044f\\u0432\\u043a\\u0430\", \"\\u0437\\u0430\\u044f\\u0432\\u043b\\u0435\\u043d\\u0438\\u0435\", \"\\u0437\\u0430\\u044f\\u0432\\u043b\\u0435\\u043d\\u0438\\u0435\", \"\\u0437\\u0430\\u044f\\u0432\\u043b\\u0435\\u043d\\u0438\\u0435\", \"\\u0437\\u0430\\u044f\\u0432\\u043b\\u0435\\u043d\\u0438\\u0435\", \"\\u0437\\u0430\\u0451\\u043c\\u0449\\u0438\\u043a\", \"\\u0437\\u0430\\u0451\\u043c\\u0449\\u0438\\u043a\", \"\\u0437\\u0432\\u043e\\u043d\\u043e\\u043a\", \"\\u0437\\u0432\\u043e\\u043d\\u043e\\u043a\", \"\\u0437\\u0432\\u043e\\u043d\\u043e\\u043a\", \"\\u0437\\u0432\\u043e\\u043d\\u043e\\u043a\", \"\\u0437\\u0432\\u043e\\u043d\\u043e\\u043a\", \"\\u0437\\u043e\\u043d\\u0430\", \"\\u0437\\u043e\\u043d\\u0430\", \"\\u0438\\u0437\\u043b\\u043e\\u0436\\u0435\\u043d\\u0438\\u0435\", \"\\u0438\\u043d\\u0432\\u0430\\u043b\\u0438\\u0434\", \"\\u0438\\u043d\\u043a\\u0430\\u0441\\u0441\\u0430\\u0446\\u0438\\u044f\", \"\\u0438\\u043d\\u0442\\u0435\\u0440\\u043d\\u0435\\u0442\", \"\\u0438\\u043d\\u0442\\u0435\\u0440\\u043d\\u0435\\u0442\", \"\\u0438\\u043d\\u0442\\u0435\\u0440\\u043d\\u0435\\u0442\", \"\\u0438\\u043d\\u0442\\u0435\\u0440\\u043d\\u0435\\u0442\", \"\\u0438\\u043d\\u0442\\u0435\\u0440\\u043d\\u0435\\u0442\", \"\\u0438\\u043d\\u0444\\u043e\\u0440\\u043c\\u0430\\u0446\\u0438\\u044f\", \"\\u0438\\u043d\\u0444\\u043e\\u0440\\u043c\\u0430\\u0446\\u0438\\u044f\", \"\\u0438\\u043d\\u0444\\u043e\\u0440\\u043c\\u0430\\u0446\\u0438\\u044f\", \"\\u0438\\u043d\\u0444\\u043e\\u0440\\u043c\\u0430\\u0446\\u0438\\u044f\", \"\\u0438\\u043d\\u0444\\u043e\\u0440\\u043c\\u0430\\u0446\\u0438\\u044f\", \"\\u0438\\u043f\\u043e\\u0442\\u0435\\u043a\\u0430\", \"\\u0438\\u043f\\u043e\\u0442\\u0435\\u043a\\u0430\", \"\\u0438\\u0440\\u0438\\u043d\\u0430\", \"\\u0438\\u0440\\u0438\\u043d\\u0430\", \"\\u0438\\u0441\\u043a\", \"\\u0438\\u0441\\u043f\\u043e\\u043b\\u044c\\u0437\\u043e\\u0432\\u0430\\u043d\\u0438\\u0435\", \"\\u0438\\u0441\\u043f\\u043e\\u043b\\u044c\\u0437\\u043e\\u0432\\u0430\\u043d\\u0438\\u0435\", \"\\u0438\\u0441\\u043f\\u043e\\u043b\\u044c\\u0437\\u043e\\u0432\\u0430\\u043d\\u0438\\u0435\", \"\\u0438\\u0441\\u0442\\u043e\\u0440\\u0438\\u044f\", \"\\u0438\\u0441\\u0442\\u043e\\u0440\\u0438\\u044f\", \"\\u0438\\u0441\\u0442\\u043e\\u0440\\u0438\\u044f\", \"\\u0438\\u0441\\u0442\\u043e\\u0440\\u0438\\u044f\", \"\\u0438\\u0441\\u0442\\u043e\\u0440\\u0438\\u044f\", \"\\u0438\\u044e\\u043b\\u044c\", \"\\u0438\\u044e\\u043b\\u044c\", \"\\u0438\\u044e\\u043b\\u044c\", \"\\u043a\\u0430\\u0431\\u0438\\u043d\\u043a\\u0430\", \"\\u043a\\u0430\\u0432\\u044b\\u0447\\u043a\\u0430\", \"\\u043a\\u0430\\u043f\\u043b\\u044f\", \"\\u043a\\u0430\\u0440\\u0442\\u0430\", \"\\u043a\\u0430\\u0440\\u0442\\u0430\", \"\\u043a\\u0430\\u0440\\u0442\\u0430\", \"\\u043a\\u0430\\u0440\\u0442\\u0430\", \"\\u043a\\u0430\\u0440\\u0442\\u0430\", \"\\u043a\\u0430\\u0440\\u0442\\u0438\\u043d\\u0430\", \"\\u043a\\u0430\\u0440\\u0442\\u0438\\u043d\\u0430\", \"\\u043a\\u0430\\u0440\\u0442\\u043e\\u0447\\u043a\\u0430\", \"\\u043a\\u0430\\u0440\\u0442\\u043e\\u0447\\u043a\\u0430\", \"\\u043a\\u0430\\u0440\\u0442\\u043e\\u0447\\u043a\\u0430\", \"\\u043a\\u0430\\u0440\\u0442\\u043e\\u0447\\u043a\\u0430\", \"\\u043a\\u0430\\u0441\\u0441\\u0430\", \"\\u043a\\u0430\\u0441\\u0441\\u0430\", \"\\u043a\\u0430\\u0441\\u0441\\u0430\", \"\\u043a\\u0430\\u0441\\u0441\\u0430\", \"\\u043a\\u0430\\u0441\\u0441\\u0430\", \"\\u043a\\u0430\\u0441\\u0441\\u0438\\u0440\", \"\\u043a\\u0430\\u0441\\u0441\\u0438\\u0440\", \"\\u043a\\u0430\\u0441\\u0441\\u0438\\u0440\", \"\\u043a\\u0430\\u0441\\u0441\\u0438\\u0440\", \"\\u043a\\u0432\\u0430\\u0440\\u0442\\u0438\\u0440\\u0430\", \"\\u043a\\u0432\\u0430\\u0440\\u0442\\u0438\\u0440\\u0430\", \"\\u043a\\u0432\\u0430\\u0440\\u0442\\u0438\\u0440\\u0430\", \"\\u043a\\u043b\\u0430\\u0441\\u0441\\u0438\\u043a\", \"\\u043a\\u043b\\u0430\\u0441\\u0441\\u0438\\u043a\", \"\\u043a\\u043b\\u0438\\u0435\\u043d\\u0442\", \"\\u043a\\u043b\\u0438\\u0435\\u043d\\u0442\", \"\\u043a\\u043b\\u0438\\u0435\\u043d\\u0442\", \"\\u043a\\u043b\\u0438\\u0435\\u043d\\u0442\", \"\\u043a\\u043b\\u0438\\u0435\\u043d\\u0442\", \"\\u043a\\u043e\\u0434\", \"\\u043a\\u043e\\u0434\", \"\\u043a\\u043e\\u0434\", \"\\u043a\\u043e\\u0434\", \"\\u043a\\u043e\\u043b\\u043b\", \"\\u043a\\u043e\\u043b\\u043b\", \"\\u043a\\u043e\\u043b\\u043b\", \"\\u043a\\u043e\\u043b\\u043b\", \"\\u043a\\u043e\\u043b\\u043b\", \"\\u043a\\u043e\\u043b\\u043b\\u0435\\u0433\\u0430\", \"\\u043a\\u043e\\u043b\\u043b\\u0435\\u0433\\u0430\", \"\\u043a\\u043e\\u043b\\u043b\\u0435\\u0433\\u0430\", \"\\u043a\\u043e\\u043b\\u043b\\u0435\\u0433\\u0430\", \"\\u043a\\u043e\\u043b\\u043b\\u0435\\u043a\\u0442\\u0438\\u0432\", \"\\u043a\\u043e\\u043c\\u0438\\u0441\\u0441\\u0438\\u044f\", \"\\u043a\\u043e\\u043c\\u0438\\u0441\\u0441\\u0438\\u044f\", \"\\u043a\\u043e\\u043c\\u0438\\u0441\\u0441\\u0438\\u044f\", \"\\u043a\\u043e\\u043c\\u0438\\u0441\\u0441\\u0438\\u044f\", \"\\u043a\\u043e\\u043c\\u0438\\u0441\\u0441\\u0438\\u044f\", \"\\u043a\\u043e\\u043c\\u043c\\u0443\\u043d\\u0430\\u043b\\u043a\\u0430\", \"\\u043a\\u043e\\u043c\\u043c\\u0443\\u043d\\u0430\\u043b\\u043a\\u0430\", \"\\u043a\\u043e\\u043d\\u0434\\u0438\\u0446\\u0438\\u043e\\u043d\\u0438\\u0440\\u043e\\u0432\\u0430\\u043d\\u0438\\u0435\", \"\\u043a\\u043e\\u043d\\u0442\\u0430\\u043a\\u0442\", \"\\u043a\\u043e\\u043d\\u0442\\u0430\\u043a\\u0442\", \"\\u043a\\u043e\\u043d\\u0442\\u0430\\u043a\\u0442\", \"\\u043a\\u043e\\u043d\\u0442\\u0440\\u0430\\u0441\\u0442\", \"\\u043a\\u043e\\u043d\\u0442\\u0440\\u043e\\u043b\\u0451\\u0440\", \"\\u043a\\u0440\\u0435\\u0434\\u0438\\u0442\", \"\\u043a\\u0440\\u0435\\u0434\\u0438\\u0442\", \"\\u043a\\u0440\\u0435\\u0434\\u0438\\u0442\", \"\\u043a\\u0440\\u0435\\u0434\\u0438\\u0442\", \"\\u043a\\u0440\\u0435\\u0434\\u0438\\u0442\", \"\\u043a\\u0440\\u0435\\u0434\\u0438\\u0442\\u043a\\u0430\", \"\\u043a\\u0440\\u0435\\u0434\\u0438\\u0442\\u043a\\u0430\", \"\\u043a\\u0440\\u0435\\u0434\\u0438\\u0442\\u043a\\u0430\", \"\\u043a\\u0440\\u0435\\u0434\\u0438\\u0442\\u043a\\u0430\", \"\\u043a\\u0440\\u0435\\u0434\\u0438\\u0442\\u043e\\u0432\\u0430\\u043d\\u0438\\u0435\", \"\\u043a\\u0440\\u0435\\u0434\\u0438\\u0442\\u043e\\u0432\\u0430\\u043d\\u0438\\u0435\", \"\\u043a\\u0440\\u0435\\u0434\\u0438\\u0442\\u043e\\u0432\\u0430\\u043d\\u0438\\u0435\", \"\\u043a\\u0440\\u0435\\u0434\\u0438\\u0442\\u043e\\u0432\\u0430\\u043d\\u0438\\u0435\", \"\\u043a\\u0443\\u0434\\u0440\\u044f\\u0448\", \"\\u043a\\u0443\\u043f\\u043b\\u044f\", \"\\u043a\\u0443\\u043f\\u044e\\u0440\\u0430\", \"\\u043a\\u0443\\u043f\\u044e\\u0440\\u0430\", \"\\u043a\\u0443\\u043f\\u044e\\u0440\\u0430\", \"\\u043b\\u0430\\u0439\\u043d\\u0430\", \"\\u043b\\u0430\\u0439\\u043d\\u0430\", \"\\u043b\\u0438\\u043c\\u0438\\u0442\", \"\\u043b\\u0438\\u043c\\u0438\\u0442\", \"\\u043b\\u0438\\u043f\\u0435\\u0446\\u043a\", \"\\u043b\\u0438\\u0446\\u043e\", \"\\u043b\\u0438\\u0446\\u043e\", \"\\u043b\\u0438\\u0446\\u043e\", \"\\u043b\\u0438\\u0446\\u043e\", \"\\u043b\\u0438\\u0446\\u043e\", \"\\u043b\\u043e\\u0442\\u0435\\u0440\\u0435\\u044f\", \"\\u043b\\u043e\\u0442\\u0435\\u0440\\u0435\\u044f\", \"\\u043c\\u0430\\u0433\\u0430\\u0437\\u0438\\u043d\", \"\\u043c\\u0430\\u0433\\u0430\\u0437\\u0438\\u043d\", \"\\u043c\\u0430\\u0433\\u0430\\u0437\\u0438\\u043d\", \"\\u043c\\u0430\\u0433\\u0430\\u0437\\u0438\\u043d\", \"\\u043c\\u0430\\u0441\\u0442\\u0435\\u0440\\u043a\\u0430\\u0440\\u0434\", \"\\u043c\\u0430\\u0441\\u0442\\u0435\\u0440\\u043a\\u0430\\u0440\\u0434\", \"\\u043c\\u0435\\u043d\\u0435\\u0434\\u0436\\u0435\\u0440\", \"\\u043c\\u0435\\u043d\\u0435\\u0434\\u0436\\u0435\\u0440\", \"\\u043c\\u0435\\u043d\\u0435\\u0434\\u0436\\u0435\\u0440\", \"\\u043c\\u0435\\u043d\\u0435\\u0434\\u0436\\u0435\\u0440\", \"\\u043c\\u0435\\u043d\\u0435\\u0434\\u0436\\u0435\\u0440\", \"\\u043c\\u0435\\u0441\\u0442\\u043e\", \"\\u043c\\u0435\\u0441\\u0442\\u043e\", \"\\u043c\\u0435\\u0441\\u0442\\u043e\", \"\\u043c\\u0435\\u0441\\u0442\\u043e\", \"\\u043c\\u0435\\u0441\\u0442\\u043e\", \"\\u043c\\u0435\\u0441\\u044f\\u0446\", \"\\u043c\\u0435\\u0441\\u044f\\u0446\", \"\\u043c\\u0435\\u0441\\u044f\\u0446\", \"\\u043c\\u0435\\u0441\\u044f\\u0446\", \"\\u043c\\u0435\\u0441\\u044f\\u0446\", \"\\u043c\\u0435\\u0442\\u043e\\u0434\", \"\\u043c\\u0435\\u0442\\u0440\", \"\\u043c\\u0435\\u0442\\u0440\", \"\\u043c\\u0435\\u0442\\u0440\", \"\\u043c\\u0435\\u0442\\u0440\", \"\\u043c\\u0435\\u0442\\u0440\", \"\\u043c\\u0438\\u043b\\u0430\", \"\\u043c\\u0438\\u043d\\u0430\", \"\\u043c\\u0438\\u043d\\u0430\", \"\\u043c\\u0438\\u043d\\u0430\", \"\\u043c\\u0438\\u043d\\u0430\", \"\\u043c\\u0438\\u043d\\u0443\\u0442\\u0430\", \"\\u043c\\u0438\\u043d\\u0443\\u0442\\u0430\", \"\\u043c\\u0438\\u043d\\u0443\\u0442\\u0430\", \"\\u043c\\u0438\\u043d\\u0443\\u0442\\u0430\", \"\\u043c\\u0438\\u043d\\u0443\\u0442\\u0430\", \"\\u043c\\u043e\\u043b\\u0447\\u0430\\u043d\\u0438\\u0435\", \"\\u043c\\u043e\\u043c\\u0435\\u043d\\u0442\\u0443\\u043c\", \"\\u043c\\u043e\\u0441\\u043a\\u0432\\u0430\", \"\\u043c\\u043e\\u0441\\u043a\\u0432\\u0430\", \"\\u043c\\u043e\\u0441\\u043a\\u0432\\u0430\", \"\\u043c\\u043e\\u0441\\u043a\\u0432\\u0430\", \"\\u043c\\u043e\\u0441\\u043a\\u0432\\u0430\", \"\\u043c\\u043e\\u0447\\u044c\", \"\\u043c\\u043e\\u0447\\u044c\", \"\\u043c\\u043e\\u0447\\u044c\", \"\\u043c\\u043e\\u0447\\u044c\", \"\\u043c\\u043e\\u0447\\u044c\", \"\\u043c\\u043e\\u0448\\u0435\\u043d\\u043d\\u0438\\u043a\", \"\\u043c\\u0442\\u0441\", \"\\u043c\\u0442\\u0441\", \"\\u043c\\u0443\\u0436\", \"\\u043c\\u0443\\u0436\", \"\\u043c\\u0443\\u0436\", \"\\u043c\\u0443\\u0436\", \"\\u043d\\u0430\\u0434\\u043f\\u0438\\u0441\\u044c\", \"\\u043d\\u0430\\u0434\\u043f\\u0438\\u0441\\u044c\", \"\\u043d\\u0430\\u043f\\u0438\\u0441\\u0430\\u043d\\u0438\\u0435\", \"\\u043d\\u0430\\u0442\\u0430\\u043b\\u044c\\u044f\", \"\\u043d\\u0430\\u0442\\u0430\\u043b\\u044c\\u044f\", \"\\u043d\\u0430\\u0442\\u0430\\u043b\\u044c\\u044f\", \"\\u043d\\u0435\\u0432\\u043e\\u0437\\u043c\\u043e\\u0436\\u043d\\u043e\\u0441\\u0442\\u044c\", \"\\u043d\\u0435\\u0432\\u043e\\u0437\\u043c\\u043e\\u0436\\u043d\\u043e\\u0441\\u0442\\u044c\", \"\\u043d\\u0435\\u0434\\u0435\\u043b\\u044c\\u043a\\u0430\", \"\\u043d\\u0435\\u0434\\u0435\\u043b\\u044f\", \"\\u043d\\u0435\\u0434\\u0435\\u043b\\u044f\", \"\\u043d\\u0435\\u0434\\u0435\\u043b\\u044f\", \"\\u043d\\u0435\\u0434\\u0435\\u043b\\u044f\", \"\\u043d\\u0435\\u0434\\u0435\\u043b\\u044f\", \"\\u043d\\u0435\\u0438\\u0441\\u043f\\u0440\\u0430\\u0432\\u043d\\u043e\\u0441\\u0442\\u044c\", \"\\u043d\\u0435\\u043a\\u043e\\u043c\\u043f\\u0435\\u0442\\u0435\\u043d\\u0442\\u043d\\u043e\\u0441\\u0442\\u044c\", \"\\u043d\\u0435\\u043a\\u043e\\u043c\\u043f\\u0435\\u0442\\u0435\\u043d\\u0442\\u043d\\u043e\\u0441\\u0442\\u044c\", \"\\u043d\\u0435\\u0443\\u0441\\u0442\\u043e\\u0439\\u043a\\u0430\", \"\\u043d\\u0435\\u0443\\u0441\\u0442\\u043e\\u0439\\u043a\\u0430\", \"\\u043d\\u0438\\u043a\\u043e\\u043b\\u0430\\u0439\", \"\\u043d\\u043e\\u0432\\u0433\\u043e\\u0440\\u043e\\u0434\", \"\\u043d\\u043e\\u0432\\u043e\\u0441\\u0438\\u0431\\u0438\\u0440\\u0441\\u043a\", \"\\u043d\\u043e\\u043c\\u0435\\u0440\", \"\\u043d\\u043e\\u043c\\u0435\\u0440\", \"\\u043d\\u043e\\u043c\\u0435\\u0440\", \"\\u043d\\u043e\\u043c\\u0435\\u0440\", \"\\u043d\\u043e\\u043c\\u0435\\u0440\", \"\\u043d\\u043e\\u043c\\u0435\\u0440\\u043e\\u043a\", \"\\u043e\\u0431\\u0435\\u0434\", \"\\u043e\\u0431\\u0435\\u0434\", \"\\u043e\\u0431\\u0435\\u0434\", \"\\u043e\\u0431\\u043c\\u0430\\u043d\", \"\\u043e\\u0431\\u043c\\u0435\\u043d\", \"\\u043e\\u0431\\u043e\\u0440\\u0443\\u0434\\u043e\\u0432\\u0430\\u043d\\u0438\\u0435\", \"\\u043e\\u0431\\u043e\\u0440\\u0443\\u0434\\u043e\\u0432\\u0430\\u043d\\u0438\\u0435\", \"\\u043e\\u0431\\u0441\\u043b\\u0443\\u0436\\u0438\\u0432\\u0430\\u043d\\u0438\\u0435\", \"\\u043e\\u0431\\u0441\\u043b\\u0443\\u0436\\u0438\\u0432\\u0430\\u043d\\u0438\\u0435\", \"\\u043e\\u0431\\u0441\\u043b\\u0443\\u0436\\u0438\\u0432\\u0430\\u043d\\u0438\\u0435\", \"\\u043e\\u0431\\u0441\\u043b\\u0443\\u0436\\u0438\\u0432\\u0430\\u043d\\u0438\\u0435\", \"\\u043e\\u0431\\u0441\\u043b\\u0443\\u0436\\u0438\\u0432\\u0430\\u043d\\u0438\\u0435\", \"\\u043e\\u0433\\u043e\\u043d\\u044c\", \"\\u043e\\u0433\\u043e\\u043d\\u044c\", \"\\u043e\\u0436\\u0438\\u0434\\u0430\\u043d\\u0438\\u0435\", \"\\u043e\\u0436\\u0438\\u0434\\u0430\\u043d\\u0438\\u0435\", \"\\u043e\\u0436\\u0438\\u0434\\u0430\\u043d\\u0438\\u0435\", \"\\u043e\\u0436\\u0438\\u0434\\u0430\\u043d\\u0438\\u0435\", \"\\u043e\\u0436\\u0438\\u0434\\u0430\\u043d\\u0438\\u0435\", \"\\u043e\\u043a\\u043d\\u043e\", \"\\u043e\\u043a\\u043d\\u043e\", \"\\u043e\\u043a\\u043d\\u043e\", \"\\u043e\\u043a\\u043d\\u043e\", \"\\u043e\\u043a\\u043e\\u0448\\u043a\\u043e\", \"\\u043e\\u043a\\u043e\\u0448\\u043a\\u043e\", \"\\u043e\\u043a\\u043e\\u0448\\u043a\\u043e\", \"\\u043e\\u043d\\u043b\\u0430\\u0439\\u043d\\u0435\", \"\\u043e\\u043f\\u0435\\u0440\\u0430\\u0442\\u043e\\u0440\", \"\\u043e\\u043f\\u0435\\u0440\\u0430\\u0442\\u043e\\u0440\", \"\\u043e\\u043f\\u0435\\u0440\\u0430\\u0442\\u043e\\u0440\", \"\\u043e\\u043f\\u0435\\u0440\\u0430\\u0442\\u043e\\u0440\", \"\\u043e\\u043f\\u0435\\u0440\\u0430\\u0442\\u043e\\u0440\", \"\\u043e\\u043f\\u0435\\u0440\\u0430\\u0446\\u0438\\u043e\\u043d\\u0438\\u0441\\u0442\", \"\\u043e\\u043f\\u0435\\u0440\\u0430\\u0446\\u0438\\u043e\\u043d\\u0438\\u0441\\u0442\", \"\\u043e\\u043f\\u0435\\u0440\\u0430\\u0446\\u0438\\u043e\\u043d\\u0438\\u0441\\u0442\", \"\\u043e\\u043f\\u0435\\u0440\\u0430\\u0446\\u0438\\u043e\\u043d\\u0438\\u0441\\u0442\", \"\\u043e\\u043f\\u0435\\u0440\\u0430\\u0446\\u0438\\u043e\\u043d\\u0438\\u0441\\u0442\", \"\\u043e\\u043f\\u0435\\u0440\\u0430\\u0446\\u0438\\u043e\\u043d\\u0438\\u0441\\u0442\\u043a\\u0430\", \"\\u043e\\u043f\\u0435\\u0440\\u0430\\u0446\\u0438\\u043e\\u043d\\u0438\\u0441\\u0442\\u043a\\u0430\", \"\\u043e\\u043f\\u0435\\u0440\\u0430\\u0446\\u0438\\u043e\\u043d\\u0438\\u0441\\u0442\\u043a\\u0430\", \"\\u043e\\u043f\\u0435\\u0440\\u0430\\u0446\\u0438\\u044f\", \"\\u043e\\u043f\\u0435\\u0440\\u0430\\u0446\\u0438\\u044f\", \"\\u043e\\u043f\\u0435\\u0440\\u0430\\u0446\\u0438\\u044f\", \"\\u043e\\u043f\\u0435\\u0440\\u0430\\u0446\\u0438\\u044f\", \"\\u043e\\u043f\\u0435\\u0440\\u0430\\u0446\\u0438\\u044f\", \"\\u043e\\u0440\\u0433\\u0430\\u043d\\u0438\\u0437\\u0430\\u0442\\u043e\\u0440\", \"\\u043e\\u0440\\u0434\\u0435\\u0440\", \"\\u043e\\u0440\\u0434\\u0435\\u0440\", \"\\u043e\\u0440\\u0438\\u0433\\u0438\\u043d\\u0430\\u043b\", \"\\u043e\\u0440\\u0438\\u0433\\u0438\\u043d\\u0430\\u043b\", \"\\u043e\\u0441\\u043a\\u0430\\u0440\", \"\\u043e\\u0442\\u0432\\u0435\\u0442\", \"\\u043e\\u0442\\u0432\\u0435\\u0442\", \"\\u043e\\u0442\\u0432\\u0435\\u0442\", \"\\u043e\\u0442\\u0432\\u0435\\u0442\", \"\\u043e\\u0442\\u0432\\u0435\\u0442\", \"\\u043e\\u0442\\u0434\\u0435\\u043b\", \"\\u043e\\u0442\\u0434\\u0435\\u043b\", \"\\u043e\\u0442\\u0434\\u0435\\u043b\", \"\\u043e\\u0442\\u0434\\u0435\\u043b\", \"\\u043e\\u0442\\u0434\\u0435\\u043b\", \"\\u043e\\u0442\\u0435\\u0446\", \"\\u043e\\u0442\\u0435\\u0446\", \"\\u043e\\u0442\\u043d\\u043e\\u0448\\u0435\\u043d\\u0438\\u0435\", \"\\u043e\\u0442\\u043d\\u043e\\u0448\\u0435\\u043d\\u0438\\u0435\", \"\\u043e\\u0442\\u043d\\u043e\\u0448\\u0435\\u043d\\u0438\\u0435\", \"\\u043e\\u0442\\u043d\\u043e\\u0448\\u0435\\u043d\\u0438\\u0435\", \"\\u043e\\u0442\\u043d\\u043e\\u0448\\u0435\\u043d\\u0438\\u0435\", \"\\u043e\\u0442\\u043f\\u0440\\u0430\\u0432\\u0438\\u0442\\u0435\\u043b\\u044c\", \"\\u043e\\u0442\\u0447\\u0435\\u0441\\u0442\\u0432\\u043e\", \"\\u043e\\u0444\\u043e\\u0440\\u043c\\u043b\\u0435\\u043d\\u0438\\u0435\", \"\\u043e\\u0444\\u043e\\u0440\\u043c\\u043b\\u0435\\u043d\\u0438\\u0435\", \"\\u043e\\u0444\\u043e\\u0440\\u043c\\u043b\\u0435\\u043d\\u0438\\u0435\", \"\\u043e\\u0444\\u043e\\u0440\\u043c\\u043b\\u0435\\u043d\\u0438\\u0435\", \"\\u043e\\u0444\\u043e\\u0440\\u043c\\u043b\\u0435\\u043d\\u0438\\u0435\", \"\\u043e\\u0446\\u0435\\u043d\\u0449\\u0438\\u043a\", \"\\u043e\\u0447\\u0435\\u0440\\u0435\\u0434\\u044c\", \"\\u043e\\u0447\\u0435\\u0440\\u0435\\u0434\\u044c\", \"\\u043e\\u0447\\u0435\\u0440\\u0435\\u0434\\u044c\", \"\\u043e\\u0447\\u0435\\u0440\\u0435\\u0434\\u044c\", \"\\u043e\\u0447\\u0435\\u0440\\u0435\\u0434\\u044c\", \"\\u043f\\u0430\\u0440\\u043e\\u043b\\u044c\", \"\\u043f\\u0430\\u0440\\u043e\\u043b\\u044c\", \"\\u043f\\u0430\\u0440\\u043e\\u043b\\u044c\", \"\\u043f\\u0435\\u043d\\u0441\\u0438\\u043e\\u043d\\u0435\\u0440\", \"\\u043f\\u0435\\u043d\\u0441\\u0438\\u043e\\u043d\\u0435\\u0440\", \"\\u043f\\u0435\\u0440\\u0435\\u0432\\u043e\\u0434\", \"\\u043f\\u0435\\u0440\\u0435\\u0432\\u043e\\u0434\", \"\\u043f\\u0435\\u0440\\u0435\\u0432\\u043e\\u0434\", \"\\u043f\\u0435\\u0440\\u0435\\u0432\\u043e\\u0434\", \"\\u043f\\u0435\\u0440\\u0435\\u0432\\u044b\\u043f\\u0443\\u0441\\u043a\", \"\\u043f\\u0435\\u0440\\u0435\\u0433\\u043e\\u0432\\u043e\\u0440\\u044b\", \"\\u043f\\u0435\\u0440\\u0435\\u0433\\u043e\\u0432\\u043e\\u0440\\u044b\", \"\\u043f\\u0435\\u0440\\u0435\\u043e\\u0444\\u043e\\u0440\\u043c\\u043b\\u0435\\u043d\\u0438\\u0435\", \"\\u043f\\u0435\\u0440\\u0435\\u043e\\u0444\\u043e\\u0440\\u043c\\u043b\\u0435\\u043d\\u0438\\u0435\", \"\\u043f\\u0435\\u0440\\u0435\\u0443\\u043b\\u043e\\u043a\", \"\\u043f\\u0435\\u0440\\u0435\\u0443\\u043b\\u043e\\u043a\", \"\\u043f\\u0435\\u0440\\u0435\\u0443\\u043b\\u043e\\u043a\", \"\\u043f\\u0435\\u0440\\u0438\\u043e\\u0434\", \"\\u043f\\u0435\\u0440\\u0438\\u043e\\u0434\", \"\\u043f\\u0435\\u0440\\u0438\\u043e\\u0434\", \"\\u043f\\u0435\\u0440\\u0438\\u043e\\u0434\", \"\\u043f\\u0435\\u0440\\u0441\\u043e\\u043d\\u0430\\u043b\", \"\\u043f\\u0435\\u0440\\u0441\\u043e\\u043d\\u0430\\u043b\", \"\\u043f\\u0435\\u0440\\u0441\\u043e\\u043d\\u0430\\u043b\", \"\\u043f\\u0435\\u0440\\u0441\\u043e\\u043d\\u0430\\u043b\", \"\\u043f\\u0438\\u043d\", \"\\u043f\\u0438\\u043d\", \"\\u043f\\u0438\\u0441\\u044c\\u043c\\u043e\", \"\\u043f\\u0438\\u0441\\u044c\\u043c\\u043e\", \"\\u043f\\u0438\\u0441\\u044c\\u043c\\u043e\", \"\\u043f\\u0438\\u0441\\u044c\\u043c\\u043e\", \"\\u043f\\u043b\\u0430\\u0442\\u0435\\u0436\\u043a\\u0430\", \"\\u043f\\u043b\\u0430\\u0442\\u0435\\u0436\\u043a\\u0430\", \"\\u043f\\u043b\\u0430\\u0442\\u0435\\u0436\\u043a\\u0430\", \"\\u043f\\u043b\\u0430\\u0442\\u0451\\u0436\", \"\\u043f\\u043b\\u0430\\u0442\\u0451\\u0436\", \"\\u043f\\u043b\\u0430\\u0442\\u0451\\u0436\", \"\\u043f\\u043b\\u0430\\u0442\\u0451\\u0436\", \"\\u043f\\u043b\\u0430\\u0442\\u0451\\u0436\", \"\\u043f\\u043e\\u0433\\u0430\\u0448\\u0435\\u043d\\u0438\\u0435\", \"\\u043f\\u043e\\u0433\\u0430\\u0448\\u0435\\u043d\\u0438\\u0435\", \"\\u043f\\u043e\\u0433\\u0430\\u0448\\u0435\\u043d\\u0438\\u0435\", \"\\u043f\\u043e\\u0434\\u0434\\u0435\\u0440\\u0436\\u043a\\u0430\", \"\\u043f\\u043e\\u0434\\u0434\\u0435\\u0440\\u0436\\u043a\\u0430\", \"\\u043f\\u043e\\u0434\\u0434\\u0435\\u0440\\u0436\\u043a\\u0430\", \"\\u043f\\u043e\\u043a\\u0443\\u043f\\u043a\\u0430\", \"\\u043f\\u043e\\u043a\\u0443\\u043f\\u043a\\u0430\", \"\\u043f\\u043e\\u043a\\u0443\\u043f\\u043a\\u0430\", \"\\u043f\\u043e\\u043a\\u0443\\u043f\\u043a\\u0430\", \"\\u043f\\u043e\\u043b\\u044c\\u0437\\u043e\\u0432\\u0430\\u043d\\u0438\\u0435\", \"\\u043f\\u043e\\u043b\\u044c\\u0437\\u043e\\u0432\\u0430\\u043d\\u0438\\u0435\", \"\\u043f\\u043e\\u043b\\u044c\\u0437\\u043e\\u0432\\u0430\\u043d\\u0438\\u0435\", \"\\u043f\\u043e\\u043c\\u0435\\u0449\\u0435\\u043d\\u0438\\u0435\", \"\\u043f\\u043e\\u043c\\u0435\\u0449\\u0435\\u043d\\u0438\\u0435\", \"\\u043f\\u043e\\u043c\\u0435\\u0449\\u0435\\u043d\\u0438\\u0435\", \"\\u043f\\u043e\\u0440\\u0443\\u0447\\u0438\\u0442\\u0435\\u043b\\u044c\", \"\\u043f\\u043e\\u0440\\u0443\\u0447\\u0438\\u0442\\u0435\\u043b\\u044c\", \"\\u043f\\u043e\\u0441\\u0435\\u0442\\u0438\\u0442\\u0435\\u043b\\u044c\", \"\\u043f\\u043e\\u0441\\u0435\\u0442\\u0438\\u0442\\u0435\\u043b\\u044c\", \"\\u043f\\u043e\\u0441\\u0435\\u0442\\u0438\\u0442\\u0435\\u043b\\u044c\", \"\\u043f\\u043e\\u0442\\u0435\\u0440\\u044f\", \"\\u043f\\u043e\\u0442\\u0435\\u0440\\u044f\", \"\\u043f\\u043e\\u0442\\u0435\\u0440\\u044f\", \"\\u043f\\u043e\\u0442\\u0435\\u0440\\u044f\", \"\\u043f\\u0440\\u0435\\u043c\\u0438\\u044f\", \"\\u043f\\u0440\\u0435\\u0442\\u0435\\u043d\\u0437\\u0438\\u044f\", \"\\u043f\\u0440\\u0435\\u0442\\u0435\\u043d\\u0437\\u0438\\u044f\", \"\\u043f\\u0440\\u0435\\u0442\\u0435\\u043d\\u0437\\u0438\\u044f\", \"\\u043f\\u0440\\u0435\\u0442\\u0435\\u043d\\u0437\\u0438\\u044f\", \"\\u043f\\u0440\\u0435\\u0442\\u0435\\u043d\\u0437\\u0438\\u044f\", \"\\u043f\\u0440\\u0438\\u043e\\u0440\\u0438\\u0442\\u0435\\u0442\", \"\\u043f\\u0440\\u0438\\u043e\\u0441\\u0442\\u0430\\u043d\\u043e\\u0432\\u043a\\u0430\", \"\\u043f\\u0440\\u043e\\u0431\\u043b\\u0435\\u043c\\u0430\", \"\\u043f\\u0440\\u043e\\u0431\\u043b\\u0435\\u043c\\u0430\", \"\\u043f\\u0440\\u043e\\u0431\\u043b\\u0435\\u043c\\u0430\", \"\\u043f\\u0440\\u043e\\u0431\\u043b\\u0435\\u043c\\u0430\", \"\\u043f\\u0440\\u043e\\u0431\\u043b\\u0435\\u043c\\u0430\", \"\\u043f\\u0440\\u043e\\u043f\\u0438\\u0441\\u043a\\u0430\", \"\\u043f\\u0440\\u043e\\u0441\\u0440\\u043e\\u0447\\u043a\\u0430\", \"\\u043f\\u0440\\u043e\\u0441\\u0440\\u043e\\u0447\\u043a\\u0430\", \"\\u043f\\u0440\\u043e\\u0441\\u0440\\u043e\\u0447\\u043a\\u0430\", \"\\u043f\\u0440\\u043e\\u0446\\u0435\\u043d\\u0442\", \"\\u043f\\u0440\\u043e\\u0446\\u0435\\u043d\\u0442\", \"\\u043f\\u0440\\u043e\\u0446\\u0435\\u043d\\u0442\", \"\\u043f\\u0440\\u043e\\u0446\\u0435\\u043d\\u0442\", \"\\u043f\\u0440\\u043e\\u0446\\u0435\\u043d\\u0442\", \"\\u043f\\u0443\\u0442\\u044b\", \"\\u043f\\u0443\\u0448\\u043a\\u0438\\u043d\\u043e\", \"\\u0440\\u0430\\u0431\\u043e\\u0442\\u0430\", \"\\u0440\\u0430\\u0431\\u043e\\u0442\\u0430\", \"\\u0440\\u0430\\u0431\\u043e\\u0442\\u0430\", \"\\u0440\\u0430\\u0431\\u043e\\u0442\\u0430\", \"\\u0440\\u0430\\u0431\\u043e\\u0442\\u0430\", \"\\u0440\\u0430\\u0437\\u0431\\u043e\\u0440\\u043a\\u0430\", \"\\u0440\\u0430\\u0437\\u043c\\u0435\\u0440\", \"\\u0440\\u0430\\u0437\\u043c\\u0435\\u0440\", \"\\u0440\\u0430\\u0437\\u043c\\u0435\\u0440\", \"\\u0440\\u0430\\u0437\\u043c\\u0435\\u0440\", \"\\u0440\\u0430\\u0437\\u043c\\u0435\\u0440\", \"\\u0440\\u0430\\u0441\\u043f\\u0435\\u0447\\u0430\\u0442\\u043a\\u0430\", \"\\u0440\\u0430\\u0441\\u0441\\u043b\\u0435\\u0434\\u043e\\u0432\\u0430\\u043d\\u0438\\u0435\", \"\\u0440\\u0430\\u0441\\u0441\\u043c\\u043e\\u0442\\u0440\\u0435\\u043d\\u0438\\u0435\", \"\\u0440\\u0430\\u0441\\u0441\\u043c\\u043e\\u0442\\u0440\\u0435\\u043d\\u0438\\u0435\", \"\\u0440\\u0430\\u0441\\u0441\\u043c\\u043e\\u0442\\u0440\\u0435\\u043d\\u0438\\u0435\", \"\\u0440\\u0430\\u0441\\u0441\\u043c\\u043e\\u0442\\u0440\\u0435\\u043d\\u0438\\u0435\", \"\\u0440\\u0430\\u0441\\u0448\\u0438\\u0444\\u0440\\u043e\\u0432\\u043a\\u0430\", \"\\u0440\\u0435\\u0431\\u044f\\u0442\\u0430\", \"\\u0440\\u0435\\u0431\\u044f\\u0442\\u0430\", \"\\u0440\\u0435\\u0431\\u044f\\u0442\\u0430\", \"\\u0440\\u0435\\u0433\\u0438\\u0441\\u0442\\u0440\\u0430\\u0446\\u0438\\u044f\", \"\\u0440\\u0435\\u0433\\u0438\\u0441\\u0442\\u0440\\u0430\\u0446\\u0438\\u044f\", \"\\u0440\\u0435\\u0433\\u0438\\u0441\\u0442\\u0440\\u0430\\u0446\\u0438\\u044f\", \"\\u0440\\u0435\\u0433\\u0438\\u0441\\u0442\\u0440\\u0430\\u0446\\u0438\\u044f\", \"\\u0440\\u0435\\u0435\\u0441\\u0442\\u0440\", \"\\u0440\\u0435\\u0435\\u0441\\u0442\\u0440\", \"\\u0440\\u0435\\u0436\\u0438\\u043c\", \"\\u0440\\u0435\\u0436\\u0438\\u043c\", \"\\u0440\\u0435\\u0436\\u0438\\u043c\", \"\\u0440\\u0435\\u0436\\u0438\\u043c\", \"\\u0440\\u0435\\u0444\\u0438\\u043d\\u0430\\u043d\\u0441\\u0438\\u0440\\u043e\\u0432\\u0430\\u043d\\u0438\\u0435\", \"\\u0440\\u0435\\u0444\\u0438\\u043d\\u0430\\u043d\\u0441\\u0438\\u0440\\u043e\\u0432\\u0430\\u043d\\u0438\\u0435\", \"\\u0440\\u0435\\u0448\\u0435\\u043d\\u0438\\u0435\", \"\\u0440\\u0435\\u0448\\u0435\\u043d\\u0438\\u0435\", \"\\u0440\\u0435\\u0448\\u0435\\u043d\\u0438\\u0435\", \"\\u0440\\u0435\\u0448\\u0435\\u043d\\u0438\\u0435\", \"\\u0440\\u0435\\u0448\\u0435\\u043d\\u0438\\u0435\", \"\\u0440\\u043e\\u0437\\u044b\\u0433\\u0440\\u044b\\u0448\", \"\\u0440\\u043e\\u043c\\u0430\\u043d\", \"\\u0440\\u0443\\u0431\\u043b\\u044c\", \"\\u0440\\u0443\\u0431\\u043b\\u044c\", \"\\u0440\\u0443\\u0431\\u043b\\u044c\", \"\\u0440\\u0443\\u0431\\u043b\\u044c\", \"\\u0440\\u0443\\u0431\\u043b\\u044c\", \"\\u0440\\u0443\\u043a\\u043e\\u0432\\u043e\\u0434\\u0438\\u0442\\u0435\\u043b\\u044c\", \"\\u0440\\u0443\\u043a\\u043e\\u0432\\u043e\\u0434\\u0438\\u0442\\u0435\\u043b\\u044c\", \"\\u0440\\u0443\\u043a\\u043e\\u0432\\u043e\\u0434\\u0438\\u0442\\u0435\\u043b\\u044c\", \"\\u0440\\u0443\\u043a\\u043e\\u0432\\u043e\\u0434\\u0438\\u0442\\u0435\\u043b\\u044c\", \"\\u0441\\u0430\\u0439\\u0442\", \"\\u0441\\u0430\\u0439\\u0442\", \"\\u0441\\u0430\\u0439\\u0442\", \"\\u0441\\u0430\\u0439\\u0442\", \"\\u0441\\u0430\\u0439\\u0442\", \"\\u0441\\u0431\\u0435\\u0440\\u0431\\u0430\\u043d\\u043a\", \"\\u0441\\u0431\\u0435\\u0440\\u0431\\u0430\\u043d\\u043a\", \"\\u0441\\u0431\\u0435\\u0440\\u0431\\u0430\\u043d\\u043a\", \"\\u0441\\u0431\\u0435\\u0440\\u0431\\u0430\\u043d\\u043a\", \"\\u0441\\u0431\\u0435\\u0440\\u0431\\u0430\\u043d\\u043a\", \"\\u0441\\u0431\\u0435\\u0440\\u0435\\u0436\\u0435\\u043d\\u0438\\u0435\", \"\\u0441\\u0431\\u0435\\u0440\\u043a\\u043d\\u0438\\u0436\\u043a\\u0430\", \"\\u0441\\u0431\\u043e\\u0439\", \"\\u0441\\u0431\\u043e\\u0439\", \"\\u0441\\u0431\\u043e\\u0439\", \"\\u0441\\u0431\\u043e\\u0439\", \"\\u0441\\u0432\\u0438\\u0434\\u0435\\u0442\\u0435\\u043b\\u044c\", \"\\u0441\\u0432\\u044f\\u0437\\u044c\", \"\\u0441\\u0432\\u044f\\u0437\\u044c\", \"\\u0441\\u0432\\u044f\\u0437\\u044c\", \"\\u0441\\u0432\\u044f\\u0437\\u044c\", \"\\u0441\\u0432\\u044f\\u0437\\u044c\", \"\\u0441\\u0434\\u0435\\u043b\\u043a\\u0430\", \"\\u0441\\u0434\\u0435\\u043b\\u043a\\u0430\", \"\\u0441\\u0434\\u0435\\u043b\\u043a\\u0430\", \"\\u0441\\u0435\\u0440\\u0435\\u0434\\u0438\\u043d\\u0430\", \"\\u0441\\u0435\\u0440\\u0435\\u0434\\u0438\\u043d\\u0430\", \"\\u0441\\u0435\\u0440\\u0442\\u0438\\u0444\\u0438\\u043a\\u0430\\u0442\", \"\\u0441\\u0438\\u043c\\u0432\\u043e\\u043b\", \"\\u0441\\u0438\\u0442\\u0443\\u0430\\u0446\\u0438\\u044f\", \"\\u0441\\u0438\\u0442\\u0443\\u0430\\u0446\\u0438\\u044f\", \"\\u0441\\u0438\\u0442\\u0443\\u0430\\u0446\\u0438\\u044f\", \"\\u0441\\u0438\\u0442\\u0443\\u0430\\u0446\\u0438\\u044f\", \"\\u0441\\u0438\\u0442\\u0443\\u0430\\u0446\\u0438\\u044f\", \"\\u0441\\u043b\\u0443\\u0436\\u0431\\u0430\", \"\\u0441\\u043b\\u0443\\u0436\\u0431\\u0430\", \"\\u0441\\u043b\\u0443\\u0436\\u0431\\u0430\", \"\\u0441\\u043b\\u0443\\u0436\\u0431\\u0430\", \"\\u0441\\u043c\\u0438\\u0440\\u043d\\u043e\\u0432\", \"\\u0441\\u043c\\u0441\", \"\\u0441\\u043c\\u0441\", \"\\u0441\\u043c\\u0441\", \"\\u0441\\u043c\\u0441\", \"\\u0441\\u043d\\u044f\\u0442\\u0438\\u0435\", \"\\u0441\\u043d\\u044f\\u0442\\u0438\\u0435\", \"\\u0441\\u043d\\u044f\\u0442\\u0438\\u0435\", \"\\u0441\\u043d\\u044f\\u0442\\u0438\\u0435\", \"\\u0441\\u043e\\u0431\\u0441\\u0442\\u0432\\u0435\\u043d\\u043d\\u043e\\u0441\\u0442\\u044c\", \"\\u0441\\u043e\\u0431\\u0441\\u0442\\u0432\\u0435\\u043d\\u043d\\u043e\\u0441\\u0442\\u044c\", \"\\u0441\\u043e\\u0442\\u0440\\u0443\\u0434\\u043d\\u0438\\u043a\", \"\\u0441\\u043e\\u0442\\u0440\\u0443\\u0434\\u043d\\u0438\\u043a\", \"\\u0441\\u043e\\u0442\\u0440\\u0443\\u0434\\u043d\\u0438\\u043a\", \"\\u0441\\u043e\\u0442\\u0440\\u0443\\u0434\\u043d\\u0438\\u043a\", \"\\u0441\\u043e\\u0442\\u0440\\u0443\\u0434\\u043d\\u0438\\u043a\", \"\\u0441\\u043f\\u0435\\u0446\\u0438\\u0430\\u043b\\u0438\\u0441\\u0442\", \"\\u0441\\u043f\\u0435\\u0446\\u0438\\u0430\\u043b\\u0438\\u0441\\u0442\", \"\\u0441\\u043f\\u0435\\u0446\\u0438\\u0430\\u043b\\u0438\\u0441\\u0442\", \"\\u0441\\u043f\\u0435\\u0446\\u0438\\u0430\\u043b\\u0438\\u0441\\u0442\", \"\\u0441\\u043f\\u0435\\u0446\\u0438\\u0430\\u043b\\u0438\\u0441\\u0442\", \"\\u0441\\u043f\\u0440\\u0430\\u0432\\u043a\\u0430\", \"\\u0441\\u043f\\u0440\\u0430\\u0432\\u043a\\u0430\", \"\\u0441\\u043f\\u0440\\u0430\\u0432\\u043a\\u0430\", \"\\u0441\\u043f\\u0440\\u0430\\u0432\\u043a\\u0430\", \"\\u0441\\u0440\\u0435\\u0434\\u0441\\u0442\\u0432\\u043e\", \"\\u0441\\u0440\\u0435\\u0434\\u0441\\u0442\\u0432\\u043e\", \"\\u0441\\u0440\\u0435\\u0434\\u0441\\u0442\\u0432\\u043e\", \"\\u0441\\u0440\\u0435\\u0434\\u0441\\u0442\\u0432\\u043e\", \"\\u0441\\u0440\\u0435\\u0434\\u0441\\u0442\\u0432\\u043e\", \"\\u0441\\u0440\\u043e\\u043a\", \"\\u0441\\u0440\\u043e\\u043a\", \"\\u0441\\u0440\\u043e\\u043a\", \"\\u0441\\u0440\\u043e\\u043a\", \"\\u0441\\u0440\\u043e\\u043a\", \"\\u0441\\u0442\\u0430\\u0432\\u043a\\u0430\", \"\\u0441\\u0442\\u0430\\u0432\\u043a\\u0430\", \"\\u0441\\u0442\\u0430\\u0432\\u043a\\u0430\", \"\\u0441\\u0442\\u0430\\u0432\\u043a\\u0430\", \"\\u0441\\u0442\\u0430\\u0432\\u043a\\u0430\", \"\\u0441\\u0442\\u0430\\u0434\\u0438\\u044f\", \"\\u0441\\u0442\\u0430\\u0434\\u0438\\u044f\", \"\\u0441\\u0442\\u0440\\u0430\\u0445\\u043e\\u0432\\u0430\\u043d\\u0438\\u0435\", \"\\u0441\\u0442\\u0440\\u0430\\u0445\\u043e\\u0432\\u0430\\u043d\\u0438\\u0435\", \"\\u0441\\u0442\\u0440\\u0430\\u0445\\u043e\\u0432\\u0430\\u043d\\u0438\\u0435\", \"\\u0441\\u0442\\u0440\\u0430\\u0445\\u043e\\u0432\\u0430\\u043d\\u0438\\u0435\", \"\\u0441\\u0442\\u0440\\u0430\\u0445\\u043e\\u0432\\u043a\\u0430\", \"\\u0441\\u0442\\u0440\\u0430\\u0445\\u043e\\u0432\\u043a\\u0430\", \"\\u0441\\u0442\\u0440\\u0430\\u0445\\u043e\\u0432\\u043a\\u0430\", \"\\u0441\\u0442\\u0440\\u0430\\u0445\\u043e\\u0432\\u043a\\u0430\", \"\\u0441\\u0442\\u0440\\u043e\\u0433\\u0438\\u043d\\u043e\", \"\\u0441\\u0443\\u0434\", \"\\u0441\\u0443\\u0434\", \"\\u0441\\u0443\\u0434\", \"\\u0441\\u0443\\u0434\", \"\\u0441\\u0443\\u0434\\u044c\\u0431\\u0430\", \"\\u0441\\u0443\\u0434\\u044c\\u0431\\u0430\", \"\\u0441\\u0443\\u043c\\u043c\\u0430\", \"\\u0441\\u0443\\u043c\\u043c\\u0430\", \"\\u0441\\u0443\\u043c\\u043c\\u0430\", \"\\u0441\\u0443\\u043c\\u043c\\u0430\", \"\\u0441\\u0443\\u043c\\u043c\\u0430\", \"\\u0441\\u0447\\u0451\\u0442\", \"\\u0441\\u0447\\u0451\\u0442\", \"\\u0441\\u0447\\u0451\\u0442\", \"\\u0441\\u0447\\u0451\\u0442\", \"\\u0441\\u0447\\u0451\\u0442\", \"\\u0442\\u0430\\u043b\\u043e\\u043d\", \"\\u0442\\u0430\\u043b\\u043e\\u043d\", \"\\u0442\\u0430\\u043b\\u043e\\u043d\\u0447\\u0438\\u043a\", \"\\u0442\\u0430\\u043b\\u043e\\u043d\\u0447\\u0438\\u043a\", \"\\u0442\\u0430\\u043b\\u043e\\u043d\\u0447\\u0438\\u043a\", \"\\u0442\\u0430\\u0440\\u0438\\u0444\", \"\\u0442\\u0430\\u0440\\u0438\\u0444\", \"\\u0442\\u0430\\u0440\\u0438\\u0444\", \"\\u0442\\u0430\\u0440\\u0438\\u0444\", \"\\u0442\\u0430\\u0440\\u0445\\u043e\\u0432\", \"\\u0442\\u0435\\u043b\\u0435\\u0444\\u043e\\u043d\", \"\\u0442\\u0435\\u043b\\u0435\\u0444\\u043e\\u043d\", \"\\u0442\\u0435\\u043b\\u0435\\u0444\\u043e\\u043d\", \"\\u0442\\u0435\\u043b\\u0435\\u0444\\u043e\\u043d\", \"\\u0442\\u0435\\u043b\\u0435\\u0444\\u043e\\u043d\", \"\\u0442\\u0435\\u0440\\u043c\\u0438\\u043d\\u0430\\u043b\", \"\\u0442\\u0435\\u0440\\u043c\\u0438\\u043d\\u0430\\u043b\", \"\\u0442\\u0435\\u0440\\u043c\\u0438\\u043d\\u0430\\u043b\", \"\\u0442\\u0435\\u0440\\u043c\\u0438\\u043d\\u0430\\u043b\", \"\\u0442\\u0435\\u0440\\u043c\\u0438\\u043d\\u0430\\u043b\", \"\\u0442\\u0435\\u0445\\u043d\\u0438\\u043a\\u0430\", \"\\u0442\\u0435\\u0445\\u043d\\u0438\\u043a\\u0430\", \"\\u0442\\u043a\\u0438\\u0439\", \"\\u0442\\u0440\\u0430\\u043d\\u0448\", \"\\u0442\\u044b\\u0441\\u044f\\u0447\\u0430\", \"\\u0442\\u044b\\u0441\\u044f\\u0447\\u0430\", \"\\u0442\\u044b\\u0441\\u044f\\u0447\\u0430\", \"\\u0442\\u044b\\u0441\\u044f\\u0447\\u0430\", \"\\u0442\\u044b\\u0441\\u044f\\u0447\\u0430\", \"\\u0443\\u0441\\u043b\\u043e\\u0432\\u0438\\u0435\", \"\\u0443\\u0441\\u043b\\u043e\\u0432\\u0438\\u0435\", \"\\u0443\\u0441\\u043b\\u043e\\u0432\\u0438\\u0435\", \"\\u0443\\u0441\\u043b\\u043e\\u0432\\u0438\\u0435\", \"\\u0443\\u0441\\u043b\\u043e\\u0432\\u0438\\u0435\", \"\\u0443\\u0441\\u043b\\u0443\\u0433\\u0430\", \"\\u0443\\u0441\\u043b\\u0443\\u0433\\u0430\", \"\\u0443\\u0441\\u043b\\u0443\\u0433\\u0430\", \"\\u0443\\u0441\\u043b\\u0443\\u0433\\u0430\", \"\\u0443\\u0441\\u043b\\u0443\\u0433\\u0430\", \"\\u0444\\u0438\\u043b\\u0438\\u0430\\u043b\", \"\\u0444\\u0438\\u043b\\u0438\\u0430\\u043b\", \"\\u0444\\u0438\\u043b\\u0438\\u0430\\u043b\", \"\\u0444\\u0438\\u043b\\u0438\\u0430\\u043b\", \"\\u0444\\u0438\\u043b\\u0438\\u0430\\u043b\", \"\\u0445\\u0430\\u043c\\u0441\\u0442\\u0432\\u043e\", \"\\u0445\\u0430\\u043c\\u0441\\u0442\\u0432\\u043e\", \"\\u0445\\u0430\\u043c\\u0441\\u0442\\u0432\\u043e\", \"\\u0446\\u0435\\u043d\\u0442\\u0440\", \"\\u0446\\u0435\\u043d\\u0442\\u0440\", \"\\u0446\\u0435\\u043d\\u0442\\u0440\", \"\\u0446\\u0435\\u043d\\u0442\\u0440\", \"\\u0446\\u0435\\u043d\\u0442\\u0440\", \"\\u0447\\u0430\\u0441\", \"\\u0447\\u0430\\u0441\", \"\\u0447\\u0430\\u0441\", \"\\u0447\\u0430\\u0441\", \"\\u0447\\u0430\\u0441\", \"\\u0447\\u0435\\u043a\", \"\\u0447\\u0435\\u043a\", \"\\u0447\\u0435\\u043a\", \"\\u0447\\u0435\\u043b\\u043e\\u0432\\u0435\\u043a\", \"\\u0447\\u0435\\u043b\\u043e\\u0432\\u0435\\u043a\", \"\\u0447\\u0435\\u043b\\u043e\\u0432\\u0435\\u043a\", \"\\u0447\\u0435\\u043b\\u043e\\u0432\\u0435\\u043a\", \"\\u0447\\u0435\\u043b\\u043e\\u0432\\u0435\\u043a\", \"\\u0448\\u0442\\u0430\\u043c\\u043f\", \"\\u0448\\u0442\\u0440\\u0430\\u0444\", \"\\u0448\\u0442\\u0440\\u0430\\u0444\", \"\\u0448\\u0442\\u0440\\u0430\\u0444\", \"\\u044d\\u043a\\u0432\\u0430\\u0439\\u0440\\u0435\\u0440\", \"\\u044d\\u043a\\u0440\\u0430\\u043d\", \"\\u044d\\u043a\\u0440\\u0430\\u043d\"]}, \"R\": 30, \"lambda.step\": 0.01, \"plot.opts\": {\"xlab\": \"PC1\", \"ylab\": \"PC2\"}, \"topic.order\": [4, 3, 2, 1, 5]};\n",
       "\n",
       "function LDAvis_load_lib(url, callback){\n",
       "  var s = document.createElement('script');\n",
       "  s.src = url;\n",
       "  s.async = true;\n",
       "  s.onreadystatechange = s.onload = callback;\n",
       "  s.onerror = function(){console.warn(\"failed to load library \" + url);};\n",
       "  document.getElementsByTagName(\"head\")[0].appendChild(s);\n",
       "}\n",
       "\n",
       "if(typeof(LDAvis) !== \"undefined\"){\n",
       "   // already loaded: just create the visualization\n",
       "   !function(LDAvis){\n",
       "       new LDAvis(\"#\" + \"ldavis_el594321126041382566835300569\", ldavis_el594321126041382566835300569_data);\n",
       "   }(LDAvis);\n",
       "}else if(typeof define === \"function\" && define.amd){\n",
       "   // require.js is available: use it to load d3/LDAvis\n",
       "   require.config({paths: {d3: \"https://cdnjs.cloudflare.com/ajax/libs/d3/3.5.5/d3.min\"}});\n",
       "   require([\"d3\"], function(d3){\n",
       "      window.d3 = d3;\n",
       "      LDAvis_load_lib(\"https://cdn.rawgit.com/bmabey/pyLDAvis/files/ldavis.v1.0.0.js\", function(){\n",
       "        new LDAvis(\"#\" + \"ldavis_el594321126041382566835300569\", ldavis_el594321126041382566835300569_data);\n",
       "      });\n",
       "    });\n",
       "}else{\n",
       "    // require.js not available: dynamically load d3 & LDAvis\n",
       "    LDAvis_load_lib(\"https://cdnjs.cloudflare.com/ajax/libs/d3/3.5.5/d3.min.js\", function(){\n",
       "         LDAvis_load_lib(\"https://cdn.rawgit.com/bmabey/pyLDAvis/files/ldavis.v1.0.0.js\", function(){\n",
       "                 new LDAvis(\"#\" + \"ldavis_el594321126041382566835300569\", ldavis_el594321126041382566835300569_data);\n",
       "            })\n",
       "         });\n",
       "}\n",
       "</script>"
      ],
      "text/plain": [
       "<IPython.core.display.HTML object>"
      ]
     },
     "execution_count": 125,
     "metadata": {},
     "output_type": "execute_result"
    }
   ],
   "source": [
    "import pyLDAvis.gensim\n",
    "vis = pyLDAvis.gensim.prepare(ldamodel, corpus, dictionary)\n",
    "pyLDAvis.display(vis)"
   ]
  },
  {
   "cell_type": "markdown",
   "metadata": {},
   "source": [
    "## Часть 3. Классификация текстов [40/100]\n",
    "\n",
    "Сформулируем для простоты задачу бинарной классификации: будем классифицировать на два класса, то есть, различать резко отрицательные отзывы (с оценкой 1) и положительные отзывы (с оценкой 5). \n",
    "\n",
    "1.  Составьте обучающее и тестовое множество: выберите из всего набора данных N1 отзывов с оценкой 1 и N2 отзывов с оценкой 5 (значение N1 и N2 – на ваше усмотрение). Используйте ```sklearn.model_selection.train_test_split``` для разделения множества отобранных документов на обучающее и тестовое. \n",
    "2. Используйте любой известный вам алгоритм классификации текстов для решения задачи и получите baseline. Сравните разные варианты векторизации текста: использование только униграм, пар или троек слов или с использованием символьных $n$-грам. \n",
    "3. Сравните, как изменяется качество решения задачи при использовании скрытых тем в качестве признаков:\n",
    "* 1-ый вариант: $tf-idf$ преобразование (```sklearn.feature_extraction.text.TfidfTransformer```) и сингулярное разложение (оно же – латентый семантический анализ) (```sklearn.decomposition.TruncatedSVD```), \n",
    "* 2-ой вариант: тематические модели LDA (```sklearn.decomposition.LatentDirichletAllocation```). \n",
    "\n",
    "Используйте accuracy и F-measure для оценки качества классификации. \n",
    "\n",
    "Ниже написан примерный Pipeline для классификации текстов. \n",
    "\n",
    "Эта часть задания может быть сделана с использованием sklearn. "
   ]
  },
  {
   "cell_type": "code",
   "execution_count": 144,
   "metadata": {},
   "outputs": [],
   "source": [
    "# Поскольку тут придется работать с текстами различных объемов, \n",
    "# соберем сбалансированный датасет из отзывов различных рейтингов\n",
    "NUM_ROWS = 350\n",
    "\n",
    "dataset_clf = data[(data.rating_grade==1)].sample(NUM_ROWS).copy()\n",
    "dataset_clf = dataset_clf.append(data[(data.rating_grade==5)].sample(NUM_ROWS).copy())\n",
    "\n",
    "dataset_clf['text'] = dataset_clf.apply(lambda row: words_only(row['text']), axis=1)\n",
    "dataset_clf['text'] = dataset_clf.apply(lambda row: drop_stopwords(row['text']), axis=1)\n",
    "dataset_clf['lemmas'] = dataset_clf.apply(lambda row: lemmatize(row['text']), axis=1)"
   ]
  },
  {
   "cell_type": "code",
   "execution_count": 247,
   "metadata": {},
   "outputs": [],
   "source": [
    "# Соберем датасет с обучающей и тестовой выборкой\n",
    "from sklearn.model_selection import train_test_split\n",
    "\n",
    "X = dataset_clf.text\n",
    "y = dataset_clf.rating_grade\n",
    "X_train, X_test, y_train, y_test = train_test_split(X, y, test_size=0.20, random_state=42)"
   ]
  },
  {
   "cell_type": "code",
   "execution_count": 259,
   "metadata": {},
   "outputs": [
    {
     "name": "stderr",
     "output_type": "stream",
     "text": [
      "/anaconda3/lib/python3.7/site-packages/sklearn/metrics/classification.py:1143: UndefinedMetricWarning: F-score is ill-defined and being set to 0.0 due to no predicted samples.\n",
      "  'precision', 'predicted', average, warn_for)\n",
      "/anaconda3/lib/python3.7/site-packages/sklearn/metrics/classification.py:1143: UndefinedMetricWarning: F-score is ill-defined and being set to 0.0 due to no predicted samples.\n",
      "  'precision', 'predicted', average, warn_for)\n",
      "/anaconda3/lib/python3.7/site-packages/sklearn/metrics/classification.py:1143: UndefinedMetricWarning: F-score is ill-defined and being set to 0.0 due to no predicted samples.\n",
      "  'precision', 'predicted', average, warn_for)\n",
      "/anaconda3/lib/python3.7/site-packages/sklearn/metrics/classification.py:1143: UndefinedMetricWarning: F-score is ill-defined and being set to 0.0 due to no predicted samples.\n",
      "  'precision', 'predicted', average, warn_for)\n",
      "/anaconda3/lib/python3.7/site-packages/sklearn/metrics/classification.py:1143: UndefinedMetricWarning: F-score is ill-defined and being set to 0.0 due to no predicted samples.\n",
      "  'precision', 'predicted', average, warn_for)\n",
      "/anaconda3/lib/python3.7/site-packages/sklearn/metrics/classification.py:1143: UndefinedMetricWarning: F-score is ill-defined and being set to 0.0 due to no predicted samples.\n",
      "  'precision', 'predicted', average, warn_for)\n",
      "/anaconda3/lib/python3.7/site-packages/sklearn/metrics/classification.py:1143: UndefinedMetricWarning: F-score is ill-defined and being set to 0.0 due to no predicted samples.\n",
      "  'precision', 'predicted', average, warn_for)\n",
      "/anaconda3/lib/python3.7/site-packages/sklearn/metrics/classification.py:1143: UndefinedMetricWarning: F-score is ill-defined and being set to 0.0 due to no predicted samples.\n",
      "  'precision', 'predicted', average, warn_for)\n",
      "/anaconda3/lib/python3.7/site-packages/sklearn/metrics/classification.py:1143: UndefinedMetricWarning: F-score is ill-defined and being set to 0.0 due to no predicted samples.\n",
      "  'precision', 'predicted', average, warn_for)\n",
      "/anaconda3/lib/python3.7/site-packages/sklearn/metrics/classification.py:1143: UndefinedMetricWarning: F-score is ill-defined and being set to 0.0 due to no predicted samples.\n",
      "  'precision', 'predicted', average, warn_for)\n",
      "/anaconda3/lib/python3.7/site-packages/sklearn/model_selection/_search.py:841: DeprecationWarning: The default of the `iid` parameter will change from True to False in version 0.22 and will be removed in 0.24. This will change numeric results when test-set sizes are unequal.\n",
      "  DeprecationWarning)\n"
     ]
    },
    {
     "data": {
      "text/plain": [
       "[('tfidf',\n",
       "  TfidfVectorizer(analyzer='char', binary=False, decode_error='strict',\n",
       "          dtype=<class 'numpy.float64'>, encoding='utf-8', input='content',\n",
       "          lowercase=True, max_df=1.0, max_features=None, min_df=1,\n",
       "          ngram_range=(3, 4), norm='l2', preprocessor=None, smooth_idf=True,\n",
       "          stop_words=None, strip_accents=None, sublinear_tf=False,\n",
       "          token_pattern='(?u)\\\\b\\\\w\\\\w+\\\\b', tokenizer=None, use_idf=True,\n",
       "          vocabulary=None)),\n",
       " ('decomp', TruncatedSVD(algorithm='randomized', n_components=90, n_iter=5,\n",
       "         random_state=None, tol=0.0)),\n",
       " ('clf',\n",
       "  LogisticRegression(C=1.0, class_weight=None, dual=False, fit_intercept=True,\n",
       "            intercept_scaling=1, max_iter=100, multi_class='warn',\n",
       "            n_jobs=None, penalty='l2', random_state=None, solver='lbfgs',\n",
       "            tol=0.0001, verbose=0, warm_start=False))]"
      ]
     },
     "execution_count": 259,
     "metadata": {},
     "output_type": "execute_result"
    }
   ],
   "source": [
    "from sklearn.pipeline import Pipeline\n",
    "from sklearn.decomposition import TruncatedSVD, LatentDirichletAllocation\n",
    "from sklearn.feature_extraction.text import TfidfVectorizer\n",
    "from sklearn.model_selection import GridSearchCV\n",
    "from sklearn.linear_model import LogisticRegression\n",
    "from sklearn.metrics import accuracy_score, f1_score\n",
    "\n",
    "# 1-ый вариант: tf-idf + LSI\n",
    "clf = Pipeline([ \n",
    "    ('tfidf', None), \n",
    "    ('decomp', None), \n",
    "    ('clf', LogisticRegression(solver='lbfgs'))\n",
    "])\n",
    "\n",
    "NGRAM_WORD_OPTIONS = [(1,1),(2,2),(3,3)]\n",
    "NGRAM_CHAR_OPTIONS = [(3,4)]\n",
    "DECOMP_OPTIONS = [50, 60, 90]\n",
    "param_grid = [\n",
    "    # 1-й вариант: сингулярное разложение и TfIdf\n",
    "    {\n",
    "        'tfidf': [TfidfVectorizer(analyzer='word')],\n",
    "        'tfidf__ngram_range': NGRAM_WORD_OPTIONS,\n",
    "        'decomp': [TruncatedSVD(), LatentDirichletAllocation()],\n",
    "        'decomp__n_components': DECOMP_OPTIONS,\n",
    "    },\n",
    "    {\n",
    "        'tfidf': [TfidfVectorizer(analyzer='char')],\n",
    "        'tfidf__ngram_range': NGRAM_CHAR_OPTIONS,\n",
    "        'decomp': [TruncatedSVD(), LatentDirichletAllocation()],\n",
    "        'decomp__n_components': DECOMP_OPTIONS,\n",
    "    },\n",
    "]\n",
    "\n",
    "SCORES = ['f1', 'accuracy']\n",
    "\n",
    "grid_tfidf_svd = GridSearchCV(clf, cv=5, n_jobs=1, param_grid=param_grid, scoring=SCORES, refit='accuracy', return_train_score=True)\n",
    "\n",
    "grid_tfidf_svd.fit(X_train, y_train)\n",
    "grid_tfidf_svd.best_estimator_.steps"
   ]
  },
  {
   "cell_type": "code",
   "execution_count": 260,
   "metadata": {},
   "outputs": [
    {
     "name": "stdout",
     "output_type": "stream",
     "text": [
      "Результат обучения модели:\n",
      " F1 Score = 0.923076923076923 \n",
      " Accuracy = 0.9142857142857143\n"
     ]
    }
   ],
   "source": [
    "predictions = grid_tfidf_svd.best_estimator_.predict(X_test)\n",
    "print(\"Результат обучения модели:\\n F1 Score = {0} \\n Accuracy = {1}\"\\\n",
    "          .format(f1_score(predictions, y_test), accuracy_score(predictions, y_test)))"
   ]
  },
  {
   "cell_type": "code",
   "execution_count": 261,
   "metadata": {
    "scrolled": false
   },
   "outputs": [
    {
     "data": {
      "text/html": [
       "<div>\n",
       "<style scoped>\n",
       "    .dataframe tbody tr th:only-of-type {\n",
       "        vertical-align: middle;\n",
       "    }\n",
       "\n",
       "    .dataframe tbody tr th {\n",
       "        vertical-align: top;\n",
       "    }\n",
       "\n",
       "    .dataframe thead th {\n",
       "        text-align: right;\n",
       "    }\n",
       "</style>\n",
       "<table border=\"1\" class=\"dataframe\">\n",
       "  <thead>\n",
       "    <tr style=\"text-align: right;\">\n",
       "      <th></th>\n",
       "      <th>param_tfidf</th>\n",
       "      <th>param_tfidf__ngram_range</th>\n",
       "      <th>param_decomp</th>\n",
       "      <th>param_decomp__n_components</th>\n",
       "      <th>mean_test_f1</th>\n",
       "      <th>mean_test_accuracy</th>\n",
       "    </tr>\n",
       "  </thead>\n",
       "  <tbody>\n",
       "    <tr>\n",
       "      <th>20</th>\n",
       "      <td>char</td>\n",
       "      <td>(3, 4)</td>\n",
       "      <td>TruncatedSVD</td>\n",
       "      <td>90</td>\n",
       "      <td>0.851664</td>\n",
       "      <td>0.860714</td>\n",
       "    </tr>\n",
       "    <tr>\n",
       "      <th>19</th>\n",
       "      <td>char</td>\n",
       "      <td>(3, 4)</td>\n",
       "      <td>TruncatedSVD</td>\n",
       "      <td>60</td>\n",
       "      <td>0.847893</td>\n",
       "      <td>0.857143</td>\n",
       "    </tr>\n",
       "    <tr>\n",
       "      <th>6</th>\n",
       "      <td>word</td>\n",
       "      <td>(1, 1)</td>\n",
       "      <td>TruncatedSVD</td>\n",
       "      <td>90</td>\n",
       "      <td>0.847971</td>\n",
       "      <td>0.857143</td>\n",
       "    </tr>\n",
       "    <tr>\n",
       "      <th>0</th>\n",
       "      <td>word</td>\n",
       "      <td>(1, 1)</td>\n",
       "      <td>TruncatedSVD</td>\n",
       "      <td>50</td>\n",
       "      <td>0.846502</td>\n",
       "      <td>0.855357</td>\n",
       "    </tr>\n",
       "    <tr>\n",
       "      <th>18</th>\n",
       "      <td>char</td>\n",
       "      <td>(3, 4)</td>\n",
       "      <td>TruncatedSVD</td>\n",
       "      <td>50</td>\n",
       "      <td>0.842039</td>\n",
       "      <td>0.851786</td>\n",
       "    </tr>\n",
       "    <tr>\n",
       "      <th>3</th>\n",
       "      <td>word</td>\n",
       "      <td>(1, 1)</td>\n",
       "      <td>TruncatedSVD</td>\n",
       "      <td>60</td>\n",
       "      <td>0.836960</td>\n",
       "      <td>0.848214</td>\n",
       "    </tr>\n",
       "    <tr>\n",
       "      <th>7</th>\n",
       "      <td>word</td>\n",
       "      <td>(2, 2)</td>\n",
       "      <td>TruncatedSVD</td>\n",
       "      <td>90</td>\n",
       "      <td>0.464405</td>\n",
       "      <td>0.653571</td>\n",
       "    </tr>\n",
       "    <tr>\n",
       "      <th>12</th>\n",
       "      <td>word</td>\n",
       "      <td>(1, 1)</td>\n",
       "      <td>LatentDirichletAllocation</td>\n",
       "      <td>60</td>\n",
       "      <td>0.597787</td>\n",
       "      <td>0.653571</td>\n",
       "    </tr>\n",
       "    <tr>\n",
       "      <th>15</th>\n",
       "      <td>word</td>\n",
       "      <td>(1, 1)</td>\n",
       "      <td>LatentDirichletAllocation</td>\n",
       "      <td>90</td>\n",
       "      <td>0.578229</td>\n",
       "      <td>0.651786</td>\n",
       "    </tr>\n",
       "    <tr>\n",
       "      <th>4</th>\n",
       "      <td>word</td>\n",
       "      <td>(2, 2)</td>\n",
       "      <td>TruncatedSVD</td>\n",
       "      <td>60</td>\n",
       "      <td>0.333616</td>\n",
       "      <td>0.608929</td>\n",
       "    </tr>\n",
       "    <tr>\n",
       "      <th>16</th>\n",
       "      <td>word</td>\n",
       "      <td>(2, 2)</td>\n",
       "      <td>LatentDirichletAllocation</td>\n",
       "      <td>90</td>\n",
       "      <td>0.483689</td>\n",
       "      <td>0.607143</td>\n",
       "    </tr>\n",
       "    <tr>\n",
       "      <th>22</th>\n",
       "      <td>char</td>\n",
       "      <td>(3, 4)</td>\n",
       "      <td>LatentDirichletAllocation</td>\n",
       "      <td>60</td>\n",
       "      <td>0.424099</td>\n",
       "      <td>0.607143</td>\n",
       "    </tr>\n",
       "    <tr>\n",
       "      <th>1</th>\n",
       "      <td>word</td>\n",
       "      <td>(2, 2)</td>\n",
       "      <td>TruncatedSVD</td>\n",
       "      <td>50</td>\n",
       "      <td>0.317541</td>\n",
       "      <td>0.596429</td>\n",
       "    </tr>\n",
       "    <tr>\n",
       "      <th>13</th>\n",
       "      <td>word</td>\n",
       "      <td>(2, 2)</td>\n",
       "      <td>LatentDirichletAllocation</td>\n",
       "      <td>60</td>\n",
       "      <td>0.444073</td>\n",
       "      <td>0.585714</td>\n",
       "    </tr>\n",
       "    <tr>\n",
       "      <th>9</th>\n",
       "      <td>word</td>\n",
       "      <td>(1, 1)</td>\n",
       "      <td>LatentDirichletAllocation</td>\n",
       "      <td>50</td>\n",
       "      <td>0.378571</td>\n",
       "      <td>0.576786</td>\n",
       "    </tr>\n",
       "    <tr>\n",
       "      <th>23</th>\n",
       "      <td>char</td>\n",
       "      <td>(3, 4)</td>\n",
       "      <td>LatentDirichletAllocation</td>\n",
       "      <td>90</td>\n",
       "      <td>0.259467</td>\n",
       "      <td>0.575000</td>\n",
       "    </tr>\n",
       "    <tr>\n",
       "      <th>10</th>\n",
       "      <td>word</td>\n",
       "      <td>(2, 2)</td>\n",
       "      <td>LatentDirichletAllocation</td>\n",
       "      <td>50</td>\n",
       "      <td>0.427935</td>\n",
       "      <td>0.573214</td>\n",
       "    </tr>\n",
       "    <tr>\n",
       "      <th>17</th>\n",
       "      <td>word</td>\n",
       "      <td>(3, 3)</td>\n",
       "      <td>LatentDirichletAllocation</td>\n",
       "      <td>90</td>\n",
       "      <td>0.415498</td>\n",
       "      <td>0.566071</td>\n",
       "    </tr>\n",
       "    <tr>\n",
       "      <th>11</th>\n",
       "      <td>word</td>\n",
       "      <td>(3, 3)</td>\n",
       "      <td>LatentDirichletAllocation</td>\n",
       "      <td>50</td>\n",
       "      <td>0.385013</td>\n",
       "      <td>0.555357</td>\n",
       "    </tr>\n",
       "    <tr>\n",
       "      <th>21</th>\n",
       "      <td>char</td>\n",
       "      <td>(3, 4)</td>\n",
       "      <td>LatentDirichletAllocation</td>\n",
       "      <td>50</td>\n",
       "      <td>0.231973</td>\n",
       "      <td>0.555357</td>\n",
       "    </tr>\n",
       "    <tr>\n",
       "      <th>14</th>\n",
       "      <td>word</td>\n",
       "      <td>(3, 3)</td>\n",
       "      <td>LatentDirichletAllocation</td>\n",
       "      <td>60</td>\n",
       "      <td>0.385561</td>\n",
       "      <td>0.528571</td>\n",
       "    </tr>\n",
       "    <tr>\n",
       "      <th>5</th>\n",
       "      <td>word</td>\n",
       "      <td>(3, 3)</td>\n",
       "      <td>TruncatedSVD</td>\n",
       "      <td>60</td>\n",
       "      <td>0.014414</td>\n",
       "      <td>0.519643</td>\n",
       "    </tr>\n",
       "    <tr>\n",
       "      <th>2</th>\n",
       "      <td>word</td>\n",
       "      <td>(3, 3)</td>\n",
       "      <td>TruncatedSVD</td>\n",
       "      <td>50</td>\n",
       "      <td>0.007273</td>\n",
       "      <td>0.517857</td>\n",
       "    </tr>\n",
       "    <tr>\n",
       "      <th>8</th>\n",
       "      <td>word</td>\n",
       "      <td>(3, 3)</td>\n",
       "      <td>TruncatedSVD</td>\n",
       "      <td>90</td>\n",
       "      <td>0.007018</td>\n",
       "      <td>0.512500</td>\n",
       "    </tr>\n",
       "  </tbody>\n",
       "</table>\n",
       "</div>"
      ],
      "text/plain": [
       "   param_tfidf param_tfidf__ngram_range               param_decomp  \\\n",
       "20        char                   (3, 4)               TruncatedSVD   \n",
       "19        char                   (3, 4)               TruncatedSVD   \n",
       "6         word                   (1, 1)               TruncatedSVD   \n",
       "0         word                   (1, 1)               TruncatedSVD   \n",
       "18        char                   (3, 4)               TruncatedSVD   \n",
       "3         word                   (1, 1)               TruncatedSVD   \n",
       "7         word                   (2, 2)               TruncatedSVD   \n",
       "12        word                   (1, 1)  LatentDirichletAllocation   \n",
       "15        word                   (1, 1)  LatentDirichletAllocation   \n",
       "4         word                   (2, 2)               TruncatedSVD   \n",
       "16        word                   (2, 2)  LatentDirichletAllocation   \n",
       "22        char                   (3, 4)  LatentDirichletAllocation   \n",
       "1         word                   (2, 2)               TruncatedSVD   \n",
       "13        word                   (2, 2)  LatentDirichletAllocation   \n",
       "9         word                   (1, 1)  LatentDirichletAllocation   \n",
       "23        char                   (3, 4)  LatentDirichletAllocation   \n",
       "10        word                   (2, 2)  LatentDirichletAllocation   \n",
       "17        word                   (3, 3)  LatentDirichletAllocation   \n",
       "11        word                   (3, 3)  LatentDirichletAllocation   \n",
       "21        char                   (3, 4)  LatentDirichletAllocation   \n",
       "14        word                   (3, 3)  LatentDirichletAllocation   \n",
       "5         word                   (3, 3)               TruncatedSVD   \n",
       "2         word                   (3, 3)               TruncatedSVD   \n",
       "8         word                   (3, 3)               TruncatedSVD   \n",
       "\n",
       "   param_decomp__n_components  mean_test_f1  mean_test_accuracy  \n",
       "20                         90      0.851664            0.860714  \n",
       "19                         60      0.847893            0.857143  \n",
       "6                          90      0.847971            0.857143  \n",
       "0                          50      0.846502            0.855357  \n",
       "18                         50      0.842039            0.851786  \n",
       "3                          60      0.836960            0.848214  \n",
       "7                          90      0.464405            0.653571  \n",
       "12                         60      0.597787            0.653571  \n",
       "15                         90      0.578229            0.651786  \n",
       "4                          60      0.333616            0.608929  \n",
       "16                         90      0.483689            0.607143  \n",
       "22                         60      0.424099            0.607143  \n",
       "1                          50      0.317541            0.596429  \n",
       "13                         60      0.444073            0.585714  \n",
       "9                          50      0.378571            0.576786  \n",
       "23                         90      0.259467            0.575000  \n",
       "10                         50      0.427935            0.573214  \n",
       "17                         90      0.415498            0.566071  \n",
       "11                         50      0.385013            0.555357  \n",
       "21                         50      0.231973            0.555357  \n",
       "14                         60      0.385561            0.528571  \n",
       "5                          60      0.014414            0.519643  \n",
       "2                          50      0.007273            0.517857  \n",
       "8                          90      0.007018            0.512500  "
      ]
     },
     "execution_count": 261,
     "metadata": {},
     "output_type": "execute_result"
    }
   ],
   "source": [
    "# Анализ полученных моделей для различных n-грамм на основе tfidf и сингулярного разложения\n",
    "svd_models = pd.DataFrame.from_dict(grid_tfidf_svd.cv_results_)\n",
    "svd_models = svd_models[['param_tfidf', 'param_tfidf__ngram_range', 'param_decomp', 'param_decomp__n_components', \n",
    "        'mean_test_f1', 'mean_test_accuracy']]\n",
    "svd_models['param_tfidf'] = svd_models.param_tfidf.apply(lambda row: row.analyzer)\n",
    "svd_models['param_decomp'] = svd_models.param_decomp.apply(lambda row: row.__class__.__name__)\n",
    "svd_models.sort_values('mean_test_accuracy', ascending=False)"
   ]
  },
  {
   "cell_type": "code",
   "execution_count": null,
   "metadata": {},
   "outputs": [],
   "source": []
  }
 ],
 "metadata": {
  "kernelspec": {
   "display_name": "Python 3",
   "language": "python",
   "name": "python3"
  },
  "language_info": {
   "codemirror_mode": {
    "name": "ipython",
    "version": 3
   },
   "file_extension": ".py",
   "mimetype": "text/x-python",
   "name": "python",
   "nbconvert_exporter": "python",
   "pygments_lexer": "ipython3",
   "version": "3.7.1"
  }
 },
 "nbformat": 4,
 "nbformat_minor": 2
}
